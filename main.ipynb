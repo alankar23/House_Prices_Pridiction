{
 "metadata": {
  "language_info": {
   "codemirror_mode": {
    "name": "ipython",
    "version": 3
   },
   "file_extension": ".py",
   "mimetype": "text/x-python",
   "name": "python",
   "nbconvert_exporter": "python",
   "pygments_lexer": "ipython3",
   "version": "3.8.5"
  },
  "orig_nbformat": 2,
  "kernelspec": {
   "name": "python3",
   "display_name": "Python 3",
   "language": "python"
  }
 },
 "nbformat": 4,
 "nbformat_minor": 2,
 "cells": [
  {
   "source": [
    "<center> <h1> House Price Pridiction </h1> </center>"
   ],
   "cell_type": "markdown",
   "metadata": {}
  },
  {
   "source": [
    "<center><img src=\"image.gif\"/></center>"
   ],
   "cell_type": "markdown",
   "metadata": {}
  },
  {
   "source": [
    "# Business Problem\n",
    "Pridict sales price of the house based on 79 explanatory variables describing (almost) every aspect of residential homes in Ames, Iowa, this competition challenges you to predict the final price of each home.\n"
   ],
   "cell_type": "markdown",
   "metadata": {}
  },
  {
   "source": [
    "# 1. Importing Libraries"
   ],
   "cell_type": "markdown",
   "metadata": {}
  },
  {
   "cell_type": "code",
   "execution_count": 3,
   "metadata": {},
   "outputs": [],
   "source": [
    "import pandas as pd\n",
    "import seaborn as sns\n",
    "import matplotlib.pyplot as plt\n",
    "import numpy as np\n",
    "from scipy.stats import norm\n",
    "from sklearn.preprocessing import StandardScaler\n",
    "from sklearn.impute import SimpleImputer\n",
    "from scipy import stats\n",
    "import warnings\n",
    "warnings.filterwarnings('ignore')\n",
    "%matplotlib inline"
   ]
  },
  {
   "source": [
    "# 2. Reading Data"
   ],
   "cell_type": "markdown",
   "metadata": {}
  },
  {
   "source": [
    "## 2.1 Read csv"
   ],
   "cell_type": "markdown",
   "metadata": {}
  },
  {
   "cell_type": "code",
   "execution_count": 4,
   "metadata": {},
   "outputs": [],
   "source": [
    "train = pd.read_csv('train.csv')\n",
    "test = pd.read_csv('test.csv')"
   ]
  },
  {
   "cell_type": "code",
   "execution_count": 5,
   "metadata": {},
   "outputs": [
    {
     "output_type": "execute_result",
     "data": {
      "text/plain": [
       "   Id  MSSubClass MSZoning  LotFrontage  LotArea Street Alley LotShape  \\\n",
       "0   1          60       RL         65.0     8450   Pave   NaN      Reg   \n",
       "1   2          20       RL         80.0     9600   Pave   NaN      Reg   \n",
       "2   3          60       RL         68.0    11250   Pave   NaN      IR1   \n",
       "3   4          70       RL         60.0     9550   Pave   NaN      IR1   \n",
       "4   5          60       RL         84.0    14260   Pave   NaN      IR1   \n",
       "\n",
       "  LandContour Utilities LotConfig LandSlope Neighborhood Condition1  \\\n",
       "0         Lvl    AllPub    Inside       Gtl      CollgCr       Norm   \n",
       "1         Lvl    AllPub       FR2       Gtl      Veenker      Feedr   \n",
       "2         Lvl    AllPub    Inside       Gtl      CollgCr       Norm   \n",
       "3         Lvl    AllPub    Corner       Gtl      Crawfor       Norm   \n",
       "4         Lvl    AllPub       FR2       Gtl      NoRidge       Norm   \n",
       "\n",
       "  Condition2 BldgType HouseStyle  OverallQual  OverallCond  YearBuilt  \\\n",
       "0       Norm     1Fam     2Story            7            5       2003   \n",
       "1       Norm     1Fam     1Story            6            8       1976   \n",
       "2       Norm     1Fam     2Story            7            5       2001   \n",
       "3       Norm     1Fam     2Story            7            5       1915   \n",
       "4       Norm     1Fam     2Story            8            5       2000   \n",
       "\n",
       "   YearRemodAdd RoofStyle RoofMatl Exterior1st Exterior2nd MasVnrType  \\\n",
       "0          2003     Gable  CompShg     VinylSd     VinylSd    BrkFace   \n",
       "1          1976     Gable  CompShg     MetalSd     MetalSd       None   \n",
       "2          2002     Gable  CompShg     VinylSd     VinylSd    BrkFace   \n",
       "3          1970     Gable  CompShg     Wd Sdng     Wd Shng       None   \n",
       "4          2000     Gable  CompShg     VinylSd     VinylSd    BrkFace   \n",
       "\n",
       "   MasVnrArea ExterQual ExterCond Foundation BsmtQual BsmtCond BsmtExposure  \\\n",
       "0       196.0        Gd        TA      PConc       Gd       TA           No   \n",
       "1         0.0        TA        TA     CBlock       Gd       TA           Gd   \n",
       "2       162.0        Gd        TA      PConc       Gd       TA           Mn   \n",
       "3         0.0        TA        TA     BrkTil       TA       Gd           No   \n",
       "4       350.0        Gd        TA      PConc       Gd       TA           Av   \n",
       "\n",
       "  BsmtFinType1  BsmtFinSF1 BsmtFinType2  BsmtFinSF2  BsmtUnfSF  TotalBsmtSF  \\\n",
       "0          GLQ         706          Unf           0        150          856   \n",
       "1          ALQ         978          Unf           0        284         1262   \n",
       "2          GLQ         486          Unf           0        434          920   \n",
       "3          ALQ         216          Unf           0        540          756   \n",
       "4          GLQ         655          Unf           0        490         1145   \n",
       "\n",
       "  Heating HeatingQC CentralAir Electrical  1stFlrSF  2ndFlrSF  LowQualFinSF  \\\n",
       "0    GasA        Ex          Y      SBrkr       856       854             0   \n",
       "1    GasA        Ex          Y      SBrkr      1262         0             0   \n",
       "2    GasA        Ex          Y      SBrkr       920       866             0   \n",
       "3    GasA        Gd          Y      SBrkr       961       756             0   \n",
       "4    GasA        Ex          Y      SBrkr      1145      1053             0   \n",
       "\n",
       "   GrLivArea  BsmtFullBath  BsmtHalfBath  FullBath  HalfBath  BedroomAbvGr  \\\n",
       "0       1710             1             0         2         1             3   \n",
       "1       1262             0             1         2         0             3   \n",
       "2       1786             1             0         2         1             3   \n",
       "3       1717             1             0         1         0             3   \n",
       "4       2198             1             0         2         1             4   \n",
       "\n",
       "   KitchenAbvGr KitchenQual  TotRmsAbvGrd Functional  Fireplaces FireplaceQu  \\\n",
       "0             1          Gd             8        Typ           0         NaN   \n",
       "1             1          TA             6        Typ           1          TA   \n",
       "2             1          Gd             6        Typ           1          TA   \n",
       "3             1          Gd             7        Typ           1          Gd   \n",
       "4             1          Gd             9        Typ           1          TA   \n",
       "\n",
       "  GarageType  GarageYrBlt GarageFinish  GarageCars  GarageArea GarageQual  \\\n",
       "0     Attchd       2003.0          RFn           2         548         TA   \n",
       "1     Attchd       1976.0          RFn           2         460         TA   \n",
       "2     Attchd       2001.0          RFn           2         608         TA   \n",
       "3     Detchd       1998.0          Unf           3         642         TA   \n",
       "4     Attchd       2000.0          RFn           3         836         TA   \n",
       "\n",
       "  GarageCond PavedDrive  WoodDeckSF  OpenPorchSF  EnclosedPorch  3SsnPorch  \\\n",
       "0         TA          Y           0           61              0          0   \n",
       "1         TA          Y         298            0              0          0   \n",
       "2         TA          Y           0           42              0          0   \n",
       "3         TA          Y           0           35            272          0   \n",
       "4         TA          Y         192           84              0          0   \n",
       "\n",
       "   ScreenPorch  PoolArea PoolQC Fence MiscFeature  MiscVal  MoSold  YrSold  \\\n",
       "0            0         0    NaN   NaN         NaN        0       2    2008   \n",
       "1            0         0    NaN   NaN         NaN        0       5    2007   \n",
       "2            0         0    NaN   NaN         NaN        0       9    2008   \n",
       "3            0         0    NaN   NaN         NaN        0       2    2006   \n",
       "4            0         0    NaN   NaN         NaN        0      12    2008   \n",
       "\n",
       "  SaleType SaleCondition  SalePrice  \n",
       "0       WD        Normal     208500  \n",
       "1       WD        Normal     181500  \n",
       "2       WD        Normal     223500  \n",
       "3       WD       Abnorml     140000  \n",
       "4       WD        Normal     250000  "
      ],
      "text/html": "<div>\n<style scoped>\n    .dataframe tbody tr th:only-of-type {\n        vertical-align: middle;\n    }\n\n    .dataframe tbody tr th {\n        vertical-align: top;\n    }\n\n    .dataframe thead th {\n        text-align: right;\n    }\n</style>\n<table border=\"1\" class=\"dataframe\">\n  <thead>\n    <tr style=\"text-align: right;\">\n      <th></th>\n      <th>Id</th>\n      <th>MSSubClass</th>\n      <th>MSZoning</th>\n      <th>LotFrontage</th>\n      <th>LotArea</th>\n      <th>Street</th>\n      <th>Alley</th>\n      <th>LotShape</th>\n      <th>LandContour</th>\n      <th>Utilities</th>\n      <th>LotConfig</th>\n      <th>LandSlope</th>\n      <th>Neighborhood</th>\n      <th>Condition1</th>\n      <th>Condition2</th>\n      <th>BldgType</th>\n      <th>HouseStyle</th>\n      <th>OverallQual</th>\n      <th>OverallCond</th>\n      <th>YearBuilt</th>\n      <th>YearRemodAdd</th>\n      <th>RoofStyle</th>\n      <th>RoofMatl</th>\n      <th>Exterior1st</th>\n      <th>Exterior2nd</th>\n      <th>MasVnrType</th>\n      <th>MasVnrArea</th>\n      <th>ExterQual</th>\n      <th>ExterCond</th>\n      <th>Foundation</th>\n      <th>BsmtQual</th>\n      <th>BsmtCond</th>\n      <th>BsmtExposure</th>\n      <th>BsmtFinType1</th>\n      <th>BsmtFinSF1</th>\n      <th>BsmtFinType2</th>\n      <th>BsmtFinSF2</th>\n      <th>BsmtUnfSF</th>\n      <th>TotalBsmtSF</th>\n      <th>Heating</th>\n      <th>HeatingQC</th>\n      <th>CentralAir</th>\n      <th>Electrical</th>\n      <th>1stFlrSF</th>\n      <th>2ndFlrSF</th>\n      <th>LowQualFinSF</th>\n      <th>GrLivArea</th>\n      <th>BsmtFullBath</th>\n      <th>BsmtHalfBath</th>\n      <th>FullBath</th>\n      <th>HalfBath</th>\n      <th>BedroomAbvGr</th>\n      <th>KitchenAbvGr</th>\n      <th>KitchenQual</th>\n      <th>TotRmsAbvGrd</th>\n      <th>Functional</th>\n      <th>Fireplaces</th>\n      <th>FireplaceQu</th>\n      <th>GarageType</th>\n      <th>GarageYrBlt</th>\n      <th>GarageFinish</th>\n      <th>GarageCars</th>\n      <th>GarageArea</th>\n      <th>GarageQual</th>\n      <th>GarageCond</th>\n      <th>PavedDrive</th>\n      <th>WoodDeckSF</th>\n      <th>OpenPorchSF</th>\n      <th>EnclosedPorch</th>\n      <th>3SsnPorch</th>\n      <th>ScreenPorch</th>\n      <th>PoolArea</th>\n      <th>PoolQC</th>\n      <th>Fence</th>\n      <th>MiscFeature</th>\n      <th>MiscVal</th>\n      <th>MoSold</th>\n      <th>YrSold</th>\n      <th>SaleType</th>\n      <th>SaleCondition</th>\n      <th>SalePrice</th>\n    </tr>\n  </thead>\n  <tbody>\n    <tr>\n      <th>0</th>\n      <td>1</td>\n      <td>60</td>\n      <td>RL</td>\n      <td>65.0</td>\n      <td>8450</td>\n      <td>Pave</td>\n      <td>NaN</td>\n      <td>Reg</td>\n      <td>Lvl</td>\n      <td>AllPub</td>\n      <td>Inside</td>\n      <td>Gtl</td>\n      <td>CollgCr</td>\n      <td>Norm</td>\n      <td>Norm</td>\n      <td>1Fam</td>\n      <td>2Story</td>\n      <td>7</td>\n      <td>5</td>\n      <td>2003</td>\n      <td>2003</td>\n      <td>Gable</td>\n      <td>CompShg</td>\n      <td>VinylSd</td>\n      <td>VinylSd</td>\n      <td>BrkFace</td>\n      <td>196.0</td>\n      <td>Gd</td>\n      <td>TA</td>\n      <td>PConc</td>\n      <td>Gd</td>\n      <td>TA</td>\n      <td>No</td>\n      <td>GLQ</td>\n      <td>706</td>\n      <td>Unf</td>\n      <td>0</td>\n      <td>150</td>\n      <td>856</td>\n      <td>GasA</td>\n      <td>Ex</td>\n      <td>Y</td>\n      <td>SBrkr</td>\n      <td>856</td>\n      <td>854</td>\n      <td>0</td>\n      <td>1710</td>\n      <td>1</td>\n      <td>0</td>\n      <td>2</td>\n      <td>1</td>\n      <td>3</td>\n      <td>1</td>\n      <td>Gd</td>\n      <td>8</td>\n      <td>Typ</td>\n      <td>0</td>\n      <td>NaN</td>\n      <td>Attchd</td>\n      <td>2003.0</td>\n      <td>RFn</td>\n      <td>2</td>\n      <td>548</td>\n      <td>TA</td>\n      <td>TA</td>\n      <td>Y</td>\n      <td>0</td>\n      <td>61</td>\n      <td>0</td>\n      <td>0</td>\n      <td>0</td>\n      <td>0</td>\n      <td>NaN</td>\n      <td>NaN</td>\n      <td>NaN</td>\n      <td>0</td>\n      <td>2</td>\n      <td>2008</td>\n      <td>WD</td>\n      <td>Normal</td>\n      <td>208500</td>\n    </tr>\n    <tr>\n      <th>1</th>\n      <td>2</td>\n      <td>20</td>\n      <td>RL</td>\n      <td>80.0</td>\n      <td>9600</td>\n      <td>Pave</td>\n      <td>NaN</td>\n      <td>Reg</td>\n      <td>Lvl</td>\n      <td>AllPub</td>\n      <td>FR2</td>\n      <td>Gtl</td>\n      <td>Veenker</td>\n      <td>Feedr</td>\n      <td>Norm</td>\n      <td>1Fam</td>\n      <td>1Story</td>\n      <td>6</td>\n      <td>8</td>\n      <td>1976</td>\n      <td>1976</td>\n      <td>Gable</td>\n      <td>CompShg</td>\n      <td>MetalSd</td>\n      <td>MetalSd</td>\n      <td>None</td>\n      <td>0.0</td>\n      <td>TA</td>\n      <td>TA</td>\n      <td>CBlock</td>\n      <td>Gd</td>\n      <td>TA</td>\n      <td>Gd</td>\n      <td>ALQ</td>\n      <td>978</td>\n      <td>Unf</td>\n      <td>0</td>\n      <td>284</td>\n      <td>1262</td>\n      <td>GasA</td>\n      <td>Ex</td>\n      <td>Y</td>\n      <td>SBrkr</td>\n      <td>1262</td>\n      <td>0</td>\n      <td>0</td>\n      <td>1262</td>\n      <td>0</td>\n      <td>1</td>\n      <td>2</td>\n      <td>0</td>\n      <td>3</td>\n      <td>1</td>\n      <td>TA</td>\n      <td>6</td>\n      <td>Typ</td>\n      <td>1</td>\n      <td>TA</td>\n      <td>Attchd</td>\n      <td>1976.0</td>\n      <td>RFn</td>\n      <td>2</td>\n      <td>460</td>\n      <td>TA</td>\n      <td>TA</td>\n      <td>Y</td>\n      <td>298</td>\n      <td>0</td>\n      <td>0</td>\n      <td>0</td>\n      <td>0</td>\n      <td>0</td>\n      <td>NaN</td>\n      <td>NaN</td>\n      <td>NaN</td>\n      <td>0</td>\n      <td>5</td>\n      <td>2007</td>\n      <td>WD</td>\n      <td>Normal</td>\n      <td>181500</td>\n    </tr>\n    <tr>\n      <th>2</th>\n      <td>3</td>\n      <td>60</td>\n      <td>RL</td>\n      <td>68.0</td>\n      <td>11250</td>\n      <td>Pave</td>\n      <td>NaN</td>\n      <td>IR1</td>\n      <td>Lvl</td>\n      <td>AllPub</td>\n      <td>Inside</td>\n      <td>Gtl</td>\n      <td>CollgCr</td>\n      <td>Norm</td>\n      <td>Norm</td>\n      <td>1Fam</td>\n      <td>2Story</td>\n      <td>7</td>\n      <td>5</td>\n      <td>2001</td>\n      <td>2002</td>\n      <td>Gable</td>\n      <td>CompShg</td>\n      <td>VinylSd</td>\n      <td>VinylSd</td>\n      <td>BrkFace</td>\n      <td>162.0</td>\n      <td>Gd</td>\n      <td>TA</td>\n      <td>PConc</td>\n      <td>Gd</td>\n      <td>TA</td>\n      <td>Mn</td>\n      <td>GLQ</td>\n      <td>486</td>\n      <td>Unf</td>\n      <td>0</td>\n      <td>434</td>\n      <td>920</td>\n      <td>GasA</td>\n      <td>Ex</td>\n      <td>Y</td>\n      <td>SBrkr</td>\n      <td>920</td>\n      <td>866</td>\n      <td>0</td>\n      <td>1786</td>\n      <td>1</td>\n      <td>0</td>\n      <td>2</td>\n      <td>1</td>\n      <td>3</td>\n      <td>1</td>\n      <td>Gd</td>\n      <td>6</td>\n      <td>Typ</td>\n      <td>1</td>\n      <td>TA</td>\n      <td>Attchd</td>\n      <td>2001.0</td>\n      <td>RFn</td>\n      <td>2</td>\n      <td>608</td>\n      <td>TA</td>\n      <td>TA</td>\n      <td>Y</td>\n      <td>0</td>\n      <td>42</td>\n      <td>0</td>\n      <td>0</td>\n      <td>0</td>\n      <td>0</td>\n      <td>NaN</td>\n      <td>NaN</td>\n      <td>NaN</td>\n      <td>0</td>\n      <td>9</td>\n      <td>2008</td>\n      <td>WD</td>\n      <td>Normal</td>\n      <td>223500</td>\n    </tr>\n    <tr>\n      <th>3</th>\n      <td>4</td>\n      <td>70</td>\n      <td>RL</td>\n      <td>60.0</td>\n      <td>9550</td>\n      <td>Pave</td>\n      <td>NaN</td>\n      <td>IR1</td>\n      <td>Lvl</td>\n      <td>AllPub</td>\n      <td>Corner</td>\n      <td>Gtl</td>\n      <td>Crawfor</td>\n      <td>Norm</td>\n      <td>Norm</td>\n      <td>1Fam</td>\n      <td>2Story</td>\n      <td>7</td>\n      <td>5</td>\n      <td>1915</td>\n      <td>1970</td>\n      <td>Gable</td>\n      <td>CompShg</td>\n      <td>Wd Sdng</td>\n      <td>Wd Shng</td>\n      <td>None</td>\n      <td>0.0</td>\n      <td>TA</td>\n      <td>TA</td>\n      <td>BrkTil</td>\n      <td>TA</td>\n      <td>Gd</td>\n      <td>No</td>\n      <td>ALQ</td>\n      <td>216</td>\n      <td>Unf</td>\n      <td>0</td>\n      <td>540</td>\n      <td>756</td>\n      <td>GasA</td>\n      <td>Gd</td>\n      <td>Y</td>\n      <td>SBrkr</td>\n      <td>961</td>\n      <td>756</td>\n      <td>0</td>\n      <td>1717</td>\n      <td>1</td>\n      <td>0</td>\n      <td>1</td>\n      <td>0</td>\n      <td>3</td>\n      <td>1</td>\n      <td>Gd</td>\n      <td>7</td>\n      <td>Typ</td>\n      <td>1</td>\n      <td>Gd</td>\n      <td>Detchd</td>\n      <td>1998.0</td>\n      <td>Unf</td>\n      <td>3</td>\n      <td>642</td>\n      <td>TA</td>\n      <td>TA</td>\n      <td>Y</td>\n      <td>0</td>\n      <td>35</td>\n      <td>272</td>\n      <td>0</td>\n      <td>0</td>\n      <td>0</td>\n      <td>NaN</td>\n      <td>NaN</td>\n      <td>NaN</td>\n      <td>0</td>\n      <td>2</td>\n      <td>2006</td>\n      <td>WD</td>\n      <td>Abnorml</td>\n      <td>140000</td>\n    </tr>\n    <tr>\n      <th>4</th>\n      <td>5</td>\n      <td>60</td>\n      <td>RL</td>\n      <td>84.0</td>\n      <td>14260</td>\n      <td>Pave</td>\n      <td>NaN</td>\n      <td>IR1</td>\n      <td>Lvl</td>\n      <td>AllPub</td>\n      <td>FR2</td>\n      <td>Gtl</td>\n      <td>NoRidge</td>\n      <td>Norm</td>\n      <td>Norm</td>\n      <td>1Fam</td>\n      <td>2Story</td>\n      <td>8</td>\n      <td>5</td>\n      <td>2000</td>\n      <td>2000</td>\n      <td>Gable</td>\n      <td>CompShg</td>\n      <td>VinylSd</td>\n      <td>VinylSd</td>\n      <td>BrkFace</td>\n      <td>350.0</td>\n      <td>Gd</td>\n      <td>TA</td>\n      <td>PConc</td>\n      <td>Gd</td>\n      <td>TA</td>\n      <td>Av</td>\n      <td>GLQ</td>\n      <td>655</td>\n      <td>Unf</td>\n      <td>0</td>\n      <td>490</td>\n      <td>1145</td>\n      <td>GasA</td>\n      <td>Ex</td>\n      <td>Y</td>\n      <td>SBrkr</td>\n      <td>1145</td>\n      <td>1053</td>\n      <td>0</td>\n      <td>2198</td>\n      <td>1</td>\n      <td>0</td>\n      <td>2</td>\n      <td>1</td>\n      <td>4</td>\n      <td>1</td>\n      <td>Gd</td>\n      <td>9</td>\n      <td>Typ</td>\n      <td>1</td>\n      <td>TA</td>\n      <td>Attchd</td>\n      <td>2000.0</td>\n      <td>RFn</td>\n      <td>3</td>\n      <td>836</td>\n      <td>TA</td>\n      <td>TA</td>\n      <td>Y</td>\n      <td>192</td>\n      <td>84</td>\n      <td>0</td>\n      <td>0</td>\n      <td>0</td>\n      <td>0</td>\n      <td>NaN</td>\n      <td>NaN</td>\n      <td>NaN</td>\n      <td>0</td>\n      <td>12</td>\n      <td>2008</td>\n      <td>WD</td>\n      <td>Normal</td>\n      <td>250000</td>\n    </tr>\n  </tbody>\n</table>\n</div>"
     },
     "metadata": {},
     "execution_count": 5
    }
   ],
   "source": [
    "pd.set_option('display.max_columns', None)\n",
    "train.head()"
   ]
  },
  {
   "source": [
    "## 2.2 Datypes"
   ],
   "cell_type": "markdown",
   "metadata": {}
  },
  {
   "source": [
    "### 2.2.1 Total of Datatypes"
   ],
   "cell_type": "markdown",
   "metadata": {}
  },
  {
   "cell_type": "code",
   "execution_count": 6,
   "metadata": {},
   "outputs": [
    {
     "output_type": "execute_result",
     "data": {
      "text/plain": [
       "object     43\n",
       "int64      35\n",
       "float64     3\n",
       "dtype: int64"
      ]
     },
     "metadata": {},
     "execution_count": 6
    }
   ],
   "source": [
    "train.dtypes.value_counts()"
   ]
  },
  {
   "source": [
    "We can see that there are 43 Quantitative and 38 Qualitative variables. To find the extact data type we must explore the data further."
   ],
   "cell_type": "markdown",
   "metadata": {}
  },
  {
   "source": [
    "### 2.2.2 Types of Data"
   ],
   "cell_type": "markdown",
   "metadata": {}
  },
  {
   "source": [
    "* Nominal: Attributes of a variable are differentiated only by name (category) and there is no order (rank, position).\n",
    "\n",
    "* Ordinal: Attributes of a variable are differentiated by order (rank, position), but we do not know the relative degree of difference between them.\n",
    "\n",
    "* Interval: Attributes of a variable are differentiated by the degree of difference between them, but there is no absolute zero, and the ratio between the attributes is unknown.\n",
    "\n",
    "* Ratio: Attributes of a variable are differentiated by the degree of difference between them, there is absolute zero, and we could find the ratio between the attributes.\n",
    "\n",
    "* Numerica and Continuous: Attributes can take any value in this range. The number of permitted values is uncountable.\n"
   ],
   "cell_type": "markdown",
   "metadata": {}
  },
  {
   "cell_type": "code",
   "execution_count": 7,
   "metadata": {},
   "outputs": [],
   "source": [
    "nominal = ['MSSubClass' ,'MSZoning' ,'Street' ,'Alley' ,'LotShape' ,'Utilities' ,'LotConfig' ,'Neighborhood' ,'RoofStyle' ,'RoofMatl' ,'Exterior1st' ,'Exterior2nd' ,'MasVnrType' ,'Foundation' ,'Heating' ,'CentralAir' ,'Electrical' ,'GarageType' ,'MiscVal' ,'SaleType' ,'SaleCondition','MiscFeature']\n",
    "\n",
    "ordinal = ['LandContour', 'LandSlope' ,'Condition1' ,'Condition2' ,'BldgType' ,'HouseStyle' ,'OverallQual' ,'OverallCond' ,'ExterQual' ,'ExterCond' ,'BsmtQual' ,'BsmtCond' ,'BsmtExposure' ,'BsmtFinType1' ,'HeatingQC' ,'FireplaceQu' ,'GarageFinish' ,'GarageQual' ,'GarageCond' ,'PoolQC' ,'Fence', 'BsmtFinType2', 'KitchenQual','Functional','PavedDrive']\n",
    "\n",
    "continous = ['YearBuilt' , 'YearRemodAdd' , 'MasVnrArea' , '1stFlrSF' , '2ndFlrSF' , 'LowQualFinSF' , 'GrLivArea' , 'FullBath' , 'HalfBath' , 'BedroomAbvGr' , 'KitchenAbvGr' , 'Fireplaces' , 'GarageYrBlt' , 'GarageArea' ,'GarageCars' , 'WoodDeckSF' , 'OpenPorchSF' , 'EnclosedPorch' , '3SsnPorch' , 'ScreenPorch' , 'PoolArea' , 'MoSold' , 'YrSold','LotFrontage', 'LotArea', 'BsmtFinSF1','BsmtFinSF2','BsmtUnfSF', 'BsmtFullBath','TotalBsmtSF','BsmtHalfBath','TotRmsAbvGrd']"
   ]
  },
  {
   "cell_type": "code",
   "execution_count": 9,
   "metadata": {},
   "outputs": [
    {
     "output_type": "execute_result",
     "data": {
      "text/plain": [
       "   MSSubClass MSZoning Street Alley LotShape Utilities LotConfig Neighborhood  \\\n",
       "0          60       RL   Pave   NaN      Reg    AllPub    Inside      CollgCr   \n",
       "1          20       RL   Pave   NaN      Reg    AllPub       FR2      Veenker   \n",
       "2          60       RL   Pave   NaN      IR1    AllPub    Inside      CollgCr   \n",
       "3          70       RL   Pave   NaN      IR1    AllPub    Corner      Crawfor   \n",
       "4          60       RL   Pave   NaN      IR1    AllPub       FR2      NoRidge   \n",
       "\n",
       "  RoofStyle RoofMatl Exterior1st Exterior2nd MasVnrType Foundation Heating  \\\n",
       "0     Gable  CompShg     VinylSd     VinylSd    BrkFace      PConc    GasA   \n",
       "1     Gable  CompShg     MetalSd     MetalSd       None     CBlock    GasA   \n",
       "2     Gable  CompShg     VinylSd     VinylSd    BrkFace      PConc    GasA   \n",
       "3     Gable  CompShg     Wd Sdng     Wd Shng       None     BrkTil    GasA   \n",
       "4     Gable  CompShg     VinylSd     VinylSd    BrkFace      PConc    GasA   \n",
       "\n",
       "  CentralAir Electrical GarageType  MiscVal SaleType SaleCondition MiscFeature  \n",
       "0          Y      SBrkr     Attchd        0       WD        Normal         NaN  \n",
       "1          Y      SBrkr     Attchd        0       WD        Normal         NaN  \n",
       "2          Y      SBrkr     Attchd        0       WD        Normal         NaN  \n",
       "3          Y      SBrkr     Detchd        0       WD       Abnorml         NaN  \n",
       "4          Y      SBrkr     Attchd        0       WD        Normal         NaN  "
      ],
      "text/html": "<div>\n<style scoped>\n    .dataframe tbody tr th:only-of-type {\n        vertical-align: middle;\n    }\n\n    .dataframe tbody tr th {\n        vertical-align: top;\n    }\n\n    .dataframe thead th {\n        text-align: right;\n    }\n</style>\n<table border=\"1\" class=\"dataframe\">\n  <thead>\n    <tr style=\"text-align: right;\">\n      <th></th>\n      <th>MSSubClass</th>\n      <th>MSZoning</th>\n      <th>Street</th>\n      <th>Alley</th>\n      <th>LotShape</th>\n      <th>Utilities</th>\n      <th>LotConfig</th>\n      <th>Neighborhood</th>\n      <th>RoofStyle</th>\n      <th>RoofMatl</th>\n      <th>Exterior1st</th>\n      <th>Exterior2nd</th>\n      <th>MasVnrType</th>\n      <th>Foundation</th>\n      <th>Heating</th>\n      <th>CentralAir</th>\n      <th>Electrical</th>\n      <th>GarageType</th>\n      <th>MiscVal</th>\n      <th>SaleType</th>\n      <th>SaleCondition</th>\n      <th>MiscFeature</th>\n    </tr>\n  </thead>\n  <tbody>\n    <tr>\n      <th>0</th>\n      <td>60</td>\n      <td>RL</td>\n      <td>Pave</td>\n      <td>NaN</td>\n      <td>Reg</td>\n      <td>AllPub</td>\n      <td>Inside</td>\n      <td>CollgCr</td>\n      <td>Gable</td>\n      <td>CompShg</td>\n      <td>VinylSd</td>\n      <td>VinylSd</td>\n      <td>BrkFace</td>\n      <td>PConc</td>\n      <td>GasA</td>\n      <td>Y</td>\n      <td>SBrkr</td>\n      <td>Attchd</td>\n      <td>0</td>\n      <td>WD</td>\n      <td>Normal</td>\n      <td>NaN</td>\n    </tr>\n    <tr>\n      <th>1</th>\n      <td>20</td>\n      <td>RL</td>\n      <td>Pave</td>\n      <td>NaN</td>\n      <td>Reg</td>\n      <td>AllPub</td>\n      <td>FR2</td>\n      <td>Veenker</td>\n      <td>Gable</td>\n      <td>CompShg</td>\n      <td>MetalSd</td>\n      <td>MetalSd</td>\n      <td>None</td>\n      <td>CBlock</td>\n      <td>GasA</td>\n      <td>Y</td>\n      <td>SBrkr</td>\n      <td>Attchd</td>\n      <td>0</td>\n      <td>WD</td>\n      <td>Normal</td>\n      <td>NaN</td>\n    </tr>\n    <tr>\n      <th>2</th>\n      <td>60</td>\n      <td>RL</td>\n      <td>Pave</td>\n      <td>NaN</td>\n      <td>IR1</td>\n      <td>AllPub</td>\n      <td>Inside</td>\n      <td>CollgCr</td>\n      <td>Gable</td>\n      <td>CompShg</td>\n      <td>VinylSd</td>\n      <td>VinylSd</td>\n      <td>BrkFace</td>\n      <td>PConc</td>\n      <td>GasA</td>\n      <td>Y</td>\n      <td>SBrkr</td>\n      <td>Attchd</td>\n      <td>0</td>\n      <td>WD</td>\n      <td>Normal</td>\n      <td>NaN</td>\n    </tr>\n    <tr>\n      <th>3</th>\n      <td>70</td>\n      <td>RL</td>\n      <td>Pave</td>\n      <td>NaN</td>\n      <td>IR1</td>\n      <td>AllPub</td>\n      <td>Corner</td>\n      <td>Crawfor</td>\n      <td>Gable</td>\n      <td>CompShg</td>\n      <td>Wd Sdng</td>\n      <td>Wd Shng</td>\n      <td>None</td>\n      <td>BrkTil</td>\n      <td>GasA</td>\n      <td>Y</td>\n      <td>SBrkr</td>\n      <td>Detchd</td>\n      <td>0</td>\n      <td>WD</td>\n      <td>Abnorml</td>\n      <td>NaN</td>\n    </tr>\n    <tr>\n      <th>4</th>\n      <td>60</td>\n      <td>RL</td>\n      <td>Pave</td>\n      <td>NaN</td>\n      <td>IR1</td>\n      <td>AllPub</td>\n      <td>FR2</td>\n      <td>NoRidge</td>\n      <td>Gable</td>\n      <td>CompShg</td>\n      <td>VinylSd</td>\n      <td>VinylSd</td>\n      <td>BrkFace</td>\n      <td>PConc</td>\n      <td>GasA</td>\n      <td>Y</td>\n      <td>SBrkr</td>\n      <td>Attchd</td>\n      <td>0</td>\n      <td>WD</td>\n      <td>Normal</td>\n      <td>NaN</td>\n    </tr>\n  </tbody>\n</table>\n</div>"
     },
     "metadata": {},
     "execution_count": 9
    }
   ],
   "source": [
    "pd.set_option('display.max_columns', None)\n",
    "train[nominal].head()"
   ]
  },
  {
   "cell_type": "code",
   "execution_count": 10,
   "metadata": {},
   "outputs": [
    {
     "output_type": "execute_result",
     "data": {
      "text/plain": [
       "  LandContour LandSlope Condition1 Condition2 BldgType HouseStyle  \\\n",
       "0         Lvl       Gtl       Norm       Norm     1Fam     2Story   \n",
       "1         Lvl       Gtl      Feedr       Norm     1Fam     1Story   \n",
       "2         Lvl       Gtl       Norm       Norm     1Fam     2Story   \n",
       "3         Lvl       Gtl       Norm       Norm     1Fam     2Story   \n",
       "4         Lvl       Gtl       Norm       Norm     1Fam     2Story   \n",
       "\n",
       "   OverallQual  OverallCond ExterQual ExterCond BsmtQual BsmtCond  \\\n",
       "0            7            5        Gd        TA       Gd       TA   \n",
       "1            6            8        TA        TA       Gd       TA   \n",
       "2            7            5        Gd        TA       Gd       TA   \n",
       "3            7            5        TA        TA       TA       Gd   \n",
       "4            8            5        Gd        TA       Gd       TA   \n",
       "\n",
       "  BsmtExposure BsmtFinType1 HeatingQC FireplaceQu GarageFinish GarageQual  \\\n",
       "0           No          GLQ        Ex         NaN          RFn         TA   \n",
       "1           Gd          ALQ        Ex          TA          RFn         TA   \n",
       "2           Mn          GLQ        Ex          TA          RFn         TA   \n",
       "3           No          ALQ        Gd          Gd          Unf         TA   \n",
       "4           Av          GLQ        Ex          TA          RFn         TA   \n",
       "\n",
       "  GarageCond PoolQC Fence BsmtFinType2 KitchenQual Functional PavedDrive  \n",
       "0         TA    NaN   NaN          Unf          Gd        Typ          Y  \n",
       "1         TA    NaN   NaN          Unf          TA        Typ          Y  \n",
       "2         TA    NaN   NaN          Unf          Gd        Typ          Y  \n",
       "3         TA    NaN   NaN          Unf          Gd        Typ          Y  \n",
       "4         TA    NaN   NaN          Unf          Gd        Typ          Y  "
      ],
      "text/html": "<div>\n<style scoped>\n    .dataframe tbody tr th:only-of-type {\n        vertical-align: middle;\n    }\n\n    .dataframe tbody tr th {\n        vertical-align: top;\n    }\n\n    .dataframe thead th {\n        text-align: right;\n    }\n</style>\n<table border=\"1\" class=\"dataframe\">\n  <thead>\n    <tr style=\"text-align: right;\">\n      <th></th>\n      <th>LandContour</th>\n      <th>LandSlope</th>\n      <th>Condition1</th>\n      <th>Condition2</th>\n      <th>BldgType</th>\n      <th>HouseStyle</th>\n      <th>OverallQual</th>\n      <th>OverallCond</th>\n      <th>ExterQual</th>\n      <th>ExterCond</th>\n      <th>BsmtQual</th>\n      <th>BsmtCond</th>\n      <th>BsmtExposure</th>\n      <th>BsmtFinType1</th>\n      <th>HeatingQC</th>\n      <th>FireplaceQu</th>\n      <th>GarageFinish</th>\n      <th>GarageQual</th>\n      <th>GarageCond</th>\n      <th>PoolQC</th>\n      <th>Fence</th>\n      <th>BsmtFinType2</th>\n      <th>KitchenQual</th>\n      <th>Functional</th>\n      <th>PavedDrive</th>\n    </tr>\n  </thead>\n  <tbody>\n    <tr>\n      <th>0</th>\n      <td>Lvl</td>\n      <td>Gtl</td>\n      <td>Norm</td>\n      <td>Norm</td>\n      <td>1Fam</td>\n      <td>2Story</td>\n      <td>7</td>\n      <td>5</td>\n      <td>Gd</td>\n      <td>TA</td>\n      <td>Gd</td>\n      <td>TA</td>\n      <td>No</td>\n      <td>GLQ</td>\n      <td>Ex</td>\n      <td>NaN</td>\n      <td>RFn</td>\n      <td>TA</td>\n      <td>TA</td>\n      <td>NaN</td>\n      <td>NaN</td>\n      <td>Unf</td>\n      <td>Gd</td>\n      <td>Typ</td>\n      <td>Y</td>\n    </tr>\n    <tr>\n      <th>1</th>\n      <td>Lvl</td>\n      <td>Gtl</td>\n      <td>Feedr</td>\n      <td>Norm</td>\n      <td>1Fam</td>\n      <td>1Story</td>\n      <td>6</td>\n      <td>8</td>\n      <td>TA</td>\n      <td>TA</td>\n      <td>Gd</td>\n      <td>TA</td>\n      <td>Gd</td>\n      <td>ALQ</td>\n      <td>Ex</td>\n      <td>TA</td>\n      <td>RFn</td>\n      <td>TA</td>\n      <td>TA</td>\n      <td>NaN</td>\n      <td>NaN</td>\n      <td>Unf</td>\n      <td>TA</td>\n      <td>Typ</td>\n      <td>Y</td>\n    </tr>\n    <tr>\n      <th>2</th>\n      <td>Lvl</td>\n      <td>Gtl</td>\n      <td>Norm</td>\n      <td>Norm</td>\n      <td>1Fam</td>\n      <td>2Story</td>\n      <td>7</td>\n      <td>5</td>\n      <td>Gd</td>\n      <td>TA</td>\n      <td>Gd</td>\n      <td>TA</td>\n      <td>Mn</td>\n      <td>GLQ</td>\n      <td>Ex</td>\n      <td>TA</td>\n      <td>RFn</td>\n      <td>TA</td>\n      <td>TA</td>\n      <td>NaN</td>\n      <td>NaN</td>\n      <td>Unf</td>\n      <td>Gd</td>\n      <td>Typ</td>\n      <td>Y</td>\n    </tr>\n    <tr>\n      <th>3</th>\n      <td>Lvl</td>\n      <td>Gtl</td>\n      <td>Norm</td>\n      <td>Norm</td>\n      <td>1Fam</td>\n      <td>2Story</td>\n      <td>7</td>\n      <td>5</td>\n      <td>TA</td>\n      <td>TA</td>\n      <td>TA</td>\n      <td>Gd</td>\n      <td>No</td>\n      <td>ALQ</td>\n      <td>Gd</td>\n      <td>Gd</td>\n      <td>Unf</td>\n      <td>TA</td>\n      <td>TA</td>\n      <td>NaN</td>\n      <td>NaN</td>\n      <td>Unf</td>\n      <td>Gd</td>\n      <td>Typ</td>\n      <td>Y</td>\n    </tr>\n    <tr>\n      <th>4</th>\n      <td>Lvl</td>\n      <td>Gtl</td>\n      <td>Norm</td>\n      <td>Norm</td>\n      <td>1Fam</td>\n      <td>2Story</td>\n      <td>8</td>\n      <td>5</td>\n      <td>Gd</td>\n      <td>TA</td>\n      <td>Gd</td>\n      <td>TA</td>\n      <td>Av</td>\n      <td>GLQ</td>\n      <td>Ex</td>\n      <td>TA</td>\n      <td>RFn</td>\n      <td>TA</td>\n      <td>TA</td>\n      <td>NaN</td>\n      <td>NaN</td>\n      <td>Unf</td>\n      <td>Gd</td>\n      <td>Typ</td>\n      <td>Y</td>\n    </tr>\n  </tbody>\n</table>\n</div>"
     },
     "metadata": {},
     "execution_count": 10
    }
   ],
   "source": [
    "train[ordinal].head()"
   ]
  },
  {
   "cell_type": "code",
   "execution_count": 11,
   "metadata": {},
   "outputs": [
    {
     "output_type": "execute_result",
     "data": {
      "text/plain": [
       "   YearBuilt  YearRemodAdd  MasVnrArea  1stFlrSF  2ndFlrSF  LowQualFinSF  \\\n",
       "0       2003          2003       196.0       856       854             0   \n",
       "1       1976          1976         0.0      1262         0             0   \n",
       "2       2001          2002       162.0       920       866             0   \n",
       "3       1915          1970         0.0       961       756             0   \n",
       "4       2000          2000       350.0      1145      1053             0   \n",
       "\n",
       "   GrLivArea  FullBath  HalfBath  BedroomAbvGr  KitchenAbvGr  Fireplaces  \\\n",
       "0       1710         2         1             3             1           0   \n",
       "1       1262         2         0             3             1           1   \n",
       "2       1786         2         1             3             1           1   \n",
       "3       1717         1         0             3             1           1   \n",
       "4       2198         2         1             4             1           1   \n",
       "\n",
       "   GarageYrBlt  GarageArea  GarageCars  WoodDeckSF  OpenPorchSF  \\\n",
       "0       2003.0         548           2           0           61   \n",
       "1       1976.0         460           2         298            0   \n",
       "2       2001.0         608           2           0           42   \n",
       "3       1998.0         642           3           0           35   \n",
       "4       2000.0         836           3         192           84   \n",
       "\n",
       "   EnclosedPorch  3SsnPorch  ScreenPorch  PoolArea  MoSold  YrSold  \\\n",
       "0              0          0            0         0       2    2008   \n",
       "1              0          0            0         0       5    2007   \n",
       "2              0          0            0         0       9    2008   \n",
       "3            272          0            0         0       2    2006   \n",
       "4              0          0            0         0      12    2008   \n",
       "\n",
       "   LotFrontage  LotArea  BsmtFinSF1  BsmtFinSF2  BsmtUnfSF  BsmtFullBath  \\\n",
       "0         65.0     8450         706           0        150             1   \n",
       "1         80.0     9600         978           0        284             0   \n",
       "2         68.0    11250         486           0        434             1   \n",
       "3         60.0     9550         216           0        540             1   \n",
       "4         84.0    14260         655           0        490             1   \n",
       "\n",
       "   TotalBsmtSF  BsmtHalfBath  TotRmsAbvGrd  \n",
       "0          856             0             8  \n",
       "1         1262             1             6  \n",
       "2          920             0             6  \n",
       "3          756             0             7  \n",
       "4         1145             0             9  "
      ],
      "text/html": "<div>\n<style scoped>\n    .dataframe tbody tr th:only-of-type {\n        vertical-align: middle;\n    }\n\n    .dataframe tbody tr th {\n        vertical-align: top;\n    }\n\n    .dataframe thead th {\n        text-align: right;\n    }\n</style>\n<table border=\"1\" class=\"dataframe\">\n  <thead>\n    <tr style=\"text-align: right;\">\n      <th></th>\n      <th>YearBuilt</th>\n      <th>YearRemodAdd</th>\n      <th>MasVnrArea</th>\n      <th>1stFlrSF</th>\n      <th>2ndFlrSF</th>\n      <th>LowQualFinSF</th>\n      <th>GrLivArea</th>\n      <th>FullBath</th>\n      <th>HalfBath</th>\n      <th>BedroomAbvGr</th>\n      <th>KitchenAbvGr</th>\n      <th>Fireplaces</th>\n      <th>GarageYrBlt</th>\n      <th>GarageArea</th>\n      <th>GarageCars</th>\n      <th>WoodDeckSF</th>\n      <th>OpenPorchSF</th>\n      <th>EnclosedPorch</th>\n      <th>3SsnPorch</th>\n      <th>ScreenPorch</th>\n      <th>PoolArea</th>\n      <th>MoSold</th>\n      <th>YrSold</th>\n      <th>LotFrontage</th>\n      <th>LotArea</th>\n      <th>BsmtFinSF1</th>\n      <th>BsmtFinSF2</th>\n      <th>BsmtUnfSF</th>\n      <th>BsmtFullBath</th>\n      <th>TotalBsmtSF</th>\n      <th>BsmtHalfBath</th>\n      <th>TotRmsAbvGrd</th>\n    </tr>\n  </thead>\n  <tbody>\n    <tr>\n      <th>0</th>\n      <td>2003</td>\n      <td>2003</td>\n      <td>196.0</td>\n      <td>856</td>\n      <td>854</td>\n      <td>0</td>\n      <td>1710</td>\n      <td>2</td>\n      <td>1</td>\n      <td>3</td>\n      <td>1</td>\n      <td>0</td>\n      <td>2003.0</td>\n      <td>548</td>\n      <td>2</td>\n      <td>0</td>\n      <td>61</td>\n      <td>0</td>\n      <td>0</td>\n      <td>0</td>\n      <td>0</td>\n      <td>2</td>\n      <td>2008</td>\n      <td>65.0</td>\n      <td>8450</td>\n      <td>706</td>\n      <td>0</td>\n      <td>150</td>\n      <td>1</td>\n      <td>856</td>\n      <td>0</td>\n      <td>8</td>\n    </tr>\n    <tr>\n      <th>1</th>\n      <td>1976</td>\n      <td>1976</td>\n      <td>0.0</td>\n      <td>1262</td>\n      <td>0</td>\n      <td>0</td>\n      <td>1262</td>\n      <td>2</td>\n      <td>0</td>\n      <td>3</td>\n      <td>1</td>\n      <td>1</td>\n      <td>1976.0</td>\n      <td>460</td>\n      <td>2</td>\n      <td>298</td>\n      <td>0</td>\n      <td>0</td>\n      <td>0</td>\n      <td>0</td>\n      <td>0</td>\n      <td>5</td>\n      <td>2007</td>\n      <td>80.0</td>\n      <td>9600</td>\n      <td>978</td>\n      <td>0</td>\n      <td>284</td>\n      <td>0</td>\n      <td>1262</td>\n      <td>1</td>\n      <td>6</td>\n    </tr>\n    <tr>\n      <th>2</th>\n      <td>2001</td>\n      <td>2002</td>\n      <td>162.0</td>\n      <td>920</td>\n      <td>866</td>\n      <td>0</td>\n      <td>1786</td>\n      <td>2</td>\n      <td>1</td>\n      <td>3</td>\n      <td>1</td>\n      <td>1</td>\n      <td>2001.0</td>\n      <td>608</td>\n      <td>2</td>\n      <td>0</td>\n      <td>42</td>\n      <td>0</td>\n      <td>0</td>\n      <td>0</td>\n      <td>0</td>\n      <td>9</td>\n      <td>2008</td>\n      <td>68.0</td>\n      <td>11250</td>\n      <td>486</td>\n      <td>0</td>\n      <td>434</td>\n      <td>1</td>\n      <td>920</td>\n      <td>0</td>\n      <td>6</td>\n    </tr>\n    <tr>\n      <th>3</th>\n      <td>1915</td>\n      <td>1970</td>\n      <td>0.0</td>\n      <td>961</td>\n      <td>756</td>\n      <td>0</td>\n      <td>1717</td>\n      <td>1</td>\n      <td>0</td>\n      <td>3</td>\n      <td>1</td>\n      <td>1</td>\n      <td>1998.0</td>\n      <td>642</td>\n      <td>3</td>\n      <td>0</td>\n      <td>35</td>\n      <td>272</td>\n      <td>0</td>\n      <td>0</td>\n      <td>0</td>\n      <td>2</td>\n      <td>2006</td>\n      <td>60.0</td>\n      <td>9550</td>\n      <td>216</td>\n      <td>0</td>\n      <td>540</td>\n      <td>1</td>\n      <td>756</td>\n      <td>0</td>\n      <td>7</td>\n    </tr>\n    <tr>\n      <th>4</th>\n      <td>2000</td>\n      <td>2000</td>\n      <td>350.0</td>\n      <td>1145</td>\n      <td>1053</td>\n      <td>0</td>\n      <td>2198</td>\n      <td>2</td>\n      <td>1</td>\n      <td>4</td>\n      <td>1</td>\n      <td>1</td>\n      <td>2000.0</td>\n      <td>836</td>\n      <td>3</td>\n      <td>192</td>\n      <td>84</td>\n      <td>0</td>\n      <td>0</td>\n      <td>0</td>\n      <td>0</td>\n      <td>12</td>\n      <td>2008</td>\n      <td>84.0</td>\n      <td>14260</td>\n      <td>655</td>\n      <td>0</td>\n      <td>490</td>\n      <td>1</td>\n      <td>1145</td>\n      <td>0</td>\n      <td>9</td>\n    </tr>\n  </tbody>\n</table>\n</div>"
     },
     "metadata": {},
     "execution_count": 11
    }
   ],
   "source": [
    "train[continous].head()"
   ]
  },
  {
   "source": [
    "## 2. Missing Values"
   ],
   "cell_type": "markdown",
   "metadata": {}
  },
  {
   "source": [
    "### 2.2.1 Check for missing values"
   ],
   "cell_type": "markdown",
   "metadata": {}
  },
  {
   "cell_type": "code",
   "execution_count": 13,
   "metadata": {},
   "outputs": [
    {
     "output_type": "stream",
     "name": "stdout",
     "text": [
      "LotFrontage:\t259\tPercent: 17.74%\nAlley:\t1369\tPercent: 93.77%\nMasVnrType:\t8\tPercent: 0.55%\nMasVnrArea:\t8\tPercent: 0.55%\nBsmtQual:\t37\tPercent: 2.53%\nBsmtCond:\t37\tPercent: 2.53%\nBsmtExposure:\t38\tPercent: 2.6%\nBsmtFinType1:\t37\tPercent: 2.53%\nBsmtFinType2:\t38\tPercent: 2.6%\nElectrical:\t1\tPercent: 0.07%\nFireplaceQu:\t690\tPercent: 47.26%\nGarageType:\t81\tPercent: 5.55%\nGarageYrBlt:\t81\tPercent: 5.55%\nGarageFinish:\t81\tPercent: 5.55%\nGarageQual:\t81\tPercent: 5.55%\nGarageCond:\t81\tPercent: 5.55%\nPoolQC:\t1453\tPercent: 99.52%\nFence:\t1179\tPercent: 80.75%\nMiscFeature:\t1406\tPercent: 96.3%\n"
     ]
    }
   ],
   "source": [
    "# In Train set\n",
    "nulls = train.isnull().sum() \n",
    "for x,y in enumerate(nulls):\n",
    "    if y != 0:\n",
    "        percent = nulls[x]/len(train)\n",
    "        print(f'{train.columns[x]}:\\t{nulls[x]}\\tPercent: {round(percent * 100,2)}%')"
   ]
  },
  {
   "cell_type": "code",
   "execution_count": 15,
   "metadata": {},
   "outputs": [
    {
     "output_type": "stream",
     "name": "stdout",
     "text": [
      "MSZoning:\t4\tPercent: 0.27%\nLotFrontage:\t227\tPercent: 15.56%\nAlley:\t1352\tPercent: 92.67%\nUtilities:\t2\tPercent: 0.14%\nExterior1st:\t1\tPercent: 0.07%\nExterior2nd:\t1\tPercent: 0.07%\nMasVnrType:\t16\tPercent: 1.1%\nMasVnrArea:\t15\tPercent: 1.03%\nBsmtQual:\t44\tPercent: 3.02%\nBsmtCond:\t45\tPercent: 3.08%\nBsmtExposure:\t44\tPercent: 3.02%\nBsmtFinType1:\t42\tPercent: 2.88%\nBsmtFinSF1:\t1\tPercent: 0.07%\nBsmtFinType2:\t42\tPercent: 2.88%\nBsmtFinSF2:\t1\tPercent: 0.07%\nBsmtUnfSF:\t1\tPercent: 0.07%\nTotalBsmtSF:\t1\tPercent: 0.07%\nBsmtFullBath:\t2\tPercent: 0.14%\nBsmtHalfBath:\t2\tPercent: 0.14%\nKitchenQual:\t1\tPercent: 0.07%\nFunctional:\t2\tPercent: 0.14%\nFireplaceQu:\t730\tPercent: 50.03%\nGarageType:\t76\tPercent: 5.21%\nGarageYrBlt:\t78\tPercent: 5.35%\nGarageFinish:\t78\tPercent: 5.35%\nGarageCars:\t1\tPercent: 0.07%\nGarageArea:\t1\tPercent: 0.07%\nGarageQual:\t78\tPercent: 5.35%\nGarageCond:\t78\tPercent: 5.35%\nPoolQC:\t1456\tPercent: 99.79%\nFence:\t1169\tPercent: 80.12%\nMiscFeature:\t1408\tPercent: 96.5%\nSaleType:\t1\tPercent: 0.07%\n"
     ]
    }
   ],
   "source": [
    "# In Test set\n",
    "nulls = test.isnull().sum() \n",
    "for x,y in enumerate(nulls):\n",
    "    if y != 0:\n",
    "        percent = nulls[x]/len(test)\n",
    "        print(f'{test.columns[x]}:\\t{nulls[x]}\\tPercent: {round(percent * 100,2)}%')"
   ]
  },
  {
   "source": [
    "We can see that test data has more missing values then our train data. We will impute the values based on the datatype of the feature.\n"
   ],
   "cell_type": "markdown",
   "metadata": {}
  },
  {
   "source": [
    "### 2.2.2 Impute missing values"
   ],
   "cell_type": "markdown",
   "metadata": {}
  },
  {
   "cell_type": "code",
   "execution_count": 16,
   "metadata": {},
   "outputs": [],
   "source": [
    "# First we will drop columns which have more then 500 missing values\n",
    "null=train.loc[:,train.isnull().sum()>500]\n",
    "\n",
    "train.drop(null,inplace=True,axis=1)\n",
    "test.drop(null,inplace=True,axis=1)"
   ]
  },
  {
   "cell_type": "code",
   "execution_count": 17,
   "metadata": {},
   "outputs": [
    {
     "output_type": "stream",
     "name": "stdout",
     "text": [
      "LotFrontage:\t259\tPercent: 17.74%\nMasVnrType:\t8\tPercent: 0.55%\nMasVnrArea:\t8\tPercent: 0.55%\nBsmtQual:\t37\tPercent: 2.53%\nBsmtCond:\t37\tPercent: 2.53%\nBsmtExposure:\t38\tPercent: 2.6%\nBsmtFinType1:\t37\tPercent: 2.53%\nBsmtFinType2:\t38\tPercent: 2.6%\nElectrical:\t1\tPercent: 0.07%\nGarageType:\t81\tPercent: 5.55%\nGarageYrBlt:\t81\tPercent: 5.55%\nGarageFinish:\t81\tPercent: 5.55%\nGarageQual:\t81\tPercent: 5.55%\nGarageCond:\t81\tPercent: 5.55%\n"
     ]
    }
   ],
   "source": [
    "# In Train set\n",
    "nulls = train.isnull().sum() \n",
    "for x,y in enumerate(nulls):\n",
    "    if y != 0:\n",
    "        percent = nulls[x]/len(train)\n",
    "        print(f'{train.columns[x]}:\\t{nulls[x]}\\tPercent: {round(percent * 100,2)}%')"
   ]
  },
  {
   "cell_type": "code",
   "execution_count": 18,
   "metadata": {},
   "outputs": [
    {
     "output_type": "stream",
     "name": "stdout",
     "text": [
      "MSZoning:\t4\tPercent: 0.27%\nLotFrontage:\t227\tPercent: 15.56%\nUtilities:\t2\tPercent: 0.14%\nExterior1st:\t1\tPercent: 0.07%\nExterior2nd:\t1\tPercent: 0.07%\nMasVnrType:\t16\tPercent: 1.1%\nMasVnrArea:\t15\tPercent: 1.03%\nBsmtQual:\t44\tPercent: 3.02%\nBsmtCond:\t45\tPercent: 3.08%\nBsmtExposure:\t44\tPercent: 3.02%\nBsmtFinType1:\t42\tPercent: 2.88%\nBsmtFinSF1:\t1\tPercent: 0.07%\nBsmtFinType2:\t42\tPercent: 2.88%\nBsmtFinSF2:\t1\tPercent: 0.07%\nBsmtUnfSF:\t1\tPercent: 0.07%\nTotalBsmtSF:\t1\tPercent: 0.07%\nBsmtFullBath:\t2\tPercent: 0.14%\nBsmtHalfBath:\t2\tPercent: 0.14%\nKitchenQual:\t1\tPercent: 0.07%\nFunctional:\t2\tPercent: 0.14%\nGarageType:\t76\tPercent: 5.21%\nGarageYrBlt:\t78\tPercent: 5.35%\nGarageFinish:\t78\tPercent: 5.35%\nGarageCars:\t1\tPercent: 0.07%\nGarageArea:\t1\tPercent: 0.07%\nGarageQual:\t78\tPercent: 5.35%\nGarageCond:\t78\tPercent: 5.35%\nSaleType:\t1\tPercent: 0.07%\n"
     ]
    }
   ],
   "source": [
    "nulls = test.isnull().sum() \n",
    "for x,y in enumerate(nulls):\n",
    "    if y != 0:\n",
    "        percent = nulls[x]/len(test)\n",
    "        print(f'{test.columns[x]}:\\t{nulls[x]}\\tPercent: {round(percent * 100,2)}%')"
   ]
  },
  {
   "source": [
    "#### 2.2.2.1 Train Set imputation"
   ],
   "cell_type": "markdown",
   "metadata": {}
  },
  {
   "cell_type": "code",
   "execution_count": 16,
   "metadata": {},
   "outputs": [],
   "source": [
    "# Train Set imputation\n",
    "# train['Alley'].fillna('No', inplace=True)\n",
    "train['BsmtQual'].fillna('No',inplace=True)\n",
    "train['BsmtCond'].fillna('No', inplace=True)\n",
    "train['BsmtExposure'].fillna('No', inplace=True)\n",
    "train['BsmtFinType2'].fillna('No', inplace=True)\n",
    "# train['FireplaceQu'].fillna('No',inplace=True)\n",
    "train['MasVnrType'].fillna('No',inplace=True)\n",
    "train['GarageType'].fillna('No', inplace=True)\n",
    "train['GarageFinish'].fillna('No', inplace=True)\n",
    "train['GarageQual'].fillna('No', inplace=True)\n",
    "train['GarageCond'].fillna('No', inplace=True)\n",
    "# train['PoolQC'].fillna('No', inplace=True)\n",
    "# train['Fence'].fillna('No', inplace=True)\n",
    "# train['MiscFeature'].fillna('No', inplace=True)\n",
    "train['BsmtFinType1'].fillna('No', inplace=True)"
   ]
  },
  {
   "cell_type": "code",
   "execution_count": 18,
   "metadata": {},
   "outputs": [],
   "source": [
    "train['Electrical'].fillna(train.Electrical.mode()[0], inplace=True)"
   ]
  },
  {
   "cell_type": "code",
   "execution_count": 20,
   "metadata": {},
   "outputs": [],
   "source": [
    "train['LotFrontage'].fillna(0, inplace=True)\n",
    "train['GarageYrBlt'].fillna(0, inplace=True)\n",
    "train['BsmtFinType1'].fillna(0, inplace=True)\n",
    "train['MasVnrArea'].fillna(0, inplace=True)"
   ]
  },
  {
   "source": [
    "#### 2.2.2.2 Test Set imputation"
   ],
   "cell_type": "markdown",
   "metadata": {}
  },
  {
   "cell_type": "code",
   "execution_count": 21,
   "metadata": {},
   "outputs": [],
   "source": [
    "test['MSZoning'].fillna(train.MSZoning.mode()[0], inplace=True)\n",
    "test['Utilities'].fillna(train.Utilities.mode()[0], inplace=True)\n",
    "test['Exterior1st'].fillna(train.Exterior1st.mode()[0], inplace=True)\n",
    "test['Exterior2nd'].fillna(train.Exterior2nd.mode()[0], inplace=True)\n",
    "test['MasVnrType'].fillna(train.MasVnrType.mode()[0], inplace=True)\n",
    "test['KitchenQual'].fillna(train.KitchenQual.mode()[0], inplace=True)\n",
    "test['Functional'].fillna(train.Functional.mode()[0], inplace=True)\n",
    "test['SaleType'].fillna(train.SaleType.mode()[0], inplace=True)"
   ]
  },
  {
   "cell_type": "code",
   "execution_count": 27,
   "metadata": {},
   "outputs": [],
   "source": [
    "# test['Alley'].fillna('No', inplace=True)\n",
    "test['MasVnrType'].fillna('No', inplace=True)\n",
    "test['BsmtQual'].fillna('No', inplace=True)\n",
    "test['BsmtCond'].fillna('No', inplace=True)\n",
    "test['BsmtExposure'].fillna('No', inplace=True)\n",
    "test['BsmtFinType1'].fillna('No', inplace=True)\n",
    "test['BsmtFinType2'].fillna('No', inplace=True)\n",
    "# test['FireplaceQu'].fillna('No', inplace=True)\n",
    "test['GarageType'].fillna('No', inplace=True)\n",
    "test['GarageQual'].fillna('No', inplace=True)\n",
    "test['GarageCond'].fillna('No', inplace=True)\n",
    "# test['PoolQC'].fillna('No', inplace=True)\n",
    "# test['Fence'].fillna('No', inplace=True)\n",
    "# test['MiscFeature'].fillna('No', inplace=True)\n",
    "test['GarageFinish'].fillna('No', inplace=True)"
   ]
  },
  {
   "cell_type": "code",
   "execution_count": 28,
   "metadata": {},
   "outputs": [],
   "source": [
    "test['LotFrontage'].fillna(0, inplace=True)\n",
    "test['MasVnrArea'].fillna(0, inplace=True)\n",
    "test['BsmtFinSF1'].fillna(0, inplace=True)\n",
    "test['BsmtFinSF2'].fillna(0, inplace=True)\n",
    "test['BsmtUnfSF'].fillna(0, inplace=True)\n",
    "test['BsmtFullBath'].fillna(0, inplace=True)\n",
    "test['BsmtHalfBath'].fillna(0, inplace=True)\n",
    "test['GarageYrBlt'].fillna(0, inplace=True)\n",
    "test['GarageCars'].fillna(0, inplace=True)\n",
    "test['GarageArea'].fillna(0, inplace=True)\n",
    "test['TotalBsmtSF'].fillna(0, inplace=True)\n",
    "test['TotalBsmtSF'].fillna(0, inplace=True)"
   ]
  },
  {
   "cell_type": "code",
   "execution_count": 31,
   "metadata": {},
   "outputs": [],
   "source": [
    "train.to_csv('train2.csv')\n",
    "test.to_csv('test2.csv')"
   ]
  }
 ]
}