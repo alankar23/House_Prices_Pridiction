{
 "metadata": {
  "language_info": {
   "codemirror_mode": {
    "name": "ipython",
    "version": 3
   },
   "file_extension": ".py",
   "mimetype": "text/x-python",
   "name": "python",
   "nbconvert_exporter": "python",
   "pygments_lexer": "ipython3",
   "version": "3.8.5"
  },
  "orig_nbformat": 2,
  "kernelspec": {
   "name": "python3",
   "display_name": "Python 3",
   "language": "python"
  }
 },
 "nbformat": 4,
 "nbformat_minor": 2,
 "cells": [
  {
   "source": [
    "# 5. Model"
   ],
   "cell_type": "markdown",
   "metadata": {}
  },
  {
   "source": [
    "## 5.0 Read Data"
   ],
   "cell_type": "markdown",
   "metadata": {}
  },
  {
   "cell_type": "code",
   "execution_count": 86,
   "metadata": {},
   "outputs": [
    {
     "output_type": "stream",
     "name": "stdout",
     "text": [
      "1.4.2\n"
     ]
    }
   ],
   "source": [
    "# check xgboost version\n",
    "import xgboost\n",
    "print(xgboost.__version__)\n",
    "# evaluate an xgboost regression model on the housing dataset\n",
    "from numpy import absolute\n",
    "import pandas as pd\n",
    "from sklearn.model_selection import cross_val_score, train_test_split, StratifiedKFold, KFold, GridSearchCV, RandomizedSearchCV\n",
    "from sklearn.feature_selection import RFE\n",
    "from sklearn.metrics import mean_squared_error\n",
    "from xgboost import XGBRegressor\n",
    "import numpy as np\n",
    "import matplotlib.pyplot as plt\n",
    "%matplotlib inline"
   ]
  },
  {
   "cell_type": "code",
   "execution_count": 120,
   "metadata": {},
   "outputs": [],
   "source": [
    "data = pd.read_csv('xtrain.csv',index_col=0)\n",
    "target = pd.read_csv('train.csv')\n",
    "test = pd.read_csv('xtest.csv', index_col=0)"
   ]
  },
  {
   "cell_type": "code",
   "execution_count": 121,
   "metadata": {},
   "outputs": [
    {
     "output_type": "execute_result",
     "data": {
      "text/plain": [
       "   x0_FV  x0_RH  x0_RL  x0_RM  x0_rare  x1_Pave  x1_rare  x2_Grvl  x2_No  \\\n",
       "0    0.0    1.0    0.0    0.0      0.0      1.0      0.0      0.0    1.0   \n",
       "1    0.0    0.0    1.0    0.0      0.0      1.0      0.0      0.0    1.0   \n",
       "2    0.0    0.0    1.0    0.0      0.0      1.0      0.0      0.0    1.0   \n",
       "3    0.0    0.0    1.0    0.0      0.0      1.0      0.0      0.0    1.0   \n",
       "4    0.0    0.0    1.0    0.0      0.0      1.0      0.0      0.0    1.0   \n",
       "\n",
       "   x2_Pave  x3_IR1  x3_IR2  x3_Reg  x3_rare  x4_AllPub  x4_rare  x5_Corner  \\\n",
       "0      0.0     0.0     0.0     1.0      0.0        1.0      0.0        0.0   \n",
       "1      0.0     1.0     0.0     0.0      0.0        1.0      0.0        1.0   \n",
       "2      0.0     1.0     0.0     0.0      0.0        1.0      0.0        0.0   \n",
       "3      0.0     1.0     0.0     0.0      0.0        1.0      0.0        0.0   \n",
       "4      0.0     1.0     0.0     0.0      0.0        1.0      0.0        0.0   \n",
       "\n",
       "   x5_CulDSac  x5_FR2  x5_Inside  x5_rare  x6_Blmngtn  x6_BrDale  x6_BrkSide  \\\n",
       "0         0.0     0.0        1.0      0.0         0.0        0.0         0.0   \n",
       "1         0.0     0.0        0.0      0.0         0.0        0.0         0.0   \n",
       "2         0.0     0.0        1.0      0.0         0.0        0.0         0.0   \n",
       "3         0.0     0.0        1.0      0.0         0.0        0.0         0.0   \n",
       "4         0.0     0.0        1.0      0.0         0.0        0.0         0.0   \n",
       "\n",
       "   x6_ClearCr  x6_CollgCr  x6_Crawfor  x6_Edwards  x6_Gilbert  x6_IDOTRR  \\\n",
       "0         0.0         0.0         0.0         0.0         0.0        0.0   \n",
       "1         0.0         0.0         0.0         0.0         0.0        0.0   \n",
       "2         0.0         0.0         0.0         0.0         1.0        0.0   \n",
       "3         0.0         0.0         0.0         0.0         1.0        0.0   \n",
       "4         0.0         0.0         0.0         0.0         0.0        0.0   \n",
       "\n",
       "   x6_MeadowV  x6_Mitchel  x6_NAmes  x6_NWAmes  x6_NoRidge  x6_NridgHt  \\\n",
       "0         0.0         0.0       1.0        0.0         0.0         0.0   \n",
       "1         0.0         0.0       1.0        0.0         0.0         0.0   \n",
       "2         0.0         0.0       0.0        0.0         0.0         0.0   \n",
       "3         0.0         0.0       0.0        0.0         0.0         0.0   \n",
       "4         0.0         0.0       0.0        0.0         0.0         0.0   \n",
       "\n",
       "   x6_OldTown  x6_SWISU  x6_Sawyer  x6_SawyerW  x6_Somerst  x6_StoneBr  \\\n",
       "0         0.0       0.0        0.0         0.0         0.0         0.0   \n",
       "1         0.0       0.0        0.0         0.0         0.0         0.0   \n",
       "2         0.0       0.0        0.0         0.0         0.0         0.0   \n",
       "3         0.0       0.0        0.0         0.0         0.0         0.0   \n",
       "4         0.0       0.0        0.0         0.0         0.0         1.0   \n",
       "\n",
       "   x6_Timber  x6_rare  x7_Gable  x7_Hip  x7_rare  x8_CompShg  x8_rare  \\\n",
       "0        0.0      0.0       1.0     0.0      0.0         1.0      0.0   \n",
       "1        0.0      0.0       0.0     1.0      0.0         1.0      0.0   \n",
       "2        0.0      0.0       1.0     0.0      0.0         1.0      0.0   \n",
       "3        0.0      0.0       1.0     0.0      0.0         1.0      0.0   \n",
       "4        0.0      0.0       1.0     0.0      0.0         1.0      0.0   \n",
       "\n",
       "   x9_AsbShng  x9_BrkFace  x9_CemntBd  x9_HdBoard  x9_MetalSd  x9_Plywood  \\\n",
       "0         0.0         0.0         0.0         0.0         0.0         0.0   \n",
       "1         0.0         0.0         0.0         0.0         0.0         0.0   \n",
       "2         0.0         0.0         0.0         0.0         0.0         0.0   \n",
       "3         0.0         0.0         0.0         0.0         0.0         0.0   \n",
       "4         0.0         0.0         0.0         1.0         0.0         0.0   \n",
       "\n",
       "   x9_Stucco  x9_VinylSd  x9_Wd Sdng  x9_WdShing  x9_rare  x10_AsbShng  \\\n",
       "0        0.0         1.0         0.0         0.0      0.0          0.0   \n",
       "1        0.0         0.0         1.0         0.0      0.0          0.0   \n",
       "2        0.0         1.0         0.0         0.0      0.0          0.0   \n",
       "3        0.0         1.0         0.0         0.0      0.0          0.0   \n",
       "4        0.0         0.0         0.0         0.0      0.0          0.0   \n",
       "\n",
       "   x10_BrkFace  x10_CmentBd  x10_HdBoard  x10_MetalSd  x10_Plywood  \\\n",
       "0          0.0          0.0          0.0          0.0          0.0   \n",
       "1          0.0          0.0          0.0          0.0          0.0   \n",
       "2          0.0          0.0          0.0          0.0          0.0   \n",
       "3          0.0          0.0          0.0          0.0          0.0   \n",
       "4          0.0          0.0          1.0          0.0          0.0   \n",
       "\n",
       "   x10_Stucco  x10_VinylSd  x10_Wd Sdng  x10_Wd Shng  x10_rare  x11_BrkCmn  \\\n",
       "0         0.0          1.0          0.0          0.0       0.0         0.0   \n",
       "1         0.0          0.0          1.0          0.0       0.0         0.0   \n",
       "2         0.0          1.0          0.0          0.0       0.0         0.0   \n",
       "3         0.0          1.0          0.0          0.0       0.0         0.0   \n",
       "4         0.0          0.0          0.0          0.0       0.0         0.0   \n",
       "\n",
       "   x11_BrkFace  x11_None  x11_Stone  x11_rare  x12_BrkTil  x12_CBlock  \\\n",
       "0          0.0       1.0        0.0       0.0         0.0         1.0   \n",
       "1          1.0       0.0        0.0       0.0         0.0         1.0   \n",
       "2          0.0       1.0        0.0       0.0         0.0         0.0   \n",
       "3          1.0       0.0        0.0       0.0         0.0         0.0   \n",
       "4          0.0       1.0        0.0       0.0         0.0         0.0   \n",
       "\n",
       "   x12_PConc  x12_Slab  x12_rare  x13_GasA  x13_GasW  x13_rare  x14_N  x14_Y  \\\n",
       "0        0.0       0.0       0.0       1.0       0.0       0.0    0.0    1.0   \n",
       "1        0.0       0.0       0.0       1.0       0.0       0.0    0.0    1.0   \n",
       "2        1.0       0.0       0.0       1.0       0.0       0.0    0.0    1.0   \n",
       "3        1.0       0.0       0.0       1.0       0.0       0.0    0.0    1.0   \n",
       "4        1.0       0.0       0.0       1.0       0.0       0.0    0.0    1.0   \n",
       "\n",
       "   x15_FuseA  x15_FuseF  x15_SBrkr  x15_rare  x16_Attchd  x16_Basment  \\\n",
       "0        0.0        0.0        1.0       0.0         1.0          0.0   \n",
       "1        0.0        0.0        1.0       0.0         1.0          0.0   \n",
       "2        0.0        0.0        1.0       0.0         1.0          0.0   \n",
       "3        0.0        0.0        1.0       0.0         1.0          0.0   \n",
       "4        0.0        0.0        1.0       0.0         1.0          0.0   \n",
       "\n",
       "   x16_BuiltIn  x16_Detchd  x16_No  x16_rare  x17_COD  x17_New  x17_WD  \\\n",
       "0          0.0         0.0     0.0       0.0      0.0      0.0     1.0   \n",
       "1          0.0         0.0     0.0       0.0      0.0      0.0     1.0   \n",
       "2          0.0         0.0     0.0       0.0      0.0      0.0     1.0   \n",
       "3          0.0         0.0     0.0       0.0      0.0      0.0     1.0   \n",
       "4          0.0         0.0     0.0       0.0      0.0      0.0     1.0   \n",
       "\n",
       "   x17_rare  x18_Abnorml  x18_Family  x18_Normal  x18_Partial  x18_rare  \\\n",
       "0       0.0          0.0         0.0         1.0          0.0       0.0   \n",
       "1       0.0          0.0         0.0         1.0          0.0       0.0   \n",
       "2       0.0          0.0         0.0         1.0          0.0       0.0   \n",
       "3       0.0          0.0         0.0         1.0          0.0       0.0   \n",
       "4       0.0          0.0         0.0         1.0          0.0       0.0   \n",
       "\n",
       "   x19_No  x19_Shed  x19_rare  x20_Bnk  x20_HLS  x20_Low  x20_Lvl  x21_Gtl  \\\n",
       "0     1.0       0.0       0.0      0.0      0.0      0.0      1.0      1.0   \n",
       "1     0.0       0.0       1.0      0.0      0.0      0.0      1.0      1.0   \n",
       "2     1.0       0.0       0.0      0.0      0.0      0.0      1.0      1.0   \n",
       "3     1.0       0.0       0.0      0.0      0.0      0.0      1.0      1.0   \n",
       "4     1.0       0.0       0.0      0.0      1.0      0.0      0.0      1.0   \n",
       "\n",
       "   x21_Mod  x21_rare  x22_Artery  x22_Feedr  x22_Norm  x22_PosN  x22_RRAn  \\\n",
       "0      0.0       0.0         0.0        1.0       0.0       0.0       0.0   \n",
       "1      0.0       0.0         0.0        0.0       1.0       0.0       0.0   \n",
       "2      0.0       0.0         0.0        0.0       1.0       0.0       0.0   \n",
       "3      0.0       0.0         0.0        0.0       1.0       0.0       0.0   \n",
       "4      0.0       0.0         0.0        0.0       1.0       0.0       0.0   \n",
       "\n",
       "   x22_rare  x23_Norm  x23_rare  x24_1Fam  x24_2fmCon  x24_Duplex  x24_Twnhs  \\\n",
       "0       0.0       1.0       0.0       1.0         0.0         0.0        0.0   \n",
       "1       0.0       1.0       0.0       1.0         0.0         0.0        0.0   \n",
       "2       0.0       1.0       0.0       1.0         0.0         0.0        0.0   \n",
       "3       0.0       1.0       0.0       1.0         0.0         0.0        0.0   \n",
       "4       0.0       1.0       0.0       0.0         0.0         0.0        0.0   \n",
       "\n",
       "   x24_TwnhsE  x25_1.5Fin  x25_1Story  x25_2Story  x25_SFoyer  x25_SLvl  \\\n",
       "0         0.0         0.0         1.0         0.0         0.0       0.0   \n",
       "1         0.0         0.0         1.0         0.0         0.0       0.0   \n",
       "2         0.0         0.0         0.0         1.0         0.0       0.0   \n",
       "3         0.0         0.0         0.0         1.0         0.0       0.0   \n",
       "4         1.0         0.0         1.0         0.0         0.0       0.0   \n",
       "\n",
       "   x25_rare  x26_0  x26_3  x26_4  x26_5  x26_6  x26_7  x26_8  x26_9  x26_10  \\\n",
       "0       0.0    0.0    0.0    0.0    1.0    0.0    0.0    0.0    0.0     0.0   \n",
       "1       0.0    0.0    0.0    0.0    0.0    1.0    0.0    0.0    0.0     0.0   \n",
       "2       0.0    0.0    0.0    0.0    1.0    0.0    0.0    0.0    0.0     0.0   \n",
       "3       0.0    0.0    0.0    0.0    0.0    1.0    0.0    0.0    0.0     0.0   \n",
       "4       0.0    0.0    0.0    0.0    0.0    0.0    0.0    1.0    0.0     0.0   \n",
       "\n",
       "   x27_0  x27_3  x27_4  x27_5  x27_6  x27_7  x27_8  x27_9  x28_Ex  x28_Gd  \\\n",
       "0    0.0    0.0    0.0    0.0    1.0    0.0    0.0    0.0     0.0     0.0   \n",
       "1    0.0    0.0    0.0    0.0    1.0    0.0    0.0    0.0     0.0     0.0   \n",
       "2    0.0    0.0    0.0    1.0    0.0    0.0    0.0    0.0     0.0     0.0   \n",
       "3    0.0    0.0    0.0    0.0    1.0    0.0    0.0    0.0     0.0     0.0   \n",
       "4    0.0    0.0    0.0    1.0    0.0    0.0    0.0    0.0     0.0     1.0   \n",
       "\n",
       "   x28_TA  x28_rare  x29_Fa  x29_Gd  x29_TA  x29_rare  x30_Ex  x30_Fa  x30_Gd  \\\n",
       "0     1.0       0.0     0.0     0.0     1.0       0.0     0.0     0.0     0.0   \n",
       "1     1.0       0.0     0.0     0.0     1.0       0.0     0.0     0.0     0.0   \n",
       "2     1.0       0.0     0.0     0.0     1.0       0.0     0.0     0.0     1.0   \n",
       "3     1.0       0.0     0.0     0.0     1.0       0.0     0.0     0.0     0.0   \n",
       "4     0.0       0.0     0.0     0.0     1.0       0.0     0.0     0.0     1.0   \n",
       "\n",
       "   x30_No  x30_TA  x31_Fa  x31_Gd  x31_No  x31_TA  x31_rare  x32_Av  x32_Gd  \\\n",
       "0     0.0     1.0     0.0     0.0     0.0     1.0       0.0     0.0     0.0   \n",
       "1     0.0     1.0     0.0     0.0     0.0     1.0       0.0     0.0     0.0   \n",
       "2     0.0     0.0     0.0     0.0     0.0     1.0       0.0     0.0     0.0   \n",
       "3     0.0     1.0     0.0     0.0     0.0     1.0       0.0     0.0     0.0   \n",
       "4     0.0     0.0     0.0     0.0     0.0     1.0       0.0     0.0     0.0   \n",
       "\n",
       "   x32_Mn  x32_No  x33_ALQ  x33_BLQ  x33_GLQ  x33_LwQ  x33_No  x33_Rec  \\\n",
       "0     0.0     1.0      0.0      0.0      0.0      0.0     0.0      1.0   \n",
       "1     0.0     1.0      1.0      0.0      0.0      0.0     0.0      0.0   \n",
       "2     0.0     1.0      0.0      0.0      1.0      0.0     0.0      0.0   \n",
       "3     0.0     1.0      0.0      0.0      1.0      0.0     0.0      0.0   \n",
       "4     0.0     1.0      1.0      0.0      0.0      0.0     0.0      0.0   \n",
       "\n",
       "   x33_Unf  x34_Ex  x34_Fa  x34_Gd  x34_TA  x34_rare  x35_Ex  x35_Fa  x35_Gd  \\\n",
       "0      0.0     0.0     0.0     0.0     1.0       0.0     0.0     0.0     0.0   \n",
       "1      0.0     0.0     0.0     0.0     1.0       0.0     0.0     0.0     0.0   \n",
       "2      0.0     0.0     0.0     1.0     0.0       0.0     0.0     0.0     0.0   \n",
       "3      0.0     1.0     0.0     0.0     0.0       0.0     0.0     0.0     1.0   \n",
       "4      0.0     1.0     0.0     0.0     0.0       0.0     0.0     0.0     0.0   \n",
       "\n",
       "   x35_No  x35_Po  x35_TA  x36_Fin  x36_No  x36_RFn  x36_Unf  x37_Fa  x37_No  \\\n",
       "0     1.0     0.0     0.0      0.0     0.0      0.0      1.0     0.0     0.0   \n",
       "1     1.0     0.0     0.0      0.0     0.0      0.0      1.0     0.0     0.0   \n",
       "2     0.0     0.0     1.0      1.0     0.0      0.0      0.0     0.0     0.0   \n",
       "3     0.0     0.0     0.0      1.0     0.0      0.0      0.0     0.0     0.0   \n",
       "4     1.0     0.0     0.0      0.0     0.0      1.0      0.0     0.0     0.0   \n",
       "\n",
       "   x37_TA  x37_rare  x38_Fa  x38_No  x38_TA  x38_rare  x39_No  x39_rare  \\\n",
       "0     1.0       0.0     0.0     0.0     1.0       0.0     1.0       0.0   \n",
       "1     1.0       0.0     0.0     0.0     1.0       0.0     1.0       0.0   \n",
       "2     1.0       0.0     0.0     0.0     1.0       0.0     1.0       0.0   \n",
       "3     1.0       0.0     0.0     0.0     1.0       0.0     1.0       0.0   \n",
       "4     1.0       0.0     0.0     0.0     1.0       0.0     1.0       0.0   \n",
       "\n",
       "   x40_GdPrv  x40_GdWo  x40_MnPrv  x40_No  x40_rare  x41_ALQ  x41_BLQ  \\\n",
       "0        0.0       0.0        1.0     0.0       0.0      0.0      0.0   \n",
       "1        0.0       0.0        0.0     1.0       0.0      0.0      0.0   \n",
       "2        0.0       0.0        1.0     0.0       0.0      0.0      0.0   \n",
       "3        0.0       0.0        0.0     1.0       0.0      0.0      0.0   \n",
       "4        0.0       0.0        0.0     1.0       0.0      0.0      0.0   \n",
       "\n",
       "   x41_LwQ  x41_No  x41_Rec  x41_Unf  x41_rare  x42_Ex  x42_Fa  x42_Gd  \\\n",
       "0      1.0     0.0      0.0      0.0       0.0     0.0     0.0     0.0   \n",
       "1      0.0     0.0      0.0      1.0       0.0     0.0     0.0     1.0   \n",
       "2      0.0     0.0      0.0      1.0       0.0     0.0     0.0     0.0   \n",
       "3      0.0     0.0      0.0      1.0       0.0     0.0     0.0     1.0   \n",
       "4      0.0     0.0      0.0      1.0       0.0     0.0     0.0     1.0   \n",
       "\n",
       "   x42_TA  x43_N  x43_P  x43_Y  MasVnrArea  1stFlrSF  2ndFlrSF  LowQualFinSF  \\\n",
       "0     1.0    0.0    0.0    1.0      0.0000  6.797940  0.000000           0.0   \n",
       "1     0.0    0.0    0.0    1.0      0.0675  7.192182  0.000000           0.0   \n",
       "2     1.0    0.0    0.0    1.0      0.0000  6.833032  0.339467           0.0   \n",
       "3     0.0    0.0    0.0    1.0      0.0125  6.830874  0.328329           0.0   \n",
       "4     0.0    0.0    0.0    1.0      0.0000  7.154615  0.000000           0.0   \n",
       "\n",
       "   GrLivArea  FullBath  HalfBath  BedroomAbvGr  KitchenAbvGr  Fireplaces  \\\n",
       "0   6.797940  0.333333       0.0         0.250      0.333333    0.000000   \n",
       "1   7.192182  0.333333       0.5         0.375      0.333333    0.000000   \n",
       "2   7.395722  0.666667       0.5         0.375      0.333333    0.333333   \n",
       "3   7.380256  0.666667       0.5         0.375      0.333333    0.333333   \n",
       "4   7.154615  0.666667       0.0         0.250      0.333333    0.000000   \n",
       "\n",
       "   GarageYrBlt  GarageArea  GarageCars  WoodDeckSF  OpenPorchSF  \\\n",
       "0     0.024378    0.514810        0.25    0.163361     0.000000   \n",
       "1     0.025871    0.220028        0.25    0.458576     0.065814   \n",
       "2     0.006468    0.339915        0.50    0.247375     0.062157   \n",
       "3     0.005970    0.331453        0.50    0.420070     0.065814   \n",
       "4     0.008955    0.356841        0.50    0.000000     0.149909   \n",
       "\n",
       "   EnclosedPorch  3SsnPorch  ScreenPorch  PoolArea    MoSold  YrSold  \\\n",
       "0            0.0        0.0         0.25       0.0  0.454545     1.0   \n",
       "1            0.0        0.0         0.00       0.0  0.454545     1.0   \n",
       "2            0.0        0.0         0.00       0.0  0.181818     1.0   \n",
       "3            0.0        0.0         0.00       0.0  0.454545     1.0   \n",
       "4            0.0        0.0         0.30       0.0  0.000000     1.0   \n",
       "\n",
       "   LotFrontage   LotArea  BsmtFinSF1  BsmtFinSF2  BsmtUnfSF  BsmtFullBath  \\\n",
       "0     4.382027  9.360655    0.082920    0.097693   0.115582           0.0   \n",
       "1     4.394449  9.565704    0.163536    0.000000   0.173801           0.0   \n",
       "2     4.304065  9.534595    0.140149    0.000000   0.058647           0.0   \n",
       "3     4.356709  9.208138    0.106662    0.000000   0.138699           0.0   \n",
       "4     3.761200  8.518193    0.046598    0.000000   0.435360           0.0   \n",
       "\n",
       "   TotalBsmtSF  BsmtHalfBath  TotRmsAbvGrd  \n",
       "0     0.144354           0.0      0.250000  \n",
       "1     0.217512           0.0      0.333333  \n",
       "2     0.151882           0.0      0.333333  \n",
       "3     0.151555           0.0      0.416667  \n",
       "4     0.209493           0.0      0.250000  "
      ],
      "text/html": "<div>\n<style scoped>\n    .dataframe tbody tr th:only-of-type {\n        vertical-align: middle;\n    }\n\n    .dataframe tbody tr th {\n        vertical-align: top;\n    }\n\n    .dataframe thead th {\n        text-align: right;\n    }\n</style>\n<table border=\"1\" class=\"dataframe\">\n  <thead>\n    <tr style=\"text-align: right;\">\n      <th></th>\n      <th>x0_FV</th>\n      <th>x0_RH</th>\n      <th>x0_RL</th>\n      <th>x0_RM</th>\n      <th>x0_rare</th>\n      <th>x1_Pave</th>\n      <th>x1_rare</th>\n      <th>x2_Grvl</th>\n      <th>x2_No</th>\n      <th>x2_Pave</th>\n      <th>x3_IR1</th>\n      <th>x3_IR2</th>\n      <th>x3_Reg</th>\n      <th>x3_rare</th>\n      <th>x4_AllPub</th>\n      <th>x4_rare</th>\n      <th>x5_Corner</th>\n      <th>x5_CulDSac</th>\n      <th>x5_FR2</th>\n      <th>x5_Inside</th>\n      <th>x5_rare</th>\n      <th>x6_Blmngtn</th>\n      <th>x6_BrDale</th>\n      <th>x6_BrkSide</th>\n      <th>x6_ClearCr</th>\n      <th>x6_CollgCr</th>\n      <th>x6_Crawfor</th>\n      <th>x6_Edwards</th>\n      <th>x6_Gilbert</th>\n      <th>x6_IDOTRR</th>\n      <th>x6_MeadowV</th>\n      <th>x6_Mitchel</th>\n      <th>x6_NAmes</th>\n      <th>x6_NWAmes</th>\n      <th>x6_NoRidge</th>\n      <th>x6_NridgHt</th>\n      <th>x6_OldTown</th>\n      <th>x6_SWISU</th>\n      <th>x6_Sawyer</th>\n      <th>x6_SawyerW</th>\n      <th>x6_Somerst</th>\n      <th>x6_StoneBr</th>\n      <th>x6_Timber</th>\n      <th>x6_rare</th>\n      <th>x7_Gable</th>\n      <th>x7_Hip</th>\n      <th>x7_rare</th>\n      <th>x8_CompShg</th>\n      <th>x8_rare</th>\n      <th>x9_AsbShng</th>\n      <th>x9_BrkFace</th>\n      <th>x9_CemntBd</th>\n      <th>x9_HdBoard</th>\n      <th>x9_MetalSd</th>\n      <th>x9_Plywood</th>\n      <th>x9_Stucco</th>\n      <th>x9_VinylSd</th>\n      <th>x9_Wd Sdng</th>\n      <th>x9_WdShing</th>\n      <th>x9_rare</th>\n      <th>x10_AsbShng</th>\n      <th>x10_BrkFace</th>\n      <th>x10_CmentBd</th>\n      <th>x10_HdBoard</th>\n      <th>x10_MetalSd</th>\n      <th>x10_Plywood</th>\n      <th>x10_Stucco</th>\n      <th>x10_VinylSd</th>\n      <th>x10_Wd Sdng</th>\n      <th>x10_Wd Shng</th>\n      <th>x10_rare</th>\n      <th>x11_BrkCmn</th>\n      <th>x11_BrkFace</th>\n      <th>x11_None</th>\n      <th>x11_Stone</th>\n      <th>x11_rare</th>\n      <th>x12_BrkTil</th>\n      <th>x12_CBlock</th>\n      <th>x12_PConc</th>\n      <th>x12_Slab</th>\n      <th>x12_rare</th>\n      <th>x13_GasA</th>\n      <th>x13_GasW</th>\n      <th>x13_rare</th>\n      <th>x14_N</th>\n      <th>x14_Y</th>\n      <th>x15_FuseA</th>\n      <th>x15_FuseF</th>\n      <th>x15_SBrkr</th>\n      <th>x15_rare</th>\n      <th>x16_Attchd</th>\n      <th>x16_Basment</th>\n      <th>x16_BuiltIn</th>\n      <th>x16_Detchd</th>\n      <th>x16_No</th>\n      <th>x16_rare</th>\n      <th>x17_COD</th>\n      <th>x17_New</th>\n      <th>x17_WD</th>\n      <th>x17_rare</th>\n      <th>x18_Abnorml</th>\n      <th>x18_Family</th>\n      <th>x18_Normal</th>\n      <th>x18_Partial</th>\n      <th>x18_rare</th>\n      <th>x19_No</th>\n      <th>x19_Shed</th>\n      <th>x19_rare</th>\n      <th>x20_Bnk</th>\n      <th>x20_HLS</th>\n      <th>x20_Low</th>\n      <th>x20_Lvl</th>\n      <th>x21_Gtl</th>\n      <th>x21_Mod</th>\n      <th>x21_rare</th>\n      <th>x22_Artery</th>\n      <th>x22_Feedr</th>\n      <th>x22_Norm</th>\n      <th>x22_PosN</th>\n      <th>x22_RRAn</th>\n      <th>x22_rare</th>\n      <th>x23_Norm</th>\n      <th>x23_rare</th>\n      <th>x24_1Fam</th>\n      <th>x24_2fmCon</th>\n      <th>x24_Duplex</th>\n      <th>x24_Twnhs</th>\n      <th>x24_TwnhsE</th>\n      <th>x25_1.5Fin</th>\n      <th>x25_1Story</th>\n      <th>x25_2Story</th>\n      <th>x25_SFoyer</th>\n      <th>x25_SLvl</th>\n      <th>x25_rare</th>\n      <th>x26_0</th>\n      <th>x26_3</th>\n      <th>x26_4</th>\n      <th>x26_5</th>\n      <th>x26_6</th>\n      <th>x26_7</th>\n      <th>x26_8</th>\n      <th>x26_9</th>\n      <th>x26_10</th>\n      <th>x27_0</th>\n      <th>x27_3</th>\n      <th>x27_4</th>\n      <th>x27_5</th>\n      <th>x27_6</th>\n      <th>x27_7</th>\n      <th>x27_8</th>\n      <th>x27_9</th>\n      <th>x28_Ex</th>\n      <th>x28_Gd</th>\n      <th>x28_TA</th>\n      <th>x28_rare</th>\n      <th>x29_Fa</th>\n      <th>x29_Gd</th>\n      <th>x29_TA</th>\n      <th>x29_rare</th>\n      <th>x30_Ex</th>\n      <th>x30_Fa</th>\n      <th>x30_Gd</th>\n      <th>x30_No</th>\n      <th>x30_TA</th>\n      <th>x31_Fa</th>\n      <th>x31_Gd</th>\n      <th>x31_No</th>\n      <th>x31_TA</th>\n      <th>x31_rare</th>\n      <th>x32_Av</th>\n      <th>x32_Gd</th>\n      <th>x32_Mn</th>\n      <th>x32_No</th>\n      <th>x33_ALQ</th>\n      <th>x33_BLQ</th>\n      <th>x33_GLQ</th>\n      <th>x33_LwQ</th>\n      <th>x33_No</th>\n      <th>x33_Rec</th>\n      <th>x33_Unf</th>\n      <th>x34_Ex</th>\n      <th>x34_Fa</th>\n      <th>x34_Gd</th>\n      <th>x34_TA</th>\n      <th>x34_rare</th>\n      <th>x35_Ex</th>\n      <th>x35_Fa</th>\n      <th>x35_Gd</th>\n      <th>x35_No</th>\n      <th>x35_Po</th>\n      <th>x35_TA</th>\n      <th>x36_Fin</th>\n      <th>x36_No</th>\n      <th>x36_RFn</th>\n      <th>x36_Unf</th>\n      <th>x37_Fa</th>\n      <th>x37_No</th>\n      <th>x37_TA</th>\n      <th>x37_rare</th>\n      <th>x38_Fa</th>\n      <th>x38_No</th>\n      <th>x38_TA</th>\n      <th>x38_rare</th>\n      <th>x39_No</th>\n      <th>x39_rare</th>\n      <th>x40_GdPrv</th>\n      <th>x40_GdWo</th>\n      <th>x40_MnPrv</th>\n      <th>x40_No</th>\n      <th>x40_rare</th>\n      <th>x41_ALQ</th>\n      <th>x41_BLQ</th>\n      <th>x41_LwQ</th>\n      <th>x41_No</th>\n      <th>x41_Rec</th>\n      <th>x41_Unf</th>\n      <th>x41_rare</th>\n      <th>x42_Ex</th>\n      <th>x42_Fa</th>\n      <th>x42_Gd</th>\n      <th>x42_TA</th>\n      <th>x43_N</th>\n      <th>x43_P</th>\n      <th>x43_Y</th>\n      <th>MasVnrArea</th>\n      <th>1stFlrSF</th>\n      <th>2ndFlrSF</th>\n      <th>LowQualFinSF</th>\n      <th>GrLivArea</th>\n      <th>FullBath</th>\n      <th>HalfBath</th>\n      <th>BedroomAbvGr</th>\n      <th>KitchenAbvGr</th>\n      <th>Fireplaces</th>\n      <th>GarageYrBlt</th>\n      <th>GarageArea</th>\n      <th>GarageCars</th>\n      <th>WoodDeckSF</th>\n      <th>OpenPorchSF</th>\n      <th>EnclosedPorch</th>\n      <th>3SsnPorch</th>\n      <th>ScreenPorch</th>\n      <th>PoolArea</th>\n      <th>MoSold</th>\n      <th>YrSold</th>\n      <th>LotFrontage</th>\n      <th>LotArea</th>\n      <th>BsmtFinSF1</th>\n      <th>BsmtFinSF2</th>\n      <th>BsmtUnfSF</th>\n      <th>BsmtFullBath</th>\n      <th>TotalBsmtSF</th>\n      <th>BsmtHalfBath</th>\n      <th>TotRmsAbvGrd</th>\n    </tr>\n  </thead>\n  <tbody>\n    <tr>\n      <th>0</th>\n      <td>0.0</td>\n      <td>1.0</td>\n      <td>0.0</td>\n      <td>0.0</td>\n      <td>0.0</td>\n      <td>1.0</td>\n      <td>0.0</td>\n      <td>0.0</td>\n      <td>1.0</td>\n      <td>0.0</td>\n      <td>0.0</td>\n      <td>0.0</td>\n      <td>1.0</td>\n      <td>0.0</td>\n      <td>1.0</td>\n      <td>0.0</td>\n      <td>0.0</td>\n      <td>0.0</td>\n      <td>0.0</td>\n      <td>1.0</td>\n      <td>0.0</td>\n      <td>0.0</td>\n      <td>0.0</td>\n      <td>0.0</td>\n      <td>0.0</td>\n      <td>0.0</td>\n      <td>0.0</td>\n      <td>0.0</td>\n      <td>0.0</td>\n      <td>0.0</td>\n      <td>0.0</td>\n      <td>0.0</td>\n      <td>1.0</td>\n      <td>0.0</td>\n      <td>0.0</td>\n      <td>0.0</td>\n      <td>0.0</td>\n      <td>0.0</td>\n      <td>0.0</td>\n      <td>0.0</td>\n      <td>0.0</td>\n      <td>0.0</td>\n      <td>0.0</td>\n      <td>0.0</td>\n      <td>1.0</td>\n      <td>0.0</td>\n      <td>0.0</td>\n      <td>1.0</td>\n      <td>0.0</td>\n      <td>0.0</td>\n      <td>0.0</td>\n      <td>0.0</td>\n      <td>0.0</td>\n      <td>0.0</td>\n      <td>0.0</td>\n      <td>0.0</td>\n      <td>1.0</td>\n      <td>0.0</td>\n      <td>0.0</td>\n      <td>0.0</td>\n      <td>0.0</td>\n      <td>0.0</td>\n      <td>0.0</td>\n      <td>0.0</td>\n      <td>0.0</td>\n      <td>0.0</td>\n      <td>0.0</td>\n      <td>1.0</td>\n      <td>0.0</td>\n      <td>0.0</td>\n      <td>0.0</td>\n      <td>0.0</td>\n      <td>0.0</td>\n      <td>1.0</td>\n      <td>0.0</td>\n      <td>0.0</td>\n      <td>0.0</td>\n      <td>1.0</td>\n      <td>0.0</td>\n      <td>0.0</td>\n      <td>0.0</td>\n      <td>1.0</td>\n      <td>0.0</td>\n      <td>0.0</td>\n      <td>0.0</td>\n      <td>1.0</td>\n      <td>0.0</td>\n      <td>0.0</td>\n      <td>1.0</td>\n      <td>0.0</td>\n      <td>1.0</td>\n      <td>0.0</td>\n      <td>0.0</td>\n      <td>0.0</td>\n      <td>0.0</td>\n      <td>0.0</td>\n      <td>0.0</td>\n      <td>0.0</td>\n      <td>1.0</td>\n      <td>0.0</td>\n      <td>0.0</td>\n      <td>0.0</td>\n      <td>1.0</td>\n      <td>0.0</td>\n      <td>0.0</td>\n      <td>1.0</td>\n      <td>0.0</td>\n      <td>0.0</td>\n      <td>0.0</td>\n      <td>0.0</td>\n      <td>0.0</td>\n      <td>1.0</td>\n      <td>1.0</td>\n      <td>0.0</td>\n      <td>0.0</td>\n      <td>0.0</td>\n      <td>1.0</td>\n      <td>0.0</td>\n      <td>0.0</td>\n      <td>0.0</td>\n      <td>0.0</td>\n      <td>1.0</td>\n      <td>0.0</td>\n      <td>1.0</td>\n      <td>0.0</td>\n      <td>0.0</td>\n      <td>0.0</td>\n      <td>0.0</td>\n      <td>0.0</td>\n      <td>1.0</td>\n      <td>0.0</td>\n      <td>0.0</td>\n      <td>0.0</td>\n      <td>0.0</td>\n      <td>0.0</td>\n      <td>0.0</td>\n      <td>0.0</td>\n      <td>1.0</td>\n      <td>0.0</td>\n      <td>0.0</td>\n      <td>0.0</td>\n      <td>0.0</td>\n      <td>0.0</td>\n      <td>0.0</td>\n      <td>0.0</td>\n      <td>0.0</td>\n      <td>0.0</td>\n      <td>1.0</td>\n      <td>0.0</td>\n      <td>0.0</td>\n      <td>0.0</td>\n      <td>0.0</td>\n      <td>0.0</td>\n      <td>1.0</td>\n      <td>0.0</td>\n      <td>0.0</td>\n      <td>0.0</td>\n      <td>1.0</td>\n      <td>0.0</td>\n      <td>0.0</td>\n      <td>0.0</td>\n      <td>0.0</td>\n      <td>0.0</td>\n      <td>1.0</td>\n      <td>0.0</td>\n      <td>0.0</td>\n      <td>0.0</td>\n      <td>1.0</td>\n      <td>0.0</td>\n      <td>0.0</td>\n      <td>0.0</td>\n      <td>0.0</td>\n      <td>1.0</td>\n      <td>0.0</td>\n      <td>0.0</td>\n      <td>0.0</td>\n      <td>0.0</td>\n      <td>0.0</td>\n      <td>1.0</td>\n      <td>0.0</td>\n      <td>0.0</td>\n      <td>0.0</td>\n      <td>0.0</td>\n      <td>1.0</td>\n      <td>0.0</td>\n      <td>0.0</td>\n      <td>0.0</td>\n      <td>0.0</td>\n      <td>1.0</td>\n      <td>0.0</td>\n      <td>0.0</td>\n      <td>0.0</td>\n      <td>0.0</td>\n      <td>0.0</td>\n      <td>1.0</td>\n      <td>0.0</td>\n      <td>0.0</td>\n      <td>1.0</td>\n      <td>0.0</td>\n      <td>0.0</td>\n      <td>0.0</td>\n      <td>1.0</td>\n      <td>0.0</td>\n      <td>1.0</td>\n      <td>0.0</td>\n      <td>0.0</td>\n      <td>0.0</td>\n      <td>1.0</td>\n      <td>0.0</td>\n      <td>0.0</td>\n      <td>0.0</td>\n      <td>0.0</td>\n      <td>1.0</td>\n      <td>0.0</td>\n      <td>0.0</td>\n      <td>0.0</td>\n      <td>0.0</td>\n      <td>0.0</td>\n      <td>0.0</td>\n      <td>0.0</td>\n      <td>1.0</td>\n      <td>0.0</td>\n      <td>0.0</td>\n      <td>1.0</td>\n      <td>0.0000</td>\n      <td>6.797940</td>\n      <td>0.000000</td>\n      <td>0.0</td>\n      <td>6.797940</td>\n      <td>0.333333</td>\n      <td>0.0</td>\n      <td>0.250</td>\n      <td>0.333333</td>\n      <td>0.000000</td>\n      <td>0.024378</td>\n      <td>0.514810</td>\n      <td>0.25</td>\n      <td>0.163361</td>\n      <td>0.000000</td>\n      <td>0.0</td>\n      <td>0.0</td>\n      <td>0.25</td>\n      <td>0.0</td>\n      <td>0.454545</td>\n      <td>1.0</td>\n      <td>4.382027</td>\n      <td>9.360655</td>\n      <td>0.082920</td>\n      <td>0.097693</td>\n      <td>0.115582</td>\n      <td>0.0</td>\n      <td>0.144354</td>\n      <td>0.0</td>\n      <td>0.250000</td>\n    </tr>\n    <tr>\n      <th>1</th>\n      <td>0.0</td>\n      <td>0.0</td>\n      <td>1.0</td>\n      <td>0.0</td>\n      <td>0.0</td>\n      <td>1.0</td>\n      <td>0.0</td>\n      <td>0.0</td>\n      <td>1.0</td>\n      <td>0.0</td>\n      <td>1.0</td>\n      <td>0.0</td>\n      <td>0.0</td>\n      <td>0.0</td>\n      <td>1.0</td>\n      <td>0.0</td>\n      <td>1.0</td>\n      <td>0.0</td>\n      <td>0.0</td>\n      <td>0.0</td>\n      <td>0.0</td>\n      <td>0.0</td>\n      <td>0.0</td>\n      <td>0.0</td>\n      <td>0.0</td>\n      <td>0.0</td>\n      <td>0.0</td>\n      <td>0.0</td>\n      <td>0.0</td>\n      <td>0.0</td>\n      <td>0.0</td>\n      <td>0.0</td>\n      <td>1.0</td>\n      <td>0.0</td>\n      <td>0.0</td>\n      <td>0.0</td>\n      <td>0.0</td>\n      <td>0.0</td>\n      <td>0.0</td>\n      <td>0.0</td>\n      <td>0.0</td>\n      <td>0.0</td>\n      <td>0.0</td>\n      <td>0.0</td>\n      <td>0.0</td>\n      <td>1.0</td>\n      <td>0.0</td>\n      <td>1.0</td>\n      <td>0.0</td>\n      <td>0.0</td>\n      <td>0.0</td>\n      <td>0.0</td>\n      <td>0.0</td>\n      <td>0.0</td>\n      <td>0.0</td>\n      <td>0.0</td>\n      <td>0.0</td>\n      <td>1.0</td>\n      <td>0.0</td>\n      <td>0.0</td>\n      <td>0.0</td>\n      <td>0.0</td>\n      <td>0.0</td>\n      <td>0.0</td>\n      <td>0.0</td>\n      <td>0.0</td>\n      <td>0.0</td>\n      <td>0.0</td>\n      <td>1.0</td>\n      <td>0.0</td>\n      <td>0.0</td>\n      <td>0.0</td>\n      <td>1.0</td>\n      <td>0.0</td>\n      <td>0.0</td>\n      <td>0.0</td>\n      <td>0.0</td>\n      <td>1.0</td>\n      <td>0.0</td>\n      <td>0.0</td>\n      <td>0.0</td>\n      <td>1.0</td>\n      <td>0.0</td>\n      <td>0.0</td>\n      <td>0.0</td>\n      <td>1.0</td>\n      <td>0.0</td>\n      <td>0.0</td>\n      <td>1.0</td>\n      <td>0.0</td>\n      <td>1.0</td>\n      <td>0.0</td>\n      <td>0.0</td>\n      <td>0.0</td>\n      <td>0.0</td>\n      <td>0.0</td>\n      <td>0.0</td>\n      <td>0.0</td>\n      <td>1.0</td>\n      <td>0.0</td>\n      <td>0.0</td>\n      <td>0.0</td>\n      <td>1.0</td>\n      <td>0.0</td>\n      <td>0.0</td>\n      <td>0.0</td>\n      <td>0.0</td>\n      <td>1.0</td>\n      <td>0.0</td>\n      <td>0.0</td>\n      <td>0.0</td>\n      <td>1.0</td>\n      <td>1.0</td>\n      <td>0.0</td>\n      <td>0.0</td>\n      <td>0.0</td>\n      <td>0.0</td>\n      <td>1.0</td>\n      <td>0.0</td>\n      <td>0.0</td>\n      <td>0.0</td>\n      <td>1.0</td>\n      <td>0.0</td>\n      <td>1.0</td>\n      <td>0.0</td>\n      <td>0.0</td>\n      <td>0.0</td>\n      <td>0.0</td>\n      <td>0.0</td>\n      <td>1.0</td>\n      <td>0.0</td>\n      <td>0.0</td>\n      <td>0.0</td>\n      <td>0.0</td>\n      <td>0.0</td>\n      <td>0.0</td>\n      <td>0.0</td>\n      <td>0.0</td>\n      <td>1.0</td>\n      <td>0.0</td>\n      <td>0.0</td>\n      <td>0.0</td>\n      <td>0.0</td>\n      <td>0.0</td>\n      <td>0.0</td>\n      <td>0.0</td>\n      <td>0.0</td>\n      <td>1.0</td>\n      <td>0.0</td>\n      <td>0.0</td>\n      <td>0.0</td>\n      <td>0.0</td>\n      <td>0.0</td>\n      <td>1.0</td>\n      <td>0.0</td>\n      <td>0.0</td>\n      <td>0.0</td>\n      <td>1.0</td>\n      <td>0.0</td>\n      <td>0.0</td>\n      <td>0.0</td>\n      <td>0.0</td>\n      <td>0.0</td>\n      <td>1.0</td>\n      <td>0.0</td>\n      <td>0.0</td>\n      <td>0.0</td>\n      <td>1.0</td>\n      <td>0.0</td>\n      <td>0.0</td>\n      <td>0.0</td>\n      <td>0.0</td>\n      <td>1.0</td>\n      <td>1.0</td>\n      <td>0.0</td>\n      <td>0.0</td>\n      <td>0.0</td>\n      <td>0.0</td>\n      <td>0.0</td>\n      <td>0.0</td>\n      <td>0.0</td>\n      <td>0.0</td>\n      <td>0.0</td>\n      <td>1.0</td>\n      <td>0.0</td>\n      <td>0.0</td>\n      <td>0.0</td>\n      <td>0.0</td>\n      <td>1.0</td>\n      <td>0.0</td>\n      <td>0.0</td>\n      <td>0.0</td>\n      <td>0.0</td>\n      <td>0.0</td>\n      <td>1.0</td>\n      <td>0.0</td>\n      <td>0.0</td>\n      <td>1.0</td>\n      <td>0.0</td>\n      <td>0.0</td>\n      <td>0.0</td>\n      <td>1.0</td>\n      <td>0.0</td>\n      <td>1.0</td>\n      <td>0.0</td>\n      <td>0.0</td>\n      <td>0.0</td>\n      <td>0.0</td>\n      <td>1.0</td>\n      <td>0.0</td>\n      <td>0.0</td>\n      <td>0.0</td>\n      <td>0.0</td>\n      <td>0.0</td>\n      <td>0.0</td>\n      <td>1.0</td>\n      <td>0.0</td>\n      <td>0.0</td>\n      <td>0.0</td>\n      <td>1.0</td>\n      <td>0.0</td>\n      <td>0.0</td>\n      <td>0.0</td>\n      <td>1.0</td>\n      <td>0.0675</td>\n      <td>7.192182</td>\n      <td>0.000000</td>\n      <td>0.0</td>\n      <td>7.192182</td>\n      <td>0.333333</td>\n      <td>0.5</td>\n      <td>0.375</td>\n      <td>0.333333</td>\n      <td>0.000000</td>\n      <td>0.025871</td>\n      <td>0.220028</td>\n      <td>0.25</td>\n      <td>0.458576</td>\n      <td>0.065814</td>\n      <td>0.0</td>\n      <td>0.0</td>\n      <td>0.00</td>\n      <td>0.0</td>\n      <td>0.454545</td>\n      <td>1.0</td>\n      <td>4.394449</td>\n      <td>9.565704</td>\n      <td>0.163536</td>\n      <td>0.000000</td>\n      <td>0.173801</td>\n      <td>0.0</td>\n      <td>0.217512</td>\n      <td>0.0</td>\n      <td>0.333333</td>\n    </tr>\n    <tr>\n      <th>2</th>\n      <td>0.0</td>\n      <td>0.0</td>\n      <td>1.0</td>\n      <td>0.0</td>\n      <td>0.0</td>\n      <td>1.0</td>\n      <td>0.0</td>\n      <td>0.0</td>\n      <td>1.0</td>\n      <td>0.0</td>\n      <td>1.0</td>\n      <td>0.0</td>\n      <td>0.0</td>\n      <td>0.0</td>\n      <td>1.0</td>\n      <td>0.0</td>\n      <td>0.0</td>\n      <td>0.0</td>\n      <td>0.0</td>\n      <td>1.0</td>\n      <td>0.0</td>\n      <td>0.0</td>\n      <td>0.0</td>\n      <td>0.0</td>\n      <td>0.0</td>\n      <td>0.0</td>\n      <td>0.0</td>\n      <td>0.0</td>\n      <td>1.0</td>\n      <td>0.0</td>\n      <td>0.0</td>\n      <td>0.0</td>\n      <td>0.0</td>\n      <td>0.0</td>\n      <td>0.0</td>\n      <td>0.0</td>\n      <td>0.0</td>\n      <td>0.0</td>\n      <td>0.0</td>\n      <td>0.0</td>\n      <td>0.0</td>\n      <td>0.0</td>\n      <td>0.0</td>\n      <td>0.0</td>\n      <td>1.0</td>\n      <td>0.0</td>\n      <td>0.0</td>\n      <td>1.0</td>\n      <td>0.0</td>\n      <td>0.0</td>\n      <td>0.0</td>\n      <td>0.0</td>\n      <td>0.0</td>\n      <td>0.0</td>\n      <td>0.0</td>\n      <td>0.0</td>\n      <td>1.0</td>\n      <td>0.0</td>\n      <td>0.0</td>\n      <td>0.0</td>\n      <td>0.0</td>\n      <td>0.0</td>\n      <td>0.0</td>\n      <td>0.0</td>\n      <td>0.0</td>\n      <td>0.0</td>\n      <td>0.0</td>\n      <td>1.0</td>\n      <td>0.0</td>\n      <td>0.0</td>\n      <td>0.0</td>\n      <td>0.0</td>\n      <td>0.0</td>\n      <td>1.0</td>\n      <td>0.0</td>\n      <td>0.0</td>\n      <td>0.0</td>\n      <td>0.0</td>\n      <td>1.0</td>\n      <td>0.0</td>\n      <td>0.0</td>\n      <td>1.0</td>\n      <td>0.0</td>\n      <td>0.0</td>\n      <td>0.0</td>\n      <td>1.0</td>\n      <td>0.0</td>\n      <td>0.0</td>\n      <td>1.0</td>\n      <td>0.0</td>\n      <td>1.0</td>\n      <td>0.0</td>\n      <td>0.0</td>\n      <td>0.0</td>\n      <td>0.0</td>\n      <td>0.0</td>\n      <td>0.0</td>\n      <td>0.0</td>\n      <td>1.0</td>\n      <td>0.0</td>\n      <td>0.0</td>\n      <td>0.0</td>\n      <td>1.0</td>\n      <td>0.0</td>\n      <td>0.0</td>\n      <td>1.0</td>\n      <td>0.0</td>\n      <td>0.0</td>\n      <td>0.0</td>\n      <td>0.0</td>\n      <td>0.0</td>\n      <td>1.0</td>\n      <td>1.0</td>\n      <td>0.0</td>\n      <td>0.0</td>\n      <td>0.0</td>\n      <td>0.0</td>\n      <td>1.0</td>\n      <td>0.0</td>\n      <td>0.0</td>\n      <td>0.0</td>\n      <td>1.0</td>\n      <td>0.0</td>\n      <td>1.0</td>\n      <td>0.0</td>\n      <td>0.0</td>\n      <td>0.0</td>\n      <td>0.0</td>\n      <td>0.0</td>\n      <td>0.0</td>\n      <td>1.0</td>\n      <td>0.0</td>\n      <td>0.0</td>\n      <td>0.0</td>\n      <td>0.0</td>\n      <td>0.0</td>\n      <td>0.0</td>\n      <td>1.0</td>\n      <td>0.0</td>\n      <td>0.0</td>\n      <td>0.0</td>\n      <td>0.0</td>\n      <td>0.0</td>\n      <td>0.0</td>\n      <td>0.0</td>\n      <td>0.0</td>\n      <td>1.0</td>\n      <td>0.0</td>\n      <td>0.0</td>\n      <td>0.0</td>\n      <td>0.0</td>\n      <td>0.0</td>\n      <td>0.0</td>\n      <td>1.0</td>\n      <td>0.0</td>\n      <td>0.0</td>\n      <td>0.0</td>\n      <td>1.0</td>\n      <td>0.0</td>\n      <td>0.0</td>\n      <td>0.0</td>\n      <td>1.0</td>\n      <td>0.0</td>\n      <td>0.0</td>\n      <td>0.0</td>\n      <td>0.0</td>\n      <td>0.0</td>\n      <td>1.0</td>\n      <td>0.0</td>\n      <td>0.0</td>\n      <td>0.0</td>\n      <td>0.0</td>\n      <td>1.0</td>\n      <td>0.0</td>\n      <td>0.0</td>\n      <td>1.0</td>\n      <td>0.0</td>\n      <td>0.0</td>\n      <td>0.0</td>\n      <td>0.0</td>\n      <td>0.0</td>\n      <td>0.0</td>\n      <td>1.0</td>\n      <td>0.0</td>\n      <td>0.0</td>\n      <td>0.0</td>\n      <td>0.0</td>\n      <td>0.0</td>\n      <td>0.0</td>\n      <td>0.0</td>\n      <td>1.0</td>\n      <td>1.0</td>\n      <td>0.0</td>\n      <td>0.0</td>\n      <td>0.0</td>\n      <td>0.0</td>\n      <td>0.0</td>\n      <td>1.0</td>\n      <td>0.0</td>\n      <td>0.0</td>\n      <td>0.0</td>\n      <td>1.0</td>\n      <td>0.0</td>\n      <td>1.0</td>\n      <td>0.0</td>\n      <td>0.0</td>\n      <td>0.0</td>\n      <td>1.0</td>\n      <td>0.0</td>\n      <td>0.0</td>\n      <td>0.0</td>\n      <td>0.0</td>\n      <td>0.0</td>\n      <td>0.0</td>\n      <td>0.0</td>\n      <td>1.0</td>\n      <td>0.0</td>\n      <td>0.0</td>\n      <td>0.0</td>\n      <td>0.0</td>\n      <td>1.0</td>\n      <td>0.0</td>\n      <td>0.0</td>\n      <td>1.0</td>\n      <td>0.0000</td>\n      <td>6.833032</td>\n      <td>0.339467</td>\n      <td>0.0</td>\n      <td>7.395722</td>\n      <td>0.666667</td>\n      <td>0.5</td>\n      <td>0.375</td>\n      <td>0.333333</td>\n      <td>0.333333</td>\n      <td>0.006468</td>\n      <td>0.339915</td>\n      <td>0.50</td>\n      <td>0.247375</td>\n      <td>0.062157</td>\n      <td>0.0</td>\n      <td>0.0</td>\n      <td>0.00</td>\n      <td>0.0</td>\n      <td>0.181818</td>\n      <td>1.0</td>\n      <td>4.304065</td>\n      <td>9.534595</td>\n      <td>0.140149</td>\n      <td>0.000000</td>\n      <td>0.058647</td>\n      <td>0.0</td>\n      <td>0.151882</td>\n      <td>0.0</td>\n      <td>0.333333</td>\n    </tr>\n    <tr>\n      <th>3</th>\n      <td>0.0</td>\n      <td>0.0</td>\n      <td>1.0</td>\n      <td>0.0</td>\n      <td>0.0</td>\n      <td>1.0</td>\n      <td>0.0</td>\n      <td>0.0</td>\n      <td>1.0</td>\n      <td>0.0</td>\n      <td>1.0</td>\n      <td>0.0</td>\n      <td>0.0</td>\n      <td>0.0</td>\n      <td>1.0</td>\n      <td>0.0</td>\n      <td>0.0</td>\n      <td>0.0</td>\n      <td>0.0</td>\n      <td>1.0</td>\n      <td>0.0</td>\n      <td>0.0</td>\n      <td>0.0</td>\n      <td>0.0</td>\n      <td>0.0</td>\n      <td>0.0</td>\n      <td>0.0</td>\n      <td>0.0</td>\n      <td>1.0</td>\n      <td>0.0</td>\n      <td>0.0</td>\n      <td>0.0</td>\n      <td>0.0</td>\n      <td>0.0</td>\n      <td>0.0</td>\n      <td>0.0</td>\n      <td>0.0</td>\n      <td>0.0</td>\n      <td>0.0</td>\n      <td>0.0</td>\n      <td>0.0</td>\n      <td>0.0</td>\n      <td>0.0</td>\n      <td>0.0</td>\n      <td>1.0</td>\n      <td>0.0</td>\n      <td>0.0</td>\n      <td>1.0</td>\n      <td>0.0</td>\n      <td>0.0</td>\n      <td>0.0</td>\n      <td>0.0</td>\n      <td>0.0</td>\n      <td>0.0</td>\n      <td>0.0</td>\n      <td>0.0</td>\n      <td>1.0</td>\n      <td>0.0</td>\n      <td>0.0</td>\n      <td>0.0</td>\n      <td>0.0</td>\n      <td>0.0</td>\n      <td>0.0</td>\n      <td>0.0</td>\n      <td>0.0</td>\n      <td>0.0</td>\n      <td>0.0</td>\n      <td>1.0</td>\n      <td>0.0</td>\n      <td>0.0</td>\n      <td>0.0</td>\n      <td>0.0</td>\n      <td>1.0</td>\n      <td>0.0</td>\n      <td>0.0</td>\n      <td>0.0</td>\n      <td>0.0</td>\n      <td>0.0</td>\n      <td>1.0</td>\n      <td>0.0</td>\n      <td>0.0</td>\n      <td>1.0</td>\n      <td>0.0</td>\n      <td>0.0</td>\n      <td>0.0</td>\n      <td>1.0</td>\n      <td>0.0</td>\n      <td>0.0</td>\n      <td>1.0</td>\n      <td>0.0</td>\n      <td>1.0</td>\n      <td>0.0</td>\n      <td>0.0</td>\n      <td>0.0</td>\n      <td>0.0</td>\n      <td>0.0</td>\n      <td>0.0</td>\n      <td>0.0</td>\n      <td>1.0</td>\n      <td>0.0</td>\n      <td>0.0</td>\n      <td>0.0</td>\n      <td>1.0</td>\n      <td>0.0</td>\n      <td>0.0</td>\n      <td>1.0</td>\n      <td>0.0</td>\n      <td>0.0</td>\n      <td>0.0</td>\n      <td>0.0</td>\n      <td>0.0</td>\n      <td>1.0</td>\n      <td>1.0</td>\n      <td>0.0</td>\n      <td>0.0</td>\n      <td>0.0</td>\n      <td>0.0</td>\n      <td>1.0</td>\n      <td>0.0</td>\n      <td>0.0</td>\n      <td>0.0</td>\n      <td>1.0</td>\n      <td>0.0</td>\n      <td>1.0</td>\n      <td>0.0</td>\n      <td>0.0</td>\n      <td>0.0</td>\n      <td>0.0</td>\n      <td>0.0</td>\n      <td>0.0</td>\n      <td>1.0</td>\n      <td>0.0</td>\n      <td>0.0</td>\n      <td>0.0</td>\n      <td>0.0</td>\n      <td>0.0</td>\n      <td>0.0</td>\n      <td>0.0</td>\n      <td>1.0</td>\n      <td>0.0</td>\n      <td>0.0</td>\n      <td>0.0</td>\n      <td>0.0</td>\n      <td>0.0</td>\n      <td>0.0</td>\n      <td>0.0</td>\n      <td>0.0</td>\n      <td>1.0</td>\n      <td>0.0</td>\n      <td>0.0</td>\n      <td>0.0</td>\n      <td>0.0</td>\n      <td>0.0</td>\n      <td>1.0</td>\n      <td>0.0</td>\n      <td>0.0</td>\n      <td>0.0</td>\n      <td>1.0</td>\n      <td>0.0</td>\n      <td>0.0</td>\n      <td>0.0</td>\n      <td>0.0</td>\n      <td>0.0</td>\n      <td>1.0</td>\n      <td>0.0</td>\n      <td>0.0</td>\n      <td>0.0</td>\n      <td>1.0</td>\n      <td>0.0</td>\n      <td>0.0</td>\n      <td>0.0</td>\n      <td>0.0</td>\n      <td>1.0</td>\n      <td>0.0</td>\n      <td>0.0</td>\n      <td>1.0</td>\n      <td>0.0</td>\n      <td>0.0</td>\n      <td>0.0</td>\n      <td>0.0</td>\n      <td>1.0</td>\n      <td>0.0</td>\n      <td>0.0</td>\n      <td>0.0</td>\n      <td>0.0</td>\n      <td>0.0</td>\n      <td>0.0</td>\n      <td>1.0</td>\n      <td>0.0</td>\n      <td>0.0</td>\n      <td>0.0</td>\n      <td>1.0</td>\n      <td>0.0</td>\n      <td>0.0</td>\n      <td>0.0</td>\n      <td>0.0</td>\n      <td>0.0</td>\n      <td>1.0</td>\n      <td>0.0</td>\n      <td>0.0</td>\n      <td>0.0</td>\n      <td>1.0</td>\n      <td>0.0</td>\n      <td>1.0</td>\n      <td>0.0</td>\n      <td>0.0</td>\n      <td>0.0</td>\n      <td>0.0</td>\n      <td>1.0</td>\n      <td>0.0</td>\n      <td>0.0</td>\n      <td>0.0</td>\n      <td>0.0</td>\n      <td>0.0</td>\n      <td>0.0</td>\n      <td>1.0</td>\n      <td>0.0</td>\n      <td>0.0</td>\n      <td>0.0</td>\n      <td>1.0</td>\n      <td>0.0</td>\n      <td>0.0</td>\n      <td>0.0</td>\n      <td>1.0</td>\n      <td>0.0125</td>\n      <td>6.830874</td>\n      <td>0.328329</td>\n      <td>0.0</td>\n      <td>7.380256</td>\n      <td>0.666667</td>\n      <td>0.5</td>\n      <td>0.375</td>\n      <td>0.333333</td>\n      <td>0.333333</td>\n      <td>0.005970</td>\n      <td>0.331453</td>\n      <td>0.50</td>\n      <td>0.420070</td>\n      <td>0.065814</td>\n      <td>0.0</td>\n      <td>0.0</td>\n      <td>0.00</td>\n      <td>0.0</td>\n      <td>0.454545</td>\n      <td>1.0</td>\n      <td>4.356709</td>\n      <td>9.208138</td>\n      <td>0.106662</td>\n      <td>0.000000</td>\n      <td>0.138699</td>\n      <td>0.0</td>\n      <td>0.151555</td>\n      <td>0.0</td>\n      <td>0.416667</td>\n    </tr>\n    <tr>\n      <th>4</th>\n      <td>0.0</td>\n      <td>0.0</td>\n      <td>1.0</td>\n      <td>0.0</td>\n      <td>0.0</td>\n      <td>1.0</td>\n      <td>0.0</td>\n      <td>0.0</td>\n      <td>1.0</td>\n      <td>0.0</td>\n      <td>1.0</td>\n      <td>0.0</td>\n      <td>0.0</td>\n      <td>0.0</td>\n      <td>1.0</td>\n      <td>0.0</td>\n      <td>0.0</td>\n      <td>0.0</td>\n      <td>0.0</td>\n      <td>1.0</td>\n      <td>0.0</td>\n      <td>0.0</td>\n      <td>0.0</td>\n      <td>0.0</td>\n      <td>0.0</td>\n      <td>0.0</td>\n      <td>0.0</td>\n      <td>0.0</td>\n      <td>0.0</td>\n      <td>0.0</td>\n      <td>0.0</td>\n      <td>0.0</td>\n      <td>0.0</td>\n      <td>0.0</td>\n      <td>0.0</td>\n      <td>0.0</td>\n      <td>0.0</td>\n      <td>0.0</td>\n      <td>0.0</td>\n      <td>0.0</td>\n      <td>0.0</td>\n      <td>1.0</td>\n      <td>0.0</td>\n      <td>0.0</td>\n      <td>1.0</td>\n      <td>0.0</td>\n      <td>0.0</td>\n      <td>1.0</td>\n      <td>0.0</td>\n      <td>0.0</td>\n      <td>0.0</td>\n      <td>0.0</td>\n      <td>1.0</td>\n      <td>0.0</td>\n      <td>0.0</td>\n      <td>0.0</td>\n      <td>0.0</td>\n      <td>0.0</td>\n      <td>0.0</td>\n      <td>0.0</td>\n      <td>0.0</td>\n      <td>0.0</td>\n      <td>0.0</td>\n      <td>1.0</td>\n      <td>0.0</td>\n      <td>0.0</td>\n      <td>0.0</td>\n      <td>0.0</td>\n      <td>0.0</td>\n      <td>0.0</td>\n      <td>0.0</td>\n      <td>0.0</td>\n      <td>0.0</td>\n      <td>1.0</td>\n      <td>0.0</td>\n      <td>0.0</td>\n      <td>0.0</td>\n      <td>0.0</td>\n      <td>1.0</td>\n      <td>0.0</td>\n      <td>0.0</td>\n      <td>1.0</td>\n      <td>0.0</td>\n      <td>0.0</td>\n      <td>0.0</td>\n      <td>1.0</td>\n      <td>0.0</td>\n      <td>0.0</td>\n      <td>1.0</td>\n      <td>0.0</td>\n      <td>1.0</td>\n      <td>0.0</td>\n      <td>0.0</td>\n      <td>0.0</td>\n      <td>0.0</td>\n      <td>0.0</td>\n      <td>0.0</td>\n      <td>0.0</td>\n      <td>1.0</td>\n      <td>0.0</td>\n      <td>0.0</td>\n      <td>0.0</td>\n      <td>1.0</td>\n      <td>0.0</td>\n      <td>0.0</td>\n      <td>1.0</td>\n      <td>0.0</td>\n      <td>0.0</td>\n      <td>0.0</td>\n      <td>1.0</td>\n      <td>0.0</td>\n      <td>0.0</td>\n      <td>1.0</td>\n      <td>0.0</td>\n      <td>0.0</td>\n      <td>0.0</td>\n      <td>0.0</td>\n      <td>1.0</td>\n      <td>0.0</td>\n      <td>0.0</td>\n      <td>0.0</td>\n      <td>1.0</td>\n      <td>0.0</td>\n      <td>0.0</td>\n      <td>0.0</td>\n      <td>0.0</td>\n      <td>0.0</td>\n      <td>1.0</td>\n      <td>0.0</td>\n      <td>1.0</td>\n      <td>0.0</td>\n      <td>0.0</td>\n      <td>0.0</td>\n      <td>0.0</td>\n      <td>0.0</td>\n      <td>0.0</td>\n      <td>0.0</td>\n      <td>0.0</td>\n      <td>0.0</td>\n      <td>0.0</td>\n      <td>1.0</td>\n      <td>0.0</td>\n      <td>0.0</td>\n      <td>0.0</td>\n      <td>0.0</td>\n      <td>0.0</td>\n      <td>1.0</td>\n      <td>0.0</td>\n      <td>0.0</td>\n      <td>0.0</td>\n      <td>0.0</td>\n      <td>0.0</td>\n      <td>1.0</td>\n      <td>0.0</td>\n      <td>0.0</td>\n      <td>0.0</td>\n      <td>0.0</td>\n      <td>1.0</td>\n      <td>0.0</td>\n      <td>0.0</td>\n      <td>0.0</td>\n      <td>1.0</td>\n      <td>0.0</td>\n      <td>0.0</td>\n      <td>0.0</td>\n      <td>0.0</td>\n      <td>0.0</td>\n      <td>1.0</td>\n      <td>0.0</td>\n      <td>0.0</td>\n      <td>0.0</td>\n      <td>0.0</td>\n      <td>1.0</td>\n      <td>1.0</td>\n      <td>0.0</td>\n      <td>0.0</td>\n      <td>0.0</td>\n      <td>0.0</td>\n      <td>0.0</td>\n      <td>0.0</td>\n      <td>1.0</td>\n      <td>0.0</td>\n      <td>0.0</td>\n      <td>0.0</td>\n      <td>0.0</td>\n      <td>0.0</td>\n      <td>0.0</td>\n      <td>0.0</td>\n      <td>1.0</td>\n      <td>0.0</td>\n      <td>0.0</td>\n      <td>0.0</td>\n      <td>0.0</td>\n      <td>1.0</td>\n      <td>0.0</td>\n      <td>0.0</td>\n      <td>0.0</td>\n      <td>1.0</td>\n      <td>0.0</td>\n      <td>0.0</td>\n      <td>0.0</td>\n      <td>1.0</td>\n      <td>0.0</td>\n      <td>1.0</td>\n      <td>0.0</td>\n      <td>0.0</td>\n      <td>0.0</td>\n      <td>0.0</td>\n      <td>1.0</td>\n      <td>0.0</td>\n      <td>0.0</td>\n      <td>0.0</td>\n      <td>0.0</td>\n      <td>0.0</td>\n      <td>0.0</td>\n      <td>1.0</td>\n      <td>0.0</td>\n      <td>0.0</td>\n      <td>0.0</td>\n      <td>1.0</td>\n      <td>0.0</td>\n      <td>0.0</td>\n      <td>0.0</td>\n      <td>1.0</td>\n      <td>0.0000</td>\n      <td>7.154615</td>\n      <td>0.000000</td>\n      <td>0.0</td>\n      <td>7.154615</td>\n      <td>0.666667</td>\n      <td>0.0</td>\n      <td>0.250</td>\n      <td>0.333333</td>\n      <td>0.000000</td>\n      <td>0.008955</td>\n      <td>0.356841</td>\n      <td>0.50</td>\n      <td>0.000000</td>\n      <td>0.149909</td>\n      <td>0.0</td>\n      <td>0.0</td>\n      <td>0.30</td>\n      <td>0.0</td>\n      <td>0.000000</td>\n      <td>1.0</td>\n      <td>3.761200</td>\n      <td>8.518193</td>\n      <td>0.046598</td>\n      <td>0.000000</td>\n      <td>0.435360</td>\n      <td>0.0</td>\n      <td>0.209493</td>\n      <td>0.0</td>\n      <td>0.250000</td>\n    </tr>\n  </tbody>\n</table>\n</div>"
     },
     "metadata": {},
     "execution_count": 121
    }
   ],
   "source": [
    "test.head()"
   ]
  },
  {
   "cell_type": "code",
   "execution_count": 122,
   "metadata": {},
   "outputs": [],
   "source": [
    "# data.dropna(axis= 0, inplace=True)\n",
    "# data.fillna(0, inplace=True)\n",
    "target = data['SalePrice']\n",
    "data.drop('SalePrice',inplace=True, axis=1)\n",
    "# data.drop('LotFrontage', inplace=True, axis=1)\n",
    "# data.replace(np.inf, 0, inplace=True)"
   ]
  },
  {
   "cell_type": "code",
   "execution_count": 123,
   "metadata": {},
   "outputs": [],
   "source": [
    "target = np.log(target)"
   ]
  },
  {
   "cell_type": "code",
   "execution_count": 124,
   "metadata": {},
   "outputs": [
    {
     "output_type": "execute_result",
     "data": {
      "text/plain": [
       "   x0_FV  x0_RH  x0_RL  x0_RM  x0_rare  x1_Pave  x1_rare  x2_Grvl  x2_No  \\\n",
       "0    0.0    0.0    1.0    0.0      0.0      1.0      0.0      0.0    1.0   \n",
       "1    0.0    0.0    1.0    0.0      0.0      1.0      0.0      0.0    1.0   \n",
       "2    0.0    0.0    1.0    0.0      0.0      1.0      0.0      0.0    1.0   \n",
       "3    0.0    0.0    1.0    0.0      0.0      1.0      0.0      0.0    1.0   \n",
       "4    0.0    0.0    1.0    0.0      0.0      1.0      0.0      0.0    1.0   \n",
       "\n",
       "   x2_Pave  x3_IR1  x3_IR2  x3_Reg  x3_rare  x4_AllPub  x4_rare  x5_Corner  \\\n",
       "0      0.0     0.0     0.0     1.0      0.0        1.0      0.0        0.0   \n",
       "1      0.0     0.0     0.0     1.0      0.0        1.0      0.0        0.0   \n",
       "2      0.0     1.0     0.0     0.0      0.0        1.0      0.0        0.0   \n",
       "3      0.0     1.0     0.0     0.0      0.0        1.0      0.0        1.0   \n",
       "4      0.0     1.0     0.0     0.0      0.0        1.0      0.0        0.0   \n",
       "\n",
       "   x5_CulDSac  x5_FR2  x5_Inside  x5_rare  x6_Blmngtn  x6_BrDale  x6_BrkSide  \\\n",
       "0         0.0     0.0        1.0      0.0         0.0        0.0         0.0   \n",
       "1         0.0     1.0        0.0      0.0         0.0        0.0         0.0   \n",
       "2         0.0     0.0        1.0      0.0         0.0        0.0         0.0   \n",
       "3         0.0     0.0        0.0      0.0         0.0        0.0         0.0   \n",
       "4         0.0     1.0        0.0      0.0         0.0        0.0         0.0   \n",
       "\n",
       "   x6_ClearCr  x6_CollgCr  x6_Crawfor  x6_Edwards  x6_Gilbert  x6_IDOTRR  \\\n",
       "0         0.0         1.0         0.0         0.0         0.0        0.0   \n",
       "1         0.0         0.0         0.0         0.0         0.0        0.0   \n",
       "2         0.0         1.0         0.0         0.0         0.0        0.0   \n",
       "3         0.0         0.0         1.0         0.0         0.0        0.0   \n",
       "4         0.0         0.0         0.0         0.0         0.0        0.0   \n",
       "\n",
       "   x6_MeadowV  x6_Mitchel  x6_NAmes  x6_NWAmes  x6_NoRidge  x6_NridgHt  \\\n",
       "0         0.0         0.0       0.0        0.0         0.0         0.0   \n",
       "1         0.0         0.0       0.0        0.0         0.0         0.0   \n",
       "2         0.0         0.0       0.0        0.0         0.0         0.0   \n",
       "3         0.0         0.0       0.0        0.0         0.0         0.0   \n",
       "4         0.0         0.0       0.0        0.0         1.0         0.0   \n",
       "\n",
       "   x6_OldTown  x6_SWISU  x6_Sawyer  x6_SawyerW  x6_Somerst  x6_StoneBr  \\\n",
       "0         0.0       0.0        0.0         0.0         0.0         0.0   \n",
       "1         0.0       0.0        0.0         0.0         0.0         0.0   \n",
       "2         0.0       0.0        0.0         0.0         0.0         0.0   \n",
       "3         0.0       0.0        0.0         0.0         0.0         0.0   \n",
       "4         0.0       0.0        0.0         0.0         0.0         0.0   \n",
       "\n",
       "   x6_Timber  x6_rare  x7_Gable  x7_Hip  x7_rare  x8_CompShg  x8_rare  \\\n",
       "0        0.0      0.0       1.0     0.0      0.0         1.0      0.0   \n",
       "1        0.0      1.0       1.0     0.0      0.0         1.0      0.0   \n",
       "2        0.0      0.0       1.0     0.0      0.0         1.0      0.0   \n",
       "3        0.0      0.0       1.0     0.0      0.0         1.0      0.0   \n",
       "4        0.0      0.0       1.0     0.0      0.0         1.0      0.0   \n",
       "\n",
       "   x9_AsbShng  x9_BrkFace  x9_CemntBd  x9_HdBoard  x9_MetalSd  x9_Plywood  \\\n",
       "0         0.0         0.0         0.0         0.0         0.0         0.0   \n",
       "1         0.0         0.0         0.0         0.0         1.0         0.0   \n",
       "2         0.0         0.0         0.0         0.0         0.0         0.0   \n",
       "3         0.0         0.0         0.0         0.0         0.0         0.0   \n",
       "4         0.0         0.0         0.0         0.0         0.0         0.0   \n",
       "\n",
       "   x9_Stucco  x9_VinylSd  x9_Wd Sdng  x9_WdShing  x9_rare  x10_AsbShng  \\\n",
       "0        0.0         1.0         0.0         0.0      0.0          0.0   \n",
       "1        0.0         0.0         0.0         0.0      0.0          0.0   \n",
       "2        0.0         1.0         0.0         0.0      0.0          0.0   \n",
       "3        0.0         0.0         1.0         0.0      0.0          0.0   \n",
       "4        0.0         1.0         0.0         0.0      0.0          0.0   \n",
       "\n",
       "   x10_BrkFace  x10_CmentBd  x10_HdBoard  x10_MetalSd  x10_Plywood  \\\n",
       "0          0.0          0.0          0.0          0.0          0.0   \n",
       "1          0.0          0.0          0.0          1.0          0.0   \n",
       "2          0.0          0.0          0.0          0.0          0.0   \n",
       "3          0.0          0.0          0.0          0.0          0.0   \n",
       "4          0.0          0.0          0.0          0.0          0.0   \n",
       "\n",
       "   x10_Stucco  x10_VinylSd  x10_Wd Sdng  x10_Wd Shng  x10_rare  x11_BrkCmn  \\\n",
       "0         0.0          1.0          0.0          0.0       0.0         0.0   \n",
       "1         0.0          0.0          0.0          0.0       0.0         0.0   \n",
       "2         0.0          1.0          0.0          0.0       0.0         0.0   \n",
       "3         0.0          0.0          0.0          1.0       0.0         0.0   \n",
       "4         0.0          1.0          0.0          0.0       0.0         0.0   \n",
       "\n",
       "   x11_BrkFace  x11_None  x11_Stone  x11_rare  x12_BrkTil  x12_CBlock  \\\n",
       "0          1.0       0.0        0.0       0.0         0.0         0.0   \n",
       "1          0.0       1.0        0.0       0.0         0.0         1.0   \n",
       "2          1.0       0.0        0.0       0.0         0.0         0.0   \n",
       "3          0.0       1.0        0.0       0.0         1.0         0.0   \n",
       "4          1.0       0.0        0.0       0.0         0.0         0.0   \n",
       "\n",
       "   x12_PConc  x12_Slab  x12_rare  x13_GasA  x13_GasW  x13_rare  x14_N  x14_Y  \\\n",
       "0        1.0       0.0       0.0       1.0       0.0       0.0    0.0    1.0   \n",
       "1        0.0       0.0       0.0       1.0       0.0       0.0    0.0    1.0   \n",
       "2        1.0       0.0       0.0       1.0       0.0       0.0    0.0    1.0   \n",
       "3        0.0       0.0       0.0       1.0       0.0       0.0    0.0    1.0   \n",
       "4        1.0       0.0       0.0       1.0       0.0       0.0    0.0    1.0   \n",
       "\n",
       "   x15_FuseA  x15_FuseF  x15_SBrkr  x15_rare  x16_Attchd  x16_Basment  \\\n",
       "0        0.0        0.0        1.0       0.0         1.0          0.0   \n",
       "1        0.0        0.0        1.0       0.0         1.0          0.0   \n",
       "2        0.0        0.0        1.0       0.0         1.0          0.0   \n",
       "3        0.0        0.0        1.0       0.0         0.0          0.0   \n",
       "4        0.0        0.0        1.0       0.0         1.0          0.0   \n",
       "\n",
       "   x16_BuiltIn  x16_Detchd  x16_No  x16_rare  x17_COD  x17_New  x17_WD  \\\n",
       "0          0.0         0.0     0.0       0.0      0.0      0.0     1.0   \n",
       "1          0.0         0.0     0.0       0.0      0.0      0.0     1.0   \n",
       "2          0.0         0.0     0.0       0.0      0.0      0.0     1.0   \n",
       "3          0.0         1.0     0.0       0.0      0.0      0.0     1.0   \n",
       "4          0.0         0.0     0.0       0.0      0.0      0.0     1.0   \n",
       "\n",
       "   x17_rare  x18_Abnorml  x18_Family  x18_Normal  x18_Partial  x18_rare  \\\n",
       "0       0.0          0.0         0.0         1.0          0.0       0.0   \n",
       "1       0.0          0.0         0.0         1.0          0.0       0.0   \n",
       "2       0.0          0.0         0.0         1.0          0.0       0.0   \n",
       "3       0.0          1.0         0.0         0.0          0.0       0.0   \n",
       "4       0.0          0.0         0.0         1.0          0.0       0.0   \n",
       "\n",
       "   x19_No  x19_Shed  x19_rare  x20_Bnk  x20_HLS  x20_Low  x20_Lvl  x21_Gtl  \\\n",
       "0     1.0       0.0       0.0      0.0      0.0      0.0      1.0      1.0   \n",
       "1     1.0       0.0       0.0      0.0      0.0      0.0      1.0      1.0   \n",
       "2     1.0       0.0       0.0      0.0      0.0      0.0      1.0      1.0   \n",
       "3     1.0       0.0       0.0      0.0      0.0      0.0      1.0      1.0   \n",
       "4     1.0       0.0       0.0      0.0      0.0      0.0      1.0      1.0   \n",
       "\n",
       "   x21_Mod  x21_rare  x22_Artery  x22_Feedr  x22_Norm  x22_PosN  x22_RRAn  \\\n",
       "0      0.0       0.0         0.0        0.0       1.0       0.0       0.0   \n",
       "1      0.0       0.0         0.0        1.0       0.0       0.0       0.0   \n",
       "2      0.0       0.0         0.0        0.0       1.0       0.0       0.0   \n",
       "3      0.0       0.0         0.0        0.0       1.0       0.0       0.0   \n",
       "4      0.0       0.0         0.0        0.0       1.0       0.0       0.0   \n",
       "\n",
       "   x22_rare  x23_Norm  x23_rare  x24_1Fam  x24_2fmCon  x24_Duplex  x24_Twnhs  \\\n",
       "0       0.0       1.0       0.0       1.0         0.0         0.0        0.0   \n",
       "1       0.0       1.0       0.0       1.0         0.0         0.0        0.0   \n",
       "2       0.0       1.0       0.0       1.0         0.0         0.0        0.0   \n",
       "3       0.0       1.0       0.0       1.0         0.0         0.0        0.0   \n",
       "4       0.0       1.0       0.0       1.0         0.0         0.0        0.0   \n",
       "\n",
       "   x24_TwnhsE  x25_1.5Fin  x25_1Story  x25_2Story  x25_SFoyer  x25_SLvl  \\\n",
       "0         0.0         0.0         0.0         1.0         0.0       0.0   \n",
       "1         0.0         0.0         1.0         0.0         0.0       0.0   \n",
       "2         0.0         0.0         0.0         1.0         0.0       0.0   \n",
       "3         0.0         0.0         0.0         1.0         0.0       0.0   \n",
       "4         0.0         0.0         0.0         1.0         0.0       0.0   \n",
       "\n",
       "   x25_rare  x26_0  x26_3  x26_4  x26_5  x26_6  x26_7  x26_8  x26_9  x26_10  \\\n",
       "0       0.0    0.0    0.0    0.0    0.0    0.0    1.0    0.0    0.0     0.0   \n",
       "1       0.0    0.0    0.0    0.0    0.0    1.0    0.0    0.0    0.0     0.0   \n",
       "2       0.0    0.0    0.0    0.0    0.0    0.0    1.0    0.0    0.0     0.0   \n",
       "3       0.0    0.0    0.0    0.0    0.0    0.0    1.0    0.0    0.0     0.0   \n",
       "4       0.0    0.0    0.0    0.0    0.0    0.0    0.0    1.0    0.0     0.0   \n",
       "\n",
       "   x27_0  x27_3  x27_4  x27_5  x27_6  x27_7  x27_8  x27_9  x28_Ex  x28_Gd  \\\n",
       "0    0.0    0.0    0.0    1.0    0.0    0.0    0.0    0.0     0.0     1.0   \n",
       "1    0.0    0.0    0.0    0.0    0.0    0.0    1.0    0.0     0.0     0.0   \n",
       "2    0.0    0.0    0.0    1.0    0.0    0.0    0.0    0.0     0.0     1.0   \n",
       "3    0.0    0.0    0.0    1.0    0.0    0.0    0.0    0.0     0.0     0.0   \n",
       "4    0.0    0.0    0.0    1.0    0.0    0.0    0.0    0.0     0.0     1.0   \n",
       "\n",
       "   x28_TA  x28_rare  x29_Fa  x29_Gd  x29_TA  x29_rare  x30_Ex  x30_Fa  x30_Gd  \\\n",
       "0     0.0       0.0     0.0     0.0     1.0       0.0     0.0     0.0     1.0   \n",
       "1     1.0       0.0     0.0     0.0     1.0       0.0     0.0     0.0     1.0   \n",
       "2     0.0       0.0     0.0     0.0     1.0       0.0     0.0     0.0     1.0   \n",
       "3     1.0       0.0     0.0     0.0     1.0       0.0     0.0     0.0     0.0   \n",
       "4     0.0       0.0     0.0     0.0     1.0       0.0     0.0     0.0     1.0   \n",
       "\n",
       "   x30_No  x30_TA  x31_Fa  x31_Gd  x31_No  x31_TA  x31_rare  x32_Av  x32_Gd  \\\n",
       "0     0.0     0.0     0.0     0.0     0.0     1.0       0.0     0.0     0.0   \n",
       "1     0.0     0.0     0.0     0.0     0.0     1.0       0.0     0.0     1.0   \n",
       "2     0.0     0.0     0.0     0.0     0.0     1.0       0.0     0.0     0.0   \n",
       "3     0.0     1.0     0.0     1.0     0.0     0.0       0.0     0.0     0.0   \n",
       "4     0.0     0.0     0.0     0.0     0.0     1.0       0.0     1.0     0.0   \n",
       "\n",
       "   x32_Mn  x32_No  x33_ALQ  x33_BLQ  x33_GLQ  x33_LwQ  x33_No  x33_Rec  \\\n",
       "0     0.0     1.0      0.0      0.0      1.0      0.0     0.0      0.0   \n",
       "1     0.0     0.0      1.0      0.0      0.0      0.0     0.0      0.0   \n",
       "2     1.0     0.0      0.0      0.0      1.0      0.0     0.0      0.0   \n",
       "3     0.0     1.0      1.0      0.0      0.0      0.0     0.0      0.0   \n",
       "4     0.0     0.0      0.0      0.0      1.0      0.0     0.0      0.0   \n",
       "\n",
       "   x33_Unf  x34_Ex  x34_Fa  x34_Gd  x34_TA  x34_rare  x35_Ex  x35_Fa  x35_Gd  \\\n",
       "0      0.0     1.0     0.0     0.0     0.0       0.0     0.0     0.0     0.0   \n",
       "1      0.0     1.0     0.0     0.0     0.0       0.0     0.0     0.0     0.0   \n",
       "2      0.0     1.0     0.0     0.0     0.0       0.0     0.0     0.0     0.0   \n",
       "3      0.0     0.0     0.0     1.0     0.0       0.0     0.0     0.0     1.0   \n",
       "4      0.0     1.0     0.0     0.0     0.0       0.0     0.0     0.0     0.0   \n",
       "\n",
       "   x35_No  x35_Po  x35_TA  x36_Fin  x36_No  x36_RFn  x36_Unf  x37_Fa  x37_No  \\\n",
       "0     1.0     0.0     0.0      0.0     0.0      1.0      0.0     0.0     0.0   \n",
       "1     0.0     0.0     1.0      0.0     0.0      1.0      0.0     0.0     0.0   \n",
       "2     0.0     0.0     1.0      0.0     0.0      1.0      0.0     0.0     0.0   \n",
       "3     0.0     0.0     0.0      0.0     0.0      0.0      1.0     0.0     0.0   \n",
       "4     0.0     0.0     1.0      0.0     0.0      1.0      0.0     0.0     0.0   \n",
       "\n",
       "   x37_TA  x37_rare  x38_Fa  x38_No  x38_TA  x38_rare  x39_No  x39_rare  \\\n",
       "0     1.0       0.0     0.0     0.0     1.0       0.0     1.0       0.0   \n",
       "1     1.0       0.0     0.0     0.0     1.0       0.0     1.0       0.0   \n",
       "2     1.0       0.0     0.0     0.0     1.0       0.0     1.0       0.0   \n",
       "3     1.0       0.0     0.0     0.0     1.0       0.0     1.0       0.0   \n",
       "4     1.0       0.0     0.0     0.0     1.0       0.0     1.0       0.0   \n",
       "\n",
       "   x40_GdPrv  x40_GdWo  x40_MnPrv  x40_No  x40_rare  x41_ALQ  x41_BLQ  \\\n",
       "0        0.0       0.0        0.0     1.0       0.0      0.0      0.0   \n",
       "1        0.0       0.0        0.0     1.0       0.0      0.0      0.0   \n",
       "2        0.0       0.0        0.0     1.0       0.0      0.0      0.0   \n",
       "3        0.0       0.0        0.0     1.0       0.0      0.0      0.0   \n",
       "4        0.0       0.0        0.0     1.0       0.0      0.0      0.0   \n",
       "\n",
       "   x41_LwQ  x41_No  x41_Rec  x41_Unf  x41_rare  x42_Ex  x42_Fa  x42_Gd  \\\n",
       "0      0.0     0.0      0.0      1.0       0.0     0.0     0.0     1.0   \n",
       "1      0.0     0.0      0.0      1.0       0.0     0.0     0.0     0.0   \n",
       "2      0.0     0.0      0.0      1.0       0.0     0.0     0.0     1.0   \n",
       "3      0.0     0.0      0.0      1.0       0.0     0.0     0.0     1.0   \n",
       "4      0.0     0.0      0.0      1.0       0.0     0.0     0.0     1.0   \n",
       "\n",
       "   x42_TA  x43_N  x43_P  x43_Y  MasVnrArea  1stFlrSF  2ndFlrSF  LowQualFinSF  \\\n",
       "0     0.0    0.0    0.0    1.0     0.12250  6.752270  0.413559           0.0   \n",
       "1     1.0    0.0    0.0    1.0     0.00000  7.140453  0.000000           0.0   \n",
       "2     0.0    0.0    0.0    1.0     0.10125  6.824374  0.419370           0.0   \n",
       "3     0.0    0.0    0.0    1.0     0.00000  6.867974  0.366102           0.0   \n",
       "4     0.0    0.0    0.0    1.0     0.21875  7.043160  0.509927           0.0   \n",
       "\n",
       "   GrLivArea  FullBath  HalfBath  BedroomAbvGr  KitchenAbvGr  Fireplaces  \\\n",
       "0   7.444249  0.666667       0.5         0.375      0.333333    0.000000   \n",
       "1   7.140453  0.666667       0.0         0.375      0.333333    0.333333   \n",
       "2   7.487734  0.666667       0.5         0.375      0.333333    0.333333   \n",
       "3   7.448334  0.333333       0.0         0.375      0.333333    0.333333   \n",
       "4   7.695303  0.666667       0.5         0.500      0.333333    0.333333   \n",
       "\n",
       "   GarageYrBlt  GarageArea  GarageCars  WoodDeckSF  OpenPorchSF  \\\n",
       "0     0.002488    0.386460        0.50    0.000000     0.111517   \n",
       "1     0.015423    0.324401        0.50    0.347725     0.000000   \n",
       "2     0.003483    0.428773        0.50    0.000000     0.076782   \n",
       "3     0.003980    0.452750        0.75    0.000000     0.063985   \n",
       "4     0.003980    0.589563        0.75    0.224037     0.153565   \n",
       "\n",
       "   EnclosedPorch  3SsnPorch  ScreenPorch  PoolArea    MoSold  YrSold  \\\n",
       "0       0.000000        0.0          0.0       0.0  0.090909    0.50   \n",
       "1       0.000000        0.0          0.0       0.0  0.363636    0.25   \n",
       "2       0.000000        0.0          0.0       0.0  0.727273    0.50   \n",
       "3       0.492754        0.0          0.0       0.0  0.090909    0.00   \n",
       "4       0.000000        0.0          0.0       0.0  1.000000    0.50   \n",
       "\n",
       "   LotFrontage   LotArea  BsmtFinSF1  BsmtFinSF2  BsmtUnfSF  BsmtFullBath  \\\n",
       "0     4.174387  9.041922    0.125089         0.0   0.064212      0.333333   \n",
       "1     4.382027  9.169518    0.173281         0.0   0.121575      0.000000   \n",
       "2     4.219508  9.328123    0.086109         0.0   0.185788      0.333333   \n",
       "3     4.094345  9.164296    0.038271         0.0   0.231164      0.333333   \n",
       "4     4.430817  9.565214    0.116052         0.0   0.209760      0.333333   \n",
       "\n",
       "   TotalBsmtSF  BsmtHalfBath  TotRmsAbvGrd  \n",
       "0     0.140098           0.0      0.500000  \n",
       "1     0.206547           0.5      0.333333  \n",
       "2     0.150573           0.0      0.333333  \n",
       "3     0.123732           0.0      0.416667  \n",
       "4     0.187398           0.0      0.583333  "
      ],
      "text/html": "<div>\n<style scoped>\n    .dataframe tbody tr th:only-of-type {\n        vertical-align: middle;\n    }\n\n    .dataframe tbody tr th {\n        vertical-align: top;\n    }\n\n    .dataframe thead th {\n        text-align: right;\n    }\n</style>\n<table border=\"1\" class=\"dataframe\">\n  <thead>\n    <tr style=\"text-align: right;\">\n      <th></th>\n      <th>x0_FV</th>\n      <th>x0_RH</th>\n      <th>x0_RL</th>\n      <th>x0_RM</th>\n      <th>x0_rare</th>\n      <th>x1_Pave</th>\n      <th>x1_rare</th>\n      <th>x2_Grvl</th>\n      <th>x2_No</th>\n      <th>x2_Pave</th>\n      <th>x3_IR1</th>\n      <th>x3_IR2</th>\n      <th>x3_Reg</th>\n      <th>x3_rare</th>\n      <th>x4_AllPub</th>\n      <th>x4_rare</th>\n      <th>x5_Corner</th>\n      <th>x5_CulDSac</th>\n      <th>x5_FR2</th>\n      <th>x5_Inside</th>\n      <th>x5_rare</th>\n      <th>x6_Blmngtn</th>\n      <th>x6_BrDale</th>\n      <th>x6_BrkSide</th>\n      <th>x6_ClearCr</th>\n      <th>x6_CollgCr</th>\n      <th>x6_Crawfor</th>\n      <th>x6_Edwards</th>\n      <th>x6_Gilbert</th>\n      <th>x6_IDOTRR</th>\n      <th>x6_MeadowV</th>\n      <th>x6_Mitchel</th>\n      <th>x6_NAmes</th>\n      <th>x6_NWAmes</th>\n      <th>x6_NoRidge</th>\n      <th>x6_NridgHt</th>\n      <th>x6_OldTown</th>\n      <th>x6_SWISU</th>\n      <th>x6_Sawyer</th>\n      <th>x6_SawyerW</th>\n      <th>x6_Somerst</th>\n      <th>x6_StoneBr</th>\n      <th>x6_Timber</th>\n      <th>x6_rare</th>\n      <th>x7_Gable</th>\n      <th>x7_Hip</th>\n      <th>x7_rare</th>\n      <th>x8_CompShg</th>\n      <th>x8_rare</th>\n      <th>x9_AsbShng</th>\n      <th>x9_BrkFace</th>\n      <th>x9_CemntBd</th>\n      <th>x9_HdBoard</th>\n      <th>x9_MetalSd</th>\n      <th>x9_Plywood</th>\n      <th>x9_Stucco</th>\n      <th>x9_VinylSd</th>\n      <th>x9_Wd Sdng</th>\n      <th>x9_WdShing</th>\n      <th>x9_rare</th>\n      <th>x10_AsbShng</th>\n      <th>x10_BrkFace</th>\n      <th>x10_CmentBd</th>\n      <th>x10_HdBoard</th>\n      <th>x10_MetalSd</th>\n      <th>x10_Plywood</th>\n      <th>x10_Stucco</th>\n      <th>x10_VinylSd</th>\n      <th>x10_Wd Sdng</th>\n      <th>x10_Wd Shng</th>\n      <th>x10_rare</th>\n      <th>x11_BrkCmn</th>\n      <th>x11_BrkFace</th>\n      <th>x11_None</th>\n      <th>x11_Stone</th>\n      <th>x11_rare</th>\n      <th>x12_BrkTil</th>\n      <th>x12_CBlock</th>\n      <th>x12_PConc</th>\n      <th>x12_Slab</th>\n      <th>x12_rare</th>\n      <th>x13_GasA</th>\n      <th>x13_GasW</th>\n      <th>x13_rare</th>\n      <th>x14_N</th>\n      <th>x14_Y</th>\n      <th>x15_FuseA</th>\n      <th>x15_FuseF</th>\n      <th>x15_SBrkr</th>\n      <th>x15_rare</th>\n      <th>x16_Attchd</th>\n      <th>x16_Basment</th>\n      <th>x16_BuiltIn</th>\n      <th>x16_Detchd</th>\n      <th>x16_No</th>\n      <th>x16_rare</th>\n      <th>x17_COD</th>\n      <th>x17_New</th>\n      <th>x17_WD</th>\n      <th>x17_rare</th>\n      <th>x18_Abnorml</th>\n      <th>x18_Family</th>\n      <th>x18_Normal</th>\n      <th>x18_Partial</th>\n      <th>x18_rare</th>\n      <th>x19_No</th>\n      <th>x19_Shed</th>\n      <th>x19_rare</th>\n      <th>x20_Bnk</th>\n      <th>x20_HLS</th>\n      <th>x20_Low</th>\n      <th>x20_Lvl</th>\n      <th>x21_Gtl</th>\n      <th>x21_Mod</th>\n      <th>x21_rare</th>\n      <th>x22_Artery</th>\n      <th>x22_Feedr</th>\n      <th>x22_Norm</th>\n      <th>x22_PosN</th>\n      <th>x22_RRAn</th>\n      <th>x22_rare</th>\n      <th>x23_Norm</th>\n      <th>x23_rare</th>\n      <th>x24_1Fam</th>\n      <th>x24_2fmCon</th>\n      <th>x24_Duplex</th>\n      <th>x24_Twnhs</th>\n      <th>x24_TwnhsE</th>\n      <th>x25_1.5Fin</th>\n      <th>x25_1Story</th>\n      <th>x25_2Story</th>\n      <th>x25_SFoyer</th>\n      <th>x25_SLvl</th>\n      <th>x25_rare</th>\n      <th>x26_0</th>\n      <th>x26_3</th>\n      <th>x26_4</th>\n      <th>x26_5</th>\n      <th>x26_6</th>\n      <th>x26_7</th>\n      <th>x26_8</th>\n      <th>x26_9</th>\n      <th>x26_10</th>\n      <th>x27_0</th>\n      <th>x27_3</th>\n      <th>x27_4</th>\n      <th>x27_5</th>\n      <th>x27_6</th>\n      <th>x27_7</th>\n      <th>x27_8</th>\n      <th>x27_9</th>\n      <th>x28_Ex</th>\n      <th>x28_Gd</th>\n      <th>x28_TA</th>\n      <th>x28_rare</th>\n      <th>x29_Fa</th>\n      <th>x29_Gd</th>\n      <th>x29_TA</th>\n      <th>x29_rare</th>\n      <th>x30_Ex</th>\n      <th>x30_Fa</th>\n      <th>x30_Gd</th>\n      <th>x30_No</th>\n      <th>x30_TA</th>\n      <th>x31_Fa</th>\n      <th>x31_Gd</th>\n      <th>x31_No</th>\n      <th>x31_TA</th>\n      <th>x31_rare</th>\n      <th>x32_Av</th>\n      <th>x32_Gd</th>\n      <th>x32_Mn</th>\n      <th>x32_No</th>\n      <th>x33_ALQ</th>\n      <th>x33_BLQ</th>\n      <th>x33_GLQ</th>\n      <th>x33_LwQ</th>\n      <th>x33_No</th>\n      <th>x33_Rec</th>\n      <th>x33_Unf</th>\n      <th>x34_Ex</th>\n      <th>x34_Fa</th>\n      <th>x34_Gd</th>\n      <th>x34_TA</th>\n      <th>x34_rare</th>\n      <th>x35_Ex</th>\n      <th>x35_Fa</th>\n      <th>x35_Gd</th>\n      <th>x35_No</th>\n      <th>x35_Po</th>\n      <th>x35_TA</th>\n      <th>x36_Fin</th>\n      <th>x36_No</th>\n      <th>x36_RFn</th>\n      <th>x36_Unf</th>\n      <th>x37_Fa</th>\n      <th>x37_No</th>\n      <th>x37_TA</th>\n      <th>x37_rare</th>\n      <th>x38_Fa</th>\n      <th>x38_No</th>\n      <th>x38_TA</th>\n      <th>x38_rare</th>\n      <th>x39_No</th>\n      <th>x39_rare</th>\n      <th>x40_GdPrv</th>\n      <th>x40_GdWo</th>\n      <th>x40_MnPrv</th>\n      <th>x40_No</th>\n      <th>x40_rare</th>\n      <th>x41_ALQ</th>\n      <th>x41_BLQ</th>\n      <th>x41_LwQ</th>\n      <th>x41_No</th>\n      <th>x41_Rec</th>\n      <th>x41_Unf</th>\n      <th>x41_rare</th>\n      <th>x42_Ex</th>\n      <th>x42_Fa</th>\n      <th>x42_Gd</th>\n      <th>x42_TA</th>\n      <th>x43_N</th>\n      <th>x43_P</th>\n      <th>x43_Y</th>\n      <th>MasVnrArea</th>\n      <th>1stFlrSF</th>\n      <th>2ndFlrSF</th>\n      <th>LowQualFinSF</th>\n      <th>GrLivArea</th>\n      <th>FullBath</th>\n      <th>HalfBath</th>\n      <th>BedroomAbvGr</th>\n      <th>KitchenAbvGr</th>\n      <th>Fireplaces</th>\n      <th>GarageYrBlt</th>\n      <th>GarageArea</th>\n      <th>GarageCars</th>\n      <th>WoodDeckSF</th>\n      <th>OpenPorchSF</th>\n      <th>EnclosedPorch</th>\n      <th>3SsnPorch</th>\n      <th>ScreenPorch</th>\n      <th>PoolArea</th>\n      <th>MoSold</th>\n      <th>YrSold</th>\n      <th>LotFrontage</th>\n      <th>LotArea</th>\n      <th>BsmtFinSF1</th>\n      <th>BsmtFinSF2</th>\n      <th>BsmtUnfSF</th>\n      <th>BsmtFullBath</th>\n      <th>TotalBsmtSF</th>\n      <th>BsmtHalfBath</th>\n      <th>TotRmsAbvGrd</th>\n    </tr>\n  </thead>\n  <tbody>\n    <tr>\n      <th>0</th>\n      <td>0.0</td>\n      <td>0.0</td>\n      <td>1.0</td>\n      <td>0.0</td>\n      <td>0.0</td>\n      <td>1.0</td>\n      <td>0.0</td>\n      <td>0.0</td>\n      <td>1.0</td>\n      <td>0.0</td>\n      <td>0.0</td>\n      <td>0.0</td>\n      <td>1.0</td>\n      <td>0.0</td>\n      <td>1.0</td>\n      <td>0.0</td>\n      <td>0.0</td>\n      <td>0.0</td>\n      <td>0.0</td>\n      <td>1.0</td>\n      <td>0.0</td>\n      <td>0.0</td>\n      <td>0.0</td>\n      <td>0.0</td>\n      <td>0.0</td>\n      <td>1.0</td>\n      <td>0.0</td>\n      <td>0.0</td>\n      <td>0.0</td>\n      <td>0.0</td>\n      <td>0.0</td>\n      <td>0.0</td>\n      <td>0.0</td>\n      <td>0.0</td>\n      <td>0.0</td>\n      <td>0.0</td>\n      <td>0.0</td>\n      <td>0.0</td>\n      <td>0.0</td>\n      <td>0.0</td>\n      <td>0.0</td>\n      <td>0.0</td>\n      <td>0.0</td>\n      <td>0.0</td>\n      <td>1.0</td>\n      <td>0.0</td>\n      <td>0.0</td>\n      <td>1.0</td>\n      <td>0.0</td>\n      <td>0.0</td>\n      <td>0.0</td>\n      <td>0.0</td>\n      <td>0.0</td>\n      <td>0.0</td>\n      <td>0.0</td>\n      <td>0.0</td>\n      <td>1.0</td>\n      <td>0.0</td>\n      <td>0.0</td>\n      <td>0.0</td>\n      <td>0.0</td>\n      <td>0.0</td>\n      <td>0.0</td>\n      <td>0.0</td>\n      <td>0.0</td>\n      <td>0.0</td>\n      <td>0.0</td>\n      <td>1.0</td>\n      <td>0.0</td>\n      <td>0.0</td>\n      <td>0.0</td>\n      <td>0.0</td>\n      <td>1.0</td>\n      <td>0.0</td>\n      <td>0.0</td>\n      <td>0.0</td>\n      <td>0.0</td>\n      <td>0.0</td>\n      <td>1.0</td>\n      <td>0.0</td>\n      <td>0.0</td>\n      <td>1.0</td>\n      <td>0.0</td>\n      <td>0.0</td>\n      <td>0.0</td>\n      <td>1.0</td>\n      <td>0.0</td>\n      <td>0.0</td>\n      <td>1.0</td>\n      <td>0.0</td>\n      <td>1.0</td>\n      <td>0.0</td>\n      <td>0.0</td>\n      <td>0.0</td>\n      <td>0.0</td>\n      <td>0.0</td>\n      <td>0.0</td>\n      <td>0.0</td>\n      <td>1.0</td>\n      <td>0.0</td>\n      <td>0.0</td>\n      <td>0.0</td>\n      <td>1.0</td>\n      <td>0.0</td>\n      <td>0.0</td>\n      <td>1.0</td>\n      <td>0.0</td>\n      <td>0.0</td>\n      <td>0.0</td>\n      <td>0.0</td>\n      <td>0.0</td>\n      <td>1.0</td>\n      <td>1.0</td>\n      <td>0.0</td>\n      <td>0.0</td>\n      <td>0.0</td>\n      <td>0.0</td>\n      <td>1.0</td>\n      <td>0.0</td>\n      <td>0.0</td>\n      <td>0.0</td>\n      <td>1.0</td>\n      <td>0.0</td>\n      <td>1.0</td>\n      <td>0.0</td>\n      <td>0.0</td>\n      <td>0.0</td>\n      <td>0.0</td>\n      <td>0.0</td>\n      <td>0.0</td>\n      <td>1.0</td>\n      <td>0.0</td>\n      <td>0.0</td>\n      <td>0.0</td>\n      <td>0.0</td>\n      <td>0.0</td>\n      <td>0.0</td>\n      <td>0.0</td>\n      <td>0.0</td>\n      <td>1.0</td>\n      <td>0.0</td>\n      <td>0.0</td>\n      <td>0.0</td>\n      <td>0.0</td>\n      <td>0.0</td>\n      <td>0.0</td>\n      <td>1.0</td>\n      <td>0.0</td>\n      <td>0.0</td>\n      <td>0.0</td>\n      <td>0.0</td>\n      <td>0.0</td>\n      <td>1.0</td>\n      <td>0.0</td>\n      <td>0.0</td>\n      <td>0.0</td>\n      <td>0.0</td>\n      <td>1.0</td>\n      <td>0.0</td>\n      <td>0.0</td>\n      <td>0.0</td>\n      <td>1.0</td>\n      <td>0.0</td>\n      <td>0.0</td>\n      <td>0.0</td>\n      <td>0.0</td>\n      <td>0.0</td>\n      <td>1.0</td>\n      <td>0.0</td>\n      <td>0.0</td>\n      <td>0.0</td>\n      <td>0.0</td>\n      <td>1.0</td>\n      <td>0.0</td>\n      <td>0.0</td>\n      <td>1.0</td>\n      <td>0.0</td>\n      <td>0.0</td>\n      <td>0.0</td>\n      <td>0.0</td>\n      <td>1.0</td>\n      <td>0.0</td>\n      <td>0.0</td>\n      <td>0.0</td>\n      <td>0.0</td>\n      <td>0.0</td>\n      <td>0.0</td>\n      <td>0.0</td>\n      <td>1.0</td>\n      <td>0.0</td>\n      <td>0.0</td>\n      <td>0.0</td>\n      <td>0.0</td>\n      <td>1.0</td>\n      <td>0.0</td>\n      <td>0.0</td>\n      <td>0.0</td>\n      <td>1.0</td>\n      <td>0.0</td>\n      <td>0.0</td>\n      <td>0.0</td>\n      <td>1.0</td>\n      <td>0.0</td>\n      <td>1.0</td>\n      <td>0.0</td>\n      <td>0.0</td>\n      <td>0.0</td>\n      <td>0.0</td>\n      <td>1.0</td>\n      <td>0.0</td>\n      <td>0.0</td>\n      <td>0.0</td>\n      <td>0.0</td>\n      <td>0.0</td>\n      <td>0.0</td>\n      <td>1.0</td>\n      <td>0.0</td>\n      <td>0.0</td>\n      <td>0.0</td>\n      <td>1.0</td>\n      <td>0.0</td>\n      <td>0.0</td>\n      <td>0.0</td>\n      <td>1.0</td>\n      <td>0.12250</td>\n      <td>6.752270</td>\n      <td>0.413559</td>\n      <td>0.0</td>\n      <td>7.444249</td>\n      <td>0.666667</td>\n      <td>0.5</td>\n      <td>0.375</td>\n      <td>0.333333</td>\n      <td>0.000000</td>\n      <td>0.002488</td>\n      <td>0.386460</td>\n      <td>0.50</td>\n      <td>0.000000</td>\n      <td>0.111517</td>\n      <td>0.000000</td>\n      <td>0.0</td>\n      <td>0.0</td>\n      <td>0.0</td>\n      <td>0.090909</td>\n      <td>0.50</td>\n      <td>4.174387</td>\n      <td>9.041922</td>\n      <td>0.125089</td>\n      <td>0.0</td>\n      <td>0.064212</td>\n      <td>0.333333</td>\n      <td>0.140098</td>\n      <td>0.0</td>\n      <td>0.500000</td>\n    </tr>\n    <tr>\n      <th>1</th>\n      <td>0.0</td>\n      <td>0.0</td>\n      <td>1.0</td>\n      <td>0.0</td>\n      <td>0.0</td>\n      <td>1.0</td>\n      <td>0.0</td>\n      <td>0.0</td>\n      <td>1.0</td>\n      <td>0.0</td>\n      <td>0.0</td>\n      <td>0.0</td>\n      <td>1.0</td>\n      <td>0.0</td>\n      <td>1.0</td>\n      <td>0.0</td>\n      <td>0.0</td>\n      <td>0.0</td>\n      <td>1.0</td>\n      <td>0.0</td>\n      <td>0.0</td>\n      <td>0.0</td>\n      <td>0.0</td>\n      <td>0.0</td>\n      <td>0.0</td>\n      <td>0.0</td>\n      <td>0.0</td>\n      <td>0.0</td>\n      <td>0.0</td>\n      <td>0.0</td>\n      <td>0.0</td>\n      <td>0.0</td>\n      <td>0.0</td>\n      <td>0.0</td>\n      <td>0.0</td>\n      <td>0.0</td>\n      <td>0.0</td>\n      <td>0.0</td>\n      <td>0.0</td>\n      <td>0.0</td>\n      <td>0.0</td>\n      <td>0.0</td>\n      <td>0.0</td>\n      <td>1.0</td>\n      <td>1.0</td>\n      <td>0.0</td>\n      <td>0.0</td>\n      <td>1.0</td>\n      <td>0.0</td>\n      <td>0.0</td>\n      <td>0.0</td>\n      <td>0.0</td>\n      <td>0.0</td>\n      <td>1.0</td>\n      <td>0.0</td>\n      <td>0.0</td>\n      <td>0.0</td>\n      <td>0.0</td>\n      <td>0.0</td>\n      <td>0.0</td>\n      <td>0.0</td>\n      <td>0.0</td>\n      <td>0.0</td>\n      <td>0.0</td>\n      <td>1.0</td>\n      <td>0.0</td>\n      <td>0.0</td>\n      <td>0.0</td>\n      <td>0.0</td>\n      <td>0.0</td>\n      <td>0.0</td>\n      <td>0.0</td>\n      <td>0.0</td>\n      <td>1.0</td>\n      <td>0.0</td>\n      <td>0.0</td>\n      <td>0.0</td>\n      <td>1.0</td>\n      <td>0.0</td>\n      <td>0.0</td>\n      <td>0.0</td>\n      <td>1.0</td>\n      <td>0.0</td>\n      <td>0.0</td>\n      <td>0.0</td>\n      <td>1.0</td>\n      <td>0.0</td>\n      <td>0.0</td>\n      <td>1.0</td>\n      <td>0.0</td>\n      <td>1.0</td>\n      <td>0.0</td>\n      <td>0.0</td>\n      <td>0.0</td>\n      <td>0.0</td>\n      <td>0.0</td>\n      <td>0.0</td>\n      <td>0.0</td>\n      <td>1.0</td>\n      <td>0.0</td>\n      <td>0.0</td>\n      <td>0.0</td>\n      <td>1.0</td>\n      <td>0.0</td>\n      <td>0.0</td>\n      <td>1.0</td>\n      <td>0.0</td>\n      <td>0.0</td>\n      <td>0.0</td>\n      <td>0.0</td>\n      <td>0.0</td>\n      <td>1.0</td>\n      <td>1.0</td>\n      <td>0.0</td>\n      <td>0.0</td>\n      <td>0.0</td>\n      <td>1.0</td>\n      <td>0.0</td>\n      <td>0.0</td>\n      <td>0.0</td>\n      <td>0.0</td>\n      <td>1.0</td>\n      <td>0.0</td>\n      <td>1.0</td>\n      <td>0.0</td>\n      <td>0.0</td>\n      <td>0.0</td>\n      <td>0.0</td>\n      <td>0.0</td>\n      <td>1.0</td>\n      <td>0.0</td>\n      <td>0.0</td>\n      <td>0.0</td>\n      <td>0.0</td>\n      <td>0.0</td>\n      <td>0.0</td>\n      <td>0.0</td>\n      <td>0.0</td>\n      <td>1.0</td>\n      <td>0.0</td>\n      <td>0.0</td>\n      <td>0.0</td>\n      <td>0.0</td>\n      <td>0.0</td>\n      <td>0.0</td>\n      <td>0.0</td>\n      <td>0.0</td>\n      <td>0.0</td>\n      <td>0.0</td>\n      <td>1.0</td>\n      <td>0.0</td>\n      <td>0.0</td>\n      <td>0.0</td>\n      <td>1.0</td>\n      <td>0.0</td>\n      <td>0.0</td>\n      <td>0.0</td>\n      <td>1.0</td>\n      <td>0.0</td>\n      <td>0.0</td>\n      <td>0.0</td>\n      <td>1.0</td>\n      <td>0.0</td>\n      <td>0.0</td>\n      <td>0.0</td>\n      <td>0.0</td>\n      <td>0.0</td>\n      <td>1.0</td>\n      <td>0.0</td>\n      <td>0.0</td>\n      <td>1.0</td>\n      <td>0.0</td>\n      <td>0.0</td>\n      <td>1.0</td>\n      <td>0.0</td>\n      <td>0.0</td>\n      <td>0.0</td>\n      <td>0.0</td>\n      <td>0.0</td>\n      <td>0.0</td>\n      <td>1.0</td>\n      <td>0.0</td>\n      <td>0.0</td>\n      <td>0.0</td>\n      <td>0.0</td>\n      <td>0.0</td>\n      <td>0.0</td>\n      <td>0.0</td>\n      <td>0.0</td>\n      <td>0.0</td>\n      <td>1.0</td>\n      <td>0.0</td>\n      <td>0.0</td>\n      <td>1.0</td>\n      <td>0.0</td>\n      <td>0.0</td>\n      <td>0.0</td>\n      <td>1.0</td>\n      <td>0.0</td>\n      <td>0.0</td>\n      <td>0.0</td>\n      <td>1.0</td>\n      <td>0.0</td>\n      <td>1.0</td>\n      <td>0.0</td>\n      <td>0.0</td>\n      <td>0.0</td>\n      <td>0.0</td>\n      <td>1.0</td>\n      <td>0.0</td>\n      <td>0.0</td>\n      <td>0.0</td>\n      <td>0.0</td>\n      <td>0.0</td>\n      <td>0.0</td>\n      <td>1.0</td>\n      <td>0.0</td>\n      <td>0.0</td>\n      <td>0.0</td>\n      <td>0.0</td>\n      <td>1.0</td>\n      <td>0.0</td>\n      <td>0.0</td>\n      <td>1.0</td>\n      <td>0.00000</td>\n      <td>7.140453</td>\n      <td>0.000000</td>\n      <td>0.0</td>\n      <td>7.140453</td>\n      <td>0.666667</td>\n      <td>0.0</td>\n      <td>0.375</td>\n      <td>0.333333</td>\n      <td>0.333333</td>\n      <td>0.015423</td>\n      <td>0.324401</td>\n      <td>0.50</td>\n      <td>0.347725</td>\n      <td>0.000000</td>\n      <td>0.000000</td>\n      <td>0.0</td>\n      <td>0.0</td>\n      <td>0.0</td>\n      <td>0.363636</td>\n      <td>0.25</td>\n      <td>4.382027</td>\n      <td>9.169518</td>\n      <td>0.173281</td>\n      <td>0.0</td>\n      <td>0.121575</td>\n      <td>0.000000</td>\n      <td>0.206547</td>\n      <td>0.5</td>\n      <td>0.333333</td>\n    </tr>\n    <tr>\n      <th>2</th>\n      <td>0.0</td>\n      <td>0.0</td>\n      <td>1.0</td>\n      <td>0.0</td>\n      <td>0.0</td>\n      <td>1.0</td>\n      <td>0.0</td>\n      <td>0.0</td>\n      <td>1.0</td>\n      <td>0.0</td>\n      <td>1.0</td>\n      <td>0.0</td>\n      <td>0.0</td>\n      <td>0.0</td>\n      <td>1.0</td>\n      <td>0.0</td>\n      <td>0.0</td>\n      <td>0.0</td>\n      <td>0.0</td>\n      <td>1.0</td>\n      <td>0.0</td>\n      <td>0.0</td>\n      <td>0.0</td>\n      <td>0.0</td>\n      <td>0.0</td>\n      <td>1.0</td>\n      <td>0.0</td>\n      <td>0.0</td>\n      <td>0.0</td>\n      <td>0.0</td>\n      <td>0.0</td>\n      <td>0.0</td>\n      <td>0.0</td>\n      <td>0.0</td>\n      <td>0.0</td>\n      <td>0.0</td>\n      <td>0.0</td>\n      <td>0.0</td>\n      <td>0.0</td>\n      <td>0.0</td>\n      <td>0.0</td>\n      <td>0.0</td>\n      <td>0.0</td>\n      <td>0.0</td>\n      <td>1.0</td>\n      <td>0.0</td>\n      <td>0.0</td>\n      <td>1.0</td>\n      <td>0.0</td>\n      <td>0.0</td>\n      <td>0.0</td>\n      <td>0.0</td>\n      <td>0.0</td>\n      <td>0.0</td>\n      <td>0.0</td>\n      <td>0.0</td>\n      <td>1.0</td>\n      <td>0.0</td>\n      <td>0.0</td>\n      <td>0.0</td>\n      <td>0.0</td>\n      <td>0.0</td>\n      <td>0.0</td>\n      <td>0.0</td>\n      <td>0.0</td>\n      <td>0.0</td>\n      <td>0.0</td>\n      <td>1.0</td>\n      <td>0.0</td>\n      <td>0.0</td>\n      <td>0.0</td>\n      <td>0.0</td>\n      <td>1.0</td>\n      <td>0.0</td>\n      <td>0.0</td>\n      <td>0.0</td>\n      <td>0.0</td>\n      <td>0.0</td>\n      <td>1.0</td>\n      <td>0.0</td>\n      <td>0.0</td>\n      <td>1.0</td>\n      <td>0.0</td>\n      <td>0.0</td>\n      <td>0.0</td>\n      <td>1.0</td>\n      <td>0.0</td>\n      <td>0.0</td>\n      <td>1.0</td>\n      <td>0.0</td>\n      <td>1.0</td>\n      <td>0.0</td>\n      <td>0.0</td>\n      <td>0.0</td>\n      <td>0.0</td>\n      <td>0.0</td>\n      <td>0.0</td>\n      <td>0.0</td>\n      <td>1.0</td>\n      <td>0.0</td>\n      <td>0.0</td>\n      <td>0.0</td>\n      <td>1.0</td>\n      <td>0.0</td>\n      <td>0.0</td>\n      <td>1.0</td>\n      <td>0.0</td>\n      <td>0.0</td>\n      <td>0.0</td>\n      <td>0.0</td>\n      <td>0.0</td>\n      <td>1.0</td>\n      <td>1.0</td>\n      <td>0.0</td>\n      <td>0.0</td>\n      <td>0.0</td>\n      <td>0.0</td>\n      <td>1.0</td>\n      <td>0.0</td>\n      <td>0.0</td>\n      <td>0.0</td>\n      <td>1.0</td>\n      <td>0.0</td>\n      <td>1.0</td>\n      <td>0.0</td>\n      <td>0.0</td>\n      <td>0.0</td>\n      <td>0.0</td>\n      <td>0.0</td>\n      <td>0.0</td>\n      <td>1.0</td>\n      <td>0.0</td>\n      <td>0.0</td>\n      <td>0.0</td>\n      <td>0.0</td>\n      <td>0.0</td>\n      <td>0.0</td>\n      <td>0.0</td>\n      <td>0.0</td>\n      <td>1.0</td>\n      <td>0.0</td>\n      <td>0.0</td>\n      <td>0.0</td>\n      <td>0.0</td>\n      <td>0.0</td>\n      <td>0.0</td>\n      <td>1.0</td>\n      <td>0.0</td>\n      <td>0.0</td>\n      <td>0.0</td>\n      <td>0.0</td>\n      <td>0.0</td>\n      <td>1.0</td>\n      <td>0.0</td>\n      <td>0.0</td>\n      <td>0.0</td>\n      <td>0.0</td>\n      <td>1.0</td>\n      <td>0.0</td>\n      <td>0.0</td>\n      <td>0.0</td>\n      <td>1.0</td>\n      <td>0.0</td>\n      <td>0.0</td>\n      <td>0.0</td>\n      <td>0.0</td>\n      <td>0.0</td>\n      <td>1.0</td>\n      <td>0.0</td>\n      <td>0.0</td>\n      <td>0.0</td>\n      <td>1.0</td>\n      <td>0.0</td>\n      <td>0.0</td>\n      <td>0.0</td>\n      <td>1.0</td>\n      <td>0.0</td>\n      <td>0.0</td>\n      <td>0.0</td>\n      <td>0.0</td>\n      <td>1.0</td>\n      <td>0.0</td>\n      <td>0.0</td>\n      <td>0.0</td>\n      <td>0.0</td>\n      <td>0.0</td>\n      <td>0.0</td>\n      <td>0.0</td>\n      <td>0.0</td>\n      <td>0.0</td>\n      <td>1.0</td>\n      <td>0.0</td>\n      <td>0.0</td>\n      <td>1.0</td>\n      <td>0.0</td>\n      <td>0.0</td>\n      <td>0.0</td>\n      <td>1.0</td>\n      <td>0.0</td>\n      <td>0.0</td>\n      <td>0.0</td>\n      <td>1.0</td>\n      <td>0.0</td>\n      <td>1.0</td>\n      <td>0.0</td>\n      <td>0.0</td>\n      <td>0.0</td>\n      <td>0.0</td>\n      <td>1.0</td>\n      <td>0.0</td>\n      <td>0.0</td>\n      <td>0.0</td>\n      <td>0.0</td>\n      <td>0.0</td>\n      <td>0.0</td>\n      <td>1.0</td>\n      <td>0.0</td>\n      <td>0.0</td>\n      <td>0.0</td>\n      <td>1.0</td>\n      <td>0.0</td>\n      <td>0.0</td>\n      <td>0.0</td>\n      <td>1.0</td>\n      <td>0.10125</td>\n      <td>6.824374</td>\n      <td>0.419370</td>\n      <td>0.0</td>\n      <td>7.487734</td>\n      <td>0.666667</td>\n      <td>0.5</td>\n      <td>0.375</td>\n      <td>0.333333</td>\n      <td>0.333333</td>\n      <td>0.003483</td>\n      <td>0.428773</td>\n      <td>0.50</td>\n      <td>0.000000</td>\n      <td>0.076782</td>\n      <td>0.000000</td>\n      <td>0.0</td>\n      <td>0.0</td>\n      <td>0.0</td>\n      <td>0.727273</td>\n      <td>0.50</td>\n      <td>4.219508</td>\n      <td>9.328123</td>\n      <td>0.086109</td>\n      <td>0.0</td>\n      <td>0.185788</td>\n      <td>0.333333</td>\n      <td>0.150573</td>\n      <td>0.0</td>\n      <td>0.333333</td>\n    </tr>\n    <tr>\n      <th>3</th>\n      <td>0.0</td>\n      <td>0.0</td>\n      <td>1.0</td>\n      <td>0.0</td>\n      <td>0.0</td>\n      <td>1.0</td>\n      <td>0.0</td>\n      <td>0.0</td>\n      <td>1.0</td>\n      <td>0.0</td>\n      <td>1.0</td>\n      <td>0.0</td>\n      <td>0.0</td>\n      <td>0.0</td>\n      <td>1.0</td>\n      <td>0.0</td>\n      <td>1.0</td>\n      <td>0.0</td>\n      <td>0.0</td>\n      <td>0.0</td>\n      <td>0.0</td>\n      <td>0.0</td>\n      <td>0.0</td>\n      <td>0.0</td>\n      <td>0.0</td>\n      <td>0.0</td>\n      <td>1.0</td>\n      <td>0.0</td>\n      <td>0.0</td>\n      <td>0.0</td>\n      <td>0.0</td>\n      <td>0.0</td>\n      <td>0.0</td>\n      <td>0.0</td>\n      <td>0.0</td>\n      <td>0.0</td>\n      <td>0.0</td>\n      <td>0.0</td>\n      <td>0.0</td>\n      <td>0.0</td>\n      <td>0.0</td>\n      <td>0.0</td>\n      <td>0.0</td>\n      <td>0.0</td>\n      <td>1.0</td>\n      <td>0.0</td>\n      <td>0.0</td>\n      <td>1.0</td>\n      <td>0.0</td>\n      <td>0.0</td>\n      <td>0.0</td>\n      <td>0.0</td>\n      <td>0.0</td>\n      <td>0.0</td>\n      <td>0.0</td>\n      <td>0.0</td>\n      <td>0.0</td>\n      <td>1.0</td>\n      <td>0.0</td>\n      <td>0.0</td>\n      <td>0.0</td>\n      <td>0.0</td>\n      <td>0.0</td>\n      <td>0.0</td>\n      <td>0.0</td>\n      <td>0.0</td>\n      <td>0.0</td>\n      <td>0.0</td>\n      <td>0.0</td>\n      <td>1.0</td>\n      <td>0.0</td>\n      <td>0.0</td>\n      <td>0.0</td>\n      <td>1.0</td>\n      <td>0.0</td>\n      <td>0.0</td>\n      <td>1.0</td>\n      <td>0.0</td>\n      <td>0.0</td>\n      <td>0.0</td>\n      <td>0.0</td>\n      <td>1.0</td>\n      <td>0.0</td>\n      <td>0.0</td>\n      <td>0.0</td>\n      <td>1.0</td>\n      <td>0.0</td>\n      <td>0.0</td>\n      <td>1.0</td>\n      <td>0.0</td>\n      <td>0.0</td>\n      <td>0.0</td>\n      <td>0.0</td>\n      <td>1.0</td>\n      <td>0.0</td>\n      <td>0.0</td>\n      <td>0.0</td>\n      <td>0.0</td>\n      <td>1.0</td>\n      <td>0.0</td>\n      <td>1.0</td>\n      <td>0.0</td>\n      <td>0.0</td>\n      <td>0.0</td>\n      <td>0.0</td>\n      <td>1.0</td>\n      <td>0.0</td>\n      <td>0.0</td>\n      <td>0.0</td>\n      <td>0.0</td>\n      <td>0.0</td>\n      <td>1.0</td>\n      <td>1.0</td>\n      <td>0.0</td>\n      <td>0.0</td>\n      <td>0.0</td>\n      <td>0.0</td>\n      <td>1.0</td>\n      <td>0.0</td>\n      <td>0.0</td>\n      <td>0.0</td>\n      <td>1.0</td>\n      <td>0.0</td>\n      <td>1.0</td>\n      <td>0.0</td>\n      <td>0.0</td>\n      <td>0.0</td>\n      <td>0.0</td>\n      <td>0.0</td>\n      <td>0.0</td>\n      <td>1.0</td>\n      <td>0.0</td>\n      <td>0.0</td>\n      <td>0.0</td>\n      <td>0.0</td>\n      <td>0.0</td>\n      <td>0.0</td>\n      <td>0.0</td>\n      <td>0.0</td>\n      <td>1.0</td>\n      <td>0.0</td>\n      <td>0.0</td>\n      <td>0.0</td>\n      <td>0.0</td>\n      <td>0.0</td>\n      <td>0.0</td>\n      <td>1.0</td>\n      <td>0.0</td>\n      <td>0.0</td>\n      <td>0.0</td>\n      <td>0.0</td>\n      <td>0.0</td>\n      <td>0.0</td>\n      <td>1.0</td>\n      <td>0.0</td>\n      <td>0.0</td>\n      <td>0.0</td>\n      <td>1.0</td>\n      <td>0.0</td>\n      <td>0.0</td>\n      <td>0.0</td>\n      <td>0.0</td>\n      <td>0.0</td>\n      <td>1.0</td>\n      <td>0.0</td>\n      <td>1.0</td>\n      <td>0.0</td>\n      <td>0.0</td>\n      <td>0.0</td>\n      <td>0.0</td>\n      <td>0.0</td>\n      <td>0.0</td>\n      <td>1.0</td>\n      <td>1.0</td>\n      <td>0.0</td>\n      <td>0.0</td>\n      <td>0.0</td>\n      <td>0.0</td>\n      <td>0.0</td>\n      <td>0.0</td>\n      <td>0.0</td>\n      <td>0.0</td>\n      <td>1.0</td>\n      <td>0.0</td>\n      <td>0.0</td>\n      <td>0.0</td>\n      <td>0.0</td>\n      <td>1.0</td>\n      <td>0.0</td>\n      <td>0.0</td>\n      <td>0.0</td>\n      <td>0.0</td>\n      <td>0.0</td>\n      <td>0.0</td>\n      <td>1.0</td>\n      <td>0.0</td>\n      <td>0.0</td>\n      <td>1.0</td>\n      <td>0.0</td>\n      <td>0.0</td>\n      <td>0.0</td>\n      <td>1.0</td>\n      <td>0.0</td>\n      <td>1.0</td>\n      <td>0.0</td>\n      <td>0.0</td>\n      <td>0.0</td>\n      <td>0.0</td>\n      <td>1.0</td>\n      <td>0.0</td>\n      <td>0.0</td>\n      <td>0.0</td>\n      <td>0.0</td>\n      <td>0.0</td>\n      <td>0.0</td>\n      <td>1.0</td>\n      <td>0.0</td>\n      <td>0.0</td>\n      <td>0.0</td>\n      <td>1.0</td>\n      <td>0.0</td>\n      <td>0.0</td>\n      <td>0.0</td>\n      <td>1.0</td>\n      <td>0.00000</td>\n      <td>6.867974</td>\n      <td>0.366102</td>\n      <td>0.0</td>\n      <td>7.448334</td>\n      <td>0.333333</td>\n      <td>0.0</td>\n      <td>0.375</td>\n      <td>0.333333</td>\n      <td>0.333333</td>\n      <td>0.003980</td>\n      <td>0.452750</td>\n      <td>0.75</td>\n      <td>0.000000</td>\n      <td>0.063985</td>\n      <td>0.492754</td>\n      <td>0.0</td>\n      <td>0.0</td>\n      <td>0.0</td>\n      <td>0.090909</td>\n      <td>0.00</td>\n      <td>4.094345</td>\n      <td>9.164296</td>\n      <td>0.038271</td>\n      <td>0.0</td>\n      <td>0.231164</td>\n      <td>0.333333</td>\n      <td>0.123732</td>\n      <td>0.0</td>\n      <td>0.416667</td>\n    </tr>\n    <tr>\n      <th>4</th>\n      <td>0.0</td>\n      <td>0.0</td>\n      <td>1.0</td>\n      <td>0.0</td>\n      <td>0.0</td>\n      <td>1.0</td>\n      <td>0.0</td>\n      <td>0.0</td>\n      <td>1.0</td>\n      <td>0.0</td>\n      <td>1.0</td>\n      <td>0.0</td>\n      <td>0.0</td>\n      <td>0.0</td>\n      <td>1.0</td>\n      <td>0.0</td>\n      <td>0.0</td>\n      <td>0.0</td>\n      <td>1.0</td>\n      <td>0.0</td>\n      <td>0.0</td>\n      <td>0.0</td>\n      <td>0.0</td>\n      <td>0.0</td>\n      <td>0.0</td>\n      <td>0.0</td>\n      <td>0.0</td>\n      <td>0.0</td>\n      <td>0.0</td>\n      <td>0.0</td>\n      <td>0.0</td>\n      <td>0.0</td>\n      <td>0.0</td>\n      <td>0.0</td>\n      <td>1.0</td>\n      <td>0.0</td>\n      <td>0.0</td>\n      <td>0.0</td>\n      <td>0.0</td>\n      <td>0.0</td>\n      <td>0.0</td>\n      <td>0.0</td>\n      <td>0.0</td>\n      <td>0.0</td>\n      <td>1.0</td>\n      <td>0.0</td>\n      <td>0.0</td>\n      <td>1.0</td>\n      <td>0.0</td>\n      <td>0.0</td>\n      <td>0.0</td>\n      <td>0.0</td>\n      <td>0.0</td>\n      <td>0.0</td>\n      <td>0.0</td>\n      <td>0.0</td>\n      <td>1.0</td>\n      <td>0.0</td>\n      <td>0.0</td>\n      <td>0.0</td>\n      <td>0.0</td>\n      <td>0.0</td>\n      <td>0.0</td>\n      <td>0.0</td>\n      <td>0.0</td>\n      <td>0.0</td>\n      <td>0.0</td>\n      <td>1.0</td>\n      <td>0.0</td>\n      <td>0.0</td>\n      <td>0.0</td>\n      <td>0.0</td>\n      <td>1.0</td>\n      <td>0.0</td>\n      <td>0.0</td>\n      <td>0.0</td>\n      <td>0.0</td>\n      <td>0.0</td>\n      <td>1.0</td>\n      <td>0.0</td>\n      <td>0.0</td>\n      <td>1.0</td>\n      <td>0.0</td>\n      <td>0.0</td>\n      <td>0.0</td>\n      <td>1.0</td>\n      <td>0.0</td>\n      <td>0.0</td>\n      <td>1.0</td>\n      <td>0.0</td>\n      <td>1.0</td>\n      <td>0.0</td>\n      <td>0.0</td>\n      <td>0.0</td>\n      <td>0.0</td>\n      <td>0.0</td>\n      <td>0.0</td>\n      <td>0.0</td>\n      <td>1.0</td>\n      <td>0.0</td>\n      <td>0.0</td>\n      <td>0.0</td>\n      <td>1.0</td>\n      <td>0.0</td>\n      <td>0.0</td>\n      <td>1.0</td>\n      <td>0.0</td>\n      <td>0.0</td>\n      <td>0.0</td>\n      <td>0.0</td>\n      <td>0.0</td>\n      <td>1.0</td>\n      <td>1.0</td>\n      <td>0.0</td>\n      <td>0.0</td>\n      <td>0.0</td>\n      <td>0.0</td>\n      <td>1.0</td>\n      <td>0.0</td>\n      <td>0.0</td>\n      <td>0.0</td>\n      <td>1.0</td>\n      <td>0.0</td>\n      <td>1.0</td>\n      <td>0.0</td>\n      <td>0.0</td>\n      <td>0.0</td>\n      <td>0.0</td>\n      <td>0.0</td>\n      <td>0.0</td>\n      <td>1.0</td>\n      <td>0.0</td>\n      <td>0.0</td>\n      <td>0.0</td>\n      <td>0.0</td>\n      <td>0.0</td>\n      <td>0.0</td>\n      <td>0.0</td>\n      <td>0.0</td>\n      <td>0.0</td>\n      <td>1.0</td>\n      <td>0.0</td>\n      <td>0.0</td>\n      <td>0.0</td>\n      <td>0.0</td>\n      <td>0.0</td>\n      <td>1.0</td>\n      <td>0.0</td>\n      <td>0.0</td>\n      <td>0.0</td>\n      <td>0.0</td>\n      <td>0.0</td>\n      <td>1.0</td>\n      <td>0.0</td>\n      <td>0.0</td>\n      <td>0.0</td>\n      <td>0.0</td>\n      <td>1.0</td>\n      <td>0.0</td>\n      <td>0.0</td>\n      <td>0.0</td>\n      <td>1.0</td>\n      <td>0.0</td>\n      <td>0.0</td>\n      <td>0.0</td>\n      <td>0.0</td>\n      <td>0.0</td>\n      <td>1.0</td>\n      <td>0.0</td>\n      <td>1.0</td>\n      <td>0.0</td>\n      <td>0.0</td>\n      <td>0.0</td>\n      <td>0.0</td>\n      <td>0.0</td>\n      <td>1.0</td>\n      <td>0.0</td>\n      <td>0.0</td>\n      <td>0.0</td>\n      <td>0.0</td>\n      <td>1.0</td>\n      <td>0.0</td>\n      <td>0.0</td>\n      <td>0.0</td>\n      <td>0.0</td>\n      <td>0.0</td>\n      <td>0.0</td>\n      <td>0.0</td>\n      <td>0.0</td>\n      <td>0.0</td>\n      <td>1.0</td>\n      <td>0.0</td>\n      <td>0.0</td>\n      <td>1.0</td>\n      <td>0.0</td>\n      <td>0.0</td>\n      <td>0.0</td>\n      <td>1.0</td>\n      <td>0.0</td>\n      <td>0.0</td>\n      <td>0.0</td>\n      <td>1.0</td>\n      <td>0.0</td>\n      <td>1.0</td>\n      <td>0.0</td>\n      <td>0.0</td>\n      <td>0.0</td>\n      <td>0.0</td>\n      <td>1.0</td>\n      <td>0.0</td>\n      <td>0.0</td>\n      <td>0.0</td>\n      <td>0.0</td>\n      <td>0.0</td>\n      <td>0.0</td>\n      <td>1.0</td>\n      <td>0.0</td>\n      <td>0.0</td>\n      <td>0.0</td>\n      <td>1.0</td>\n      <td>0.0</td>\n      <td>0.0</td>\n      <td>0.0</td>\n      <td>1.0</td>\n      <td>0.21875</td>\n      <td>7.043160</td>\n      <td>0.509927</td>\n      <td>0.0</td>\n      <td>7.695303</td>\n      <td>0.666667</td>\n      <td>0.5</td>\n      <td>0.500</td>\n      <td>0.333333</td>\n      <td>0.333333</td>\n      <td>0.003980</td>\n      <td>0.589563</td>\n      <td>0.75</td>\n      <td>0.224037</td>\n      <td>0.153565</td>\n      <td>0.000000</td>\n      <td>0.0</td>\n      <td>0.0</td>\n      <td>0.0</td>\n      <td>1.000000</td>\n      <td>0.50</td>\n      <td>4.430817</td>\n      <td>9.565214</td>\n      <td>0.116052</td>\n      <td>0.0</td>\n      <td>0.209760</td>\n      <td>0.333333</td>\n      <td>0.187398</td>\n      <td>0.0</td>\n      <td>0.583333</td>\n    </tr>\n  </tbody>\n</table>\n</div>"
     },
     "metadata": {},
     "execution_count": 124
    }
   ],
   "source": [
    "pd.set_option('display.max_columns', None)\n",
    "data.head()"
   ]
  },
  {
   "cell_type": "code",
   "execution_count": 125,
   "metadata": {},
   "outputs": [
    {
     "output_type": "execute_result",
     "data": {
      "text/plain": [
       "(1460, 254)"
      ]
     },
     "metadata": {},
     "execution_count": 125
    }
   ],
   "source": [
    "data.shape"
   ]
  },
  {
   "cell_type": "code",
   "execution_count": 126,
   "metadata": {},
   "outputs": [
    {
     "output_type": "execute_result",
     "data": {
      "text/plain": [
       "      x0_FV  x0_RH  x0_RL  x0_RM  x0_rare  x1_Pave  x1_rare  x2_Grvl  x2_No  \\\n",
       "1455    0.0    0.0    1.0    0.0      0.0      1.0      0.0      0.0    1.0   \n",
       "1456    0.0    0.0    1.0    0.0      0.0      1.0      0.0      0.0    1.0   \n",
       "1457    0.0    0.0    1.0    0.0      0.0      1.0      0.0      0.0    1.0   \n",
       "1458    0.0    0.0    1.0    0.0      0.0      1.0      0.0      0.0    1.0   \n",
       "1459    0.0    0.0    1.0    0.0      0.0      1.0      0.0      0.0    1.0   \n",
       "\n",
       "      x2_Pave  x3_IR1  x3_IR2  x3_Reg  x3_rare  x4_AllPub  x4_rare  x5_Corner  \\\n",
       "1455      0.0     0.0     0.0     1.0      0.0        1.0      0.0        0.0   \n",
       "1456      0.0     0.0     0.0     1.0      0.0        1.0      0.0        0.0   \n",
       "1457      0.0     0.0     0.0     1.0      0.0        1.0      0.0        0.0   \n",
       "1458      0.0     0.0     0.0     1.0      0.0        1.0      0.0        0.0   \n",
       "1459      0.0     0.0     0.0     1.0      0.0        1.0      0.0        0.0   \n",
       "\n",
       "      x5_CulDSac  x5_FR2  x5_Inside  x5_rare  x6_Blmngtn  x6_BrDale  \\\n",
       "1455         0.0     0.0        1.0      0.0         0.0        0.0   \n",
       "1456         0.0     0.0        1.0      0.0         0.0        0.0   \n",
       "1457         0.0     0.0        1.0      0.0         0.0        0.0   \n",
       "1458         0.0     0.0        1.0      0.0         0.0        0.0   \n",
       "1459         0.0     0.0        1.0      0.0         0.0        0.0   \n",
       "\n",
       "      x6_BrkSide  x6_ClearCr  x6_CollgCr  x6_Crawfor  x6_Edwards  x6_Gilbert  \\\n",
       "1455         0.0         0.0         0.0         0.0         0.0         1.0   \n",
       "1456         0.0         0.0         0.0         0.0         0.0         0.0   \n",
       "1457         0.0         0.0         0.0         1.0         0.0         0.0   \n",
       "1458         0.0         0.0         0.0         0.0         0.0         0.0   \n",
       "1459         0.0         0.0         0.0         0.0         1.0         0.0   \n",
       "\n",
       "      x6_IDOTRR  x6_MeadowV  x6_Mitchel  x6_NAmes  x6_NWAmes  x6_NoRidge  \\\n",
       "1455        0.0         0.0         0.0       0.0        0.0         0.0   \n",
       "1456        0.0         0.0         0.0       0.0        1.0         0.0   \n",
       "1457        0.0         0.0         0.0       0.0        0.0         0.0   \n",
       "1458        0.0         0.0         0.0       1.0        0.0         0.0   \n",
       "1459        0.0         0.0         0.0       0.0        0.0         0.0   \n",
       "\n",
       "      x6_NridgHt  x6_OldTown  x6_SWISU  x6_Sawyer  x6_SawyerW  x6_Somerst  \\\n",
       "1455         0.0         0.0       0.0        0.0         0.0         0.0   \n",
       "1456         0.0         0.0       0.0        0.0         0.0         0.0   \n",
       "1457         0.0         0.0       0.0        0.0         0.0         0.0   \n",
       "1458         0.0         0.0       0.0        0.0         0.0         0.0   \n",
       "1459         0.0         0.0       0.0        0.0         0.0         0.0   \n",
       "\n",
       "      x6_StoneBr  x6_Timber  x6_rare  x7_Gable  x7_Hip  x7_rare  x8_CompShg  \\\n",
       "1455         0.0        0.0      0.0       1.0     0.0      0.0         1.0   \n",
       "1456         0.0        0.0      0.0       1.0     0.0      0.0         1.0   \n",
       "1457         0.0        0.0      0.0       1.0     0.0      0.0         1.0   \n",
       "1458         0.0        0.0      0.0       0.0     1.0      0.0         1.0   \n",
       "1459         0.0        0.0      0.0       1.0     0.0      0.0         1.0   \n",
       "\n",
       "      x8_rare  x9_AsbShng  x9_BrkFace  x9_CemntBd  x9_HdBoard  x9_MetalSd  \\\n",
       "1455      0.0         0.0         0.0         0.0         0.0         0.0   \n",
       "1456      0.0         0.0         0.0         0.0         0.0         0.0   \n",
       "1457      0.0         0.0         0.0         1.0         0.0         0.0   \n",
       "1458      0.0         0.0         0.0         0.0         0.0         1.0   \n",
       "1459      0.0         0.0         0.0         0.0         1.0         0.0   \n",
       "\n",
       "      x9_Plywood  x9_Stucco  x9_VinylSd  x9_Wd Sdng  x9_WdShing  x9_rare  \\\n",
       "1455         0.0        0.0         1.0         0.0         0.0      0.0   \n",
       "1456         1.0        0.0         0.0         0.0         0.0      0.0   \n",
       "1457         0.0        0.0         0.0         0.0         0.0      0.0   \n",
       "1458         0.0        0.0         0.0         0.0         0.0      0.0   \n",
       "1459         0.0        0.0         0.0         0.0         0.0      0.0   \n",
       "\n",
       "      x10_AsbShng  x10_BrkFace  x10_CmentBd  x10_HdBoard  x10_MetalSd  \\\n",
       "1455          0.0          0.0          0.0          0.0          0.0   \n",
       "1456          0.0          0.0          0.0          0.0          0.0   \n",
       "1457          0.0          0.0          1.0          0.0          0.0   \n",
       "1458          0.0          0.0          0.0          0.0          1.0   \n",
       "1459          0.0          0.0          0.0          1.0          0.0   \n",
       "\n",
       "      x10_Plywood  x10_Stucco  x10_VinylSd  x10_Wd Sdng  x10_Wd Shng  \\\n",
       "1455          0.0         0.0          1.0          0.0          0.0   \n",
       "1456          1.0         0.0          0.0          0.0          0.0   \n",
       "1457          0.0         0.0          0.0          0.0          0.0   \n",
       "1458          0.0         0.0          0.0          0.0          0.0   \n",
       "1459          0.0         0.0          0.0          0.0          0.0   \n",
       "\n",
       "      x10_rare  x11_BrkCmn  x11_BrkFace  x11_None  x11_Stone  x11_rare  \\\n",
       "1455       0.0         0.0          0.0       1.0        0.0       0.0   \n",
       "1456       0.0         0.0          0.0       0.0        1.0       0.0   \n",
       "1457       0.0         0.0          0.0       1.0        0.0       0.0   \n",
       "1458       0.0         0.0          0.0       1.0        0.0       0.0   \n",
       "1459       0.0         0.0          0.0       1.0        0.0       0.0   \n",
       "\n",
       "      x12_BrkTil  x12_CBlock  x12_PConc  x12_Slab  x12_rare  x13_GasA  \\\n",
       "1455         0.0         0.0        1.0       0.0       0.0       1.0   \n",
       "1456         0.0         1.0        0.0       0.0       0.0       1.0   \n",
       "1457         0.0         0.0        0.0       0.0       1.0       1.0   \n",
       "1458         0.0         1.0        0.0       0.0       0.0       1.0   \n",
       "1459         0.0         1.0        0.0       0.0       0.0       1.0   \n",
       "\n",
       "      x13_GasW  x13_rare  x14_N  x14_Y  x15_FuseA  x15_FuseF  x15_SBrkr  \\\n",
       "1455       0.0       0.0    0.0    1.0        0.0        0.0        1.0   \n",
       "1456       0.0       0.0    0.0    1.0        0.0        0.0        1.0   \n",
       "1457       0.0       0.0    0.0    1.0        0.0        0.0        1.0   \n",
       "1458       0.0       0.0    0.0    1.0        1.0        0.0        0.0   \n",
       "1459       0.0       0.0    0.0    1.0        0.0        0.0        1.0   \n",
       "\n",
       "      x15_rare  x16_Attchd  x16_Basment  x16_BuiltIn  x16_Detchd  x16_No  \\\n",
       "1455       0.0         1.0          0.0          0.0         0.0     0.0   \n",
       "1456       0.0         1.0          0.0          0.0         0.0     0.0   \n",
       "1457       0.0         1.0          0.0          0.0         0.0     0.0   \n",
       "1458       0.0         1.0          0.0          0.0         0.0     0.0   \n",
       "1459       0.0         1.0          0.0          0.0         0.0     0.0   \n",
       "\n",
       "      x16_rare  x17_COD  x17_New  x17_WD  x17_rare  x18_Abnorml  x18_Family  \\\n",
       "1455       0.0      0.0      0.0     1.0       0.0          0.0         0.0   \n",
       "1456       0.0      0.0      0.0     1.0       0.0          0.0         0.0   \n",
       "1457       0.0      0.0      0.0     1.0       0.0          0.0         0.0   \n",
       "1458       0.0      0.0      0.0     1.0       0.0          0.0         0.0   \n",
       "1459       0.0      0.0      0.0     1.0       0.0          0.0         0.0   \n",
       "\n",
       "      x18_Normal  x18_Partial  x18_rare  x19_No  x19_Shed  x19_rare  x20_Bnk  \\\n",
       "1455         1.0          0.0       0.0     1.0       0.0       0.0      0.0   \n",
       "1456         1.0          0.0       0.0     1.0       0.0       0.0      0.0   \n",
       "1457         1.0          0.0       0.0     0.0       1.0       0.0      0.0   \n",
       "1458         1.0          0.0       0.0     1.0       0.0       0.0      0.0   \n",
       "1459         1.0          0.0       0.0     1.0       0.0       0.0      0.0   \n",
       "\n",
       "      x20_HLS  x20_Low  x20_Lvl  x21_Gtl  x21_Mod  x21_rare  x22_Artery  \\\n",
       "1455      0.0      0.0      1.0      1.0      0.0       0.0         0.0   \n",
       "1456      0.0      0.0      1.0      1.0      0.0       0.0         0.0   \n",
       "1457      0.0      0.0      1.0      1.0      0.0       0.0         0.0   \n",
       "1458      0.0      0.0      1.0      1.0      0.0       0.0         0.0   \n",
       "1459      0.0      0.0      1.0      1.0      0.0       0.0         0.0   \n",
       "\n",
       "      x22_Feedr  x22_Norm  x22_PosN  x22_RRAn  x22_rare  x23_Norm  x23_rare  \\\n",
       "1455        0.0       1.0       0.0       0.0       0.0       1.0       0.0   \n",
       "1456        0.0       1.0       0.0       0.0       0.0       1.0       0.0   \n",
       "1457        0.0       1.0       0.0       0.0       0.0       1.0       0.0   \n",
       "1458        0.0       1.0       0.0       0.0       0.0       1.0       0.0   \n",
       "1459        0.0       1.0       0.0       0.0       0.0       1.0       0.0   \n",
       "\n",
       "      x24_1Fam  x24_2fmCon  x24_Duplex  x24_Twnhs  x24_TwnhsE  x25_1.5Fin  \\\n",
       "1455       1.0         0.0         0.0        0.0         0.0         0.0   \n",
       "1456       1.0         0.0         0.0        0.0         0.0         0.0   \n",
       "1457       1.0         0.0         0.0        0.0         0.0         0.0   \n",
       "1458       1.0         0.0         0.0        0.0         0.0         0.0   \n",
       "1459       1.0         0.0         0.0        0.0         0.0         0.0   \n",
       "\n",
       "      x25_1Story  x25_2Story  x25_SFoyer  x25_SLvl  x25_rare  x26_0  x26_3  \\\n",
       "1455         0.0         1.0         0.0       0.0       0.0    0.0    0.0   \n",
       "1456         1.0         0.0         0.0       0.0       0.0    0.0    0.0   \n",
       "1457         0.0         1.0         0.0       0.0       0.0    0.0    0.0   \n",
       "1458         1.0         0.0         0.0       0.0       0.0    0.0    0.0   \n",
       "1459         1.0         0.0         0.0       0.0       0.0    0.0    0.0   \n",
       "\n",
       "      x26_4  x26_5  x26_6  x26_7  x26_8  x26_9  x26_10  x27_0  x27_3  x27_4  \\\n",
       "1455    0.0    0.0    1.0    0.0    0.0    0.0     0.0    0.0    0.0    0.0   \n",
       "1456    0.0    0.0    1.0    0.0    0.0    0.0     0.0    0.0    0.0    0.0   \n",
       "1457    0.0    0.0    0.0    1.0    0.0    0.0     0.0    0.0    0.0    0.0   \n",
       "1458    0.0    1.0    0.0    0.0    0.0    0.0     0.0    0.0    0.0    0.0   \n",
       "1459    0.0    1.0    0.0    0.0    0.0    0.0     0.0    0.0    0.0    0.0   \n",
       "\n",
       "      x27_5  x27_6  x27_7  x27_8  x27_9  x28_Ex  x28_Gd  x28_TA  x28_rare  \\\n",
       "1455    1.0    0.0    0.0    0.0    0.0     0.0     0.0     1.0       0.0   \n",
       "1456    0.0    1.0    0.0    0.0    0.0     0.0     0.0     1.0       0.0   \n",
       "1457    0.0    0.0    0.0    0.0    1.0     1.0     0.0     0.0       0.0   \n",
       "1458    0.0    1.0    0.0    0.0    0.0     0.0     0.0     1.0       0.0   \n",
       "1459    0.0    1.0    0.0    0.0    0.0     0.0     1.0     0.0       0.0   \n",
       "\n",
       "      x29_Fa  x29_Gd  x29_TA  x29_rare  x30_Ex  x30_Fa  x30_Gd  x30_No  \\\n",
       "1455     0.0     0.0     1.0       0.0     0.0     0.0     1.0     0.0   \n",
       "1456     0.0     0.0     1.0       0.0     0.0     0.0     1.0     0.0   \n",
       "1457     0.0     1.0     0.0       0.0     0.0     0.0     0.0     0.0   \n",
       "1458     0.0     0.0     1.0       0.0     0.0     0.0     0.0     0.0   \n",
       "1459     0.0     0.0     1.0       0.0     0.0     0.0     0.0     0.0   \n",
       "\n",
       "      x30_TA  x31_Fa  x31_Gd  x31_No  x31_TA  x31_rare  x32_Av  x32_Gd  \\\n",
       "1455     0.0     0.0     0.0     0.0     1.0       0.0     0.0     0.0   \n",
       "1456     0.0     0.0     0.0     0.0     1.0       0.0     0.0     0.0   \n",
       "1457     1.0     0.0     1.0     0.0     0.0       0.0     0.0     0.0   \n",
       "1458     1.0     0.0     0.0     0.0     1.0       0.0     0.0     0.0   \n",
       "1459     1.0     0.0     0.0     0.0     1.0       0.0     0.0     0.0   \n",
       "\n",
       "      x32_Mn  x32_No  x33_ALQ  x33_BLQ  x33_GLQ  x33_LwQ  x33_No  x33_Rec  \\\n",
       "1455     0.0     1.0      0.0      0.0      0.0      0.0     0.0      0.0   \n",
       "1456     0.0     1.0      1.0      0.0      0.0      0.0     0.0      0.0   \n",
       "1457     0.0     1.0      0.0      0.0      1.0      0.0     0.0      0.0   \n",
       "1458     1.0     0.0      0.0      0.0      1.0      0.0     0.0      0.0   \n",
       "1459     0.0     1.0      0.0      1.0      0.0      0.0     0.0      0.0   \n",
       "\n",
       "      x33_Unf  x34_Ex  x34_Fa  x34_Gd  x34_TA  x34_rare  x35_Ex  x35_Fa  \\\n",
       "1455      1.0     1.0     0.0     0.0     0.0       0.0     0.0     0.0   \n",
       "1456      0.0     0.0     0.0     0.0     1.0       0.0     0.0     0.0   \n",
       "1457      0.0     1.0     0.0     0.0     0.0       0.0     0.0     0.0   \n",
       "1458      0.0     0.0     0.0     1.0     0.0       0.0     0.0     0.0   \n",
       "1459      0.0     0.0     0.0     1.0     0.0       0.0     0.0     0.0   \n",
       "\n",
       "      x35_Gd  x35_No  x35_Po  x35_TA  x36_Fin  x36_No  x36_RFn  x36_Unf  \\\n",
       "1455     0.0     0.0     0.0     1.0      0.0     0.0      1.0      0.0   \n",
       "1456     0.0     0.0     0.0     1.0      0.0     0.0      0.0      1.0   \n",
       "1457     1.0     0.0     0.0     0.0      0.0     0.0      1.0      0.0   \n",
       "1458     0.0     1.0     0.0     0.0      0.0     0.0      0.0      1.0   \n",
       "1459     0.0     1.0     0.0     0.0      1.0     0.0      0.0      0.0   \n",
       "\n",
       "      x37_Fa  x37_No  x37_TA  x37_rare  x38_Fa  x38_No  x38_TA  x38_rare  \\\n",
       "1455     0.0     0.0     1.0       0.0     0.0     0.0     1.0       0.0   \n",
       "1456     0.0     0.0     1.0       0.0     0.0     0.0     1.0       0.0   \n",
       "1457     0.0     0.0     1.0       0.0     0.0     0.0     1.0       0.0   \n",
       "1458     0.0     0.0     1.0       0.0     0.0     0.0     1.0       0.0   \n",
       "1459     0.0     0.0     1.0       0.0     0.0     0.0     1.0       0.0   \n",
       "\n",
       "      x39_No  x39_rare  x40_GdPrv  x40_GdWo  x40_MnPrv  x40_No  x40_rare  \\\n",
       "1455     1.0       0.0        0.0       0.0        0.0     1.0       0.0   \n",
       "1456     1.0       0.0        0.0       0.0        1.0     0.0       0.0   \n",
       "1457     1.0       0.0        1.0       0.0        0.0     0.0       0.0   \n",
       "1458     1.0       0.0        0.0       0.0        0.0     1.0       0.0   \n",
       "1459     1.0       0.0        0.0       0.0        0.0     1.0       0.0   \n",
       "\n",
       "      x41_ALQ  x41_BLQ  x41_LwQ  x41_No  x41_Rec  x41_Unf  x41_rare  x42_Ex  \\\n",
       "1455      0.0      0.0      0.0     0.0      0.0      1.0       0.0     0.0   \n",
       "1456      0.0      0.0      0.0     0.0      1.0      0.0       0.0     0.0   \n",
       "1457      0.0      0.0      0.0     0.0      0.0      1.0       0.0     0.0   \n",
       "1458      0.0      0.0      0.0     0.0      1.0      0.0       0.0     0.0   \n",
       "1459      0.0      0.0      1.0     0.0      0.0      0.0       0.0     0.0   \n",
       "\n",
       "      x42_Fa  x42_Gd  x42_TA  x43_N  x43_P  x43_Y  MasVnrArea  1stFlrSF  \\\n",
       "1455     0.0     0.0     1.0    0.0    0.0    1.0    0.000000  6.859615   \n",
       "1456     0.0     0.0     1.0    0.0    0.0    1.0    0.074375  7.636752   \n",
       "1457     0.0     1.0     0.0    0.0    0.0    1.0    0.000000  7.080026   \n",
       "1458     0.0     1.0     0.0    0.0    0.0    1.0    0.000000  6.982863   \n",
       "1459     0.0     0.0     1.0    0.0    0.0    1.0    0.000000  7.135687   \n",
       "\n",
       "      2ndFlrSF  LowQualFinSF  GrLivArea  FullBath  HalfBath  BedroomAbvGr  \\\n",
       "1455  0.336077           0.0   7.406711  0.666667       0.5         0.375   \n",
       "1456  0.000000           0.0   7.636752  0.666667       0.0         0.375   \n",
       "1457  0.557869           0.0   7.757906  0.666667       0.0         0.500   \n",
       "1458  0.000000           0.0   6.982863  0.333333       0.0         0.250   \n",
       "1459  0.000000           0.0   7.135687  0.333333       0.5         0.375   \n",
       "\n",
       "      KitchenAbvGr  Fireplaces  GarageYrBlt  GarageArea  GarageCars  \\\n",
       "1455      0.333333    0.333333     0.003980    0.324401        0.50   \n",
       "1456      0.333333    0.666667     0.015920    0.352609        0.50   \n",
       "1457      0.333333    0.666667     0.034328    0.177715        0.25   \n",
       "1458      0.333333    0.000000     0.029851    0.169252        0.25   \n",
       "1459      0.333333    0.000000     0.021393    0.194640        0.25   \n",
       "\n",
       "      WoodDeckSF  OpenPorchSF  EnclosedPorch  3SsnPorch  ScreenPorch  \\\n",
       "1455    0.000000     0.073126       0.000000        0.0          0.0   \n",
       "1456    0.407235     0.000000       0.000000        0.0          0.0   \n",
       "1457    0.000000     0.109689       0.000000        0.0          0.0   \n",
       "1458    0.427071     0.000000       0.202899        0.0          0.0   \n",
       "1459    0.858810     0.124314       0.000000        0.0          0.0   \n",
       "\n",
       "      PoolArea    MoSold  YrSold  LotFrontage   LotArea  BsmtFinSF1  \\\n",
       "1455       0.0  0.636364    0.25     4.127134  8.976768    0.000000   \n",
       "1456       0.0  0.090909    1.00     4.442651  9.486076    0.139972   \n",
       "1457       0.0  0.363636    1.00     4.189655  9.109636    0.048724   \n",
       "1458       0.0  0.272727    1.00     4.219508  9.181632    0.008682   \n",
       "1459       0.0  0.454545    0.50     4.317488  9.204020    0.147059   \n",
       "\n",
       "      BsmtFinSF2  BsmtUnfSF  BsmtFullBath  TotalBsmtSF  BsmtHalfBath  \\\n",
       "1455    0.000000   0.407962      0.000000     0.155974           0.0   \n",
       "1456    0.110583   0.252140      0.333333     0.252373           0.0   \n",
       "1457    0.000000   0.375428      0.000000     0.188543           0.0   \n",
       "1458    0.698100   0.000000      0.333333     0.176432           0.0   \n",
       "1459    0.196744   0.058219      0.333333     0.205565           0.0   \n",
       "\n",
       "      TotRmsAbvGrd  \n",
       "1455      0.416667  \n",
       "1456      0.416667  \n",
       "1457      0.583333  \n",
       "1458      0.250000  \n",
       "1459      0.333333  "
      ],
      "text/html": "<div>\n<style scoped>\n    .dataframe tbody tr th:only-of-type {\n        vertical-align: middle;\n    }\n\n    .dataframe tbody tr th {\n        vertical-align: top;\n    }\n\n    .dataframe thead th {\n        text-align: right;\n    }\n</style>\n<table border=\"1\" class=\"dataframe\">\n  <thead>\n    <tr style=\"text-align: right;\">\n      <th></th>\n      <th>x0_FV</th>\n      <th>x0_RH</th>\n      <th>x0_RL</th>\n      <th>x0_RM</th>\n      <th>x0_rare</th>\n      <th>x1_Pave</th>\n      <th>x1_rare</th>\n      <th>x2_Grvl</th>\n      <th>x2_No</th>\n      <th>x2_Pave</th>\n      <th>x3_IR1</th>\n      <th>x3_IR2</th>\n      <th>x3_Reg</th>\n      <th>x3_rare</th>\n      <th>x4_AllPub</th>\n      <th>x4_rare</th>\n      <th>x5_Corner</th>\n      <th>x5_CulDSac</th>\n      <th>x5_FR2</th>\n      <th>x5_Inside</th>\n      <th>x5_rare</th>\n      <th>x6_Blmngtn</th>\n      <th>x6_BrDale</th>\n      <th>x6_BrkSide</th>\n      <th>x6_ClearCr</th>\n      <th>x6_CollgCr</th>\n      <th>x6_Crawfor</th>\n      <th>x6_Edwards</th>\n      <th>x6_Gilbert</th>\n      <th>x6_IDOTRR</th>\n      <th>x6_MeadowV</th>\n      <th>x6_Mitchel</th>\n      <th>x6_NAmes</th>\n      <th>x6_NWAmes</th>\n      <th>x6_NoRidge</th>\n      <th>x6_NridgHt</th>\n      <th>x6_OldTown</th>\n      <th>x6_SWISU</th>\n      <th>x6_Sawyer</th>\n      <th>x6_SawyerW</th>\n      <th>x6_Somerst</th>\n      <th>x6_StoneBr</th>\n      <th>x6_Timber</th>\n      <th>x6_rare</th>\n      <th>x7_Gable</th>\n      <th>x7_Hip</th>\n      <th>x7_rare</th>\n      <th>x8_CompShg</th>\n      <th>x8_rare</th>\n      <th>x9_AsbShng</th>\n      <th>x9_BrkFace</th>\n      <th>x9_CemntBd</th>\n      <th>x9_HdBoard</th>\n      <th>x9_MetalSd</th>\n      <th>x9_Plywood</th>\n      <th>x9_Stucco</th>\n      <th>x9_VinylSd</th>\n      <th>x9_Wd Sdng</th>\n      <th>x9_WdShing</th>\n      <th>x9_rare</th>\n      <th>x10_AsbShng</th>\n      <th>x10_BrkFace</th>\n      <th>x10_CmentBd</th>\n      <th>x10_HdBoard</th>\n      <th>x10_MetalSd</th>\n      <th>x10_Plywood</th>\n      <th>x10_Stucco</th>\n      <th>x10_VinylSd</th>\n      <th>x10_Wd Sdng</th>\n      <th>x10_Wd Shng</th>\n      <th>x10_rare</th>\n      <th>x11_BrkCmn</th>\n      <th>x11_BrkFace</th>\n      <th>x11_None</th>\n      <th>x11_Stone</th>\n      <th>x11_rare</th>\n      <th>x12_BrkTil</th>\n      <th>x12_CBlock</th>\n      <th>x12_PConc</th>\n      <th>x12_Slab</th>\n      <th>x12_rare</th>\n      <th>x13_GasA</th>\n      <th>x13_GasW</th>\n      <th>x13_rare</th>\n      <th>x14_N</th>\n      <th>x14_Y</th>\n      <th>x15_FuseA</th>\n      <th>x15_FuseF</th>\n      <th>x15_SBrkr</th>\n      <th>x15_rare</th>\n      <th>x16_Attchd</th>\n      <th>x16_Basment</th>\n      <th>x16_BuiltIn</th>\n      <th>x16_Detchd</th>\n      <th>x16_No</th>\n      <th>x16_rare</th>\n      <th>x17_COD</th>\n      <th>x17_New</th>\n      <th>x17_WD</th>\n      <th>x17_rare</th>\n      <th>x18_Abnorml</th>\n      <th>x18_Family</th>\n      <th>x18_Normal</th>\n      <th>x18_Partial</th>\n      <th>x18_rare</th>\n      <th>x19_No</th>\n      <th>x19_Shed</th>\n      <th>x19_rare</th>\n      <th>x20_Bnk</th>\n      <th>x20_HLS</th>\n      <th>x20_Low</th>\n      <th>x20_Lvl</th>\n      <th>x21_Gtl</th>\n      <th>x21_Mod</th>\n      <th>x21_rare</th>\n      <th>x22_Artery</th>\n      <th>x22_Feedr</th>\n      <th>x22_Norm</th>\n      <th>x22_PosN</th>\n      <th>x22_RRAn</th>\n      <th>x22_rare</th>\n      <th>x23_Norm</th>\n      <th>x23_rare</th>\n      <th>x24_1Fam</th>\n      <th>x24_2fmCon</th>\n      <th>x24_Duplex</th>\n      <th>x24_Twnhs</th>\n      <th>x24_TwnhsE</th>\n      <th>x25_1.5Fin</th>\n      <th>x25_1Story</th>\n      <th>x25_2Story</th>\n      <th>x25_SFoyer</th>\n      <th>x25_SLvl</th>\n      <th>x25_rare</th>\n      <th>x26_0</th>\n      <th>x26_3</th>\n      <th>x26_4</th>\n      <th>x26_5</th>\n      <th>x26_6</th>\n      <th>x26_7</th>\n      <th>x26_8</th>\n      <th>x26_9</th>\n      <th>x26_10</th>\n      <th>x27_0</th>\n      <th>x27_3</th>\n      <th>x27_4</th>\n      <th>x27_5</th>\n      <th>x27_6</th>\n      <th>x27_7</th>\n      <th>x27_8</th>\n      <th>x27_9</th>\n      <th>x28_Ex</th>\n      <th>x28_Gd</th>\n      <th>x28_TA</th>\n      <th>x28_rare</th>\n      <th>x29_Fa</th>\n      <th>x29_Gd</th>\n      <th>x29_TA</th>\n      <th>x29_rare</th>\n      <th>x30_Ex</th>\n      <th>x30_Fa</th>\n      <th>x30_Gd</th>\n      <th>x30_No</th>\n      <th>x30_TA</th>\n      <th>x31_Fa</th>\n      <th>x31_Gd</th>\n      <th>x31_No</th>\n      <th>x31_TA</th>\n      <th>x31_rare</th>\n      <th>x32_Av</th>\n      <th>x32_Gd</th>\n      <th>x32_Mn</th>\n      <th>x32_No</th>\n      <th>x33_ALQ</th>\n      <th>x33_BLQ</th>\n      <th>x33_GLQ</th>\n      <th>x33_LwQ</th>\n      <th>x33_No</th>\n      <th>x33_Rec</th>\n      <th>x33_Unf</th>\n      <th>x34_Ex</th>\n      <th>x34_Fa</th>\n      <th>x34_Gd</th>\n      <th>x34_TA</th>\n      <th>x34_rare</th>\n      <th>x35_Ex</th>\n      <th>x35_Fa</th>\n      <th>x35_Gd</th>\n      <th>x35_No</th>\n      <th>x35_Po</th>\n      <th>x35_TA</th>\n      <th>x36_Fin</th>\n      <th>x36_No</th>\n      <th>x36_RFn</th>\n      <th>x36_Unf</th>\n      <th>x37_Fa</th>\n      <th>x37_No</th>\n      <th>x37_TA</th>\n      <th>x37_rare</th>\n      <th>x38_Fa</th>\n      <th>x38_No</th>\n      <th>x38_TA</th>\n      <th>x38_rare</th>\n      <th>x39_No</th>\n      <th>x39_rare</th>\n      <th>x40_GdPrv</th>\n      <th>x40_GdWo</th>\n      <th>x40_MnPrv</th>\n      <th>x40_No</th>\n      <th>x40_rare</th>\n      <th>x41_ALQ</th>\n      <th>x41_BLQ</th>\n      <th>x41_LwQ</th>\n      <th>x41_No</th>\n      <th>x41_Rec</th>\n      <th>x41_Unf</th>\n      <th>x41_rare</th>\n      <th>x42_Ex</th>\n      <th>x42_Fa</th>\n      <th>x42_Gd</th>\n      <th>x42_TA</th>\n      <th>x43_N</th>\n      <th>x43_P</th>\n      <th>x43_Y</th>\n      <th>MasVnrArea</th>\n      <th>1stFlrSF</th>\n      <th>2ndFlrSF</th>\n      <th>LowQualFinSF</th>\n      <th>GrLivArea</th>\n      <th>FullBath</th>\n      <th>HalfBath</th>\n      <th>BedroomAbvGr</th>\n      <th>KitchenAbvGr</th>\n      <th>Fireplaces</th>\n      <th>GarageYrBlt</th>\n      <th>GarageArea</th>\n      <th>GarageCars</th>\n      <th>WoodDeckSF</th>\n      <th>OpenPorchSF</th>\n      <th>EnclosedPorch</th>\n      <th>3SsnPorch</th>\n      <th>ScreenPorch</th>\n      <th>PoolArea</th>\n      <th>MoSold</th>\n      <th>YrSold</th>\n      <th>LotFrontage</th>\n      <th>LotArea</th>\n      <th>BsmtFinSF1</th>\n      <th>BsmtFinSF2</th>\n      <th>BsmtUnfSF</th>\n      <th>BsmtFullBath</th>\n      <th>TotalBsmtSF</th>\n      <th>BsmtHalfBath</th>\n      <th>TotRmsAbvGrd</th>\n    </tr>\n  </thead>\n  <tbody>\n    <tr>\n      <th>1455</th>\n      <td>0.0</td>\n      <td>0.0</td>\n      <td>1.0</td>\n      <td>0.0</td>\n      <td>0.0</td>\n      <td>1.0</td>\n      <td>0.0</td>\n      <td>0.0</td>\n      <td>1.0</td>\n      <td>0.0</td>\n      <td>0.0</td>\n      <td>0.0</td>\n      <td>1.0</td>\n      <td>0.0</td>\n      <td>1.0</td>\n      <td>0.0</td>\n      <td>0.0</td>\n      <td>0.0</td>\n      <td>0.0</td>\n      <td>1.0</td>\n      <td>0.0</td>\n      <td>0.0</td>\n      <td>0.0</td>\n      <td>0.0</td>\n      <td>0.0</td>\n      <td>0.0</td>\n      <td>0.0</td>\n      <td>0.0</td>\n      <td>1.0</td>\n      <td>0.0</td>\n      <td>0.0</td>\n      <td>0.0</td>\n      <td>0.0</td>\n      <td>0.0</td>\n      <td>0.0</td>\n      <td>0.0</td>\n      <td>0.0</td>\n      <td>0.0</td>\n      <td>0.0</td>\n      <td>0.0</td>\n      <td>0.0</td>\n      <td>0.0</td>\n      <td>0.0</td>\n      <td>0.0</td>\n      <td>1.0</td>\n      <td>0.0</td>\n      <td>0.0</td>\n      <td>1.0</td>\n      <td>0.0</td>\n      <td>0.0</td>\n      <td>0.0</td>\n      <td>0.0</td>\n      <td>0.0</td>\n      <td>0.0</td>\n      <td>0.0</td>\n      <td>0.0</td>\n      <td>1.0</td>\n      <td>0.0</td>\n      <td>0.0</td>\n      <td>0.0</td>\n      <td>0.0</td>\n      <td>0.0</td>\n      <td>0.0</td>\n      <td>0.0</td>\n      <td>0.0</td>\n      <td>0.0</td>\n      <td>0.0</td>\n      <td>1.0</td>\n      <td>0.0</td>\n      <td>0.0</td>\n      <td>0.0</td>\n      <td>0.0</td>\n      <td>0.0</td>\n      <td>1.0</td>\n      <td>0.0</td>\n      <td>0.0</td>\n      <td>0.0</td>\n      <td>0.0</td>\n      <td>1.0</td>\n      <td>0.0</td>\n      <td>0.0</td>\n      <td>1.0</td>\n      <td>0.0</td>\n      <td>0.0</td>\n      <td>0.0</td>\n      <td>1.0</td>\n      <td>0.0</td>\n      <td>0.0</td>\n      <td>1.0</td>\n      <td>0.0</td>\n      <td>1.0</td>\n      <td>0.0</td>\n      <td>0.0</td>\n      <td>0.0</td>\n      <td>0.0</td>\n      <td>0.0</td>\n      <td>0.0</td>\n      <td>0.0</td>\n      <td>1.0</td>\n      <td>0.0</td>\n      <td>0.0</td>\n      <td>0.0</td>\n      <td>1.0</td>\n      <td>0.0</td>\n      <td>0.0</td>\n      <td>1.0</td>\n      <td>0.0</td>\n      <td>0.0</td>\n      <td>0.0</td>\n      <td>0.0</td>\n      <td>0.0</td>\n      <td>1.0</td>\n      <td>1.0</td>\n      <td>0.0</td>\n      <td>0.0</td>\n      <td>0.0</td>\n      <td>0.0</td>\n      <td>1.0</td>\n      <td>0.0</td>\n      <td>0.0</td>\n      <td>0.0</td>\n      <td>1.0</td>\n      <td>0.0</td>\n      <td>1.0</td>\n      <td>0.0</td>\n      <td>0.0</td>\n      <td>0.0</td>\n      <td>0.0</td>\n      <td>0.0</td>\n      <td>0.0</td>\n      <td>1.0</td>\n      <td>0.0</td>\n      <td>0.0</td>\n      <td>0.0</td>\n      <td>0.0</td>\n      <td>0.0</td>\n      <td>0.0</td>\n      <td>0.0</td>\n      <td>1.0</td>\n      <td>0.0</td>\n      <td>0.0</td>\n      <td>0.0</td>\n      <td>0.0</td>\n      <td>0.0</td>\n      <td>0.0</td>\n      <td>0.0</td>\n      <td>1.0</td>\n      <td>0.0</td>\n      <td>0.0</td>\n      <td>0.0</td>\n      <td>0.0</td>\n      <td>0.0</td>\n      <td>0.0</td>\n      <td>1.0</td>\n      <td>0.0</td>\n      <td>0.0</td>\n      <td>0.0</td>\n      <td>1.0</td>\n      <td>0.0</td>\n      <td>0.0</td>\n      <td>0.0</td>\n      <td>1.0</td>\n      <td>0.0</td>\n      <td>0.0</td>\n      <td>0.0</td>\n      <td>0.0</td>\n      <td>0.0</td>\n      <td>1.0</td>\n      <td>0.0</td>\n      <td>0.0</td>\n      <td>0.0</td>\n      <td>0.0</td>\n      <td>1.0</td>\n      <td>0.0</td>\n      <td>0.0</td>\n      <td>0.0</td>\n      <td>0.0</td>\n      <td>0.0</td>\n      <td>0.0</td>\n      <td>1.0</td>\n      <td>1.0</td>\n      <td>0.0</td>\n      <td>0.0</td>\n      <td>0.0</td>\n      <td>0.0</td>\n      <td>0.0</td>\n      <td>0.0</td>\n      <td>0.0</td>\n      <td>0.0</td>\n      <td>0.0</td>\n      <td>1.0</td>\n      <td>0.0</td>\n      <td>0.0</td>\n      <td>1.0</td>\n      <td>0.0</td>\n      <td>0.0</td>\n      <td>0.0</td>\n      <td>1.0</td>\n      <td>0.0</td>\n      <td>0.0</td>\n      <td>0.0</td>\n      <td>1.0</td>\n      <td>0.0</td>\n      <td>1.0</td>\n      <td>0.0</td>\n      <td>0.0</td>\n      <td>0.0</td>\n      <td>0.0</td>\n      <td>1.0</td>\n      <td>0.0</td>\n      <td>0.0</td>\n      <td>0.0</td>\n      <td>0.0</td>\n      <td>0.0</td>\n      <td>0.0</td>\n      <td>1.0</td>\n      <td>0.0</td>\n      <td>0.0</td>\n      <td>0.0</td>\n      <td>0.0</td>\n      <td>1.0</td>\n      <td>0.0</td>\n      <td>0.0</td>\n      <td>1.0</td>\n      <td>0.000000</td>\n      <td>6.859615</td>\n      <td>0.336077</td>\n      <td>0.0</td>\n      <td>7.406711</td>\n      <td>0.666667</td>\n      <td>0.5</td>\n      <td>0.375</td>\n      <td>0.333333</td>\n      <td>0.333333</td>\n      <td>0.003980</td>\n      <td>0.324401</td>\n      <td>0.50</td>\n      <td>0.000000</td>\n      <td>0.073126</td>\n      <td>0.000000</td>\n      <td>0.0</td>\n      <td>0.0</td>\n      <td>0.0</td>\n      <td>0.636364</td>\n      <td>0.25</td>\n      <td>4.127134</td>\n      <td>8.976768</td>\n      <td>0.000000</td>\n      <td>0.000000</td>\n      <td>0.407962</td>\n      <td>0.000000</td>\n      <td>0.155974</td>\n      <td>0.0</td>\n      <td>0.416667</td>\n    </tr>\n    <tr>\n      <th>1456</th>\n      <td>0.0</td>\n      <td>0.0</td>\n      <td>1.0</td>\n      <td>0.0</td>\n      <td>0.0</td>\n      <td>1.0</td>\n      <td>0.0</td>\n      <td>0.0</td>\n      <td>1.0</td>\n      <td>0.0</td>\n      <td>0.0</td>\n      <td>0.0</td>\n      <td>1.0</td>\n      <td>0.0</td>\n      <td>1.0</td>\n      <td>0.0</td>\n      <td>0.0</td>\n      <td>0.0</td>\n      <td>0.0</td>\n      <td>1.0</td>\n      <td>0.0</td>\n      <td>0.0</td>\n      <td>0.0</td>\n      <td>0.0</td>\n      <td>0.0</td>\n      <td>0.0</td>\n      <td>0.0</td>\n      <td>0.0</td>\n      <td>0.0</td>\n      <td>0.0</td>\n      <td>0.0</td>\n      <td>0.0</td>\n      <td>0.0</td>\n      <td>1.0</td>\n      <td>0.0</td>\n      <td>0.0</td>\n      <td>0.0</td>\n      <td>0.0</td>\n      <td>0.0</td>\n      <td>0.0</td>\n      <td>0.0</td>\n      <td>0.0</td>\n      <td>0.0</td>\n      <td>0.0</td>\n      <td>1.0</td>\n      <td>0.0</td>\n      <td>0.0</td>\n      <td>1.0</td>\n      <td>0.0</td>\n      <td>0.0</td>\n      <td>0.0</td>\n      <td>0.0</td>\n      <td>0.0</td>\n      <td>0.0</td>\n      <td>1.0</td>\n      <td>0.0</td>\n      <td>0.0</td>\n      <td>0.0</td>\n      <td>0.0</td>\n      <td>0.0</td>\n      <td>0.0</td>\n      <td>0.0</td>\n      <td>0.0</td>\n      <td>0.0</td>\n      <td>0.0</td>\n      <td>1.0</td>\n      <td>0.0</td>\n      <td>0.0</td>\n      <td>0.0</td>\n      <td>0.0</td>\n      <td>0.0</td>\n      <td>0.0</td>\n      <td>0.0</td>\n      <td>0.0</td>\n      <td>1.0</td>\n      <td>0.0</td>\n      <td>0.0</td>\n      <td>1.0</td>\n      <td>0.0</td>\n      <td>0.0</td>\n      <td>0.0</td>\n      <td>1.0</td>\n      <td>0.0</td>\n      <td>0.0</td>\n      <td>0.0</td>\n      <td>1.0</td>\n      <td>0.0</td>\n      <td>0.0</td>\n      <td>1.0</td>\n      <td>0.0</td>\n      <td>1.0</td>\n      <td>0.0</td>\n      <td>0.0</td>\n      <td>0.0</td>\n      <td>0.0</td>\n      <td>0.0</td>\n      <td>0.0</td>\n      <td>0.0</td>\n      <td>1.0</td>\n      <td>0.0</td>\n      <td>0.0</td>\n      <td>0.0</td>\n      <td>1.0</td>\n      <td>0.0</td>\n      <td>0.0</td>\n      <td>1.0</td>\n      <td>0.0</td>\n      <td>0.0</td>\n      <td>0.0</td>\n      <td>0.0</td>\n      <td>0.0</td>\n      <td>1.0</td>\n      <td>1.0</td>\n      <td>0.0</td>\n      <td>0.0</td>\n      <td>0.0</td>\n      <td>0.0</td>\n      <td>1.0</td>\n      <td>0.0</td>\n      <td>0.0</td>\n      <td>0.0</td>\n      <td>1.0</td>\n      <td>0.0</td>\n      <td>1.0</td>\n      <td>0.0</td>\n      <td>0.0</td>\n      <td>0.0</td>\n      <td>0.0</td>\n      <td>0.0</td>\n      <td>1.0</td>\n      <td>0.0</td>\n      <td>0.0</td>\n      <td>0.0</td>\n      <td>0.0</td>\n      <td>0.0</td>\n      <td>0.0</td>\n      <td>0.0</td>\n      <td>0.0</td>\n      <td>1.0</td>\n      <td>0.0</td>\n      <td>0.0</td>\n      <td>0.0</td>\n      <td>0.0</td>\n      <td>0.0</td>\n      <td>0.0</td>\n      <td>0.0</td>\n      <td>0.0</td>\n      <td>1.0</td>\n      <td>0.0</td>\n      <td>0.0</td>\n      <td>0.0</td>\n      <td>0.0</td>\n      <td>0.0</td>\n      <td>1.0</td>\n      <td>0.0</td>\n      <td>0.0</td>\n      <td>0.0</td>\n      <td>1.0</td>\n      <td>0.0</td>\n      <td>0.0</td>\n      <td>0.0</td>\n      <td>1.0</td>\n      <td>0.0</td>\n      <td>0.0</td>\n      <td>0.0</td>\n      <td>0.0</td>\n      <td>0.0</td>\n      <td>1.0</td>\n      <td>0.0</td>\n      <td>0.0</td>\n      <td>0.0</td>\n      <td>0.0</td>\n      <td>1.0</td>\n      <td>1.0</td>\n      <td>0.0</td>\n      <td>0.0</td>\n      <td>0.0</td>\n      <td>0.0</td>\n      <td>0.0</td>\n      <td>0.0</td>\n      <td>0.0</td>\n      <td>0.0</td>\n      <td>0.0</td>\n      <td>1.0</td>\n      <td>0.0</td>\n      <td>0.0</td>\n      <td>0.0</td>\n      <td>0.0</td>\n      <td>0.0</td>\n      <td>0.0</td>\n      <td>1.0</td>\n      <td>0.0</td>\n      <td>0.0</td>\n      <td>0.0</td>\n      <td>1.0</td>\n      <td>0.0</td>\n      <td>0.0</td>\n      <td>1.0</td>\n      <td>0.0</td>\n      <td>0.0</td>\n      <td>0.0</td>\n      <td>1.0</td>\n      <td>0.0</td>\n      <td>1.0</td>\n      <td>0.0</td>\n      <td>0.0</td>\n      <td>0.0</td>\n      <td>1.0</td>\n      <td>0.0</td>\n      <td>0.0</td>\n      <td>0.0</td>\n      <td>0.0</td>\n      <td>0.0</td>\n      <td>0.0</td>\n      <td>1.0</td>\n      <td>0.0</td>\n      <td>0.0</td>\n      <td>0.0</td>\n      <td>0.0</td>\n      <td>0.0</td>\n      <td>1.0</td>\n      <td>0.0</td>\n      <td>0.0</td>\n      <td>1.0</td>\n      <td>0.074375</td>\n      <td>7.636752</td>\n      <td>0.000000</td>\n      <td>0.0</td>\n      <td>7.636752</td>\n      <td>0.666667</td>\n      <td>0.0</td>\n      <td>0.375</td>\n      <td>0.333333</td>\n      <td>0.666667</td>\n      <td>0.015920</td>\n      <td>0.352609</td>\n      <td>0.50</td>\n      <td>0.407235</td>\n      <td>0.000000</td>\n      <td>0.000000</td>\n      <td>0.0</td>\n      <td>0.0</td>\n      <td>0.0</td>\n      <td>0.090909</td>\n      <td>1.00</td>\n      <td>4.442651</td>\n      <td>9.486076</td>\n      <td>0.139972</td>\n      <td>0.110583</td>\n      <td>0.252140</td>\n      <td>0.333333</td>\n      <td>0.252373</td>\n      <td>0.0</td>\n      <td>0.416667</td>\n    </tr>\n    <tr>\n      <th>1457</th>\n      <td>0.0</td>\n      <td>0.0</td>\n      <td>1.0</td>\n      <td>0.0</td>\n      <td>0.0</td>\n      <td>1.0</td>\n      <td>0.0</td>\n      <td>0.0</td>\n      <td>1.0</td>\n      <td>0.0</td>\n      <td>0.0</td>\n      <td>0.0</td>\n      <td>1.0</td>\n      <td>0.0</td>\n      <td>1.0</td>\n      <td>0.0</td>\n      <td>0.0</td>\n      <td>0.0</td>\n      <td>0.0</td>\n      <td>1.0</td>\n      <td>0.0</td>\n      <td>0.0</td>\n      <td>0.0</td>\n      <td>0.0</td>\n      <td>0.0</td>\n      <td>0.0</td>\n      <td>1.0</td>\n      <td>0.0</td>\n      <td>0.0</td>\n      <td>0.0</td>\n      <td>0.0</td>\n      <td>0.0</td>\n      <td>0.0</td>\n      <td>0.0</td>\n      <td>0.0</td>\n      <td>0.0</td>\n      <td>0.0</td>\n      <td>0.0</td>\n      <td>0.0</td>\n      <td>0.0</td>\n      <td>0.0</td>\n      <td>0.0</td>\n      <td>0.0</td>\n      <td>0.0</td>\n      <td>1.0</td>\n      <td>0.0</td>\n      <td>0.0</td>\n      <td>1.0</td>\n      <td>0.0</td>\n      <td>0.0</td>\n      <td>0.0</td>\n      <td>1.0</td>\n      <td>0.0</td>\n      <td>0.0</td>\n      <td>0.0</td>\n      <td>0.0</td>\n      <td>0.0</td>\n      <td>0.0</td>\n      <td>0.0</td>\n      <td>0.0</td>\n      <td>0.0</td>\n      <td>0.0</td>\n      <td>1.0</td>\n      <td>0.0</td>\n      <td>0.0</td>\n      <td>0.0</td>\n      <td>0.0</td>\n      <td>0.0</td>\n      <td>0.0</td>\n      <td>0.0</td>\n      <td>0.0</td>\n      <td>0.0</td>\n      <td>0.0</td>\n      <td>1.0</td>\n      <td>0.0</td>\n      <td>0.0</td>\n      <td>0.0</td>\n      <td>0.0</td>\n      <td>0.0</td>\n      <td>0.0</td>\n      <td>1.0</td>\n      <td>1.0</td>\n      <td>0.0</td>\n      <td>0.0</td>\n      <td>0.0</td>\n      <td>1.0</td>\n      <td>0.0</td>\n      <td>0.0</td>\n      <td>1.0</td>\n      <td>0.0</td>\n      <td>1.0</td>\n      <td>0.0</td>\n      <td>0.0</td>\n      <td>0.0</td>\n      <td>0.0</td>\n      <td>0.0</td>\n      <td>0.0</td>\n      <td>0.0</td>\n      <td>1.0</td>\n      <td>0.0</td>\n      <td>0.0</td>\n      <td>0.0</td>\n      <td>1.0</td>\n      <td>0.0</td>\n      <td>0.0</td>\n      <td>0.0</td>\n      <td>1.0</td>\n      <td>0.0</td>\n      <td>0.0</td>\n      <td>0.0</td>\n      <td>0.0</td>\n      <td>1.0</td>\n      <td>1.0</td>\n      <td>0.0</td>\n      <td>0.0</td>\n      <td>0.0</td>\n      <td>0.0</td>\n      <td>1.0</td>\n      <td>0.0</td>\n      <td>0.0</td>\n      <td>0.0</td>\n      <td>1.0</td>\n      <td>0.0</td>\n      <td>1.0</td>\n      <td>0.0</td>\n      <td>0.0</td>\n      <td>0.0</td>\n      <td>0.0</td>\n      <td>0.0</td>\n      <td>0.0</td>\n      <td>1.0</td>\n      <td>0.0</td>\n      <td>0.0</td>\n      <td>0.0</td>\n      <td>0.0</td>\n      <td>0.0</td>\n      <td>0.0</td>\n      <td>0.0</td>\n      <td>0.0</td>\n      <td>1.0</td>\n      <td>0.0</td>\n      <td>0.0</td>\n      <td>0.0</td>\n      <td>0.0</td>\n      <td>0.0</td>\n      <td>0.0</td>\n      <td>0.0</td>\n      <td>0.0</td>\n      <td>0.0</td>\n      <td>0.0</td>\n      <td>1.0</td>\n      <td>1.0</td>\n      <td>0.0</td>\n      <td>0.0</td>\n      <td>0.0</td>\n      <td>0.0</td>\n      <td>1.0</td>\n      <td>0.0</td>\n      <td>0.0</td>\n      <td>0.0</td>\n      <td>0.0</td>\n      <td>0.0</td>\n      <td>0.0</td>\n      <td>1.0</td>\n      <td>0.0</td>\n      <td>1.0</td>\n      <td>0.0</td>\n      <td>0.0</td>\n      <td>0.0</td>\n      <td>0.0</td>\n      <td>0.0</td>\n      <td>0.0</td>\n      <td>1.0</td>\n      <td>0.0</td>\n      <td>0.0</td>\n      <td>1.0</td>\n      <td>0.0</td>\n      <td>0.0</td>\n      <td>0.0</td>\n      <td>0.0</td>\n      <td>1.0</td>\n      <td>0.0</td>\n      <td>0.0</td>\n      <td>0.0</td>\n      <td>0.0</td>\n      <td>0.0</td>\n      <td>0.0</td>\n      <td>1.0</td>\n      <td>0.0</td>\n      <td>0.0</td>\n      <td>0.0</td>\n      <td>0.0</td>\n      <td>0.0</td>\n      <td>1.0</td>\n      <td>0.0</td>\n      <td>0.0</td>\n      <td>0.0</td>\n      <td>1.0</td>\n      <td>0.0</td>\n      <td>0.0</td>\n      <td>0.0</td>\n      <td>1.0</td>\n      <td>0.0</td>\n      <td>1.0</td>\n      <td>0.0</td>\n      <td>1.0</td>\n      <td>0.0</td>\n      <td>0.0</td>\n      <td>0.0</td>\n      <td>0.0</td>\n      <td>0.0</td>\n      <td>0.0</td>\n      <td>0.0</td>\n      <td>0.0</td>\n      <td>0.0</td>\n      <td>1.0</td>\n      <td>0.0</td>\n      <td>0.0</td>\n      <td>0.0</td>\n      <td>1.0</td>\n      <td>0.0</td>\n      <td>0.0</td>\n      <td>0.0</td>\n      <td>1.0</td>\n      <td>0.000000</td>\n      <td>7.080026</td>\n      <td>0.557869</td>\n      <td>0.0</td>\n      <td>7.757906</td>\n      <td>0.666667</td>\n      <td>0.0</td>\n      <td>0.500</td>\n      <td>0.333333</td>\n      <td>0.666667</td>\n      <td>0.034328</td>\n      <td>0.177715</td>\n      <td>0.25</td>\n      <td>0.000000</td>\n      <td>0.109689</td>\n      <td>0.000000</td>\n      <td>0.0</td>\n      <td>0.0</td>\n      <td>0.0</td>\n      <td>0.363636</td>\n      <td>1.00</td>\n      <td>4.189655</td>\n      <td>9.109636</td>\n      <td>0.048724</td>\n      <td>0.000000</td>\n      <td>0.375428</td>\n      <td>0.000000</td>\n      <td>0.188543</td>\n      <td>0.0</td>\n      <td>0.583333</td>\n    </tr>\n    <tr>\n      <th>1458</th>\n      <td>0.0</td>\n      <td>0.0</td>\n      <td>1.0</td>\n      <td>0.0</td>\n      <td>0.0</td>\n      <td>1.0</td>\n      <td>0.0</td>\n      <td>0.0</td>\n      <td>1.0</td>\n      <td>0.0</td>\n      <td>0.0</td>\n      <td>0.0</td>\n      <td>1.0</td>\n      <td>0.0</td>\n      <td>1.0</td>\n      <td>0.0</td>\n      <td>0.0</td>\n      <td>0.0</td>\n      <td>0.0</td>\n      <td>1.0</td>\n      <td>0.0</td>\n      <td>0.0</td>\n      <td>0.0</td>\n      <td>0.0</td>\n      <td>0.0</td>\n      <td>0.0</td>\n      <td>0.0</td>\n      <td>0.0</td>\n      <td>0.0</td>\n      <td>0.0</td>\n      <td>0.0</td>\n      <td>0.0</td>\n      <td>1.0</td>\n      <td>0.0</td>\n      <td>0.0</td>\n      <td>0.0</td>\n      <td>0.0</td>\n      <td>0.0</td>\n      <td>0.0</td>\n      <td>0.0</td>\n      <td>0.0</td>\n      <td>0.0</td>\n      <td>0.0</td>\n      <td>0.0</td>\n      <td>0.0</td>\n      <td>1.0</td>\n      <td>0.0</td>\n      <td>1.0</td>\n      <td>0.0</td>\n      <td>0.0</td>\n      <td>0.0</td>\n      <td>0.0</td>\n      <td>0.0</td>\n      <td>1.0</td>\n      <td>0.0</td>\n      <td>0.0</td>\n      <td>0.0</td>\n      <td>0.0</td>\n      <td>0.0</td>\n      <td>0.0</td>\n      <td>0.0</td>\n      <td>0.0</td>\n      <td>0.0</td>\n      <td>0.0</td>\n      <td>1.0</td>\n      <td>0.0</td>\n      <td>0.0</td>\n      <td>0.0</td>\n      <td>0.0</td>\n      <td>0.0</td>\n      <td>0.0</td>\n      <td>0.0</td>\n      <td>0.0</td>\n      <td>1.0</td>\n      <td>0.0</td>\n      <td>0.0</td>\n      <td>0.0</td>\n      <td>1.0</td>\n      <td>0.0</td>\n      <td>0.0</td>\n      <td>0.0</td>\n      <td>1.0</td>\n      <td>0.0</td>\n      <td>0.0</td>\n      <td>0.0</td>\n      <td>1.0</td>\n      <td>1.0</td>\n      <td>0.0</td>\n      <td>0.0</td>\n      <td>0.0</td>\n      <td>1.0</td>\n      <td>0.0</td>\n      <td>0.0</td>\n      <td>0.0</td>\n      <td>0.0</td>\n      <td>0.0</td>\n      <td>0.0</td>\n      <td>0.0</td>\n      <td>1.0</td>\n      <td>0.0</td>\n      <td>0.0</td>\n      <td>0.0</td>\n      <td>1.0</td>\n      <td>0.0</td>\n      <td>0.0</td>\n      <td>1.0</td>\n      <td>0.0</td>\n      <td>0.0</td>\n      <td>0.0</td>\n      <td>0.0</td>\n      <td>0.0</td>\n      <td>1.0</td>\n      <td>1.0</td>\n      <td>0.0</td>\n      <td>0.0</td>\n      <td>0.0</td>\n      <td>0.0</td>\n      <td>1.0</td>\n      <td>0.0</td>\n      <td>0.0</td>\n      <td>0.0</td>\n      <td>1.0</td>\n      <td>0.0</td>\n      <td>1.0</td>\n      <td>0.0</td>\n      <td>0.0</td>\n      <td>0.0</td>\n      <td>0.0</td>\n      <td>0.0</td>\n      <td>1.0</td>\n      <td>0.0</td>\n      <td>0.0</td>\n      <td>0.0</td>\n      <td>0.0</td>\n      <td>0.0</td>\n      <td>0.0</td>\n      <td>0.0</td>\n      <td>1.0</td>\n      <td>0.0</td>\n      <td>0.0</td>\n      <td>0.0</td>\n      <td>0.0</td>\n      <td>0.0</td>\n      <td>0.0</td>\n      <td>0.0</td>\n      <td>0.0</td>\n      <td>0.0</td>\n      <td>1.0</td>\n      <td>0.0</td>\n      <td>0.0</td>\n      <td>0.0</td>\n      <td>0.0</td>\n      <td>0.0</td>\n      <td>1.0</td>\n      <td>0.0</td>\n      <td>0.0</td>\n      <td>0.0</td>\n      <td>1.0</td>\n      <td>0.0</td>\n      <td>0.0</td>\n      <td>0.0</td>\n      <td>0.0</td>\n      <td>0.0</td>\n      <td>1.0</td>\n      <td>0.0</td>\n      <td>0.0</td>\n      <td>0.0</td>\n      <td>1.0</td>\n      <td>0.0</td>\n      <td>0.0</td>\n      <td>0.0</td>\n      <td>1.0</td>\n      <td>0.0</td>\n      <td>0.0</td>\n      <td>0.0</td>\n      <td>1.0</td>\n      <td>0.0</td>\n      <td>0.0</td>\n      <td>0.0</td>\n      <td>0.0</td>\n      <td>0.0</td>\n      <td>0.0</td>\n      <td>1.0</td>\n      <td>0.0</td>\n      <td>0.0</td>\n      <td>0.0</td>\n      <td>0.0</td>\n      <td>0.0</td>\n      <td>1.0</td>\n      <td>0.0</td>\n      <td>0.0</td>\n      <td>0.0</td>\n      <td>0.0</td>\n      <td>0.0</td>\n      <td>1.0</td>\n      <td>0.0</td>\n      <td>0.0</td>\n      <td>1.0</td>\n      <td>0.0</td>\n      <td>0.0</td>\n      <td>0.0</td>\n      <td>1.0</td>\n      <td>0.0</td>\n      <td>1.0</td>\n      <td>0.0</td>\n      <td>0.0</td>\n      <td>0.0</td>\n      <td>0.0</td>\n      <td>1.0</td>\n      <td>0.0</td>\n      <td>0.0</td>\n      <td>0.0</td>\n      <td>0.0</td>\n      <td>0.0</td>\n      <td>1.0</td>\n      <td>0.0</td>\n      <td>0.0</td>\n      <td>0.0</td>\n      <td>0.0</td>\n      <td>1.0</td>\n      <td>0.0</td>\n      <td>0.0</td>\n      <td>0.0</td>\n      <td>1.0</td>\n      <td>0.000000</td>\n      <td>6.982863</td>\n      <td>0.000000</td>\n      <td>0.0</td>\n      <td>6.982863</td>\n      <td>0.333333</td>\n      <td>0.0</td>\n      <td>0.250</td>\n      <td>0.333333</td>\n      <td>0.000000</td>\n      <td>0.029851</td>\n      <td>0.169252</td>\n      <td>0.25</td>\n      <td>0.427071</td>\n      <td>0.000000</td>\n      <td>0.202899</td>\n      <td>0.0</td>\n      <td>0.0</td>\n      <td>0.0</td>\n      <td>0.272727</td>\n      <td>1.00</td>\n      <td>4.219508</td>\n      <td>9.181632</td>\n      <td>0.008682</td>\n      <td>0.698100</td>\n      <td>0.000000</td>\n      <td>0.333333</td>\n      <td>0.176432</td>\n      <td>0.0</td>\n      <td>0.250000</td>\n    </tr>\n    <tr>\n      <th>1459</th>\n      <td>0.0</td>\n      <td>0.0</td>\n      <td>1.0</td>\n      <td>0.0</td>\n      <td>0.0</td>\n      <td>1.0</td>\n      <td>0.0</td>\n      <td>0.0</td>\n      <td>1.0</td>\n      <td>0.0</td>\n      <td>0.0</td>\n      <td>0.0</td>\n      <td>1.0</td>\n      <td>0.0</td>\n      <td>1.0</td>\n      <td>0.0</td>\n      <td>0.0</td>\n      <td>0.0</td>\n      <td>0.0</td>\n      <td>1.0</td>\n      <td>0.0</td>\n      <td>0.0</td>\n      <td>0.0</td>\n      <td>0.0</td>\n      <td>0.0</td>\n      <td>0.0</td>\n      <td>0.0</td>\n      <td>1.0</td>\n      <td>0.0</td>\n      <td>0.0</td>\n      <td>0.0</td>\n      <td>0.0</td>\n      <td>0.0</td>\n      <td>0.0</td>\n      <td>0.0</td>\n      <td>0.0</td>\n      <td>0.0</td>\n      <td>0.0</td>\n      <td>0.0</td>\n      <td>0.0</td>\n      <td>0.0</td>\n      <td>0.0</td>\n      <td>0.0</td>\n      <td>0.0</td>\n      <td>1.0</td>\n      <td>0.0</td>\n      <td>0.0</td>\n      <td>1.0</td>\n      <td>0.0</td>\n      <td>0.0</td>\n      <td>0.0</td>\n      <td>0.0</td>\n      <td>1.0</td>\n      <td>0.0</td>\n      <td>0.0</td>\n      <td>0.0</td>\n      <td>0.0</td>\n      <td>0.0</td>\n      <td>0.0</td>\n      <td>0.0</td>\n      <td>0.0</td>\n      <td>0.0</td>\n      <td>0.0</td>\n      <td>1.0</td>\n      <td>0.0</td>\n      <td>0.0</td>\n      <td>0.0</td>\n      <td>0.0</td>\n      <td>0.0</td>\n      <td>0.0</td>\n      <td>0.0</td>\n      <td>0.0</td>\n      <td>0.0</td>\n      <td>1.0</td>\n      <td>0.0</td>\n      <td>0.0</td>\n      <td>0.0</td>\n      <td>1.0</td>\n      <td>0.0</td>\n      <td>0.0</td>\n      <td>0.0</td>\n      <td>1.0</td>\n      <td>0.0</td>\n      <td>0.0</td>\n      <td>0.0</td>\n      <td>1.0</td>\n      <td>0.0</td>\n      <td>0.0</td>\n      <td>1.0</td>\n      <td>0.0</td>\n      <td>1.0</td>\n      <td>0.0</td>\n      <td>0.0</td>\n      <td>0.0</td>\n      <td>0.0</td>\n      <td>0.0</td>\n      <td>0.0</td>\n      <td>0.0</td>\n      <td>1.0</td>\n      <td>0.0</td>\n      <td>0.0</td>\n      <td>0.0</td>\n      <td>1.0</td>\n      <td>0.0</td>\n      <td>0.0</td>\n      <td>1.0</td>\n      <td>0.0</td>\n      <td>0.0</td>\n      <td>0.0</td>\n      <td>0.0</td>\n      <td>0.0</td>\n      <td>1.0</td>\n      <td>1.0</td>\n      <td>0.0</td>\n      <td>0.0</td>\n      <td>0.0</td>\n      <td>0.0</td>\n      <td>1.0</td>\n      <td>0.0</td>\n      <td>0.0</td>\n      <td>0.0</td>\n      <td>1.0</td>\n      <td>0.0</td>\n      <td>1.0</td>\n      <td>0.0</td>\n      <td>0.0</td>\n      <td>0.0</td>\n      <td>0.0</td>\n      <td>0.0</td>\n      <td>1.0</td>\n      <td>0.0</td>\n      <td>0.0</td>\n      <td>0.0</td>\n      <td>0.0</td>\n      <td>0.0</td>\n      <td>0.0</td>\n      <td>0.0</td>\n      <td>1.0</td>\n      <td>0.0</td>\n      <td>0.0</td>\n      <td>0.0</td>\n      <td>0.0</td>\n      <td>0.0</td>\n      <td>0.0</td>\n      <td>0.0</td>\n      <td>0.0</td>\n      <td>0.0</td>\n      <td>1.0</td>\n      <td>0.0</td>\n      <td>0.0</td>\n      <td>0.0</td>\n      <td>0.0</td>\n      <td>1.0</td>\n      <td>0.0</td>\n      <td>0.0</td>\n      <td>0.0</td>\n      <td>0.0</td>\n      <td>1.0</td>\n      <td>0.0</td>\n      <td>0.0</td>\n      <td>0.0</td>\n      <td>0.0</td>\n      <td>0.0</td>\n      <td>1.0</td>\n      <td>0.0</td>\n      <td>0.0</td>\n      <td>0.0</td>\n      <td>1.0</td>\n      <td>0.0</td>\n      <td>0.0</td>\n      <td>0.0</td>\n      <td>0.0</td>\n      <td>1.0</td>\n      <td>0.0</td>\n      <td>1.0</td>\n      <td>0.0</td>\n      <td>0.0</td>\n      <td>0.0</td>\n      <td>0.0</td>\n      <td>0.0</td>\n      <td>0.0</td>\n      <td>0.0</td>\n      <td>1.0</td>\n      <td>0.0</td>\n      <td>0.0</td>\n      <td>0.0</td>\n      <td>0.0</td>\n      <td>0.0</td>\n      <td>1.0</td>\n      <td>0.0</td>\n      <td>0.0</td>\n      <td>1.0</td>\n      <td>0.0</td>\n      <td>0.0</td>\n      <td>0.0</td>\n      <td>0.0</td>\n      <td>0.0</td>\n      <td>1.0</td>\n      <td>0.0</td>\n      <td>0.0</td>\n      <td>0.0</td>\n      <td>1.0</td>\n      <td>0.0</td>\n      <td>1.0</td>\n      <td>0.0</td>\n      <td>0.0</td>\n      <td>0.0</td>\n      <td>0.0</td>\n      <td>1.0</td>\n      <td>0.0</td>\n      <td>0.0</td>\n      <td>0.0</td>\n      <td>1.0</td>\n      <td>0.0</td>\n      <td>0.0</td>\n      <td>0.0</td>\n      <td>0.0</td>\n      <td>0.0</td>\n      <td>0.0</td>\n      <td>0.0</td>\n      <td>1.0</td>\n      <td>0.0</td>\n      <td>0.0</td>\n      <td>1.0</td>\n      <td>0.000000</td>\n      <td>7.135687</td>\n      <td>0.000000</td>\n      <td>0.0</td>\n      <td>7.135687</td>\n      <td>0.333333</td>\n      <td>0.5</td>\n      <td>0.375</td>\n      <td>0.333333</td>\n      <td>0.000000</td>\n      <td>0.021393</td>\n      <td>0.194640</td>\n      <td>0.25</td>\n      <td>0.858810</td>\n      <td>0.124314</td>\n      <td>0.000000</td>\n      <td>0.0</td>\n      <td>0.0</td>\n      <td>0.0</td>\n      <td>0.454545</td>\n      <td>0.50</td>\n      <td>4.317488</td>\n      <td>9.204020</td>\n      <td>0.147059</td>\n      <td>0.196744</td>\n      <td>0.058219</td>\n      <td>0.333333</td>\n      <td>0.205565</td>\n      <td>0.0</td>\n      <td>0.333333</td>\n    </tr>\n  </tbody>\n</table>\n</div>"
     },
     "metadata": {},
     "execution_count": 126
    }
   ],
   "source": [
    "data.tail()"
   ]
  },
  {
   "source": [
    "## 5.1 Train Test Split"
   ],
   "cell_type": "markdown",
   "metadata": {}
  },
  {
   "cell_type": "code",
   "execution_count": 127,
   "metadata": {},
   "outputs": [],
   "source": [
    "xtrain, xtest, ytrain, ytest = train_test_split(data, target, test_size=0.3)"
   ]
  },
  {
   "source": [
    "## 5.2 Linear Regression"
   ],
   "cell_type": "markdown",
   "metadata": {}
  },
  {
   "cell_type": "code",
   "execution_count": 9,
   "metadata": {},
   "outputs": [],
   "source": [
    "from sklearn.linear_model import LinearRegression"
   ]
  },
  {
   "cell_type": "code",
   "execution_count": 10,
   "metadata": {},
   "outputs": [],
   "source": [
    "reg = LinearRegression()"
   ]
  },
  {
   "cell_type": "code",
   "execution_count": 11,
   "metadata": {},
   "outputs": [
    {
     "output_type": "execute_result",
     "data": {
      "text/plain": [
       "LinearRegression()"
      ]
     },
     "metadata": {},
     "execution_count": 11
    }
   ],
   "source": [
    "reg.fit(xtrain,ytrain)"
   ]
  },
  {
   "cell_type": "code",
   "execution_count": 26,
   "metadata": {},
   "outputs": [
    {
     "output_type": "stream",
     "name": "stdout",
     "text": [
      "Fitting 5 folds for each of 13 candidates, totalling 65 fits\n"
     ]
    },
    {
     "output_type": "execute_result",
     "data": {
      "text/plain": [
       "GridSearchCV(cv=KFold(n_splits=5, random_state=100, shuffle=True),\n",
       "             estimator=RFE(estimator=LinearRegression()),\n",
       "             param_grid=[{'n_features_to_select': [1, 2, 3, 4, 5, 6, 7, 8, 9,\n",
       "                                                   10, 11, 12, 13]}],\n",
       "             return_train_score=True, scoring='neg_mean_squared_error',\n",
       "             verbose=1)"
      ]
     },
     "metadata": {},
     "execution_count": 26
    }
   ],
   "source": [
    "hyper_params = [{'n_features_to_select': list(range(100, 250))}]\n",
    "folds = KFold(n_splits = 5, shuffle = True, random_state = 100)\n",
    "\n",
    "# step-3: perform grid search\n",
    "# 3.1 specify model\n",
    "lm = LinearRegression()\n",
    "lm.fit(xtrain, ytrain)\n",
    "rfe = RFE(lm)             \n",
    "\n",
    "# 3.2 call GridSearchCV()\n",
    "model_cv = GridSearchCV(estimator = rfe, \n",
    "                        param_grid = hyper_params, \n",
    "                        scoring='neg_mean_squared_error', \n",
    "                        cv = folds, \n",
    "                        verbose = 1,\n",
    "                        return_train_score=True)\n",
    "model_cv.fit(xtrain, ytrain)  \n"
   ]
  },
  {
   "cell_type": "code",
   "execution_count": 28,
   "metadata": {},
   "outputs": [
    {
     "output_type": "execute_result",
     "data": {
      "text/plain": [
       "    mean_fit_time  std_fit_time  mean_score_time  std_score_time  \\\n",
       "0       22.247403     14.625915         0.016264        0.008459   \n",
       "1       37.778691     10.847671         0.018273        0.007155   \n",
       "2       53.254288     25.659830         0.019792        0.008247   \n",
       "3       31.607625     13.763243         0.016044        0.006197   \n",
       "4       33.012083      3.252589         0.019723        0.002818   \n",
       "5       13.318235      6.643698         0.019191        0.006770   \n",
       "6       10.175344      3.512796         0.015107        0.008677   \n",
       "7       10.910168      4.699389         0.020327        0.007418   \n",
       "8       11.054773      4.686313         0.009126        0.002779   \n",
       "9       11.196379      4.492575         0.013417        0.008939   \n",
       "10       9.672852      5.132176         0.012505        0.008165   \n",
       "11      11.592584      3.256209         0.018413        0.006762   \n",
       "12       9.384146      4.765076         0.012428        0.008047   \n",
       "\n",
       "   param_n_features_to_select                        params  \\\n",
       "0                           1   {'n_features_to_select': 1}   \n",
       "1                           2   {'n_features_to_select': 2}   \n",
       "2                           3   {'n_features_to_select': 3}   \n",
       "3                           4   {'n_features_to_select': 4}   \n",
       "4                           5   {'n_features_to_select': 5}   \n",
       "5                           6   {'n_features_to_select': 6}   \n",
       "6                           7   {'n_features_to_select': 7}   \n",
       "7                           8   {'n_features_to_select': 8}   \n",
       "8                           9   {'n_features_to_select': 9}   \n",
       "9                          10  {'n_features_to_select': 10}   \n",
       "10                         11  {'n_features_to_select': 11}   \n",
       "11                         12  {'n_features_to_select': 12}   \n",
       "12                         13  {'n_features_to_select': 13}   \n",
       "\n",
       "    split0_test_score  split1_test_score  split2_test_score  \\\n",
       "0           -0.143204          -0.123017          -0.150464   \n",
       "1           -0.132498          -0.123654          -0.112079   \n",
       "2           -0.096000          -0.123206          -0.111658   \n",
       "3           -0.096069          -0.122190          -0.112226   \n",
       "4           -0.096297          -0.122900          -0.108263   \n",
       "5           -0.087766          -0.103459          -0.108846   \n",
       "6           -0.070010          -0.073662          -0.107307   \n",
       "7           -0.073931          -0.070802          -0.104344   \n",
       "8           -0.074415          -0.070700          -0.102967   \n",
       "9           -0.071421          -0.068952          -0.102923   \n",
       "10          -0.071534          -0.069530          -0.103073   \n",
       "11          -0.071824          -0.068447          -0.103473   \n",
       "12          -0.071940          -0.068151          -0.101012   \n",
       "\n",
       "    split3_test_score  split4_test_score  mean_test_score  std_test_score  \\\n",
       "0           -0.178379          -0.132347        -0.145482        0.018918   \n",
       "1           -0.178375          -0.131986        -0.135718        0.022575   \n",
       "2           -0.178680          -0.131150        -0.128139        0.027901   \n",
       "3           -0.151276          -0.094786        -0.115310        0.020697   \n",
       "4           -0.152423          -0.095622        -0.115101        0.021136   \n",
       "5           -0.152508          -0.095812        -0.109678        0.022566   \n",
       "6           -0.153020          -0.095178        -0.099836        0.029936   \n",
       "7           -0.129626          -0.095553        -0.094851        0.021522   \n",
       "8           -0.128914          -0.096147        -0.094629        0.021112   \n",
       "9           -0.129898          -0.096312        -0.093901        0.022409   \n",
       "10          -0.130468          -0.096484        -0.094218        0.022457   \n",
       "11          -0.108487          -0.084554        -0.087357        0.016204   \n",
       "12          -0.109565          -0.073873        -0.084908        0.016959   \n",
       "\n",
       "    rank_test_score  split0_train_score  split1_train_score  \\\n",
       "0                13           -0.150733           -0.139488   \n",
       "1                12           -0.138553           -0.133220   \n",
       "2                11           -0.109312           -0.132522   \n",
       "3                10           -0.108448           -0.132752   \n",
       "4                 9           -0.108502           -0.132814   \n",
       "5                 8           -0.095750           -0.102885   \n",
       "6                 7           -0.078753           -0.075015   \n",
       "7                 6           -0.075256           -0.074506   \n",
       "8                 5           -0.075469           -0.074545   \n",
       "9                 3           -0.070462           -0.070346   \n",
       "10                4           -0.069981           -0.069476   \n",
       "11                2           -0.069049           -0.067853   \n",
       "12                1           -0.069025           -0.067750   \n",
       "\n",
       "    split2_train_score  split3_train_score  split4_train_score  \\\n",
       "0            -0.152152           -0.146846           -0.130416   \n",
       "1            -0.112959           -0.146846           -0.130142   \n",
       "2            -0.111644           -0.146945           -0.130072   \n",
       "3            -0.109581           -0.128113           -0.092579   \n",
       "4            -0.106651           -0.126916           -0.088974   \n",
       "5            -0.106754           -0.126501           -0.089010   \n",
       "6            -0.099902           -0.126897           -0.088252   \n",
       "7            -0.097690           -0.107784           -0.087907   \n",
       "8            -0.096834           -0.107666           -0.087883   \n",
       "9            -0.096684           -0.107023           -0.087995   \n",
       "10           -0.096580           -0.107139           -0.088080   \n",
       "11           -0.096780           -0.090749           -0.078409   \n",
       "12           -0.093095           -0.090482           -0.062062   \n",
       "\n",
       "    mean_train_score  std_train_score  \n",
       "0          -0.143927         0.008059  \n",
       "1          -0.132344         0.011227  \n",
       "2          -0.126099         0.014017  \n",
       "3          -0.114295         0.014557  \n",
       "4          -0.112771         0.015645  \n",
       "5          -0.104180         0.012710  \n",
       "6          -0.093764         0.018669  \n",
       "7          -0.088629         0.012867  \n",
       "8          -0.088480         0.012662  \n",
       "9          -0.086502         0.014459  \n",
       "10         -0.086251         0.014781  \n",
       "11         -0.080568         0.011537  \n",
       "12         -0.076483         0.012742  "
      ],
      "text/html": "<div>\n<style scoped>\n    .dataframe tbody tr th:only-of-type {\n        vertical-align: middle;\n    }\n\n    .dataframe tbody tr th {\n        vertical-align: top;\n    }\n\n    .dataframe thead th {\n        text-align: right;\n    }\n</style>\n<table border=\"1\" class=\"dataframe\">\n  <thead>\n    <tr style=\"text-align: right;\">\n      <th></th>\n      <th>mean_fit_time</th>\n      <th>std_fit_time</th>\n      <th>mean_score_time</th>\n      <th>std_score_time</th>\n      <th>param_n_features_to_select</th>\n      <th>params</th>\n      <th>split0_test_score</th>\n      <th>split1_test_score</th>\n      <th>split2_test_score</th>\n      <th>split3_test_score</th>\n      <th>split4_test_score</th>\n      <th>mean_test_score</th>\n      <th>std_test_score</th>\n      <th>rank_test_score</th>\n      <th>split0_train_score</th>\n      <th>split1_train_score</th>\n      <th>split2_train_score</th>\n      <th>split3_train_score</th>\n      <th>split4_train_score</th>\n      <th>mean_train_score</th>\n      <th>std_train_score</th>\n    </tr>\n  </thead>\n  <tbody>\n    <tr>\n      <th>0</th>\n      <td>22.247403</td>\n      <td>14.625915</td>\n      <td>0.016264</td>\n      <td>0.008459</td>\n      <td>1</td>\n      <td>{'n_features_to_select': 1}</td>\n      <td>-0.143204</td>\n      <td>-0.123017</td>\n      <td>-0.150464</td>\n      <td>-0.178379</td>\n      <td>-0.132347</td>\n      <td>-0.145482</td>\n      <td>0.018918</td>\n      <td>13</td>\n      <td>-0.150733</td>\n      <td>-0.139488</td>\n      <td>-0.152152</td>\n      <td>-0.146846</td>\n      <td>-0.130416</td>\n      <td>-0.143927</td>\n      <td>0.008059</td>\n    </tr>\n    <tr>\n      <th>1</th>\n      <td>37.778691</td>\n      <td>10.847671</td>\n      <td>0.018273</td>\n      <td>0.007155</td>\n      <td>2</td>\n      <td>{'n_features_to_select': 2}</td>\n      <td>-0.132498</td>\n      <td>-0.123654</td>\n      <td>-0.112079</td>\n      <td>-0.178375</td>\n      <td>-0.131986</td>\n      <td>-0.135718</td>\n      <td>0.022575</td>\n      <td>12</td>\n      <td>-0.138553</td>\n      <td>-0.133220</td>\n      <td>-0.112959</td>\n      <td>-0.146846</td>\n      <td>-0.130142</td>\n      <td>-0.132344</td>\n      <td>0.011227</td>\n    </tr>\n    <tr>\n      <th>2</th>\n      <td>53.254288</td>\n      <td>25.659830</td>\n      <td>0.019792</td>\n      <td>0.008247</td>\n      <td>3</td>\n      <td>{'n_features_to_select': 3}</td>\n      <td>-0.096000</td>\n      <td>-0.123206</td>\n      <td>-0.111658</td>\n      <td>-0.178680</td>\n      <td>-0.131150</td>\n      <td>-0.128139</td>\n      <td>0.027901</td>\n      <td>11</td>\n      <td>-0.109312</td>\n      <td>-0.132522</td>\n      <td>-0.111644</td>\n      <td>-0.146945</td>\n      <td>-0.130072</td>\n      <td>-0.126099</td>\n      <td>0.014017</td>\n    </tr>\n    <tr>\n      <th>3</th>\n      <td>31.607625</td>\n      <td>13.763243</td>\n      <td>0.016044</td>\n      <td>0.006197</td>\n      <td>4</td>\n      <td>{'n_features_to_select': 4}</td>\n      <td>-0.096069</td>\n      <td>-0.122190</td>\n      <td>-0.112226</td>\n      <td>-0.151276</td>\n      <td>-0.094786</td>\n      <td>-0.115310</td>\n      <td>0.020697</td>\n      <td>10</td>\n      <td>-0.108448</td>\n      <td>-0.132752</td>\n      <td>-0.109581</td>\n      <td>-0.128113</td>\n      <td>-0.092579</td>\n      <td>-0.114295</td>\n      <td>0.014557</td>\n    </tr>\n    <tr>\n      <th>4</th>\n      <td>33.012083</td>\n      <td>3.252589</td>\n      <td>0.019723</td>\n      <td>0.002818</td>\n      <td>5</td>\n      <td>{'n_features_to_select': 5}</td>\n      <td>-0.096297</td>\n      <td>-0.122900</td>\n      <td>-0.108263</td>\n      <td>-0.152423</td>\n      <td>-0.095622</td>\n      <td>-0.115101</td>\n      <td>0.021136</td>\n      <td>9</td>\n      <td>-0.108502</td>\n      <td>-0.132814</td>\n      <td>-0.106651</td>\n      <td>-0.126916</td>\n      <td>-0.088974</td>\n      <td>-0.112771</td>\n      <td>0.015645</td>\n    </tr>\n    <tr>\n      <th>5</th>\n      <td>13.318235</td>\n      <td>6.643698</td>\n      <td>0.019191</td>\n      <td>0.006770</td>\n      <td>6</td>\n      <td>{'n_features_to_select': 6}</td>\n      <td>-0.087766</td>\n      <td>-0.103459</td>\n      <td>-0.108846</td>\n      <td>-0.152508</td>\n      <td>-0.095812</td>\n      <td>-0.109678</td>\n      <td>0.022566</td>\n      <td>8</td>\n      <td>-0.095750</td>\n      <td>-0.102885</td>\n      <td>-0.106754</td>\n      <td>-0.126501</td>\n      <td>-0.089010</td>\n      <td>-0.104180</td>\n      <td>0.012710</td>\n    </tr>\n    <tr>\n      <th>6</th>\n      <td>10.175344</td>\n      <td>3.512796</td>\n      <td>0.015107</td>\n      <td>0.008677</td>\n      <td>7</td>\n      <td>{'n_features_to_select': 7}</td>\n      <td>-0.070010</td>\n      <td>-0.073662</td>\n      <td>-0.107307</td>\n      <td>-0.153020</td>\n      <td>-0.095178</td>\n      <td>-0.099836</td>\n      <td>0.029936</td>\n      <td>7</td>\n      <td>-0.078753</td>\n      <td>-0.075015</td>\n      <td>-0.099902</td>\n      <td>-0.126897</td>\n      <td>-0.088252</td>\n      <td>-0.093764</td>\n      <td>0.018669</td>\n    </tr>\n    <tr>\n      <th>7</th>\n      <td>10.910168</td>\n      <td>4.699389</td>\n      <td>0.020327</td>\n      <td>0.007418</td>\n      <td>8</td>\n      <td>{'n_features_to_select': 8}</td>\n      <td>-0.073931</td>\n      <td>-0.070802</td>\n      <td>-0.104344</td>\n      <td>-0.129626</td>\n      <td>-0.095553</td>\n      <td>-0.094851</td>\n      <td>0.021522</td>\n      <td>6</td>\n      <td>-0.075256</td>\n      <td>-0.074506</td>\n      <td>-0.097690</td>\n      <td>-0.107784</td>\n      <td>-0.087907</td>\n      <td>-0.088629</td>\n      <td>0.012867</td>\n    </tr>\n    <tr>\n      <th>8</th>\n      <td>11.054773</td>\n      <td>4.686313</td>\n      <td>0.009126</td>\n      <td>0.002779</td>\n      <td>9</td>\n      <td>{'n_features_to_select': 9}</td>\n      <td>-0.074415</td>\n      <td>-0.070700</td>\n      <td>-0.102967</td>\n      <td>-0.128914</td>\n      <td>-0.096147</td>\n      <td>-0.094629</td>\n      <td>0.021112</td>\n      <td>5</td>\n      <td>-0.075469</td>\n      <td>-0.074545</td>\n      <td>-0.096834</td>\n      <td>-0.107666</td>\n      <td>-0.087883</td>\n      <td>-0.088480</td>\n      <td>0.012662</td>\n    </tr>\n    <tr>\n      <th>9</th>\n      <td>11.196379</td>\n      <td>4.492575</td>\n      <td>0.013417</td>\n      <td>0.008939</td>\n      <td>10</td>\n      <td>{'n_features_to_select': 10}</td>\n      <td>-0.071421</td>\n      <td>-0.068952</td>\n      <td>-0.102923</td>\n      <td>-0.129898</td>\n      <td>-0.096312</td>\n      <td>-0.093901</td>\n      <td>0.022409</td>\n      <td>3</td>\n      <td>-0.070462</td>\n      <td>-0.070346</td>\n      <td>-0.096684</td>\n      <td>-0.107023</td>\n      <td>-0.087995</td>\n      <td>-0.086502</td>\n      <td>0.014459</td>\n    </tr>\n    <tr>\n      <th>10</th>\n      <td>9.672852</td>\n      <td>5.132176</td>\n      <td>0.012505</td>\n      <td>0.008165</td>\n      <td>11</td>\n      <td>{'n_features_to_select': 11}</td>\n      <td>-0.071534</td>\n      <td>-0.069530</td>\n      <td>-0.103073</td>\n      <td>-0.130468</td>\n      <td>-0.096484</td>\n      <td>-0.094218</td>\n      <td>0.022457</td>\n      <td>4</td>\n      <td>-0.069981</td>\n      <td>-0.069476</td>\n      <td>-0.096580</td>\n      <td>-0.107139</td>\n      <td>-0.088080</td>\n      <td>-0.086251</td>\n      <td>0.014781</td>\n    </tr>\n    <tr>\n      <th>11</th>\n      <td>11.592584</td>\n      <td>3.256209</td>\n      <td>0.018413</td>\n      <td>0.006762</td>\n      <td>12</td>\n      <td>{'n_features_to_select': 12}</td>\n      <td>-0.071824</td>\n      <td>-0.068447</td>\n      <td>-0.103473</td>\n      <td>-0.108487</td>\n      <td>-0.084554</td>\n      <td>-0.087357</td>\n      <td>0.016204</td>\n      <td>2</td>\n      <td>-0.069049</td>\n      <td>-0.067853</td>\n      <td>-0.096780</td>\n      <td>-0.090749</td>\n      <td>-0.078409</td>\n      <td>-0.080568</td>\n      <td>0.011537</td>\n    </tr>\n    <tr>\n      <th>12</th>\n      <td>9.384146</td>\n      <td>4.765076</td>\n      <td>0.012428</td>\n      <td>0.008047</td>\n      <td>13</td>\n      <td>{'n_features_to_select': 13}</td>\n      <td>-0.071940</td>\n      <td>-0.068151</td>\n      <td>-0.101012</td>\n      <td>-0.109565</td>\n      <td>-0.073873</td>\n      <td>-0.084908</td>\n      <td>0.016959</td>\n      <td>1</td>\n      <td>-0.069025</td>\n      <td>-0.067750</td>\n      <td>-0.093095</td>\n      <td>-0.090482</td>\n      <td>-0.062062</td>\n      <td>-0.076483</td>\n      <td>0.012742</td>\n    </tr>\n  </tbody>\n</table>\n</div>"
     },
     "metadata": {},
     "execution_count": 28
    }
   ],
   "source": [
    "# cv results\n",
    "cv_results = pd.DataFrame(model_cv.cv_results_)\n",
    "cv_results"
   ]
  },
  {
   "cell_type": "code",
   "execution_count": 33,
   "metadata": {},
   "outputs": [
    {
     "output_type": "execute_result",
     "data": {
      "text/plain": [
       "<matplotlib.legend.Legend at 0x7f6a0a817fa0>"
      ]
     },
     "metadata": {},
     "execution_count": 33
    },
    {
     "output_type": "display_data",
     "data": {
      "text/plain": "<Figure size 1152x432 with 1 Axes>",
      "image/svg+xml": "<?xml version=\"1.0\" encoding=\"utf-8\" standalone=\"no\"?>\n<!DOCTYPE svg PUBLIC \"-//W3C//DTD SVG 1.1//EN\"\n  \"http://www.w3.org/Graphics/SVG/1.1/DTD/svg11.dtd\">\n<!-- Created with matplotlib (https://matplotlib.org/) -->\n<svg height=\"386.034375pt\" version=\"1.1\" viewBox=\"0 0 958.523437 386.034375\" width=\"958.523437pt\" xmlns=\"http://www.w3.org/2000/svg\" xmlns:xlink=\"http://www.w3.org/1999/xlink\">\n <metadata>\n  <rdf:RDF xmlns:cc=\"http://creativecommons.org/ns#\" xmlns:dc=\"http://purl.org/dc/elements/1.1/\" xmlns:rdf=\"http://www.w3.org/1999/02/22-rdf-syntax-ns#\">\n   <cc:Work>\n    <dc:type rdf:resource=\"http://purl.org/dc/dcmitype/StillImage\"/>\n    <dc:date>2021-05-23T18:44:18.608539</dc:date>\n    <dc:format>image/svg+xml</dc:format>\n    <dc:creator>\n     <cc:Agent>\n      <dc:title>Matplotlib v3.3.4, https://matplotlib.org/</dc:title>\n     </cc:Agent>\n    </dc:creator>\n   </cc:Work>\n  </rdf:RDF>\n </metadata>\n <defs>\n  <style type=\"text/css\">*{stroke-linecap:butt;stroke-linejoin:round;}</style>\n </defs>\n <g id=\"figure_1\">\n  <g id=\"patch_1\">\n   <path d=\"M 0 386.034375 \nL 958.523437 386.034375 \nL 958.523437 0 \nL 0 0 \nz\n\" style=\"fill:none;\"/>\n  </g>\n  <g id=\"axes_1\">\n   <g id=\"patch_2\">\n    <path d=\"M 58.523438 348.478125 \nL 951.323437 348.478125 \nL 951.323437 22.318125 \nL 58.523438 22.318125 \nz\n\" style=\"fill:#ffffff;\"/>\n   </g>\n   <g id=\"matplotlib.axis_1\">\n    <g id=\"xtick_1\">\n     <g id=\"line2d_1\">\n      <defs>\n       <path d=\"M 0 0 \nL 0 3.5 \n\" id=\"m87494d4497\" style=\"stroke:#000000;stroke-width:0.8;\"/>\n      </defs>\n      <g>\n       <use style=\"stroke:#000000;stroke-width:0.8;\" x=\"166.741619\" xlink:href=\"#m87494d4497\" y=\"348.478125\"/>\n      </g>\n     </g>\n     <g id=\"text_1\">\n      <!-- 2 -->\n      <g transform=\"translate(163.560369 363.076562)scale(0.1 -0.1)\">\n       <defs>\n        <path d=\"M 19.1875 8.296875 \nL 53.609375 8.296875 \nL 53.609375 0 \nL 7.328125 0 \nL 7.328125 8.296875 \nQ 12.9375 14.109375 22.625 23.890625 \nQ 32.328125 33.6875 34.8125 36.53125 \nQ 39.546875 41.84375 41.421875 45.53125 \nQ 43.3125 49.21875 43.3125 52.78125 \nQ 43.3125 58.59375 39.234375 62.25 \nQ 35.15625 65.921875 28.609375 65.921875 \nQ 23.96875 65.921875 18.8125 64.3125 \nQ 13.671875 62.703125 7.8125 59.421875 \nL 7.8125 69.390625 \nQ 13.765625 71.78125 18.9375 73 \nQ 24.125 74.21875 28.421875 74.21875 \nQ 39.75 74.21875 46.484375 68.546875 \nQ 53.21875 62.890625 53.21875 53.421875 \nQ 53.21875 48.921875 51.53125 44.890625 \nQ 49.859375 40.875 45.40625 35.40625 \nQ 44.1875 33.984375 37.640625 27.21875 \nQ 31.109375 20.453125 19.1875 8.296875 \nz\n\" id=\"DejaVuSans-50\"/>\n       </defs>\n       <use xlink:href=\"#DejaVuSans-50\"/>\n      </g>\n     </g>\n    </g>\n    <g id=\"xtick_2\">\n     <g id=\"line2d_2\">\n      <g>\n       <use style=\"stroke:#000000;stroke-width:0.8;\" x=\"302.014347\" xlink:href=\"#m87494d4497\" y=\"348.478125\"/>\n      </g>\n     </g>\n     <g id=\"text_2\">\n      <!-- 4 -->\n      <g transform=\"translate(298.833097 363.076562)scale(0.1 -0.1)\">\n       <defs>\n        <path d=\"M 37.796875 64.3125 \nL 12.890625 25.390625 \nL 37.796875 25.390625 \nz\nM 35.203125 72.90625 \nL 47.609375 72.90625 \nL 47.609375 25.390625 \nL 58.015625 25.390625 \nL 58.015625 17.1875 \nL 47.609375 17.1875 \nL 47.609375 0 \nL 37.796875 0 \nL 37.796875 17.1875 \nL 4.890625 17.1875 \nL 4.890625 26.703125 \nz\n\" id=\"DejaVuSans-52\"/>\n       </defs>\n       <use xlink:href=\"#DejaVuSans-52\"/>\n      </g>\n     </g>\n    </g>\n    <g id=\"xtick_3\">\n     <g id=\"line2d_3\">\n      <g>\n       <use style=\"stroke:#000000;stroke-width:0.8;\" x=\"437.287074\" xlink:href=\"#m87494d4497\" y=\"348.478125\"/>\n      </g>\n     </g>\n     <g id=\"text_3\">\n      <!-- 6 -->\n      <g transform=\"translate(434.105824 363.076562)scale(0.1 -0.1)\">\n       <defs>\n        <path d=\"M 33.015625 40.375 \nQ 26.375 40.375 22.484375 35.828125 \nQ 18.609375 31.296875 18.609375 23.390625 \nQ 18.609375 15.53125 22.484375 10.953125 \nQ 26.375 6.390625 33.015625 6.390625 \nQ 39.65625 6.390625 43.53125 10.953125 \nQ 47.40625 15.53125 47.40625 23.390625 \nQ 47.40625 31.296875 43.53125 35.828125 \nQ 39.65625 40.375 33.015625 40.375 \nz\nM 52.59375 71.296875 \nL 52.59375 62.3125 \nQ 48.875 64.0625 45.09375 64.984375 \nQ 41.3125 65.921875 37.59375 65.921875 \nQ 27.828125 65.921875 22.671875 59.328125 \nQ 17.53125 52.734375 16.796875 39.40625 \nQ 19.671875 43.65625 24.015625 45.921875 \nQ 28.375 48.1875 33.59375 48.1875 \nQ 44.578125 48.1875 50.953125 41.515625 \nQ 57.328125 34.859375 57.328125 23.390625 \nQ 57.328125 12.15625 50.6875 5.359375 \nQ 44.046875 -1.421875 33.015625 -1.421875 \nQ 20.359375 -1.421875 13.671875 8.265625 \nQ 6.984375 17.96875 6.984375 36.375 \nQ 6.984375 53.65625 15.1875 63.9375 \nQ 23.390625 74.21875 37.203125 74.21875 \nQ 40.921875 74.21875 44.703125 73.484375 \nQ 48.484375 72.75 52.59375 71.296875 \nz\n\" id=\"DejaVuSans-54\"/>\n       </defs>\n       <use xlink:href=\"#DejaVuSans-54\"/>\n      </g>\n     </g>\n    </g>\n    <g id=\"xtick_4\">\n     <g id=\"line2d_4\">\n      <g>\n       <use style=\"stroke:#000000;stroke-width:0.8;\" x=\"572.559801\" xlink:href=\"#m87494d4497\" y=\"348.478125\"/>\n      </g>\n     </g>\n     <g id=\"text_4\">\n      <!-- 8 -->\n      <g transform=\"translate(569.378551 363.076562)scale(0.1 -0.1)\">\n       <defs>\n        <path d=\"M 31.78125 34.625 \nQ 24.75 34.625 20.71875 30.859375 \nQ 16.703125 27.09375 16.703125 20.515625 \nQ 16.703125 13.921875 20.71875 10.15625 \nQ 24.75 6.390625 31.78125 6.390625 \nQ 38.8125 6.390625 42.859375 10.171875 \nQ 46.921875 13.96875 46.921875 20.515625 \nQ 46.921875 27.09375 42.890625 30.859375 \nQ 38.875 34.625 31.78125 34.625 \nz\nM 21.921875 38.8125 \nQ 15.578125 40.375 12.03125 44.71875 \nQ 8.5 49.078125 8.5 55.328125 \nQ 8.5 64.0625 14.71875 69.140625 \nQ 20.953125 74.21875 31.78125 74.21875 \nQ 42.671875 74.21875 48.875 69.140625 \nQ 55.078125 64.0625 55.078125 55.328125 \nQ 55.078125 49.078125 51.53125 44.71875 \nQ 48 40.375 41.703125 38.8125 \nQ 48.828125 37.15625 52.796875 32.3125 \nQ 56.78125 27.484375 56.78125 20.515625 \nQ 56.78125 9.90625 50.3125 4.234375 \nQ 43.84375 -1.421875 31.78125 -1.421875 \nQ 19.734375 -1.421875 13.25 4.234375 \nQ 6.78125 9.90625 6.78125 20.515625 \nQ 6.78125 27.484375 10.78125 32.3125 \nQ 14.796875 37.15625 21.921875 38.8125 \nz\nM 18.3125 54.390625 \nQ 18.3125 48.734375 21.84375 45.5625 \nQ 25.390625 42.390625 31.78125 42.390625 \nQ 38.140625 42.390625 41.71875 45.5625 \nQ 45.3125 48.734375 45.3125 54.390625 \nQ 45.3125 60.0625 41.71875 63.234375 \nQ 38.140625 66.40625 31.78125 66.40625 \nQ 25.390625 66.40625 21.84375 63.234375 \nQ 18.3125 60.0625 18.3125 54.390625 \nz\n\" id=\"DejaVuSans-56\"/>\n       </defs>\n       <use xlink:href=\"#DejaVuSans-56\"/>\n      </g>\n     </g>\n    </g>\n    <g id=\"xtick_5\">\n     <g id=\"line2d_5\">\n      <g>\n       <use style=\"stroke:#000000;stroke-width:0.8;\" x=\"707.832528\" xlink:href=\"#m87494d4497\" y=\"348.478125\"/>\n      </g>\n     </g>\n     <g id=\"text_5\">\n      <!-- 10 -->\n      <g transform=\"translate(701.470028 363.076562)scale(0.1 -0.1)\">\n       <defs>\n        <path d=\"M 12.40625 8.296875 \nL 28.515625 8.296875 \nL 28.515625 63.921875 \nL 10.984375 60.40625 \nL 10.984375 69.390625 \nL 28.421875 72.90625 \nL 38.28125 72.90625 \nL 38.28125 8.296875 \nL 54.390625 8.296875 \nL 54.390625 0 \nL 12.40625 0 \nz\n\" id=\"DejaVuSans-49\"/>\n        <path d=\"M 31.78125 66.40625 \nQ 24.171875 66.40625 20.328125 58.90625 \nQ 16.5 51.421875 16.5 36.375 \nQ 16.5 21.390625 20.328125 13.890625 \nQ 24.171875 6.390625 31.78125 6.390625 \nQ 39.453125 6.390625 43.28125 13.890625 \nQ 47.125 21.390625 47.125 36.375 \nQ 47.125 51.421875 43.28125 58.90625 \nQ 39.453125 66.40625 31.78125 66.40625 \nz\nM 31.78125 74.21875 \nQ 44.046875 74.21875 50.515625 64.515625 \nQ 56.984375 54.828125 56.984375 36.375 \nQ 56.984375 17.96875 50.515625 8.265625 \nQ 44.046875 -1.421875 31.78125 -1.421875 \nQ 19.53125 -1.421875 13.0625 8.265625 \nQ 6.59375 17.96875 6.59375 36.375 \nQ 6.59375 54.828125 13.0625 64.515625 \nQ 19.53125 74.21875 31.78125 74.21875 \nz\n\" id=\"DejaVuSans-48\"/>\n       </defs>\n       <use xlink:href=\"#DejaVuSans-49\"/>\n       <use x=\"63.623047\" xlink:href=\"#DejaVuSans-48\"/>\n      </g>\n     </g>\n    </g>\n    <g id=\"xtick_6\">\n     <g id=\"line2d_6\">\n      <g>\n       <use style=\"stroke:#000000;stroke-width:0.8;\" x=\"843.105256\" xlink:href=\"#m87494d4497\" y=\"348.478125\"/>\n      </g>\n     </g>\n     <g id=\"text_6\">\n      <!-- 12 -->\n      <g transform=\"translate(836.742756 363.076562)scale(0.1 -0.1)\">\n       <use xlink:href=\"#DejaVuSans-49\"/>\n       <use x=\"63.623047\" xlink:href=\"#DejaVuSans-50\"/>\n      </g>\n     </g>\n    </g>\n    <g id=\"text_7\">\n     <!-- number of features -->\n     <g transform=\"translate(456.757812 376.754687)scale(0.1 -0.1)\">\n      <defs>\n       <path d=\"M 54.890625 33.015625 \nL 54.890625 0 \nL 45.90625 0 \nL 45.90625 32.71875 \nQ 45.90625 40.484375 42.875 44.328125 \nQ 39.84375 48.1875 33.796875 48.1875 \nQ 26.515625 48.1875 22.3125 43.546875 \nQ 18.109375 38.921875 18.109375 30.90625 \nL 18.109375 0 \nL 9.078125 0 \nL 9.078125 54.6875 \nL 18.109375 54.6875 \nL 18.109375 46.1875 \nQ 21.34375 51.125 25.703125 53.5625 \nQ 30.078125 56 35.796875 56 \nQ 45.21875 56 50.046875 50.171875 \nQ 54.890625 44.34375 54.890625 33.015625 \nz\n\" id=\"DejaVuSans-110\"/>\n       <path d=\"M 8.5 21.578125 \nL 8.5 54.6875 \nL 17.484375 54.6875 \nL 17.484375 21.921875 \nQ 17.484375 14.15625 20.5 10.265625 \nQ 23.53125 6.390625 29.59375 6.390625 \nQ 36.859375 6.390625 41.078125 11.03125 \nQ 45.3125 15.671875 45.3125 23.6875 \nL 45.3125 54.6875 \nL 54.296875 54.6875 \nL 54.296875 0 \nL 45.3125 0 \nL 45.3125 8.40625 \nQ 42.046875 3.421875 37.71875 1 \nQ 33.40625 -1.421875 27.6875 -1.421875 \nQ 18.265625 -1.421875 13.375 4.4375 \nQ 8.5 10.296875 8.5 21.578125 \nz\nM 31.109375 56 \nz\n\" id=\"DejaVuSans-117\"/>\n       <path d=\"M 52 44.1875 \nQ 55.375 50.25 60.0625 53.125 \nQ 64.75 56 71.09375 56 \nQ 79.640625 56 84.28125 50.015625 \nQ 88.921875 44.046875 88.921875 33.015625 \nL 88.921875 0 \nL 79.890625 0 \nL 79.890625 32.71875 \nQ 79.890625 40.578125 77.09375 44.375 \nQ 74.3125 48.1875 68.609375 48.1875 \nQ 61.625 48.1875 57.5625 43.546875 \nQ 53.515625 38.921875 53.515625 30.90625 \nL 53.515625 0 \nL 44.484375 0 \nL 44.484375 32.71875 \nQ 44.484375 40.625 41.703125 44.40625 \nQ 38.921875 48.1875 33.109375 48.1875 \nQ 26.21875 48.1875 22.15625 43.53125 \nQ 18.109375 38.875 18.109375 30.90625 \nL 18.109375 0 \nL 9.078125 0 \nL 9.078125 54.6875 \nL 18.109375 54.6875 \nL 18.109375 46.1875 \nQ 21.1875 51.21875 25.484375 53.609375 \nQ 29.78125 56 35.6875 56 \nQ 41.65625 56 45.828125 52.96875 \nQ 50 49.953125 52 44.1875 \nz\n\" id=\"DejaVuSans-109\"/>\n       <path d=\"M 48.6875 27.296875 \nQ 48.6875 37.203125 44.609375 42.84375 \nQ 40.53125 48.484375 33.40625 48.484375 \nQ 26.265625 48.484375 22.1875 42.84375 \nQ 18.109375 37.203125 18.109375 27.296875 \nQ 18.109375 17.390625 22.1875 11.75 \nQ 26.265625 6.109375 33.40625 6.109375 \nQ 40.53125 6.109375 44.609375 11.75 \nQ 48.6875 17.390625 48.6875 27.296875 \nz\nM 18.109375 46.390625 \nQ 20.953125 51.265625 25.265625 53.625 \nQ 29.59375 56 35.59375 56 \nQ 45.5625 56 51.78125 48.09375 \nQ 58.015625 40.1875 58.015625 27.296875 \nQ 58.015625 14.40625 51.78125 6.484375 \nQ 45.5625 -1.421875 35.59375 -1.421875 \nQ 29.59375 -1.421875 25.265625 0.953125 \nQ 20.953125 3.328125 18.109375 8.203125 \nL 18.109375 0 \nL 9.078125 0 \nL 9.078125 75.984375 \nL 18.109375 75.984375 \nz\n\" id=\"DejaVuSans-98\"/>\n       <path d=\"M 56.203125 29.59375 \nL 56.203125 25.203125 \nL 14.890625 25.203125 \nQ 15.484375 15.921875 20.484375 11.0625 \nQ 25.484375 6.203125 34.421875 6.203125 \nQ 39.59375 6.203125 44.453125 7.46875 \nQ 49.3125 8.734375 54.109375 11.28125 \nL 54.109375 2.78125 \nQ 49.265625 0.734375 44.1875 -0.34375 \nQ 39.109375 -1.421875 33.890625 -1.421875 \nQ 20.796875 -1.421875 13.15625 6.1875 \nQ 5.515625 13.8125 5.515625 26.8125 \nQ 5.515625 40.234375 12.765625 48.109375 \nQ 20.015625 56 32.328125 56 \nQ 43.359375 56 49.78125 48.890625 \nQ 56.203125 41.796875 56.203125 29.59375 \nz\nM 47.21875 32.234375 \nQ 47.125 39.59375 43.09375 43.984375 \nQ 39.0625 48.390625 32.421875 48.390625 \nQ 24.90625 48.390625 20.390625 44.140625 \nQ 15.875 39.890625 15.1875 32.171875 \nz\n\" id=\"DejaVuSans-101\"/>\n       <path d=\"M 41.109375 46.296875 \nQ 39.59375 47.171875 37.8125 47.578125 \nQ 36.03125 48 33.890625 48 \nQ 26.265625 48 22.1875 43.046875 \nQ 18.109375 38.09375 18.109375 28.8125 \nL 18.109375 0 \nL 9.078125 0 \nL 9.078125 54.6875 \nL 18.109375 54.6875 \nL 18.109375 46.1875 \nQ 20.953125 51.171875 25.484375 53.578125 \nQ 30.03125 56 36.53125 56 \nQ 37.453125 56 38.578125 55.875 \nQ 39.703125 55.765625 41.0625 55.515625 \nz\n\" id=\"DejaVuSans-114\"/>\n       <path id=\"DejaVuSans-32\"/>\n       <path d=\"M 30.609375 48.390625 \nQ 23.390625 48.390625 19.1875 42.75 \nQ 14.984375 37.109375 14.984375 27.296875 \nQ 14.984375 17.484375 19.15625 11.84375 \nQ 23.34375 6.203125 30.609375 6.203125 \nQ 37.796875 6.203125 41.984375 11.859375 \nQ 46.1875 17.53125 46.1875 27.296875 \nQ 46.1875 37.015625 41.984375 42.703125 \nQ 37.796875 48.390625 30.609375 48.390625 \nz\nM 30.609375 56 \nQ 42.328125 56 49.015625 48.375 \nQ 55.71875 40.765625 55.71875 27.296875 \nQ 55.71875 13.875 49.015625 6.21875 \nQ 42.328125 -1.421875 30.609375 -1.421875 \nQ 18.84375 -1.421875 12.171875 6.21875 \nQ 5.515625 13.875 5.515625 27.296875 \nQ 5.515625 40.765625 12.171875 48.375 \nQ 18.84375 56 30.609375 56 \nz\n\" id=\"DejaVuSans-111\"/>\n       <path d=\"M 37.109375 75.984375 \nL 37.109375 68.5 \nL 28.515625 68.5 \nQ 23.6875 68.5 21.796875 66.546875 \nQ 19.921875 64.59375 19.921875 59.515625 \nL 19.921875 54.6875 \nL 34.71875 54.6875 \nL 34.71875 47.703125 \nL 19.921875 47.703125 \nL 19.921875 0 \nL 10.890625 0 \nL 10.890625 47.703125 \nL 2.296875 47.703125 \nL 2.296875 54.6875 \nL 10.890625 54.6875 \nL 10.890625 58.5 \nQ 10.890625 67.625 15.140625 71.796875 \nQ 19.390625 75.984375 28.609375 75.984375 \nz\n\" id=\"DejaVuSans-102\"/>\n       <path d=\"M 34.28125 27.484375 \nQ 23.390625 27.484375 19.1875 25 \nQ 14.984375 22.515625 14.984375 16.5 \nQ 14.984375 11.71875 18.140625 8.90625 \nQ 21.296875 6.109375 26.703125 6.109375 \nQ 34.1875 6.109375 38.703125 11.40625 \nQ 43.21875 16.703125 43.21875 25.484375 \nL 43.21875 27.484375 \nz\nM 52.203125 31.203125 \nL 52.203125 0 \nL 43.21875 0 \nL 43.21875 8.296875 \nQ 40.140625 3.328125 35.546875 0.953125 \nQ 30.953125 -1.421875 24.3125 -1.421875 \nQ 15.921875 -1.421875 10.953125 3.296875 \nQ 6 8.015625 6 15.921875 \nQ 6 25.140625 12.171875 29.828125 \nQ 18.359375 34.515625 30.609375 34.515625 \nL 43.21875 34.515625 \nL 43.21875 35.40625 \nQ 43.21875 41.609375 39.140625 45 \nQ 35.0625 48.390625 27.6875 48.390625 \nQ 23 48.390625 18.546875 47.265625 \nQ 14.109375 46.140625 10.015625 43.890625 \nL 10.015625 52.203125 \nQ 14.9375 54.109375 19.578125 55.046875 \nQ 24.21875 56 28.609375 56 \nQ 40.484375 56 46.34375 49.84375 \nQ 52.203125 43.703125 52.203125 31.203125 \nz\n\" id=\"DejaVuSans-97\"/>\n       <path d=\"M 18.3125 70.21875 \nL 18.3125 54.6875 \nL 36.8125 54.6875 \nL 36.8125 47.703125 \nL 18.3125 47.703125 \nL 18.3125 18.015625 \nQ 18.3125 11.328125 20.140625 9.421875 \nQ 21.96875 7.515625 27.59375 7.515625 \nL 36.8125 7.515625 \nL 36.8125 0 \nL 27.59375 0 \nQ 17.1875 0 13.234375 3.875 \nQ 9.28125 7.765625 9.28125 18.015625 \nL 9.28125 47.703125 \nL 2.6875 47.703125 \nL 2.6875 54.6875 \nL 9.28125 54.6875 \nL 9.28125 70.21875 \nz\n\" id=\"DejaVuSans-116\"/>\n       <path d=\"M 44.28125 53.078125 \nL 44.28125 44.578125 \nQ 40.484375 46.53125 36.375 47.5 \nQ 32.28125 48.484375 27.875 48.484375 \nQ 21.1875 48.484375 17.84375 46.4375 \nQ 14.5 44.390625 14.5 40.28125 \nQ 14.5 37.15625 16.890625 35.375 \nQ 19.28125 33.59375 26.515625 31.984375 \nL 29.59375 31.296875 \nQ 39.15625 29.25 43.1875 25.515625 \nQ 47.21875 21.78125 47.21875 15.09375 \nQ 47.21875 7.46875 41.1875 3.015625 \nQ 35.15625 -1.421875 24.609375 -1.421875 \nQ 20.21875 -1.421875 15.453125 -0.5625 \nQ 10.6875 0.296875 5.421875 2 \nL 5.421875 11.28125 \nQ 10.40625 8.6875 15.234375 7.390625 \nQ 20.0625 6.109375 24.8125 6.109375 \nQ 31.15625 6.109375 34.5625 8.28125 \nQ 37.984375 10.453125 37.984375 14.40625 \nQ 37.984375 18.0625 35.515625 20.015625 \nQ 33.0625 21.96875 24.703125 23.78125 \nL 21.578125 24.515625 \nQ 13.234375 26.265625 9.515625 29.90625 \nQ 5.8125 33.546875 5.8125 39.890625 \nQ 5.8125 47.609375 11.28125 51.796875 \nQ 16.75 56 26.8125 56 \nQ 31.78125 56 36.171875 55.265625 \nQ 40.578125 54.546875 44.28125 53.078125 \nz\n\" id=\"DejaVuSans-115\"/>\n      </defs>\n      <use xlink:href=\"#DejaVuSans-110\"/>\n      <use x=\"63.378906\" xlink:href=\"#DejaVuSans-117\"/>\n      <use x=\"126.757812\" xlink:href=\"#DejaVuSans-109\"/>\n      <use x=\"224.169922\" xlink:href=\"#DejaVuSans-98\"/>\n      <use x=\"287.646484\" xlink:href=\"#DejaVuSans-101\"/>\n      <use x=\"349.169922\" xlink:href=\"#DejaVuSans-114\"/>\n      <use x=\"390.283203\" xlink:href=\"#DejaVuSans-32\"/>\n      <use x=\"422.070312\" xlink:href=\"#DejaVuSans-111\"/>\n      <use x=\"483.251953\" xlink:href=\"#DejaVuSans-102\"/>\n      <use x=\"518.457031\" xlink:href=\"#DejaVuSans-32\"/>\n      <use x=\"550.244141\" xlink:href=\"#DejaVuSans-102\"/>\n      <use x=\"585.449219\" xlink:href=\"#DejaVuSans-101\"/>\n      <use x=\"646.972656\" xlink:href=\"#DejaVuSans-97\"/>\n      <use x=\"708.251953\" xlink:href=\"#DejaVuSans-116\"/>\n      <use x=\"747.460938\" xlink:href=\"#DejaVuSans-117\"/>\n      <use x=\"810.839844\" xlink:href=\"#DejaVuSans-114\"/>\n      <use x=\"849.703125\" xlink:href=\"#DejaVuSans-101\"/>\n      <use x=\"911.226562\" xlink:href=\"#DejaVuSans-115\"/>\n     </g>\n    </g>\n   </g>\n   <g id=\"matplotlib.axis_2\">\n    <g id=\"ytick_1\">\n     <g id=\"line2d_7\">\n      <defs>\n       <path d=\"M 0 0 \nL -3.5 0 \n\" id=\"m844137ff5a\" style=\"stroke:#000000;stroke-width:0.8;\"/>\n      </defs>\n      <g>\n       <use style=\"stroke:#000000;stroke-width:0.8;\" x=\"58.523438\" xlink:href=\"#m844137ff5a\" y=\"310.094692\"/>\n      </g>\n     </g>\n     <g id=\"text_8\">\n      <!-- −0.14 -->\n      <g transform=\"translate(20.878125 313.893911)scale(0.1 -0.1)\">\n       <defs>\n        <path d=\"M 10.59375 35.5 \nL 73.1875 35.5 \nL 73.1875 27.203125 \nL 10.59375 27.203125 \nz\n\" id=\"DejaVuSans-8722\"/>\n        <path d=\"M 10.6875 12.40625 \nL 21 12.40625 \nL 21 0 \nL 10.6875 0 \nz\n\" id=\"DejaVuSans-46\"/>\n       </defs>\n       <use xlink:href=\"#DejaVuSans-8722\"/>\n       <use x=\"83.789062\" xlink:href=\"#DejaVuSans-48\"/>\n       <use x=\"147.412109\" xlink:href=\"#DejaVuSans-46\"/>\n       <use x=\"179.199219\" xlink:href=\"#DejaVuSans-49\"/>\n       <use x=\"242.822266\" xlink:href=\"#DejaVuSans-52\"/>\n      </g>\n     </g>\n    </g>\n    <g id=\"ytick_2\">\n     <g id=\"line2d_8\">\n      <g>\n       <use style=\"stroke:#000000;stroke-width:0.8;\" x=\"58.523438\" xlink:href=\"#m844137ff5a\" y=\"267.121871\"/>\n      </g>\n     </g>\n     <g id=\"text_9\">\n      <!-- −0.13 -->\n      <g transform=\"translate(20.878125 270.92109)scale(0.1 -0.1)\">\n       <defs>\n        <path d=\"M 40.578125 39.3125 \nQ 47.65625 37.796875 51.625 33 \nQ 55.609375 28.21875 55.609375 21.1875 \nQ 55.609375 10.40625 48.1875 4.484375 \nQ 40.765625 -1.421875 27.09375 -1.421875 \nQ 22.515625 -1.421875 17.65625 -0.515625 \nQ 12.796875 0.390625 7.625 2.203125 \nL 7.625 11.71875 \nQ 11.71875 9.328125 16.59375 8.109375 \nQ 21.484375 6.890625 26.8125 6.890625 \nQ 36.078125 6.890625 40.9375 10.546875 \nQ 45.796875 14.203125 45.796875 21.1875 \nQ 45.796875 27.640625 41.28125 31.265625 \nQ 36.765625 34.90625 28.71875 34.90625 \nL 20.21875 34.90625 \nL 20.21875 43.015625 \nL 29.109375 43.015625 \nQ 36.375 43.015625 40.234375 45.921875 \nQ 44.09375 48.828125 44.09375 54.296875 \nQ 44.09375 59.90625 40.109375 62.90625 \nQ 36.140625 65.921875 28.71875 65.921875 \nQ 24.65625 65.921875 20.015625 65.03125 \nQ 15.375 64.15625 9.8125 62.3125 \nL 9.8125 71.09375 \nQ 15.4375 72.65625 20.34375 73.4375 \nQ 25.25 74.21875 29.59375 74.21875 \nQ 40.828125 74.21875 47.359375 69.109375 \nQ 53.90625 64.015625 53.90625 55.328125 \nQ 53.90625 49.265625 50.4375 45.09375 \nQ 46.96875 40.921875 40.578125 39.3125 \nz\n\" id=\"DejaVuSans-51\"/>\n       </defs>\n       <use xlink:href=\"#DejaVuSans-8722\"/>\n       <use x=\"83.789062\" xlink:href=\"#DejaVuSans-48\"/>\n       <use x=\"147.412109\" xlink:href=\"#DejaVuSans-46\"/>\n       <use x=\"179.199219\" xlink:href=\"#DejaVuSans-49\"/>\n       <use x=\"242.822266\" xlink:href=\"#DejaVuSans-51\"/>\n      </g>\n     </g>\n    </g>\n    <g id=\"ytick_3\">\n     <g id=\"line2d_9\">\n      <g>\n       <use style=\"stroke:#000000;stroke-width:0.8;\" x=\"58.523438\" xlink:href=\"#m844137ff5a\" y=\"224.14905\"/>\n      </g>\n     </g>\n     <g id=\"text_10\">\n      <!-- −0.12 -->\n      <g transform=\"translate(20.878125 227.948269)scale(0.1 -0.1)\">\n       <use xlink:href=\"#DejaVuSans-8722\"/>\n       <use x=\"83.789062\" xlink:href=\"#DejaVuSans-48\"/>\n       <use x=\"147.412109\" xlink:href=\"#DejaVuSans-46\"/>\n       <use x=\"179.199219\" xlink:href=\"#DejaVuSans-49\"/>\n       <use x=\"242.822266\" xlink:href=\"#DejaVuSans-50\"/>\n      </g>\n     </g>\n    </g>\n    <g id=\"ytick_4\">\n     <g id=\"line2d_10\">\n      <g>\n       <use style=\"stroke:#000000;stroke-width:0.8;\" x=\"58.523438\" xlink:href=\"#m844137ff5a\" y=\"181.176229\"/>\n      </g>\n     </g>\n     <g id=\"text_11\">\n      <!-- −0.11 -->\n      <g transform=\"translate(20.878125 184.975448)scale(0.1 -0.1)\">\n       <use xlink:href=\"#DejaVuSans-8722\"/>\n       <use x=\"83.789062\" xlink:href=\"#DejaVuSans-48\"/>\n       <use x=\"147.412109\" xlink:href=\"#DejaVuSans-46\"/>\n       <use x=\"179.199219\" xlink:href=\"#DejaVuSans-49\"/>\n       <use x=\"242.822266\" xlink:href=\"#DejaVuSans-49\"/>\n      </g>\n     </g>\n    </g>\n    <g id=\"ytick_5\">\n     <g id=\"line2d_11\">\n      <g>\n       <use style=\"stroke:#000000;stroke-width:0.8;\" x=\"58.523438\" xlink:href=\"#m844137ff5a\" y=\"138.203408\"/>\n      </g>\n     </g>\n     <g id=\"text_12\">\n      <!-- −0.10 -->\n      <g transform=\"translate(20.878125 142.002627)scale(0.1 -0.1)\">\n       <use xlink:href=\"#DejaVuSans-8722\"/>\n       <use x=\"83.789062\" xlink:href=\"#DejaVuSans-48\"/>\n       <use x=\"147.412109\" xlink:href=\"#DejaVuSans-46\"/>\n       <use x=\"179.199219\" xlink:href=\"#DejaVuSans-49\"/>\n       <use x=\"242.822266\" xlink:href=\"#DejaVuSans-48\"/>\n      </g>\n     </g>\n    </g>\n    <g id=\"ytick_6\">\n     <g id=\"line2d_12\">\n      <g>\n       <use style=\"stroke:#000000;stroke-width:0.8;\" x=\"58.523438\" xlink:href=\"#m844137ff5a\" y=\"95.230587\"/>\n      </g>\n     </g>\n     <g id=\"text_13\">\n      <!-- −0.09 -->\n      <g transform=\"translate(20.878125 99.029806)scale(0.1 -0.1)\">\n       <defs>\n        <path d=\"M 10.984375 1.515625 \nL 10.984375 10.5 \nQ 14.703125 8.734375 18.5 7.8125 \nQ 22.3125 6.890625 25.984375 6.890625 \nQ 35.75 6.890625 40.890625 13.453125 \nQ 46.046875 20.015625 46.78125 33.40625 \nQ 43.953125 29.203125 39.59375 26.953125 \nQ 35.25 24.703125 29.984375 24.703125 \nQ 19.046875 24.703125 12.671875 31.3125 \nQ 6.296875 37.9375 6.296875 49.421875 \nQ 6.296875 60.640625 12.9375 67.421875 \nQ 19.578125 74.21875 30.609375 74.21875 \nQ 43.265625 74.21875 49.921875 64.515625 \nQ 56.59375 54.828125 56.59375 36.375 \nQ 56.59375 19.140625 48.40625 8.859375 \nQ 40.234375 -1.421875 26.421875 -1.421875 \nQ 22.703125 -1.421875 18.890625 -0.6875 \nQ 15.09375 0.046875 10.984375 1.515625 \nz\nM 30.609375 32.421875 \nQ 37.25 32.421875 41.125 36.953125 \nQ 45.015625 41.5 45.015625 49.421875 \nQ 45.015625 57.28125 41.125 61.84375 \nQ 37.25 66.40625 30.609375 66.40625 \nQ 23.96875 66.40625 20.09375 61.84375 \nQ 16.21875 57.28125 16.21875 49.421875 \nQ 16.21875 41.5 20.09375 36.953125 \nQ 23.96875 32.421875 30.609375 32.421875 \nz\n\" id=\"DejaVuSans-57\"/>\n       </defs>\n       <use xlink:href=\"#DejaVuSans-8722\"/>\n       <use x=\"83.789062\" xlink:href=\"#DejaVuSans-48\"/>\n       <use x=\"147.412109\" xlink:href=\"#DejaVuSans-46\"/>\n       <use x=\"179.199219\" xlink:href=\"#DejaVuSans-48\"/>\n       <use x=\"242.822266\" xlink:href=\"#DejaVuSans-57\"/>\n      </g>\n     </g>\n    </g>\n    <g id=\"ytick_7\">\n     <g id=\"line2d_13\">\n      <g>\n       <use style=\"stroke:#000000;stroke-width:0.8;\" x=\"58.523438\" xlink:href=\"#m844137ff5a\" y=\"52.257766\"/>\n      </g>\n     </g>\n     <g id=\"text_14\">\n      <!-- −0.08 -->\n      <g transform=\"translate(20.878125 56.056985)scale(0.1 -0.1)\">\n       <use xlink:href=\"#DejaVuSans-8722\"/>\n       <use x=\"83.789062\" xlink:href=\"#DejaVuSans-48\"/>\n       <use x=\"147.412109\" xlink:href=\"#DejaVuSans-46\"/>\n       <use x=\"179.199219\" xlink:href=\"#DejaVuSans-48\"/>\n       <use x=\"242.822266\" xlink:href=\"#DejaVuSans-56\"/>\n      </g>\n     </g>\n    </g>\n    <g id=\"text_15\">\n     <!-- MSE -->\n     <g transform=\"translate(14.798438 196.045781)rotate(-90)scale(0.1 -0.1)\">\n      <defs>\n       <path d=\"M 9.8125 72.90625 \nL 24.515625 72.90625 \nL 43.109375 23.296875 \nL 61.8125 72.90625 \nL 76.515625 72.90625 \nL 76.515625 0 \nL 66.890625 0 \nL 66.890625 64.015625 \nL 48.09375 14.015625 \nL 38.1875 14.015625 \nL 19.390625 64.015625 \nL 19.390625 0 \nL 9.8125 0 \nz\n\" id=\"DejaVuSans-77\"/>\n       <path d=\"M 53.515625 70.515625 \nL 53.515625 60.890625 \nQ 47.90625 63.578125 42.921875 64.890625 \nQ 37.9375 66.21875 33.296875 66.21875 \nQ 25.25 66.21875 20.875 63.09375 \nQ 16.5 59.96875 16.5 54.203125 \nQ 16.5 49.359375 19.40625 46.890625 \nQ 22.3125 44.4375 30.421875 42.921875 \nL 36.375 41.703125 \nQ 47.40625 39.59375 52.65625 34.296875 \nQ 57.90625 29 57.90625 20.125 \nQ 57.90625 9.515625 50.796875 4.046875 \nQ 43.703125 -1.421875 29.984375 -1.421875 \nQ 24.8125 -1.421875 18.96875 -0.25 \nQ 13.140625 0.921875 6.890625 3.21875 \nL 6.890625 13.375 \nQ 12.890625 10.015625 18.65625 8.296875 \nQ 24.421875 6.59375 29.984375 6.59375 \nQ 38.421875 6.59375 43.015625 9.90625 \nQ 47.609375 13.234375 47.609375 19.390625 \nQ 47.609375 24.75 44.3125 27.78125 \nQ 41.015625 30.8125 33.5 32.328125 \nL 27.484375 33.5 \nQ 16.453125 35.6875 11.515625 40.375 \nQ 6.59375 45.0625 6.59375 53.421875 \nQ 6.59375 63.09375 13.40625 68.65625 \nQ 20.21875 74.21875 32.171875 74.21875 \nQ 37.3125 74.21875 42.625 73.28125 \nQ 47.953125 72.359375 53.515625 70.515625 \nz\n\" id=\"DejaVuSans-83\"/>\n       <path d=\"M 9.8125 72.90625 \nL 55.90625 72.90625 \nL 55.90625 64.59375 \nL 19.671875 64.59375 \nL 19.671875 43.015625 \nL 54.390625 43.015625 \nL 54.390625 34.71875 \nL 19.671875 34.71875 \nL 19.671875 8.296875 \nL 56.78125 8.296875 \nL 56.78125 0 \nL 9.8125 0 \nz\n\" id=\"DejaVuSans-69\"/>\n      </defs>\n      <use xlink:href=\"#DejaVuSans-77\"/>\n      <use x=\"86.279297\" xlink:href=\"#DejaVuSans-83\"/>\n      <use x=\"149.755859\" xlink:href=\"#DejaVuSans-69\"/>\n     </g>\n    </g>\n   </g>\n   <g id=\"line2d_14\">\n    <path clip-path=\"url(#pe6a00f1025)\" d=\"M 99.105256 333.65267 \nL 166.741619 291.694868 \nL 234.377983 259.123694 \nL 302.014347 203.99272 \nL 369.65071 203.096325 \nL 437.287074 179.793743 \nL 504.923438 137.496841 \nL 572.559801 116.077603 \nL 640.196165 115.121637 \nL 707.832528 111.995329 \nL 775.468892 113.35599 \nL 843.105256 83.873802 \nL 910.741619 73.35023 \n\" style=\"fill:none;stroke:#1f77b4;stroke-linecap:square;stroke-width:1.5;\"/>\n   </g>\n   <g id=\"line2d_15\">\n    <path clip-path=\"url(#pe6a00f1025)\" d=\"M 99.105256 326.970374 \nL 166.741619 277.195296 \nL 234.377983 250.358724 \nL 302.014347 199.631128 \nL 369.65071 193.084727 \nL 437.287074 156.165763 \nL 504.923438 111.404533 \nL 572.559801 89.337265 \nL 640.196165 88.696598 \nL 707.832528 80.198558 \nL 775.468892 79.120553 \nL 843.105256 54.69856 \nL 910.741619 37.14358 \n\" style=\"fill:none;stroke:#ff7f0e;stroke-linecap:square;stroke-width:1.5;\"/>\n   </g>\n   <g id=\"patch_3\">\n    <path d=\"M 58.523438 348.478125 \nL 58.523438 22.318125 \n\" style=\"fill:none;stroke:#000000;stroke-linecap:square;stroke-linejoin:miter;stroke-width:0.8;\"/>\n   </g>\n   <g id=\"patch_4\">\n    <path d=\"M 951.323437 348.478125 \nL 951.323437 22.318125 \n\" style=\"fill:none;stroke:#000000;stroke-linecap:square;stroke-linejoin:miter;stroke-width:0.8;\"/>\n   </g>\n   <g id=\"patch_5\">\n    <path d=\"M 58.523438 348.478125 \nL 951.323438 348.478125 \n\" style=\"fill:none;stroke:#000000;stroke-linecap:square;stroke-linejoin:miter;stroke-width:0.8;\"/>\n   </g>\n   <g id=\"patch_6\">\n    <path d=\"M 58.523438 22.318125 \nL 951.323438 22.318125 \n\" style=\"fill:none;stroke:#000000;stroke-linecap:square;stroke-linejoin:miter;stroke-width:0.8;\"/>\n   </g>\n   <g id=\"text_16\">\n    <!-- Optimal Number of Features -->\n    <g transform=\"translate(419.783437 16.318125)scale(0.12 -0.12)\">\n     <defs>\n      <path d=\"M 39.40625 66.21875 \nQ 28.65625 66.21875 22.328125 58.203125 \nQ 16.015625 50.203125 16.015625 36.375 \nQ 16.015625 22.609375 22.328125 14.59375 \nQ 28.65625 6.59375 39.40625 6.59375 \nQ 50.140625 6.59375 56.421875 14.59375 \nQ 62.703125 22.609375 62.703125 36.375 \nQ 62.703125 50.203125 56.421875 58.203125 \nQ 50.140625 66.21875 39.40625 66.21875 \nz\nM 39.40625 74.21875 \nQ 54.734375 74.21875 63.90625 63.9375 \nQ 73.09375 53.65625 73.09375 36.375 \nQ 73.09375 19.140625 63.90625 8.859375 \nQ 54.734375 -1.421875 39.40625 -1.421875 \nQ 24.03125 -1.421875 14.8125 8.828125 \nQ 5.609375 19.09375 5.609375 36.375 \nQ 5.609375 53.65625 14.8125 63.9375 \nQ 24.03125 74.21875 39.40625 74.21875 \nz\n\" id=\"DejaVuSans-79\"/>\n      <path d=\"M 18.109375 8.203125 \nL 18.109375 -20.796875 \nL 9.078125 -20.796875 \nL 9.078125 54.6875 \nL 18.109375 54.6875 \nL 18.109375 46.390625 \nQ 20.953125 51.265625 25.265625 53.625 \nQ 29.59375 56 35.59375 56 \nQ 45.5625 56 51.78125 48.09375 \nQ 58.015625 40.1875 58.015625 27.296875 \nQ 58.015625 14.40625 51.78125 6.484375 \nQ 45.5625 -1.421875 35.59375 -1.421875 \nQ 29.59375 -1.421875 25.265625 0.953125 \nQ 20.953125 3.328125 18.109375 8.203125 \nz\nM 48.6875 27.296875 \nQ 48.6875 37.203125 44.609375 42.84375 \nQ 40.53125 48.484375 33.40625 48.484375 \nQ 26.265625 48.484375 22.1875 42.84375 \nQ 18.109375 37.203125 18.109375 27.296875 \nQ 18.109375 17.390625 22.1875 11.75 \nQ 26.265625 6.109375 33.40625 6.109375 \nQ 40.53125 6.109375 44.609375 11.75 \nQ 48.6875 17.390625 48.6875 27.296875 \nz\n\" id=\"DejaVuSans-112\"/>\n      <path d=\"M 9.421875 54.6875 \nL 18.40625 54.6875 \nL 18.40625 0 \nL 9.421875 0 \nz\nM 9.421875 75.984375 \nL 18.40625 75.984375 \nL 18.40625 64.59375 \nL 9.421875 64.59375 \nz\n\" id=\"DejaVuSans-105\"/>\n      <path d=\"M 9.421875 75.984375 \nL 18.40625 75.984375 \nL 18.40625 0 \nL 9.421875 0 \nz\n\" id=\"DejaVuSans-108\"/>\n      <path d=\"M 9.8125 72.90625 \nL 23.09375 72.90625 \nL 55.421875 11.921875 \nL 55.421875 72.90625 \nL 64.984375 72.90625 \nL 64.984375 0 \nL 51.703125 0 \nL 19.390625 60.984375 \nL 19.390625 0 \nL 9.8125 0 \nz\n\" id=\"DejaVuSans-78\"/>\n      <path d=\"M 9.8125 72.90625 \nL 51.703125 72.90625 \nL 51.703125 64.59375 \nL 19.671875 64.59375 \nL 19.671875 43.109375 \nL 48.578125 43.109375 \nL 48.578125 34.8125 \nL 19.671875 34.8125 \nL 19.671875 0 \nL 9.8125 0 \nz\n\" id=\"DejaVuSans-70\"/>\n     </defs>\n     <use xlink:href=\"#DejaVuSans-79\"/>\n     <use x=\"78.710938\" xlink:href=\"#DejaVuSans-112\"/>\n     <use x=\"142.1875\" xlink:href=\"#DejaVuSans-116\"/>\n     <use x=\"181.396484\" xlink:href=\"#DejaVuSans-105\"/>\n     <use x=\"209.179688\" xlink:href=\"#DejaVuSans-109\"/>\n     <use x=\"306.591797\" xlink:href=\"#DejaVuSans-97\"/>\n     <use x=\"367.871094\" xlink:href=\"#DejaVuSans-108\"/>\n     <use x=\"395.654297\" xlink:href=\"#DejaVuSans-32\"/>\n     <use x=\"427.441406\" xlink:href=\"#DejaVuSans-78\"/>\n     <use x=\"502.246094\" xlink:href=\"#DejaVuSans-117\"/>\n     <use x=\"565.625\" xlink:href=\"#DejaVuSans-109\"/>\n     <use x=\"663.037109\" xlink:href=\"#DejaVuSans-98\"/>\n     <use x=\"726.513672\" xlink:href=\"#DejaVuSans-101\"/>\n     <use x=\"788.037109\" xlink:href=\"#DejaVuSans-114\"/>\n     <use x=\"829.150391\" xlink:href=\"#DejaVuSans-32\"/>\n     <use x=\"860.9375\" xlink:href=\"#DejaVuSans-111\"/>\n     <use x=\"922.119141\" xlink:href=\"#DejaVuSans-102\"/>\n     <use x=\"957.324219\" xlink:href=\"#DejaVuSans-32\"/>\n     <use x=\"989.111328\" xlink:href=\"#DejaVuSans-70\"/>\n     <use x=\"1041.130859\" xlink:href=\"#DejaVuSans-101\"/>\n     <use x=\"1102.654297\" xlink:href=\"#DejaVuSans-97\"/>\n     <use x=\"1163.933594\" xlink:href=\"#DejaVuSans-116\"/>\n     <use x=\"1203.142578\" xlink:href=\"#DejaVuSans-117\"/>\n     <use x=\"1266.521484\" xlink:href=\"#DejaVuSans-114\"/>\n     <use x=\"1305.384766\" xlink:href=\"#DejaVuSans-101\"/>\n     <use x=\"1366.908203\" xlink:href=\"#DejaVuSans-115\"/>\n    </g>\n   </g>\n   <g id=\"legend_1\">\n    <g id=\"patch_7\">\n     <path d=\"M 65.523438 59.674375 \nL 150.842188 59.674375 \nQ 152.842188 59.674375 152.842188 57.674375 \nL 152.842188 29.318125 \nQ 152.842188 27.318125 150.842188 27.318125 \nL 65.523438 27.318125 \nQ 63.523438 27.318125 63.523438 29.318125 \nL 63.523438 57.674375 \nQ 63.523438 59.674375 65.523438 59.674375 \nz\n\" style=\"fill:#ffffff;opacity:0.8;stroke:#cccccc;stroke-linejoin:miter;\"/>\n    </g>\n    <g id=\"line2d_16\">\n     <path d=\"M 67.523438 35.416562 \nL 87.523438 35.416562 \n\" style=\"fill:none;stroke:#1f77b4;stroke-linecap:square;stroke-width:1.5;\"/>\n    </g>\n    <g id=\"line2d_17\"/>\n    <g id=\"text_17\">\n     <!-- test score -->\n     <g transform=\"translate(95.523438 38.916562)scale(0.1 -0.1)\">\n      <defs>\n       <path d=\"M 48.78125 52.59375 \nL 48.78125 44.1875 \nQ 44.96875 46.296875 41.140625 47.34375 \nQ 37.3125 48.390625 33.40625 48.390625 \nQ 24.65625 48.390625 19.8125 42.84375 \nQ 14.984375 37.3125 14.984375 27.296875 \nQ 14.984375 17.28125 19.8125 11.734375 \nQ 24.65625 6.203125 33.40625 6.203125 \nQ 37.3125 6.203125 41.140625 7.25 \nQ 44.96875 8.296875 48.78125 10.40625 \nL 48.78125 2.09375 \nQ 45.015625 0.34375 40.984375 -0.53125 \nQ 36.96875 -1.421875 32.421875 -1.421875 \nQ 20.0625 -1.421875 12.78125 6.34375 \nQ 5.515625 14.109375 5.515625 27.296875 \nQ 5.515625 40.671875 12.859375 48.328125 \nQ 20.21875 56 33.015625 56 \nQ 37.15625 56 41.109375 55.140625 \nQ 45.0625 54.296875 48.78125 52.59375 \nz\n\" id=\"DejaVuSans-99\"/>\n      </defs>\n      <use xlink:href=\"#DejaVuSans-116\"/>\n      <use x=\"39.208984\" xlink:href=\"#DejaVuSans-101\"/>\n      <use x=\"100.732422\" xlink:href=\"#DejaVuSans-115\"/>\n      <use x=\"152.832031\" xlink:href=\"#DejaVuSans-116\"/>\n      <use x=\"192.041016\" xlink:href=\"#DejaVuSans-32\"/>\n      <use x=\"223.828125\" xlink:href=\"#DejaVuSans-115\"/>\n      <use x=\"275.927734\" xlink:href=\"#DejaVuSans-99\"/>\n      <use x=\"330.908203\" xlink:href=\"#DejaVuSans-111\"/>\n      <use x=\"392.089844\" xlink:href=\"#DejaVuSans-114\"/>\n      <use x=\"430.953125\" xlink:href=\"#DejaVuSans-101\"/>\n     </g>\n    </g>\n    <g id=\"line2d_18\">\n     <path d=\"M 67.523438 50.094687 \nL 87.523438 50.094687 \n\" style=\"fill:none;stroke:#ff7f0e;stroke-linecap:square;stroke-width:1.5;\"/>\n    </g>\n    <g id=\"line2d_19\"/>\n    <g id=\"text_18\">\n     <!-- train score -->\n     <g transform=\"translate(95.523438 53.594687)scale(0.1 -0.1)\">\n      <use xlink:href=\"#DejaVuSans-116\"/>\n      <use x=\"39.208984\" xlink:href=\"#DejaVuSans-114\"/>\n      <use x=\"80.322266\" xlink:href=\"#DejaVuSans-97\"/>\n      <use x=\"141.601562\" xlink:href=\"#DejaVuSans-105\"/>\n      <use x=\"169.384766\" xlink:href=\"#DejaVuSans-110\"/>\n      <use x=\"232.763672\" xlink:href=\"#DejaVuSans-32\"/>\n      <use x=\"264.550781\" xlink:href=\"#DejaVuSans-115\"/>\n      <use x=\"316.650391\" xlink:href=\"#DejaVuSans-99\"/>\n      <use x=\"371.630859\" xlink:href=\"#DejaVuSans-111\"/>\n      <use x=\"432.8125\" xlink:href=\"#DejaVuSans-114\"/>\n      <use x=\"471.675781\" xlink:href=\"#DejaVuSans-101\"/>\n     </g>\n    </g>\n   </g>\n  </g>\n </g>\n <defs>\n  <clipPath id=\"pe6a00f1025\">\n   <rect height=\"326.16\" width=\"892.8\" x=\"58.523438\" y=\"22.318125\"/>\n  </clipPath>\n </defs>\n</svg>\n",
      "image/png": "[encoded data removed]"
     },
     "metadata": {
      "needs_background": "light"
     }
    }
   ],
   "source": [
    "# plotting cv results\n",
    "plt.figure(figsize=(16,6))\n",
    "\n",
    "plt.plot(cv_results[\"param_n_features_to_select\"], cv_results[\"mean_test_score\"])\n",
    "plt.plot(cv_results[\"param_n_features_to_select\"], cv_results[\"mean_train_score\"])\n",
    "plt.xlabel('number of features')\n",
    "plt.ylabel('MSE')\n",
    "plt.title(\"Optimal Number of Features\")\n",
    "plt.legend(['test score', 'train score'], loc='upper left')"
   ]
  },
  {
   "cell_type": "code",
   "execution_count": 19,
   "metadata": {},
   "outputs": [
    {
     "output_type": "execute_result",
     "data": {
      "text/plain": [
       "array([-6.95665817e+21, -2.31859431e+21, -2.28555544e+22, -6.75062700e+20,\n",
       "       -1.18944159e+23])"
      ]
     },
     "metadata": {},
     "execution_count": 19
    }
   ],
   "source": [
    "# k-fold CV (using all the 13 variables)\n",
    "reg = LinearRegression()\n",
    "scores = cross_val_score(reg, xtrain, ytrain, scoring='neg_mean_squared_error', cv=5)\n"
   ]
  },
  {
   "cell_type": "code",
   "execution_count": 12,
   "metadata": {},
   "outputs": [
    {
     "output_type": "execute_result",
     "data": {
      "text/plain": [
       "-2.129841971677429e+22"
      ]
     },
     "metadata": {},
     "execution_count": 12
    }
   ],
   "source": [
    "reg.score(xtest, ytest)"
   ]
  },
  {
   "cell_type": "code",
   "execution_count": 14,
   "metadata": {},
   "outputs": [],
   "source": [
    "y_pred = reg.predict(xtest)"
   ]
  },
  {
   "cell_type": "code",
   "execution_count": 23,
   "metadata": {},
   "outputs": [],
   "source": [
    "from sklearn.metrics import mean_squared_error\n",
    "errors = mean_squared_error(ytest, y_pred)\n"
   ]
  },
  {
   "source": [
    "## 5.3 SVM Regressor"
   ],
   "cell_type": "markdown",
   "metadata": {}
  },
  {
   "cell_type": "code",
   "execution_count": 35,
   "metadata": {},
   "outputs": [],
   "source": [
    "from sklearn.svm import SVR"
   ]
  },
  {
   "cell_type": "code",
   "execution_count": 41,
   "metadata": {},
   "outputs": [
    {
     "output_type": "stream",
     "name": "stdout",
     "text": [
      "0.022614301874836658\n"
     ]
    }
   ],
   "source": [
    "# train the model on train set\n",
    "model = SVR()\n",
    "model.fit(xtrain, ytrain)\n",
    "  \n",
    "# print prediction results\n",
    "ypred = model.predict(xtest)\n",
    "errors = mean_squared_error(ytest, ypred)\n",
    "print(errors)"
   ]
  },
  {
   "cell_type": "code",
   "execution_count": 59,
   "metadata": {},
   "outputs": [
    {
     "output_type": "execute_result",
     "data": {
      "text/plain": [
       "[0.0, 0.01, 0.02, 0.03, 0.04, 0.05, 0.06, 0.07, 0.08, 0.09]"
      ]
     },
     "metadata": {},
     "execution_count": 59
    }
   ],
   "source": [
    "[x * 0.001 for x in range(0,100,10)]"
   ]
  },
  {
   "cell_type": "code",
   "execution_count": 95,
   "metadata": {},
   "outputs": [
    {
     "output_type": "stream",
     "name": "stdout",
     "text": [
      "Fitting 5 folds for each of 10 candidates, totalling 50 fits\n",
      "[CV 1/5] END ...................C=10, gamma=0.1, kernel=poly; total time=   0.1s\n",
      "[CV 2/5] END ...................C=10, gamma=0.1, kernel=poly; total time=   0.1s\n",
      "[CV 3/5] END ...................C=10, gamma=0.1, kernel=poly; total time=   0.1s\n",
      "[CV 4/5] END ...................C=10, gamma=0.1, kernel=poly; total time=   0.1s\n",
      "[CV 5/5] END ...................C=10, gamma=0.1, kernel=poly; total time=   0.1s\n",
      "[CV 1/5] END .............C=0.0001, gamma=0.001, kernel=poly; total time=   0.1s\n",
      "[CV 2/5] END .............C=0.0001, gamma=0.001, kernel=poly; total time=   0.1s\n",
      "[CV 3/5] END .............C=0.0001, gamma=0.001, kernel=poly; total time=   0.1s\n",
      "[CV 4/5] END .............C=0.0001, gamma=0.001, kernel=poly; total time=   0.1s\n",
      "[CV 5/5] END .............C=0.0001, gamma=0.001, kernel=poly; total time=   0.1s\n",
      "[CV 1/5] END ..........C=0.0001, gamma=0.001, kernel=sigmoid; total time=   0.1s\n",
      "[CV 2/5] END ..........C=0.0001, gamma=0.001, kernel=sigmoid; total time=   0.1s\n",
      "[CV 3/5] END ..........C=0.0001, gamma=0.001, kernel=sigmoid; total time=   0.1s\n",
      "[CV 4/5] END ..........C=0.0001, gamma=0.001, kernel=sigmoid; total time=   0.1s\n",
      "[CV 5/5] END ..........C=0.0001, gamma=0.001, kernel=sigmoid; total time=   0.1s\n",
      "[CV 1/5] END .....................C=1, gamma=0.1, kernel=rbf; total time=   0.1s\n",
      "[CV 2/5] END .....................C=1, gamma=0.1, kernel=rbf; total time=   0.1s\n",
      "[CV 3/5] END .....................C=1, gamma=0.1, kernel=rbf; total time=   0.1s\n",
      "[CV 4/5] END .....................C=1, gamma=0.1, kernel=rbf; total time=   0.1s\n",
      "[CV 5/5] END .....................C=1, gamma=0.1, kernel=rbf; total time=   0.1s\n",
      "[CV 1/5] END ..............C=0.0001, gamma=0.001, kernel=rbf; total time=   0.1s\n",
      "[CV 2/5] END ..............C=0.0001, gamma=0.001, kernel=rbf; total time=   0.1s\n",
      "[CV 3/5] END ..............C=0.0001, gamma=0.001, kernel=rbf; total time=   0.1s\n",
      "[CV 4/5] END ..............C=0.0001, gamma=0.001, kernel=rbf; total time=   0.1s\n",
      "[CV 5/5] END ..............C=0.0001, gamma=0.001, kernel=rbf; total time=   0.1s\n",
      "[CV 1/5] END ..................C=0.1, gamma=0.01, kernel=rbf; total time=   0.1s\n",
      "[CV 2/5] END ..................C=0.1, gamma=0.01, kernel=rbf; total time=   0.1s\n",
      "[CV 3/5] END ..................C=0.1, gamma=0.01, kernel=rbf; total time=   0.1s\n",
      "[CV 4/5] END ..................C=0.1, gamma=0.01, kernel=rbf; total time=   0.1s\n",
      "[CV 5/5] END ..................C=0.1, gamma=0.01, kernel=rbf; total time=   0.1s\n",
      "[CV 1/5] END ..................C=100, gamma=0.1, kernel=poly; total time=   0.1s\n",
      "[CV 2/5] END ..................C=100, gamma=0.1, kernel=poly; total time=   0.1s\n",
      "[CV 3/5] END ..................C=100, gamma=0.1, kernel=poly; total time=   0.1s\n",
      "[CV 4/5] END ..................C=100, gamma=0.1, kernel=poly; total time=   0.1s\n",
      "[CV 5/5] END ..................C=100, gamma=0.1, kernel=poly; total time=   0.1s\n",
      "[CV 1/5] END ...............C=0.0001, gamma=0.1, kernel=poly; total time=   0.0s\n",
      "[CV 2/5] END ...............C=0.0001, gamma=0.1, kernel=poly; total time=   0.1s\n",
      "[CV 3/5] END ...............C=0.0001, gamma=0.1, kernel=poly; total time=   0.0s\n",
      "[CV 4/5] END ...............C=0.0001, gamma=0.1, kernel=poly; total time=   0.0s\n",
      "[CV 5/5] END ...............C=0.0001, gamma=0.1, kernel=poly; total time=   0.1s\n",
      "[CV 1/5] END ...................C=100, gamma=0.1, kernel=rbf; total time=   0.1s\n",
      "[CV 2/5] END ...................C=100, gamma=0.1, kernel=rbf; total time=   0.1s\n",
      "[CV 3/5] END ...................C=100, gamma=0.1, kernel=rbf; total time=   0.1s\n",
      "[CV 4/5] END ...................C=100, gamma=0.1, kernel=rbf; total time=   0.1s\n",
      "[CV 5/5] END ...................C=100, gamma=0.1, kernel=rbf; total time=   0.1s\n",
      "[CV 1/5] END ................C=100, gamma=0.0001, kernel=rbf; total time=   0.1s\n",
      "[CV 2/5] END ................C=100, gamma=0.0001, kernel=rbf; total time=   0.1s\n",
      "[CV 3/5] END ................C=100, gamma=0.0001, kernel=rbf; total time=   0.1s\n",
      "[CV 4/5] END ................C=100, gamma=0.0001, kernel=rbf; total time=   0.1s\n",
      "[CV 5/5] END ................C=100, gamma=0.0001, kernel=rbf; total time=   0.1s\n"
     ]
    },
    {
     "output_type": "execute_result",
     "data": {
      "text/plain": [
       "RandomizedSearchCV(estimator=SVR(),\n",
       "                   param_distributions={'C': [0.0001, 0.001, 0.01, 0.1, 1, 10,\n",
       "                                              100],\n",
       "                                        'gamma': [1, 0.1, 0.01, 0.001, 0.0001],\n",
       "                                        'kernel': ['poly', 'rbf', 'sigmoid']},\n",
       "                   verbose=3)"
      ]
     },
     "metadata": {},
     "execution_count": 95
    }
   ],
   "source": [
    "# defining parameter range\n",
    "param_grid = {'C': [0.0001, 0.001, 0.01,0.1, 1 , 10, 100], \n",
    "              'gamma': [1, 0.1, 0.01, 0.001, 0.0001],\n",
    "              'kernel': ['poly', 'rbf', 'sigmoid']}\n",
    "model = SVR()\n",
    "grid = RandomizedSearchCV(SVR(), param_grid, refit = True, verbose = 3)\n",
    "\n",
    "grid.fit(xtrain,ytrain)\n",
    "  "
   ]
  },
  {
   "cell_type": "code",
   "execution_count": 96,
   "metadata": {},
   "outputs": [
    {
     "output_type": "stream",
     "name": "stdout",
     "text": [
      "{'kernel': 'rbf', 'gamma': 0.0001, 'C': 100}\nSVR(C=100, gamma=0.0001)\n"
     ]
    }
   ],
   "source": [
    "# print best parameter after tuning\n",
    "print(grid.best_params_)\n",
    "  \n",
    "# print how our model looks after hyper-parameter tuning\n",
    "print(grid.best_estimator_)"
   ]
  },
  {
   "cell_type": "code",
   "execution_count": 97,
   "metadata": {},
   "outputs": [
    {
     "output_type": "stream",
     "name": "stdout",
     "text": [
      "0.02041282734213652\n"
     ]
    }
   ],
   "source": [
    "# train the model on train set\n",
    "model = SVR(C=0.001, gamma=1, kernel='poly')\n",
    "model.fit(xtrain, ytrain)\n",
    "\n",
    "# print prediction results\n",
    "ypred = model.predict(xtest)\n",
    "errors = mean_squared_error(ytest, ypred)\n",
    "print(errors)"
   ]
  },
  {
   "cell_type": "code",
   "execution_count": 69,
   "metadata": {},
   "outputs": [],
   "source": [
    "pred = model.predict(test)"
   ]
  },
  {
   "cell_type": "code",
   "execution_count": 113,
   "metadata": {},
   "outputs": [],
   "source": [
    "submission = pd.DataFrame({'Id':tes['Id'],'SalePrice':np.exp(pred)})"
   ]
  },
  {
   "cell_type": "code",
   "execution_count": 107,
   "metadata": {},
   "outputs": [],
   "source": [
    "submission.SalePrice = submission.SalePrice.apply(np.int64)"
   ]
  },
  {
   "cell_type": "code",
   "execution_count": 108,
   "metadata": {},
   "outputs": [
    {
     "output_type": "execute_result",
     "data": {
      "text/plain": [
       "        Id  SalePrice\n",
       "0     1461     119841\n",
       "1     1462     154941\n",
       "2     1463     178092\n",
       "3     1464     196153\n",
       "4     1465     183036\n",
       "...    ...        ...\n",
       "1454  2915      84534\n",
       "1455  2916      74007\n",
       "1456  2917     173979\n",
       "1457  2918     116684\n",
       "1458  2919     225285\n",
       "\n",
       "[1459 rows x 2 columns]"
      ],
      "text/html": "<div>\n<style scoped>\n    .dataframe tbody tr th:only-of-type {\n        vertical-align: middle;\n    }\n\n    .dataframe tbody tr th {\n        vertical-align: top;\n    }\n\n    .dataframe thead th {\n        text-align: right;\n    }\n</style>\n<table border=\"1\" class=\"dataframe\">\n  <thead>\n    <tr style=\"text-align: right;\">\n      <th></th>\n      <th>Id</th>\n      <th>SalePrice</th>\n    </tr>\n  </thead>\n  <tbody>\n    <tr>\n      <th>0</th>\n      <td>1461</td>\n      <td>119841</td>\n    </tr>\n    <tr>\n      <th>1</th>\n      <td>1462</td>\n      <td>154941</td>\n    </tr>\n    <tr>\n      <th>2</th>\n      <td>1463</td>\n      <td>178092</td>\n    </tr>\n    <tr>\n      <th>3</th>\n      <td>1464</td>\n      <td>196153</td>\n    </tr>\n    <tr>\n      <th>4</th>\n      <td>1465</td>\n      <td>183036</td>\n    </tr>\n    <tr>\n      <th>...</th>\n      <td>...</td>\n      <td>...</td>\n    </tr>\n    <tr>\n      <th>1454</th>\n      <td>2915</td>\n      <td>84534</td>\n    </tr>\n    <tr>\n      <th>1455</th>\n      <td>2916</td>\n      <td>74007</td>\n    </tr>\n    <tr>\n      <th>1456</th>\n      <td>2917</td>\n      <td>173979</td>\n    </tr>\n    <tr>\n      <th>1457</th>\n      <td>2918</td>\n      <td>116684</td>\n    </tr>\n    <tr>\n      <th>1458</th>\n      <td>2919</td>\n      <td>225285</td>\n    </tr>\n  </tbody>\n</table>\n<p>1459 rows × 2 columns</p>\n</div>"
     },
     "metadata": {},
     "execution_count": 108
    }
   ],
   "source": [
    "submission"
   ]
  },
  {
   "cell_type": "code",
   "execution_count": 110,
   "metadata": {},
   "outputs": [],
   "source": [
    "submission.to_csv('results.csv', index=False)"
   ]
  },
  {
   "source": [
    "## XGBoost"
   ],
   "cell_type": "markdown",
   "metadata": {}
  },
  {
   "cell_type": "code",
   "execution_count": 111,
   "metadata": {},
   "outputs": [],
   "source": [
    "# create an xgboost regression model\n",
    "model = XGBRegressor(n_estimators=1000, max_depth=7, eta=0.1, subsample=0.7, colsample_bytree=0.8)"
   ]
  },
  {
   "cell_type": "code",
   "execution_count": 112,
   "metadata": {},
   "outputs": [
    {
     "output_type": "execute_result",
     "data": {
      "text/plain": [
       "XGBRegressor(base_score=0.5, booster='gbtree', colsample_bylevel=1,\n",
       "             colsample_bynode=1, colsample_bytree=0.8, eta=0.1, gamma=0,\n",
       "             gpu_id=-1, importance_type='gain', interaction_constraints='',\n",
       "             learning_rate=0.100000001, max_delta_step=0, max_depth=7,\n",
       "             min_child_weight=1, missing=nan, monotone_constraints='()',\n",
       "             n_estimators=1000, n_jobs=8, num_parallel_tree=1, random_state=0,\n",
       "             reg_alpha=0, reg_lambda=1, scale_pos_weight=1, subsample=0.7,\n",
       "             tree_method='exact', validate_parameters=1, verbosity=None)"
      ]
     },
     "metadata": {},
     "execution_count": 112
    }
   ],
   "source": [
    "model.fit(xtrain, ytrain)"
   ]
  },
  {
   "cell_type": "code",
   "execution_count": 117,
   "metadata": {},
   "outputs": [
    {
     "output_type": "stream",
     "name": "stdout",
     "text": [
      "0.013494593056279936\n"
     ]
    }
   ],
   "source": [
    "ypred = model.predict(xtest)\n",
    "errors = mean_squared_error(ytest, ypred)\n",
    "print(errors)"
   ]
  },
  {
   "cell_type": "code",
   "execution_count": 119,
   "metadata": {},
   "outputs": [
    {
     "output_type": "execute_result",
     "data": {
      "text/plain": [
       "(1459, 254)"
      ]
     },
     "metadata": {},
     "execution_count": 119
    }
   ],
   "source": [
    "test.shape"
   ]
  },
  {
   "cell_type": "code",
   "execution_count": 131,
   "metadata": {},
   "outputs": [],
   "source": [
    "pred = model.predict(test)"
   ]
  },
  {
   "cell_type": "code",
   "execution_count": 132,
   "metadata": {},
   "outputs": [],
   "source": [
    "submission = pd.DataFrame({'Id':tes['Id'],'SalePrice':np.exp(pred)})\n",
    "submission.SalePrice = submission.SalePrice.apply(np.int64)\n",
    "submission.to_csv('results.csv', index=False)"
   ]
  },
  {
   "source": [
    "## AdaBoostRegressor"
   ],
   "cell_type": "markdown",
   "metadata": {}
  },
  {
   "cell_type": "code",
   "execution_count": 38,
   "metadata": {},
   "outputs": [
    {
     "output_type": "execute_result",
     "data": {
      "text/plain": [
       "AdaBoostRegressor(learning_rate=0.1, n_estimators=300, random_state=0)"
      ]
     },
     "metadata": {},
     "execution_count": 38
    }
   ],
   "source": [
    "from sklearn.ensemble import AdaBoostRegressor\n",
    "\n",
    "regr = AdaBoostRegressor(random_state=0, n_estimators=300, learning_rate=0.1)\n",
    "regr.fit(xtrain,ytrain)"
   ]
  },
  {
   "cell_type": "code",
   "execution_count": 39,
   "metadata": {},
   "outputs": [],
   "source": [
    "ypred = regr.predict(xtest)"
   ]
  },
  {
   "cell_type": "code",
   "execution_count": 40,
   "metadata": {},
   "outputs": [],
   "source": [
    "from sklearn.metrics import mean_squared_error\n",
    "errors = mean_squared_error(ytest, ypred)"
   ]
  },
  {
   "cell_type": "code",
   "execution_count": 41,
   "metadata": {},
   "outputs": [
    {
     "output_type": "execute_result",
     "data": {
      "text/plain": [
       "0.038081244372594296"
      ]
     },
     "metadata": {},
     "execution_count": 41
    }
   ],
   "source": [
    "errors"
   ]
  },
  {
   "cell_type": "code",
   "execution_count": null,
   "metadata": {},
   "outputs": [],
   "source": [
    "loss"
   ]
  }
 ]
}