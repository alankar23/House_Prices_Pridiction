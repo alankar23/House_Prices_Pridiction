{
 "metadata": {
  "language_info": {
   "codemirror_mode": {
    "name": "ipython",
    "version": 3
   },
   "file_extension": ".py",
   "mimetype": "text/x-python",
   "name": "python",
   "nbconvert_exporter": "python",
   "pygments_lexer": "ipython3",
   "version": "3.8.5"
  },
  "orig_nbformat": 2,
  "kernelspec": {
   "name": "python3",
   "display_name": "Python 3",
   "language": "python"
  }
 },
 "nbformat": 4,
 "nbformat_minor": 2,
 "cells": [
  {
   "source": [
    "# Feature Engineering"
   ],
   "cell_type": "markdown",
   "metadata": {}
  },
  {
   "source": [
    "## 4.1 Importing Libraries"
   ],
   "cell_type": "markdown",
   "metadata": {}
  },
  {
   "cell_type": "code",
   "execution_count": 1,
   "metadata": {},
   "outputs": [],
   "source": [
    "import pandas as pd\n",
    "import seaborn as sns\n",
    "import matplotlib.pyplot as plt\n",
    "import numpy as np\n",
    "from scipy.stats import norm\n",
    "from sklearn.preprocessing import StandardScaler, OneHotEncoder\n",
    "from sklearn.impute import SimpleImputer\n",
    "from scipy import stats\n",
    "import warnings\n",
    "from sklearn.preprocessing import MinMaxScaler\n",
    "warnings.filterwarnings('ignore')\n",
    "%matplotlib inline"
   ]
  },
  {
   "source": [
    "## 4.2 Read Data"
   ],
   "cell_type": "markdown",
   "metadata": {}
  },
  {
   "cell_type": "code",
   "execution_count": 2,
   "metadata": {},
   "outputs": [],
   "source": [
    "train = pd.read_csv('train2.csv')\n",
    "test = pd.read_csv('test2.csv')"
   ]
  },
  {
   "cell_type": "code",
   "execution_count": 3,
   "metadata": {},
   "outputs": [],
   "source": [
    "# In Train set\n",
    "nulls = train.isnull().sum() \n",
    "for x,y in enumerate(nulls):\n",
    "    if y != 0:\n",
    "        percent = nulls[x]/len(train)\n",
    "        print(f'{train.columns[x]}:\\t{nulls[x]}\\tPercent: {round(percent * 100,2)}%')"
   ]
  },
  {
   "cell_type": "code",
   "execution_count": 4,
   "metadata": {},
   "outputs": [
    {
     "output_type": "execute_result",
     "data": {
      "text/plain": [
       "   Unnamed: 0  Id  MSSubClass MSZoning  LotFrontage  LotArea Street LotShape  \\\n",
       "0           0   1          60       RL         65.0     8450   Pave      Reg   \n",
       "1           1   2          20       RL         80.0     9600   Pave      Reg   \n",
       "2           2   3          60       RL         68.0    11250   Pave      IR1   \n",
       "3           3   4          70       RL         60.0     9550   Pave      IR1   \n",
       "4           4   5          60       RL         84.0    14260   Pave      IR1   \n",
       "\n",
       "  LandContour Utilities LotConfig LandSlope Neighborhood Condition1  \\\n",
       "0         Lvl    AllPub    Inside       Gtl      CollgCr       Norm   \n",
       "1         Lvl    AllPub       FR2       Gtl      Veenker      Feedr   \n",
       "2         Lvl    AllPub    Inside       Gtl      CollgCr       Norm   \n",
       "3         Lvl    AllPub    Corner       Gtl      Crawfor       Norm   \n",
       "4         Lvl    AllPub       FR2       Gtl      NoRidge       Norm   \n",
       "\n",
       "  Condition2 BldgType HouseStyle  OverallQual  OverallCond  YearBuilt  \\\n",
       "0       Norm     1Fam     2Story            7            5       2003   \n",
       "1       Norm     1Fam     1Story            6            8       1976   \n",
       "2       Norm     1Fam     2Story            7            5       2001   \n",
       "3       Norm     1Fam     2Story            7            5       1915   \n",
       "4       Norm     1Fam     2Story            8            5       2000   \n",
       "\n",
       "   YearRemodAdd RoofStyle RoofMatl Exterior1st Exterior2nd MasVnrType  \\\n",
       "0          2003     Gable  CompShg     VinylSd     VinylSd    BrkFace   \n",
       "1          1976     Gable  CompShg     MetalSd     MetalSd       None   \n",
       "2          2002     Gable  CompShg     VinylSd     VinylSd    BrkFace   \n",
       "3          1970     Gable  CompShg     Wd Sdng     Wd Shng       None   \n",
       "4          2000     Gable  CompShg     VinylSd     VinylSd    BrkFace   \n",
       "\n",
       "   MasVnrArea ExterQual ExterCond Foundation BsmtQual BsmtCond BsmtExposure  \\\n",
       "0       196.0        Gd        TA      PConc       Gd       TA           No   \n",
       "1         0.0        TA        TA     CBlock       Gd       TA           Gd   \n",
       "2       162.0        Gd        TA      PConc       Gd       TA           Mn   \n",
       "3         0.0        TA        TA     BrkTil       TA       Gd           No   \n",
       "4       350.0        Gd        TA      PConc       Gd       TA           Av   \n",
       "\n",
       "  BsmtFinType1  BsmtFinSF1 BsmtFinType2  BsmtFinSF2  BsmtUnfSF  TotalBsmtSF  \\\n",
       "0          GLQ         706          Unf           0        150          856   \n",
       "1          ALQ         978          Unf           0        284         1262   \n",
       "2          GLQ         486          Unf           0        434          920   \n",
       "3          ALQ         216          Unf           0        540          756   \n",
       "4          GLQ         655          Unf           0        490         1145   \n",
       "\n",
       "  Heating HeatingQC CentralAir Electrical  1stFlrSF  2ndFlrSF  LowQualFinSF  \\\n",
       "0    GasA        Ex          Y      SBrkr       856       854             0   \n",
       "1    GasA        Ex          Y      SBrkr      1262         0             0   \n",
       "2    GasA        Ex          Y      SBrkr       920       866             0   \n",
       "3    GasA        Gd          Y      SBrkr       961       756             0   \n",
       "4    GasA        Ex          Y      SBrkr      1145      1053             0   \n",
       "\n",
       "   GrLivArea  BsmtFullBath  BsmtHalfBath  FullBath  HalfBath  BedroomAbvGr  \\\n",
       "0       1710             1             0         2         1             3   \n",
       "1       1262             0             1         2         0             3   \n",
       "2       1786             1             0         2         1             3   \n",
       "3       1717             1             0         1         0             3   \n",
       "4       2198             1             0         2         1             4   \n",
       "\n",
       "   KitchenAbvGr KitchenQual  TotRmsAbvGrd Functional  Fireplaces GarageType  \\\n",
       "0             1          Gd             8        Typ           0     Attchd   \n",
       "1             1          TA             6        Typ           1     Attchd   \n",
       "2             1          Gd             6        Typ           1     Attchd   \n",
       "3             1          Gd             7        Typ           1     Detchd   \n",
       "4             1          Gd             9        Typ           1     Attchd   \n",
       "\n",
       "   GarageYrBlt GarageFinish  GarageCars  GarageArea GarageQual GarageCond  \\\n",
       "0       2003.0          RFn           2         548         TA         TA   \n",
       "1       1976.0          RFn           2         460         TA         TA   \n",
       "2       2001.0          RFn           2         608         TA         TA   \n",
       "3       1998.0          Unf           3         642         TA         TA   \n",
       "4       2000.0          RFn           3         836         TA         TA   \n",
       "\n",
       "  PavedDrive  WoodDeckSF  OpenPorchSF  EnclosedPorch  3SsnPorch  ScreenPorch  \\\n",
       "0          Y           0           61              0          0            0   \n",
       "1          Y         298            0              0          0            0   \n",
       "2          Y           0           42              0          0            0   \n",
       "3          Y           0           35            272          0            0   \n",
       "4          Y         192           84              0          0            0   \n",
       "\n",
       "   PoolArea  MiscVal  MoSold  YrSold SaleType SaleCondition  SalePrice  \n",
       "0         0        0       2    2008       WD        Normal     208500  \n",
       "1         0        0       5    2007       WD        Normal     181500  \n",
       "2         0        0       9    2008       WD        Normal     223500  \n",
       "3         0        0       2    2006       WD       Abnorml     140000  \n",
       "4         0        0      12    2008       WD        Normal     250000  "
      ],
      "text/html": "<div>\n<style scoped>\n    .dataframe tbody tr th:only-of-type {\n        vertical-align: middle;\n    }\n\n    .dataframe tbody tr th {\n        vertical-align: top;\n    }\n\n    .dataframe thead th {\n        text-align: right;\n    }\n</style>\n<table border=\"1\" class=\"dataframe\">\n  <thead>\n    <tr style=\"text-align: right;\">\n      <th></th>\n      <th>Unnamed: 0</th>\n      <th>Id</th>\n      <th>MSSubClass</th>\n      <th>MSZoning</th>\n      <th>LotFrontage</th>\n      <th>LotArea</th>\n      <th>Street</th>\n      <th>LotShape</th>\n      <th>LandContour</th>\n      <th>Utilities</th>\n      <th>LotConfig</th>\n      <th>LandSlope</th>\n      <th>Neighborhood</th>\n      <th>Condition1</th>\n      <th>Condition2</th>\n      <th>BldgType</th>\n      <th>HouseStyle</th>\n      <th>OverallQual</th>\n      <th>OverallCond</th>\n      <th>YearBuilt</th>\n      <th>YearRemodAdd</th>\n      <th>RoofStyle</th>\n      <th>RoofMatl</th>\n      <th>Exterior1st</th>\n      <th>Exterior2nd</th>\n      <th>MasVnrType</th>\n      <th>MasVnrArea</th>\n      <th>ExterQual</th>\n      <th>ExterCond</th>\n      <th>Foundation</th>\n      <th>BsmtQual</th>\n      <th>BsmtCond</th>\n      <th>BsmtExposure</th>\n      <th>BsmtFinType1</th>\n      <th>BsmtFinSF1</th>\n      <th>BsmtFinType2</th>\n      <th>BsmtFinSF2</th>\n      <th>BsmtUnfSF</th>\n      <th>TotalBsmtSF</th>\n      <th>Heating</th>\n      <th>HeatingQC</th>\n      <th>CentralAir</th>\n      <th>Electrical</th>\n      <th>1stFlrSF</th>\n      <th>2ndFlrSF</th>\n      <th>LowQualFinSF</th>\n      <th>GrLivArea</th>\n      <th>BsmtFullBath</th>\n      <th>BsmtHalfBath</th>\n      <th>FullBath</th>\n      <th>HalfBath</th>\n      <th>BedroomAbvGr</th>\n      <th>KitchenAbvGr</th>\n      <th>KitchenQual</th>\n      <th>TotRmsAbvGrd</th>\n      <th>Functional</th>\n      <th>Fireplaces</th>\n      <th>GarageType</th>\n      <th>GarageYrBlt</th>\n      <th>GarageFinish</th>\n      <th>GarageCars</th>\n      <th>GarageArea</th>\n      <th>GarageQual</th>\n      <th>GarageCond</th>\n      <th>PavedDrive</th>\n      <th>WoodDeckSF</th>\n      <th>OpenPorchSF</th>\n      <th>EnclosedPorch</th>\n      <th>3SsnPorch</th>\n      <th>ScreenPorch</th>\n      <th>PoolArea</th>\n      <th>MiscVal</th>\n      <th>MoSold</th>\n      <th>YrSold</th>\n      <th>SaleType</th>\n      <th>SaleCondition</th>\n      <th>SalePrice</th>\n    </tr>\n  </thead>\n  <tbody>\n    <tr>\n      <th>0</th>\n      <td>0</td>\n      <td>1</td>\n      <td>60</td>\n      <td>RL</td>\n      <td>65.0</td>\n      <td>8450</td>\n      <td>Pave</td>\n      <td>Reg</td>\n      <td>Lvl</td>\n      <td>AllPub</td>\n      <td>Inside</td>\n      <td>Gtl</td>\n      <td>CollgCr</td>\n      <td>Norm</td>\n      <td>Norm</td>\n      <td>1Fam</td>\n      <td>2Story</td>\n      <td>7</td>\n      <td>5</td>\n      <td>2003</td>\n      <td>2003</td>\n      <td>Gable</td>\n      <td>CompShg</td>\n      <td>VinylSd</td>\n      <td>VinylSd</td>\n      <td>BrkFace</td>\n      <td>196.0</td>\n      <td>Gd</td>\n      <td>TA</td>\n      <td>PConc</td>\n      <td>Gd</td>\n      <td>TA</td>\n      <td>No</td>\n      <td>GLQ</td>\n      <td>706</td>\n      <td>Unf</td>\n      <td>0</td>\n      <td>150</td>\n      <td>856</td>\n      <td>GasA</td>\n      <td>Ex</td>\n      <td>Y</td>\n      <td>SBrkr</td>\n      <td>856</td>\n      <td>854</td>\n      <td>0</td>\n      <td>1710</td>\n      <td>1</td>\n      <td>0</td>\n      <td>2</td>\n      <td>1</td>\n      <td>3</td>\n      <td>1</td>\n      <td>Gd</td>\n      <td>8</td>\n      <td>Typ</td>\n      <td>0</td>\n      <td>Attchd</td>\n      <td>2003.0</td>\n      <td>RFn</td>\n      <td>2</td>\n      <td>548</td>\n      <td>TA</td>\n      <td>TA</td>\n      <td>Y</td>\n      <td>0</td>\n      <td>61</td>\n      <td>0</td>\n      <td>0</td>\n      <td>0</td>\n      <td>0</td>\n      <td>0</td>\n      <td>2</td>\n      <td>2008</td>\n      <td>WD</td>\n      <td>Normal</td>\n      <td>208500</td>\n    </tr>\n    <tr>\n      <th>1</th>\n      <td>1</td>\n      <td>2</td>\n      <td>20</td>\n      <td>RL</td>\n      <td>80.0</td>\n      <td>9600</td>\n      <td>Pave</td>\n      <td>Reg</td>\n      <td>Lvl</td>\n      <td>AllPub</td>\n      <td>FR2</td>\n      <td>Gtl</td>\n      <td>Veenker</td>\n      <td>Feedr</td>\n      <td>Norm</td>\n      <td>1Fam</td>\n      <td>1Story</td>\n      <td>6</td>\n      <td>8</td>\n      <td>1976</td>\n      <td>1976</td>\n      <td>Gable</td>\n      <td>CompShg</td>\n      <td>MetalSd</td>\n      <td>MetalSd</td>\n      <td>None</td>\n      <td>0.0</td>\n      <td>TA</td>\n      <td>TA</td>\n      <td>CBlock</td>\n      <td>Gd</td>\n      <td>TA</td>\n      <td>Gd</td>\n      <td>ALQ</td>\n      <td>978</td>\n      <td>Unf</td>\n      <td>0</td>\n      <td>284</td>\n      <td>1262</td>\n      <td>GasA</td>\n      <td>Ex</td>\n      <td>Y</td>\n      <td>SBrkr</td>\n      <td>1262</td>\n      <td>0</td>\n      <td>0</td>\n      <td>1262</td>\n      <td>0</td>\n      <td>1</td>\n      <td>2</td>\n      <td>0</td>\n      <td>3</td>\n      <td>1</td>\n      <td>TA</td>\n      <td>6</td>\n      <td>Typ</td>\n      <td>1</td>\n      <td>Attchd</td>\n      <td>1976.0</td>\n      <td>RFn</td>\n      <td>2</td>\n      <td>460</td>\n      <td>TA</td>\n      <td>TA</td>\n      <td>Y</td>\n      <td>298</td>\n      <td>0</td>\n      <td>0</td>\n      <td>0</td>\n      <td>0</td>\n      <td>0</td>\n      <td>0</td>\n      <td>5</td>\n      <td>2007</td>\n      <td>WD</td>\n      <td>Normal</td>\n      <td>181500</td>\n    </tr>\n    <tr>\n      <th>2</th>\n      <td>2</td>\n      <td>3</td>\n      <td>60</td>\n      <td>RL</td>\n      <td>68.0</td>\n      <td>11250</td>\n      <td>Pave</td>\n      <td>IR1</td>\n      <td>Lvl</td>\n      <td>AllPub</td>\n      <td>Inside</td>\n      <td>Gtl</td>\n      <td>CollgCr</td>\n      <td>Norm</td>\n      <td>Norm</td>\n      <td>1Fam</td>\n      <td>2Story</td>\n      <td>7</td>\n      <td>5</td>\n      <td>2001</td>\n      <td>2002</td>\n      <td>Gable</td>\n      <td>CompShg</td>\n      <td>VinylSd</td>\n      <td>VinylSd</td>\n      <td>BrkFace</td>\n      <td>162.0</td>\n      <td>Gd</td>\n      <td>TA</td>\n      <td>PConc</td>\n      <td>Gd</td>\n      <td>TA</td>\n      <td>Mn</td>\n      <td>GLQ</td>\n      <td>486</td>\n      <td>Unf</td>\n      <td>0</td>\n      <td>434</td>\n      <td>920</td>\n      <td>GasA</td>\n      <td>Ex</td>\n      <td>Y</td>\n      <td>SBrkr</td>\n      <td>920</td>\n      <td>866</td>\n      <td>0</td>\n      <td>1786</td>\n      <td>1</td>\n      <td>0</td>\n      <td>2</td>\n      <td>1</td>\n      <td>3</td>\n      <td>1</td>\n      <td>Gd</td>\n      <td>6</td>\n      <td>Typ</td>\n      <td>1</td>\n      <td>Attchd</td>\n      <td>2001.0</td>\n      <td>RFn</td>\n      <td>2</td>\n      <td>608</td>\n      <td>TA</td>\n      <td>TA</td>\n      <td>Y</td>\n      <td>0</td>\n      <td>42</td>\n      <td>0</td>\n      <td>0</td>\n      <td>0</td>\n      <td>0</td>\n      <td>0</td>\n      <td>9</td>\n      <td>2008</td>\n      <td>WD</td>\n      <td>Normal</td>\n      <td>223500</td>\n    </tr>\n    <tr>\n      <th>3</th>\n      <td>3</td>\n      <td>4</td>\n      <td>70</td>\n      <td>RL</td>\n      <td>60.0</td>\n      <td>9550</td>\n      <td>Pave</td>\n      <td>IR1</td>\n      <td>Lvl</td>\n      <td>AllPub</td>\n      <td>Corner</td>\n      <td>Gtl</td>\n      <td>Crawfor</td>\n      <td>Norm</td>\n      <td>Norm</td>\n      <td>1Fam</td>\n      <td>2Story</td>\n      <td>7</td>\n      <td>5</td>\n      <td>1915</td>\n      <td>1970</td>\n      <td>Gable</td>\n      <td>CompShg</td>\n      <td>Wd Sdng</td>\n      <td>Wd Shng</td>\n      <td>None</td>\n      <td>0.0</td>\n      <td>TA</td>\n      <td>TA</td>\n      <td>BrkTil</td>\n      <td>TA</td>\n      <td>Gd</td>\n      <td>No</td>\n      <td>ALQ</td>\n      <td>216</td>\n      <td>Unf</td>\n      <td>0</td>\n      <td>540</td>\n      <td>756</td>\n      <td>GasA</td>\n      <td>Gd</td>\n      <td>Y</td>\n      <td>SBrkr</td>\n      <td>961</td>\n      <td>756</td>\n      <td>0</td>\n      <td>1717</td>\n      <td>1</td>\n      <td>0</td>\n      <td>1</td>\n      <td>0</td>\n      <td>3</td>\n      <td>1</td>\n      <td>Gd</td>\n      <td>7</td>\n      <td>Typ</td>\n      <td>1</td>\n      <td>Detchd</td>\n      <td>1998.0</td>\n      <td>Unf</td>\n      <td>3</td>\n      <td>642</td>\n      <td>TA</td>\n      <td>TA</td>\n      <td>Y</td>\n      <td>0</td>\n      <td>35</td>\n      <td>272</td>\n      <td>0</td>\n      <td>0</td>\n      <td>0</td>\n      <td>0</td>\n      <td>2</td>\n      <td>2006</td>\n      <td>WD</td>\n      <td>Abnorml</td>\n      <td>140000</td>\n    </tr>\n    <tr>\n      <th>4</th>\n      <td>4</td>\n      <td>5</td>\n      <td>60</td>\n      <td>RL</td>\n      <td>84.0</td>\n      <td>14260</td>\n      <td>Pave</td>\n      <td>IR1</td>\n      <td>Lvl</td>\n      <td>AllPub</td>\n      <td>FR2</td>\n      <td>Gtl</td>\n      <td>NoRidge</td>\n      <td>Norm</td>\n      <td>Norm</td>\n      <td>1Fam</td>\n      <td>2Story</td>\n      <td>8</td>\n      <td>5</td>\n      <td>2000</td>\n      <td>2000</td>\n      <td>Gable</td>\n      <td>CompShg</td>\n      <td>VinylSd</td>\n      <td>VinylSd</td>\n      <td>BrkFace</td>\n      <td>350.0</td>\n      <td>Gd</td>\n      <td>TA</td>\n      <td>PConc</td>\n      <td>Gd</td>\n      <td>TA</td>\n      <td>Av</td>\n      <td>GLQ</td>\n      <td>655</td>\n      <td>Unf</td>\n      <td>0</td>\n      <td>490</td>\n      <td>1145</td>\n      <td>GasA</td>\n      <td>Ex</td>\n      <td>Y</td>\n      <td>SBrkr</td>\n      <td>1145</td>\n      <td>1053</td>\n      <td>0</td>\n      <td>2198</td>\n      <td>1</td>\n      <td>0</td>\n      <td>2</td>\n      <td>1</td>\n      <td>4</td>\n      <td>1</td>\n      <td>Gd</td>\n      <td>9</td>\n      <td>Typ</td>\n      <td>1</td>\n      <td>Attchd</td>\n      <td>2000.0</td>\n      <td>RFn</td>\n      <td>3</td>\n      <td>836</td>\n      <td>TA</td>\n      <td>TA</td>\n      <td>Y</td>\n      <td>192</td>\n      <td>84</td>\n      <td>0</td>\n      <td>0</td>\n      <td>0</td>\n      <td>0</td>\n      <td>0</td>\n      <td>12</td>\n      <td>2008</td>\n      <td>WD</td>\n      <td>Normal</td>\n      <td>250000</td>\n    </tr>\n  </tbody>\n</table>\n</div>"
     },
     "metadata": {},
     "execution_count": 4
    }
   ],
   "source": [
    "pd.set_option('display.max_columns', None)\n",
    "train.head()"
   ]
  },
  {
   "cell_type": "code",
   "execution_count": 5,
   "metadata": {},
   "outputs": [
    {
     "output_type": "execute_result",
     "data": {
      "text/plain": [
       "(1460, 77)"
      ]
     },
     "metadata": {},
     "execution_count": 5
    }
   ],
   "source": [
    "train.shape"
   ]
  },
  {
   "cell_type": "code",
   "execution_count": 6,
   "metadata": {},
   "outputs": [],
   "source": [
    "nan_cols = [i for i in train.columns if train[i].isnull().any()]\n"
   ]
  },
  {
   "cell_type": "code",
   "execution_count": 7,
   "metadata": {},
   "outputs": [
    {
     "output_type": "execute_result",
     "data": {
      "text/plain": [
       "[]"
      ]
     },
     "metadata": {},
     "execution_count": 7
    }
   ],
   "source": [
    "nan_cols"
   ]
  },
  {
   "source": [
    "## 4.3 Feature Enggineering"
   ],
   "cell_type": "markdown",
   "metadata": {}
  },
  {
   "source": [
    "### 4.3.1 Temporal Features"
   ],
   "cell_type": "markdown",
   "metadata": {}
  },
  {
   "cell_type": "code",
   "execution_count": 8,
   "metadata": {},
   "outputs": [],
   "source": [
    "# We will convert into (year sold - year feature)\n",
    "temp_feat = ['YearBuilt','YearRemodAdd','GarageYrBlt','YrSold']\n",
    "\n",
    "def tempFeat(data):\n",
    "    for feature in temp_feat:\n",
    "        if feature != 'YrSold':\n",
    "            data[feature] = data['YrSold'] - data[feature]\n",
    "    return data\n"
   ]
  },
  {
   "cell_type": "code",
   "execution_count": 9,
   "metadata": {},
   "outputs": [],
   "source": [
    "train = tempFeat(train)\n",
    "test = tempFeat(test)"
   ]
  },
  {
   "source": [
    "train[['YearBuilt','YearRemodAdd','GarageYrBlt','YrSold']].head()"
   ],
   "cell_type": "code",
   "metadata": {},
   "execution_count": 10,
   "outputs": [
    {
     "output_type": "execute_result",
     "data": {
      "text/plain": [
       "   YearBuilt  YearRemodAdd  GarageYrBlt  YrSold\n",
       "0          5             5          5.0    2008\n",
       "1         31            31         31.0    2007\n",
       "2          7             6          7.0    2008\n",
       "3         91            36          8.0    2006\n",
       "4          8             8          8.0    2008"
      ],
      "text/html": "<div>\n<style scoped>\n    .dataframe tbody tr th:only-of-type {\n        vertical-align: middle;\n    }\n\n    .dataframe tbody tr th {\n        vertical-align: top;\n    }\n\n    .dataframe thead th {\n        text-align: right;\n    }\n</style>\n<table border=\"1\" class=\"dataframe\">\n  <thead>\n    <tr style=\"text-align: right;\">\n      <th></th>\n      <th>YearBuilt</th>\n      <th>YearRemodAdd</th>\n      <th>GarageYrBlt</th>\n      <th>YrSold</th>\n    </tr>\n  </thead>\n  <tbody>\n    <tr>\n      <th>0</th>\n      <td>5</td>\n      <td>5</td>\n      <td>5.0</td>\n      <td>2008</td>\n    </tr>\n    <tr>\n      <th>1</th>\n      <td>31</td>\n      <td>31</td>\n      <td>31.0</td>\n      <td>2007</td>\n    </tr>\n    <tr>\n      <th>2</th>\n      <td>7</td>\n      <td>6</td>\n      <td>7.0</td>\n      <td>2008</td>\n    </tr>\n    <tr>\n      <th>3</th>\n      <td>91</td>\n      <td>36</td>\n      <td>8.0</td>\n      <td>2006</td>\n    </tr>\n    <tr>\n      <th>4</th>\n      <td>8</td>\n      <td>8</td>\n      <td>8.0</td>\n      <td>2008</td>\n    </tr>\n  </tbody>\n</table>\n</div>"
     },
     "metadata": {},
     "execution_count": 10
    }
   ]
  },
  {
   "source": [
    "### 4.3.2 Categorical Features"
   ],
   "cell_type": "markdown",
   "metadata": {}
  },
  {
   "source": [
    "For categorical features first we will replace the feature variable which occur less 1% in the data with 'rare' varible."
   ],
   "cell_type": "markdown",
   "metadata": {}
  },
  {
   "cell_type": "code",
   "execution_count": 11,
   "metadata": {},
   "outputs": [],
   "source": [
    "categorical_features = ['MSZoning' ,'Street'  ,'LotShape' ,'Utilities' ,'LotConfig' ,'Neighborhood' ,'RoofStyle' ,'RoofMatl' ,'Exterior1st' ,'Exterior2nd' ,'MasVnrType' ,'Foundation' ,'Heating' ,'CentralAir','Electrical' ,'GarageType'  ,'SaleType' ,'SaleCondition','LandContour', 'LandSlope' ,'Condition1' ,'Condition2' ,'BldgType' ,'HouseStyle' ,'OverallQual' ,'OverallCond' ,'ExterQual' ,'ExterCond' ,'BsmtQual' ,'BsmtCond' ,'BsmtExposure' ,'BsmtFinType1' ,'HeatingQC'  ,'GarageFinish' , 'GarageQual' ,'GarageCond', 'BsmtFinType2', 'KitchenQual','PavedDrive']"
   ]
  },
  {
   "cell_type": "code",
   "execution_count": 12,
   "metadata": {},
   "outputs": [],
   "source": [
    "# We will store rare features in a dict with feature_name:feature_value as pairs\n",
    "rare = {}\n",
    "rare_int = []\n",
    "# We will replace fature values which occur less then 1% in the data with rare value\n",
    "for cols in categorical_features:\n",
    "    feat_dict = train[cols].value_counts().to_dict()\n",
    "    for feat, vals in feat_dict.items():\n",
    "        if vals/len(train) < 0.01:\n",
    "            if train[cols].dtype == 'O':\n",
    "                train[cols][train[cols] == feat] = \"rare\"\n",
    "            else:\n",
    "                train[cols][train[cols] == feat] = 0\n",
    "                rare_int.append(cols)\n",
    "            if cols in rare:\n",
    "                rare[cols].append(feat)\n",
    "            else:\n",
    "                rare[cols] = []\n",
    "                rare[cols].append(feat)"
   ]
  },
  {
   "cell_type": "code",
   "execution_count": 13,
   "metadata": {},
   "outputs": [
    {
     "output_type": "execute_result",
     "data": {
      "text/plain": [
       "   Unnamed: 0  Id  MSSubClass MSZoning  LotFrontage  LotArea Street LotShape  \\\n",
       "0           0   1          60       RL         65.0     8450   Pave      Reg   \n",
       "1           1   2          20       RL         80.0     9600   Pave      Reg   \n",
       "2           2   3          60       RL         68.0    11250   Pave      IR1   \n",
       "3           3   4          70       RL         60.0     9550   Pave      IR1   \n",
       "4           4   5          60       RL         84.0    14260   Pave      IR1   \n",
       "\n",
       "  LandContour Utilities LotConfig LandSlope Neighborhood Condition1  \\\n",
       "0         Lvl    AllPub    Inside       Gtl      CollgCr       Norm   \n",
       "1         Lvl    AllPub       FR2       Gtl         rare      Feedr   \n",
       "2         Lvl    AllPub    Inside       Gtl      CollgCr       Norm   \n",
       "3         Lvl    AllPub    Corner       Gtl      Crawfor       Norm   \n",
       "4         Lvl    AllPub       FR2       Gtl      NoRidge       Norm   \n",
       "\n",
       "  Condition2 BldgType HouseStyle  OverallQual  OverallCond  YearBuilt  \\\n",
       "0       Norm     1Fam     2Story            7            5          5   \n",
       "1       Norm     1Fam     1Story            6            8         31   \n",
       "2       Norm     1Fam     2Story            7            5          7   \n",
       "3       Norm     1Fam     2Story            7            5         91   \n",
       "4       Norm     1Fam     2Story            8            5          8   \n",
       "\n",
       "   YearRemodAdd RoofStyle RoofMatl Exterior1st Exterior2nd MasVnrType  \\\n",
       "0             5     Gable  CompShg     VinylSd     VinylSd    BrkFace   \n",
       "1            31     Gable  CompShg     MetalSd     MetalSd       None   \n",
       "2             6     Gable  CompShg     VinylSd     VinylSd    BrkFace   \n",
       "3            36     Gable  CompShg     Wd Sdng     Wd Shng       None   \n",
       "4             8     Gable  CompShg     VinylSd     VinylSd    BrkFace   \n",
       "\n",
       "   MasVnrArea ExterQual ExterCond Foundation BsmtQual BsmtCond BsmtExposure  \\\n",
       "0       196.0        Gd        TA      PConc       Gd       TA           No   \n",
       "1         0.0        TA        TA     CBlock       Gd       TA           Gd   \n",
       "2       162.0        Gd        TA      PConc       Gd       TA           Mn   \n",
       "3         0.0        TA        TA     BrkTil       TA       Gd           No   \n",
       "4       350.0        Gd        TA      PConc       Gd       TA           Av   \n",
       "\n",
       "  BsmtFinType1  BsmtFinSF1 BsmtFinType2  BsmtFinSF2  BsmtUnfSF  TotalBsmtSF  \\\n",
       "0          GLQ         706          Unf           0        150          856   \n",
       "1          ALQ         978          Unf           0        284         1262   \n",
       "2          GLQ         486          Unf           0        434          920   \n",
       "3          ALQ         216          Unf           0        540          756   \n",
       "4          GLQ         655          Unf           0        490         1145   \n",
       "\n",
       "  Heating HeatingQC CentralAir Electrical  1stFlrSF  2ndFlrSF  LowQualFinSF  \\\n",
       "0    GasA        Ex          Y      SBrkr       856       854             0   \n",
       "1    GasA        Ex          Y      SBrkr      1262         0             0   \n",
       "2    GasA        Ex          Y      SBrkr       920       866             0   \n",
       "3    GasA        Gd          Y      SBrkr       961       756             0   \n",
       "4    GasA        Ex          Y      SBrkr      1145      1053             0   \n",
       "\n",
       "   GrLivArea  BsmtFullBath  BsmtHalfBath  FullBath  HalfBath  BedroomAbvGr  \\\n",
       "0       1710             1             0         2         1             3   \n",
       "1       1262             0             1         2         0             3   \n",
       "2       1786             1             0         2         1             3   \n",
       "3       1717             1             0         1         0             3   \n",
       "4       2198             1             0         2         1             4   \n",
       "\n",
       "   KitchenAbvGr KitchenQual  TotRmsAbvGrd Functional  Fireplaces GarageType  \\\n",
       "0             1          Gd             8        Typ           0     Attchd   \n",
       "1             1          TA             6        Typ           1     Attchd   \n",
       "2             1          Gd             6        Typ           1     Attchd   \n",
       "3             1          Gd             7        Typ           1     Detchd   \n",
       "4             1          Gd             9        Typ           1     Attchd   \n",
       "\n",
       "   GarageYrBlt GarageFinish  GarageCars  GarageArea GarageQual GarageCond  \\\n",
       "0          5.0          RFn           2         548         TA         TA   \n",
       "1         31.0          RFn           2         460         TA         TA   \n",
       "2          7.0          RFn           2         608         TA         TA   \n",
       "3          8.0          Unf           3         642         TA         TA   \n",
       "4          8.0          RFn           3         836         TA         TA   \n",
       "\n",
       "  PavedDrive  WoodDeckSF  OpenPorchSF  EnclosedPorch  3SsnPorch  ScreenPorch  \\\n",
       "0          Y           0           61              0          0            0   \n",
       "1          Y         298            0              0          0            0   \n",
       "2          Y           0           42              0          0            0   \n",
       "3          Y           0           35            272          0            0   \n",
       "4          Y         192           84              0          0            0   \n",
       "\n",
       "   PoolArea  MiscVal  MoSold  YrSold SaleType SaleCondition  SalePrice  \n",
       "0         0        0       2    2008       WD        Normal     208500  \n",
       "1         0        0       5    2007       WD        Normal     181500  \n",
       "2         0        0       9    2008       WD        Normal     223500  \n",
       "3         0        0       2    2006       WD       Abnorml     140000  \n",
       "4         0        0      12    2008       WD        Normal     250000  "
      ],
      "text/html": "<div>\n<style scoped>\n    .dataframe tbody tr th:only-of-type {\n        vertical-align: middle;\n    }\n\n    .dataframe tbody tr th {\n        vertical-align: top;\n    }\n\n    .dataframe thead th {\n        text-align: right;\n    }\n</style>\n<table border=\"1\" class=\"dataframe\">\n  <thead>\n    <tr style=\"text-align: right;\">\n      <th></th>\n      <th>Unnamed: 0</th>\n      <th>Id</th>\n      <th>MSSubClass</th>\n      <th>MSZoning</th>\n      <th>LotFrontage</th>\n      <th>LotArea</th>\n      <th>Street</th>\n      <th>LotShape</th>\n      <th>LandContour</th>\n      <th>Utilities</th>\n      <th>LotConfig</th>\n      <th>LandSlope</th>\n      <th>Neighborhood</th>\n      <th>Condition1</th>\n      <th>Condition2</th>\n      <th>BldgType</th>\n      <th>HouseStyle</th>\n      <th>OverallQual</th>\n      <th>OverallCond</th>\n      <th>YearBuilt</th>\n      <th>YearRemodAdd</th>\n      <th>RoofStyle</th>\n      <th>RoofMatl</th>\n      <th>Exterior1st</th>\n      <th>Exterior2nd</th>\n      <th>MasVnrType</th>\n      <th>MasVnrArea</th>\n      <th>ExterQual</th>\n      <th>ExterCond</th>\n      <th>Foundation</th>\n      <th>BsmtQual</th>\n      <th>BsmtCond</th>\n      <th>BsmtExposure</th>\n      <th>BsmtFinType1</th>\n      <th>BsmtFinSF1</th>\n      <th>BsmtFinType2</th>\n      <th>BsmtFinSF2</th>\n      <th>BsmtUnfSF</th>\n      <th>TotalBsmtSF</th>\n      <th>Heating</th>\n      <th>HeatingQC</th>\n      <th>CentralAir</th>\n      <th>Electrical</th>\n      <th>1stFlrSF</th>\n      <th>2ndFlrSF</th>\n      <th>LowQualFinSF</th>\n      <th>GrLivArea</th>\n      <th>BsmtFullBath</th>\n      <th>BsmtHalfBath</th>\n      <th>FullBath</th>\n      <th>HalfBath</th>\n      <th>BedroomAbvGr</th>\n      <th>KitchenAbvGr</th>\n      <th>KitchenQual</th>\n      <th>TotRmsAbvGrd</th>\n      <th>Functional</th>\n      <th>Fireplaces</th>\n      <th>GarageType</th>\n      <th>GarageYrBlt</th>\n      <th>GarageFinish</th>\n      <th>GarageCars</th>\n      <th>GarageArea</th>\n      <th>GarageQual</th>\n      <th>GarageCond</th>\n      <th>PavedDrive</th>\n      <th>WoodDeckSF</th>\n      <th>OpenPorchSF</th>\n      <th>EnclosedPorch</th>\n      <th>3SsnPorch</th>\n      <th>ScreenPorch</th>\n      <th>PoolArea</th>\n      <th>MiscVal</th>\n      <th>MoSold</th>\n      <th>YrSold</th>\n      <th>SaleType</th>\n      <th>SaleCondition</th>\n      <th>SalePrice</th>\n    </tr>\n  </thead>\n  <tbody>\n    <tr>\n      <th>0</th>\n      <td>0</td>\n      <td>1</td>\n      <td>60</td>\n      <td>RL</td>\n      <td>65.0</td>\n      <td>8450</td>\n      <td>Pave</td>\n      <td>Reg</td>\n      <td>Lvl</td>\n      <td>AllPub</td>\n      <td>Inside</td>\n      <td>Gtl</td>\n      <td>CollgCr</td>\n      <td>Norm</td>\n      <td>Norm</td>\n      <td>1Fam</td>\n      <td>2Story</td>\n      <td>7</td>\n      <td>5</td>\n      <td>5</td>\n      <td>5</td>\n      <td>Gable</td>\n      <td>CompShg</td>\n      <td>VinylSd</td>\n      <td>VinylSd</td>\n      <td>BrkFace</td>\n      <td>196.0</td>\n      <td>Gd</td>\n      <td>TA</td>\n      <td>PConc</td>\n      <td>Gd</td>\n      <td>TA</td>\n      <td>No</td>\n      <td>GLQ</td>\n      <td>706</td>\n      <td>Unf</td>\n      <td>0</td>\n      <td>150</td>\n      <td>856</td>\n      <td>GasA</td>\n      <td>Ex</td>\n      <td>Y</td>\n      <td>SBrkr</td>\n      <td>856</td>\n      <td>854</td>\n      <td>0</td>\n      <td>1710</td>\n      <td>1</td>\n      <td>0</td>\n      <td>2</td>\n      <td>1</td>\n      <td>3</td>\n      <td>1</td>\n      <td>Gd</td>\n      <td>8</td>\n      <td>Typ</td>\n      <td>0</td>\n      <td>Attchd</td>\n      <td>5.0</td>\n      <td>RFn</td>\n      <td>2</td>\n      <td>548</td>\n      <td>TA</td>\n      <td>TA</td>\n      <td>Y</td>\n      <td>0</td>\n      <td>61</td>\n      <td>0</td>\n      <td>0</td>\n      <td>0</td>\n      <td>0</td>\n      <td>0</td>\n      <td>2</td>\n      <td>2008</td>\n      <td>WD</td>\n      <td>Normal</td>\n      <td>208500</td>\n    </tr>\n    <tr>\n      <th>1</th>\n      <td>1</td>\n      <td>2</td>\n      <td>20</td>\n      <td>RL</td>\n      <td>80.0</td>\n      <td>9600</td>\n      <td>Pave</td>\n      <td>Reg</td>\n      <td>Lvl</td>\n      <td>AllPub</td>\n      <td>FR2</td>\n      <td>Gtl</td>\n      <td>rare</td>\n      <td>Feedr</td>\n      <td>Norm</td>\n      <td>1Fam</td>\n      <td>1Story</td>\n      <td>6</td>\n      <td>8</td>\n      <td>31</td>\n      <td>31</td>\n      <td>Gable</td>\n      <td>CompShg</td>\n      <td>MetalSd</td>\n      <td>MetalSd</td>\n      <td>None</td>\n      <td>0.0</td>\n      <td>TA</td>\n      <td>TA</td>\n      <td>CBlock</td>\n      <td>Gd</td>\n      <td>TA</td>\n      <td>Gd</td>\n      <td>ALQ</td>\n      <td>978</td>\n      <td>Unf</td>\n      <td>0</td>\n      <td>284</td>\n      <td>1262</td>\n      <td>GasA</td>\n      <td>Ex</td>\n      <td>Y</td>\n      <td>SBrkr</td>\n      <td>1262</td>\n      <td>0</td>\n      <td>0</td>\n      <td>1262</td>\n      <td>0</td>\n      <td>1</td>\n      <td>2</td>\n      <td>0</td>\n      <td>3</td>\n      <td>1</td>\n      <td>TA</td>\n      <td>6</td>\n      <td>Typ</td>\n      <td>1</td>\n      <td>Attchd</td>\n      <td>31.0</td>\n      <td>RFn</td>\n      <td>2</td>\n      <td>460</td>\n      <td>TA</td>\n      <td>TA</td>\n      <td>Y</td>\n      <td>298</td>\n      <td>0</td>\n      <td>0</td>\n      <td>0</td>\n      <td>0</td>\n      <td>0</td>\n      <td>0</td>\n      <td>5</td>\n      <td>2007</td>\n      <td>WD</td>\n      <td>Normal</td>\n      <td>181500</td>\n    </tr>\n    <tr>\n      <th>2</th>\n      <td>2</td>\n      <td>3</td>\n      <td>60</td>\n      <td>RL</td>\n      <td>68.0</td>\n      <td>11250</td>\n      <td>Pave</td>\n      <td>IR1</td>\n      <td>Lvl</td>\n      <td>AllPub</td>\n      <td>Inside</td>\n      <td>Gtl</td>\n      <td>CollgCr</td>\n      <td>Norm</td>\n      <td>Norm</td>\n      <td>1Fam</td>\n      <td>2Story</td>\n      <td>7</td>\n      <td>5</td>\n      <td>7</td>\n      <td>6</td>\n      <td>Gable</td>\n      <td>CompShg</td>\n      <td>VinylSd</td>\n      <td>VinylSd</td>\n      <td>BrkFace</td>\n      <td>162.0</td>\n      <td>Gd</td>\n      <td>TA</td>\n      <td>PConc</td>\n      <td>Gd</td>\n      <td>TA</td>\n      <td>Mn</td>\n      <td>GLQ</td>\n      <td>486</td>\n      <td>Unf</td>\n      <td>0</td>\n      <td>434</td>\n      <td>920</td>\n      <td>GasA</td>\n      <td>Ex</td>\n      <td>Y</td>\n      <td>SBrkr</td>\n      <td>920</td>\n      <td>866</td>\n      <td>0</td>\n      <td>1786</td>\n      <td>1</td>\n      <td>0</td>\n      <td>2</td>\n      <td>1</td>\n      <td>3</td>\n      <td>1</td>\n      <td>Gd</td>\n      <td>6</td>\n      <td>Typ</td>\n      <td>1</td>\n      <td>Attchd</td>\n      <td>7.0</td>\n      <td>RFn</td>\n      <td>2</td>\n      <td>608</td>\n      <td>TA</td>\n      <td>TA</td>\n      <td>Y</td>\n      <td>0</td>\n      <td>42</td>\n      <td>0</td>\n      <td>0</td>\n      <td>0</td>\n      <td>0</td>\n      <td>0</td>\n      <td>9</td>\n      <td>2008</td>\n      <td>WD</td>\n      <td>Normal</td>\n      <td>223500</td>\n    </tr>\n    <tr>\n      <th>3</th>\n      <td>3</td>\n      <td>4</td>\n      <td>70</td>\n      <td>RL</td>\n      <td>60.0</td>\n      <td>9550</td>\n      <td>Pave</td>\n      <td>IR1</td>\n      <td>Lvl</td>\n      <td>AllPub</td>\n      <td>Corner</td>\n      <td>Gtl</td>\n      <td>Crawfor</td>\n      <td>Norm</td>\n      <td>Norm</td>\n      <td>1Fam</td>\n      <td>2Story</td>\n      <td>7</td>\n      <td>5</td>\n      <td>91</td>\n      <td>36</td>\n      <td>Gable</td>\n      <td>CompShg</td>\n      <td>Wd Sdng</td>\n      <td>Wd Shng</td>\n      <td>None</td>\n      <td>0.0</td>\n      <td>TA</td>\n      <td>TA</td>\n      <td>BrkTil</td>\n      <td>TA</td>\n      <td>Gd</td>\n      <td>No</td>\n      <td>ALQ</td>\n      <td>216</td>\n      <td>Unf</td>\n      <td>0</td>\n      <td>540</td>\n      <td>756</td>\n      <td>GasA</td>\n      <td>Gd</td>\n      <td>Y</td>\n      <td>SBrkr</td>\n      <td>961</td>\n      <td>756</td>\n      <td>0</td>\n      <td>1717</td>\n      <td>1</td>\n      <td>0</td>\n      <td>1</td>\n      <td>0</td>\n      <td>3</td>\n      <td>1</td>\n      <td>Gd</td>\n      <td>7</td>\n      <td>Typ</td>\n      <td>1</td>\n      <td>Detchd</td>\n      <td>8.0</td>\n      <td>Unf</td>\n      <td>3</td>\n      <td>642</td>\n      <td>TA</td>\n      <td>TA</td>\n      <td>Y</td>\n      <td>0</td>\n      <td>35</td>\n      <td>272</td>\n      <td>0</td>\n      <td>0</td>\n      <td>0</td>\n      <td>0</td>\n      <td>2</td>\n      <td>2006</td>\n      <td>WD</td>\n      <td>Abnorml</td>\n      <td>140000</td>\n    </tr>\n    <tr>\n      <th>4</th>\n      <td>4</td>\n      <td>5</td>\n      <td>60</td>\n      <td>RL</td>\n      <td>84.0</td>\n      <td>14260</td>\n      <td>Pave</td>\n      <td>IR1</td>\n      <td>Lvl</td>\n      <td>AllPub</td>\n      <td>FR2</td>\n      <td>Gtl</td>\n      <td>NoRidge</td>\n      <td>Norm</td>\n      <td>Norm</td>\n      <td>1Fam</td>\n      <td>2Story</td>\n      <td>8</td>\n      <td>5</td>\n      <td>8</td>\n      <td>8</td>\n      <td>Gable</td>\n      <td>CompShg</td>\n      <td>VinylSd</td>\n      <td>VinylSd</td>\n      <td>BrkFace</td>\n      <td>350.0</td>\n      <td>Gd</td>\n      <td>TA</td>\n      <td>PConc</td>\n      <td>Gd</td>\n      <td>TA</td>\n      <td>Av</td>\n      <td>GLQ</td>\n      <td>655</td>\n      <td>Unf</td>\n      <td>0</td>\n      <td>490</td>\n      <td>1145</td>\n      <td>GasA</td>\n      <td>Ex</td>\n      <td>Y</td>\n      <td>SBrkr</td>\n      <td>1145</td>\n      <td>1053</td>\n      <td>0</td>\n      <td>2198</td>\n      <td>1</td>\n      <td>0</td>\n      <td>2</td>\n      <td>1</td>\n      <td>4</td>\n      <td>1</td>\n      <td>Gd</td>\n      <td>9</td>\n      <td>Typ</td>\n      <td>1</td>\n      <td>Attchd</td>\n      <td>8.0</td>\n      <td>RFn</td>\n      <td>3</td>\n      <td>836</td>\n      <td>TA</td>\n      <td>TA</td>\n      <td>Y</td>\n      <td>192</td>\n      <td>84</td>\n      <td>0</td>\n      <td>0</td>\n      <td>0</td>\n      <td>0</td>\n      <td>0</td>\n      <td>12</td>\n      <td>2008</td>\n      <td>WD</td>\n      <td>Normal</td>\n      <td>250000</td>\n    </tr>\n  </tbody>\n</table>\n</div>"
     },
     "metadata": {},
     "execution_count": 13
    }
   ],
   "source": [
    "train.head()"
   ]
  },
  {
   "source": [
    "Now for the test data we will stictly replace the rare feature variables which we have stored in rare dictionary.\n"
   ],
   "cell_type": "markdown",
   "metadata": {}
  },
  {
   "cell_type": "code",
   "execution_count": 14,
   "metadata": {},
   "outputs": [],
   "source": [
    "for cols, var in rare.items():\n",
    "    for x in var:\n",
    "        if test[cols].dtype == 'O':\n",
    "            test[cols].replace(to_replace = x, value = 'rare', inplace = True)\n",
    "        else:\n",
    "            test[cols].replace(to_replace = x, value = 0, inplace = True)"
   ]
  },
  {
   "cell_type": "code",
   "execution_count": 15,
   "metadata": {},
   "outputs": [
    {
     "output_type": "execute_result",
     "data": {
      "text/plain": [
       "   Unnamed: 0    Id  MSSubClass MSZoning  LotFrontage  LotArea Street  \\\n",
       "0           0  1461          20       RH         80.0    11622   Pave   \n",
       "1           1  1462          20       RL         81.0    14267   Pave   \n",
       "2           2  1463          60       RL         74.0    13830   Pave   \n",
       "3           3  1464          60       RL         78.0     9978   Pave   \n",
       "4           4  1465         120       RL         43.0     5005   Pave   \n",
       "\n",
       "  LotShape LandContour Utilities LotConfig LandSlope Neighborhood Condition1  \\\n",
       "0      Reg         Lvl    AllPub    Inside       Gtl        NAmes      Feedr   \n",
       "1      IR1         Lvl    AllPub    Corner       Gtl        NAmes       Norm   \n",
       "2      IR1         Lvl    AllPub    Inside       Gtl      Gilbert       Norm   \n",
       "3      IR1         Lvl    AllPub    Inside       Gtl      Gilbert       Norm   \n",
       "4      IR1         HLS    AllPub    Inside       Gtl      StoneBr       Norm   \n",
       "\n",
       "  Condition2 BldgType HouseStyle  OverallQual  OverallCond  YearBuilt  \\\n",
       "0       Norm     1Fam     1Story            5            6         49   \n",
       "1       Norm     1Fam     1Story            6            6         52   \n",
       "2       Norm     1Fam     2Story            5            5         13   \n",
       "3       Norm     1Fam     2Story            6            6         12   \n",
       "4       Norm   TwnhsE     1Story            8            5         18   \n",
       "\n",
       "   YearRemodAdd RoofStyle RoofMatl Exterior1st Exterior2nd MasVnrType  \\\n",
       "0            49     Gable  CompShg     VinylSd     VinylSd       None   \n",
       "1            52       Hip  CompShg     Wd Sdng     Wd Sdng    BrkFace   \n",
       "2            12     Gable  CompShg     VinylSd     VinylSd       None   \n",
       "3            12     Gable  CompShg     VinylSd     VinylSd    BrkFace   \n",
       "4            18     Gable  CompShg     HdBoard     HdBoard       None   \n",
       "\n",
       "   MasVnrArea ExterQual ExterCond Foundation BsmtQual BsmtCond BsmtExposure  \\\n",
       "0         0.0        TA        TA     CBlock       TA       TA           No   \n",
       "1       108.0        TA        TA     CBlock       TA       TA           No   \n",
       "2         0.0        TA        TA      PConc       Gd       TA           No   \n",
       "3        20.0        TA        TA      PConc       TA       TA           No   \n",
       "4         0.0        Gd        TA      PConc       Gd       TA           No   \n",
       "\n",
       "  BsmtFinType1  BsmtFinSF1 BsmtFinType2  BsmtFinSF2  BsmtUnfSF  TotalBsmtSF  \\\n",
       "0          Rec       468.0          LwQ       144.0      270.0        882.0   \n",
       "1          ALQ       923.0          Unf         0.0      406.0       1329.0   \n",
       "2          GLQ       791.0          Unf         0.0      137.0        928.0   \n",
       "3          GLQ       602.0          Unf         0.0      324.0        926.0   \n",
       "4          ALQ       263.0          Unf         0.0     1017.0       1280.0   \n",
       "\n",
       "  Heating HeatingQC CentralAir Electrical  1stFlrSF  2ndFlrSF  LowQualFinSF  \\\n",
       "0    GasA        TA          Y      SBrkr       896         0             0   \n",
       "1    GasA        TA          Y      SBrkr      1329         0             0   \n",
       "2    GasA        Gd          Y      SBrkr       928       701             0   \n",
       "3    GasA        Ex          Y      SBrkr       926       678             0   \n",
       "4    GasA        Ex          Y      SBrkr      1280         0             0   \n",
       "\n",
       "   GrLivArea  BsmtFullBath  BsmtHalfBath  FullBath  HalfBath  BedroomAbvGr  \\\n",
       "0        896           0.0           0.0         1         0             2   \n",
       "1       1329           0.0           0.0         1         1             3   \n",
       "2       1629           0.0           0.0         2         1             3   \n",
       "3       1604           0.0           0.0         2         1             3   \n",
       "4       1280           0.0           0.0         2         0             2   \n",
       "\n",
       "   KitchenAbvGr KitchenQual  TotRmsAbvGrd Functional  Fireplaces GarageType  \\\n",
       "0             1          TA             5        Typ           0     Attchd   \n",
       "1             1          Gd             6        Typ           0     Attchd   \n",
       "2             1          TA             6        Typ           1     Attchd   \n",
       "3             1          Gd             7        Typ           1     Attchd   \n",
       "4             1          Gd             5        Typ           0     Attchd   \n",
       "\n",
       "   GarageYrBlt GarageFinish  GarageCars  GarageArea GarageQual GarageCond  \\\n",
       "0         49.0          Unf         1.0       730.0         TA         TA   \n",
       "1         52.0          Unf         1.0       312.0         TA         TA   \n",
       "2         13.0          Fin         2.0       482.0         TA         TA   \n",
       "3         12.0          Fin         2.0       470.0         TA         TA   \n",
       "4         18.0          RFn         2.0       506.0         TA         TA   \n",
       "\n",
       "  PavedDrive  WoodDeckSF  OpenPorchSF  EnclosedPorch  3SsnPorch  ScreenPorch  \\\n",
       "0          Y         140            0              0          0          120   \n",
       "1          Y         393           36              0          0            0   \n",
       "2          Y         212           34              0          0            0   \n",
       "3          Y         360           36              0          0            0   \n",
       "4          Y           0           82              0          0          144   \n",
       "\n",
       "   PoolArea  MiscVal  MoSold  YrSold SaleType SaleCondition  \n",
       "0         0        0       6    2010       WD        Normal  \n",
       "1         0    12500       6    2010       WD        Normal  \n",
       "2         0        0       3    2010       WD        Normal  \n",
       "3         0        0       6    2010       WD        Normal  \n",
       "4         0        0       1    2010       WD        Normal  "
      ],
      "text/html": "<div>\n<style scoped>\n    .dataframe tbody tr th:only-of-type {\n        vertical-align: middle;\n    }\n\n    .dataframe tbody tr th {\n        vertical-align: top;\n    }\n\n    .dataframe thead th {\n        text-align: right;\n    }\n</style>\n<table border=\"1\" class=\"dataframe\">\n  <thead>\n    <tr style=\"text-align: right;\">\n      <th></th>\n      <th>Unnamed: 0</th>\n      <th>Id</th>\n      <th>MSSubClass</th>\n      <th>MSZoning</th>\n      <th>LotFrontage</th>\n      <th>LotArea</th>\n      <th>Street</th>\n      <th>LotShape</th>\n      <th>LandContour</th>\n      <th>Utilities</th>\n      <th>LotConfig</th>\n      <th>LandSlope</th>\n      <th>Neighborhood</th>\n      <th>Condition1</th>\n      <th>Condition2</th>\n      <th>BldgType</th>\n      <th>HouseStyle</th>\n      <th>OverallQual</th>\n      <th>OverallCond</th>\n      <th>YearBuilt</th>\n      <th>YearRemodAdd</th>\n      <th>RoofStyle</th>\n      <th>RoofMatl</th>\n      <th>Exterior1st</th>\n      <th>Exterior2nd</th>\n      <th>MasVnrType</th>\n      <th>MasVnrArea</th>\n      <th>ExterQual</th>\n      <th>ExterCond</th>\n      <th>Foundation</th>\n      <th>BsmtQual</th>\n      <th>BsmtCond</th>\n      <th>BsmtExposure</th>\n      <th>BsmtFinType1</th>\n      <th>BsmtFinSF1</th>\n      <th>BsmtFinType2</th>\n      <th>BsmtFinSF2</th>\n      <th>BsmtUnfSF</th>\n      <th>TotalBsmtSF</th>\n      <th>Heating</th>\n      <th>HeatingQC</th>\n      <th>CentralAir</th>\n      <th>Electrical</th>\n      <th>1stFlrSF</th>\n      <th>2ndFlrSF</th>\n      <th>LowQualFinSF</th>\n      <th>GrLivArea</th>\n      <th>BsmtFullBath</th>\n      <th>BsmtHalfBath</th>\n      <th>FullBath</th>\n      <th>HalfBath</th>\n      <th>BedroomAbvGr</th>\n      <th>KitchenAbvGr</th>\n      <th>KitchenQual</th>\n      <th>TotRmsAbvGrd</th>\n      <th>Functional</th>\n      <th>Fireplaces</th>\n      <th>GarageType</th>\n      <th>GarageYrBlt</th>\n      <th>GarageFinish</th>\n      <th>GarageCars</th>\n      <th>GarageArea</th>\n      <th>GarageQual</th>\n      <th>GarageCond</th>\n      <th>PavedDrive</th>\n      <th>WoodDeckSF</th>\n      <th>OpenPorchSF</th>\n      <th>EnclosedPorch</th>\n      <th>3SsnPorch</th>\n      <th>ScreenPorch</th>\n      <th>PoolArea</th>\n      <th>MiscVal</th>\n      <th>MoSold</th>\n      <th>YrSold</th>\n      <th>SaleType</th>\n      <th>SaleCondition</th>\n    </tr>\n  </thead>\n  <tbody>\n    <tr>\n      <th>0</th>\n      <td>0</td>\n      <td>1461</td>\n      <td>20</td>\n      <td>RH</td>\n      <td>80.0</td>\n      <td>11622</td>\n      <td>Pave</td>\n      <td>Reg</td>\n      <td>Lvl</td>\n      <td>AllPub</td>\n      <td>Inside</td>\n      <td>Gtl</td>\n      <td>NAmes</td>\n      <td>Feedr</td>\n      <td>Norm</td>\n      <td>1Fam</td>\n      <td>1Story</td>\n      <td>5</td>\n      <td>6</td>\n      <td>49</td>\n      <td>49</td>\n      <td>Gable</td>\n      <td>CompShg</td>\n      <td>VinylSd</td>\n      <td>VinylSd</td>\n      <td>None</td>\n      <td>0.0</td>\n      <td>TA</td>\n      <td>TA</td>\n      <td>CBlock</td>\n      <td>TA</td>\n      <td>TA</td>\n      <td>No</td>\n      <td>Rec</td>\n      <td>468.0</td>\n      <td>LwQ</td>\n      <td>144.0</td>\n      <td>270.0</td>\n      <td>882.0</td>\n      <td>GasA</td>\n      <td>TA</td>\n      <td>Y</td>\n      <td>SBrkr</td>\n      <td>896</td>\n      <td>0</td>\n      <td>0</td>\n      <td>896</td>\n      <td>0.0</td>\n      <td>0.0</td>\n      <td>1</td>\n      <td>0</td>\n      <td>2</td>\n      <td>1</td>\n      <td>TA</td>\n      <td>5</td>\n      <td>Typ</td>\n      <td>0</td>\n      <td>Attchd</td>\n      <td>49.0</td>\n      <td>Unf</td>\n      <td>1.0</td>\n      <td>730.0</td>\n      <td>TA</td>\n      <td>TA</td>\n      <td>Y</td>\n      <td>140</td>\n      <td>0</td>\n      <td>0</td>\n      <td>0</td>\n      <td>120</td>\n      <td>0</td>\n      <td>0</td>\n      <td>6</td>\n      <td>2010</td>\n      <td>WD</td>\n      <td>Normal</td>\n    </tr>\n    <tr>\n      <th>1</th>\n      <td>1</td>\n      <td>1462</td>\n      <td>20</td>\n      <td>RL</td>\n      <td>81.0</td>\n      <td>14267</td>\n      <td>Pave</td>\n      <td>IR1</td>\n      <td>Lvl</td>\n      <td>AllPub</td>\n      <td>Corner</td>\n      <td>Gtl</td>\n      <td>NAmes</td>\n      <td>Norm</td>\n      <td>Norm</td>\n      <td>1Fam</td>\n      <td>1Story</td>\n      <td>6</td>\n      <td>6</td>\n      <td>52</td>\n      <td>52</td>\n      <td>Hip</td>\n      <td>CompShg</td>\n      <td>Wd Sdng</td>\n      <td>Wd Sdng</td>\n      <td>BrkFace</td>\n      <td>108.0</td>\n      <td>TA</td>\n      <td>TA</td>\n      <td>CBlock</td>\n      <td>TA</td>\n      <td>TA</td>\n      <td>No</td>\n      <td>ALQ</td>\n      <td>923.0</td>\n      <td>Unf</td>\n      <td>0.0</td>\n      <td>406.0</td>\n      <td>1329.0</td>\n      <td>GasA</td>\n      <td>TA</td>\n      <td>Y</td>\n      <td>SBrkr</td>\n      <td>1329</td>\n      <td>0</td>\n      <td>0</td>\n      <td>1329</td>\n      <td>0.0</td>\n      <td>0.0</td>\n      <td>1</td>\n      <td>1</td>\n      <td>3</td>\n      <td>1</td>\n      <td>Gd</td>\n      <td>6</td>\n      <td>Typ</td>\n      <td>0</td>\n      <td>Attchd</td>\n      <td>52.0</td>\n      <td>Unf</td>\n      <td>1.0</td>\n      <td>312.0</td>\n      <td>TA</td>\n      <td>TA</td>\n      <td>Y</td>\n      <td>393</td>\n      <td>36</td>\n      <td>0</td>\n      <td>0</td>\n      <td>0</td>\n      <td>0</td>\n      <td>12500</td>\n      <td>6</td>\n      <td>2010</td>\n      <td>WD</td>\n      <td>Normal</td>\n    </tr>\n    <tr>\n      <th>2</th>\n      <td>2</td>\n      <td>1463</td>\n      <td>60</td>\n      <td>RL</td>\n      <td>74.0</td>\n      <td>13830</td>\n      <td>Pave</td>\n      <td>IR1</td>\n      <td>Lvl</td>\n      <td>AllPub</td>\n      <td>Inside</td>\n      <td>Gtl</td>\n      <td>Gilbert</td>\n      <td>Norm</td>\n      <td>Norm</td>\n      <td>1Fam</td>\n      <td>2Story</td>\n      <td>5</td>\n      <td>5</td>\n      <td>13</td>\n      <td>12</td>\n      <td>Gable</td>\n      <td>CompShg</td>\n      <td>VinylSd</td>\n      <td>VinylSd</td>\n      <td>None</td>\n      <td>0.0</td>\n      <td>TA</td>\n      <td>TA</td>\n      <td>PConc</td>\n      <td>Gd</td>\n      <td>TA</td>\n      <td>No</td>\n      <td>GLQ</td>\n      <td>791.0</td>\n      <td>Unf</td>\n      <td>0.0</td>\n      <td>137.0</td>\n      <td>928.0</td>\n      <td>GasA</td>\n      <td>Gd</td>\n      <td>Y</td>\n      <td>SBrkr</td>\n      <td>928</td>\n      <td>701</td>\n      <td>0</td>\n      <td>1629</td>\n      <td>0.0</td>\n      <td>0.0</td>\n      <td>2</td>\n      <td>1</td>\n      <td>3</td>\n      <td>1</td>\n      <td>TA</td>\n      <td>6</td>\n      <td>Typ</td>\n      <td>1</td>\n      <td>Attchd</td>\n      <td>13.0</td>\n      <td>Fin</td>\n      <td>2.0</td>\n      <td>482.0</td>\n      <td>TA</td>\n      <td>TA</td>\n      <td>Y</td>\n      <td>212</td>\n      <td>34</td>\n      <td>0</td>\n      <td>0</td>\n      <td>0</td>\n      <td>0</td>\n      <td>0</td>\n      <td>3</td>\n      <td>2010</td>\n      <td>WD</td>\n      <td>Normal</td>\n    </tr>\n    <tr>\n      <th>3</th>\n      <td>3</td>\n      <td>1464</td>\n      <td>60</td>\n      <td>RL</td>\n      <td>78.0</td>\n      <td>9978</td>\n      <td>Pave</td>\n      <td>IR1</td>\n      <td>Lvl</td>\n      <td>AllPub</td>\n      <td>Inside</td>\n      <td>Gtl</td>\n      <td>Gilbert</td>\n      <td>Norm</td>\n      <td>Norm</td>\n      <td>1Fam</td>\n      <td>2Story</td>\n      <td>6</td>\n      <td>6</td>\n      <td>12</td>\n      <td>12</td>\n      <td>Gable</td>\n      <td>CompShg</td>\n      <td>VinylSd</td>\n      <td>VinylSd</td>\n      <td>BrkFace</td>\n      <td>20.0</td>\n      <td>TA</td>\n      <td>TA</td>\n      <td>PConc</td>\n      <td>TA</td>\n      <td>TA</td>\n      <td>No</td>\n      <td>GLQ</td>\n      <td>602.0</td>\n      <td>Unf</td>\n      <td>0.0</td>\n      <td>324.0</td>\n      <td>926.0</td>\n      <td>GasA</td>\n      <td>Ex</td>\n      <td>Y</td>\n      <td>SBrkr</td>\n      <td>926</td>\n      <td>678</td>\n      <td>0</td>\n      <td>1604</td>\n      <td>0.0</td>\n      <td>0.0</td>\n      <td>2</td>\n      <td>1</td>\n      <td>3</td>\n      <td>1</td>\n      <td>Gd</td>\n      <td>7</td>\n      <td>Typ</td>\n      <td>1</td>\n      <td>Attchd</td>\n      <td>12.0</td>\n      <td>Fin</td>\n      <td>2.0</td>\n      <td>470.0</td>\n      <td>TA</td>\n      <td>TA</td>\n      <td>Y</td>\n      <td>360</td>\n      <td>36</td>\n      <td>0</td>\n      <td>0</td>\n      <td>0</td>\n      <td>0</td>\n      <td>0</td>\n      <td>6</td>\n      <td>2010</td>\n      <td>WD</td>\n      <td>Normal</td>\n    </tr>\n    <tr>\n      <th>4</th>\n      <td>4</td>\n      <td>1465</td>\n      <td>120</td>\n      <td>RL</td>\n      <td>43.0</td>\n      <td>5005</td>\n      <td>Pave</td>\n      <td>IR1</td>\n      <td>HLS</td>\n      <td>AllPub</td>\n      <td>Inside</td>\n      <td>Gtl</td>\n      <td>StoneBr</td>\n      <td>Norm</td>\n      <td>Norm</td>\n      <td>TwnhsE</td>\n      <td>1Story</td>\n      <td>8</td>\n      <td>5</td>\n      <td>18</td>\n      <td>18</td>\n      <td>Gable</td>\n      <td>CompShg</td>\n      <td>HdBoard</td>\n      <td>HdBoard</td>\n      <td>None</td>\n      <td>0.0</td>\n      <td>Gd</td>\n      <td>TA</td>\n      <td>PConc</td>\n      <td>Gd</td>\n      <td>TA</td>\n      <td>No</td>\n      <td>ALQ</td>\n      <td>263.0</td>\n      <td>Unf</td>\n      <td>0.0</td>\n      <td>1017.0</td>\n      <td>1280.0</td>\n      <td>GasA</td>\n      <td>Ex</td>\n      <td>Y</td>\n      <td>SBrkr</td>\n      <td>1280</td>\n      <td>0</td>\n      <td>0</td>\n      <td>1280</td>\n      <td>0.0</td>\n      <td>0.0</td>\n      <td>2</td>\n      <td>0</td>\n      <td>2</td>\n      <td>1</td>\n      <td>Gd</td>\n      <td>5</td>\n      <td>Typ</td>\n      <td>0</td>\n      <td>Attchd</td>\n      <td>18.0</td>\n      <td>RFn</td>\n      <td>2.0</td>\n      <td>506.0</td>\n      <td>TA</td>\n      <td>TA</td>\n      <td>Y</td>\n      <td>0</td>\n      <td>82</td>\n      <td>0</td>\n      <td>0</td>\n      <td>144</td>\n      <td>0</td>\n      <td>0</td>\n      <td>1</td>\n      <td>2010</td>\n      <td>WD</td>\n      <td>Normal</td>\n    </tr>\n  </tbody>\n</table>\n</div>"
     },
     "metadata": {},
     "execution_count": 15
    }
   ],
   "source": [
    "test.head()"
   ]
  },
  {
   "cell_type": "code",
   "execution_count": 16,
   "metadata": {},
   "outputs": [
    {
     "output_type": "execute_result",
     "data": {
      "text/plain": [
       "   Unnamed: 0  Id  MSSubClass MSZoning  LotFrontage  LotArea Street LotShape  \\\n",
       "0           0   1          60       RL         65.0     8450   Pave      Reg   \n",
       "1           1   2          20       RL         80.0     9600   Pave      Reg   \n",
       "2           2   3          60       RL         68.0    11250   Pave      IR1   \n",
       "3           3   4          70       RL         60.0     9550   Pave      IR1   \n",
       "4           4   5          60       RL         84.0    14260   Pave      IR1   \n",
       "\n",
       "  LandContour Utilities LotConfig LandSlope Neighborhood Condition1  \\\n",
       "0         Lvl    AllPub    Inside       Gtl      CollgCr       Norm   \n",
       "1         Lvl    AllPub       FR2       Gtl         rare      Feedr   \n",
       "2         Lvl    AllPub    Inside       Gtl      CollgCr       Norm   \n",
       "3         Lvl    AllPub    Corner       Gtl      Crawfor       Norm   \n",
       "4         Lvl    AllPub       FR2       Gtl      NoRidge       Norm   \n",
       "\n",
       "  Condition2 BldgType HouseStyle  OverallQual  OverallCond  YearBuilt  \\\n",
       "0       Norm     1Fam     2Story            7            5          5   \n",
       "1       Norm     1Fam     1Story            6            8         31   \n",
       "2       Norm     1Fam     2Story            7            5          7   \n",
       "3       Norm     1Fam     2Story            7            5         91   \n",
       "4       Norm     1Fam     2Story            8            5          8   \n",
       "\n",
       "   YearRemodAdd RoofStyle RoofMatl Exterior1st Exterior2nd MasVnrType  \\\n",
       "0             5     Gable  CompShg     VinylSd     VinylSd    BrkFace   \n",
       "1            31     Gable  CompShg     MetalSd     MetalSd       None   \n",
       "2             6     Gable  CompShg     VinylSd     VinylSd    BrkFace   \n",
       "3            36     Gable  CompShg     Wd Sdng     Wd Shng       None   \n",
       "4             8     Gable  CompShg     VinylSd     VinylSd    BrkFace   \n",
       "\n",
       "   MasVnrArea ExterQual ExterCond Foundation BsmtQual BsmtCond BsmtExposure  \\\n",
       "0       196.0        Gd        TA      PConc       Gd       TA           No   \n",
       "1         0.0        TA        TA     CBlock       Gd       TA           Gd   \n",
       "2       162.0        Gd        TA      PConc       Gd       TA           Mn   \n",
       "3         0.0        TA        TA     BrkTil       TA       Gd           No   \n",
       "4       350.0        Gd        TA      PConc       Gd       TA           Av   \n",
       "\n",
       "  BsmtFinType1  BsmtFinSF1 BsmtFinType2  BsmtFinSF2  BsmtUnfSF  TotalBsmtSF  \\\n",
       "0          GLQ         706          Unf           0        150          856   \n",
       "1          ALQ         978          Unf           0        284         1262   \n",
       "2          GLQ         486          Unf           0        434          920   \n",
       "3          ALQ         216          Unf           0        540          756   \n",
       "4          GLQ         655          Unf           0        490         1145   \n",
       "\n",
       "  Heating HeatingQC CentralAir Electrical  1stFlrSF  2ndFlrSF  LowQualFinSF  \\\n",
       "0    GasA        Ex          Y      SBrkr       856       854             0   \n",
       "1    GasA        Ex          Y      SBrkr      1262         0             0   \n",
       "2    GasA        Ex          Y      SBrkr       920       866             0   \n",
       "3    GasA        Gd          Y      SBrkr       961       756             0   \n",
       "4    GasA        Ex          Y      SBrkr      1145      1053             0   \n",
       "\n",
       "   GrLivArea  BsmtFullBath  BsmtHalfBath  FullBath  HalfBath  BedroomAbvGr  \\\n",
       "0       1710             1             0         2         1             3   \n",
       "1       1262             0             1         2         0             3   \n",
       "2       1786             1             0         2         1             3   \n",
       "3       1717             1             0         1         0             3   \n",
       "4       2198             1             0         2         1             4   \n",
       "\n",
       "   KitchenAbvGr KitchenQual  TotRmsAbvGrd Functional  Fireplaces GarageType  \\\n",
       "0             1          Gd             8        Typ           0     Attchd   \n",
       "1             1          TA             6        Typ           1     Attchd   \n",
       "2             1          Gd             6        Typ           1     Attchd   \n",
       "3             1          Gd             7        Typ           1     Detchd   \n",
       "4             1          Gd             9        Typ           1     Attchd   \n",
       "\n",
       "   GarageYrBlt GarageFinish  GarageCars  GarageArea GarageQual GarageCond  \\\n",
       "0          5.0          RFn           2         548         TA         TA   \n",
       "1         31.0          RFn           2         460         TA         TA   \n",
       "2          7.0          RFn           2         608         TA         TA   \n",
       "3          8.0          Unf           3         642         TA         TA   \n",
       "4          8.0          RFn           3         836         TA         TA   \n",
       "\n",
       "  PavedDrive  WoodDeckSF  OpenPorchSF  EnclosedPorch  3SsnPorch  ScreenPorch  \\\n",
       "0          Y           0           61              0          0            0   \n",
       "1          Y         298            0              0          0            0   \n",
       "2          Y           0           42              0          0            0   \n",
       "3          Y           0           35            272          0            0   \n",
       "4          Y         192           84              0          0            0   \n",
       "\n",
       "   PoolArea  MiscVal  MoSold  YrSold SaleType SaleCondition  SalePrice  \n",
       "0         0        0       2    2008       WD        Normal     208500  \n",
       "1         0        0       5    2007       WD        Normal     181500  \n",
       "2         0        0       9    2008       WD        Normal     223500  \n",
       "3         0        0       2    2006       WD       Abnorml     140000  \n",
       "4         0        0      12    2008       WD        Normal     250000  "
      ],
      "text/html": "<div>\n<style scoped>\n    .dataframe tbody tr th:only-of-type {\n        vertical-align: middle;\n    }\n\n    .dataframe tbody tr th {\n        vertical-align: top;\n    }\n\n    .dataframe thead th {\n        text-align: right;\n    }\n</style>\n<table border=\"1\" class=\"dataframe\">\n  <thead>\n    <tr style=\"text-align: right;\">\n      <th></th>\n      <th>Unnamed: 0</th>\n      <th>Id</th>\n      <th>MSSubClass</th>\n      <th>MSZoning</th>\n      <th>LotFrontage</th>\n      <th>LotArea</th>\n      <th>Street</th>\n      <th>LotShape</th>\n      <th>LandContour</th>\n      <th>Utilities</th>\n      <th>LotConfig</th>\n      <th>LandSlope</th>\n      <th>Neighborhood</th>\n      <th>Condition1</th>\n      <th>Condition2</th>\n      <th>BldgType</th>\n      <th>HouseStyle</th>\n      <th>OverallQual</th>\n      <th>OverallCond</th>\n      <th>YearBuilt</th>\n      <th>YearRemodAdd</th>\n      <th>RoofStyle</th>\n      <th>RoofMatl</th>\n      <th>Exterior1st</th>\n      <th>Exterior2nd</th>\n      <th>MasVnrType</th>\n      <th>MasVnrArea</th>\n      <th>ExterQual</th>\n      <th>ExterCond</th>\n      <th>Foundation</th>\n      <th>BsmtQual</th>\n      <th>BsmtCond</th>\n      <th>BsmtExposure</th>\n      <th>BsmtFinType1</th>\n      <th>BsmtFinSF1</th>\n      <th>BsmtFinType2</th>\n      <th>BsmtFinSF2</th>\n      <th>BsmtUnfSF</th>\n      <th>TotalBsmtSF</th>\n      <th>Heating</th>\n      <th>HeatingQC</th>\n      <th>CentralAir</th>\n      <th>Electrical</th>\n      <th>1stFlrSF</th>\n      <th>2ndFlrSF</th>\n      <th>LowQualFinSF</th>\n      <th>GrLivArea</th>\n      <th>BsmtFullBath</th>\n      <th>BsmtHalfBath</th>\n      <th>FullBath</th>\n      <th>HalfBath</th>\n      <th>BedroomAbvGr</th>\n      <th>KitchenAbvGr</th>\n      <th>KitchenQual</th>\n      <th>TotRmsAbvGrd</th>\n      <th>Functional</th>\n      <th>Fireplaces</th>\n      <th>GarageType</th>\n      <th>GarageYrBlt</th>\n      <th>GarageFinish</th>\n      <th>GarageCars</th>\n      <th>GarageArea</th>\n      <th>GarageQual</th>\n      <th>GarageCond</th>\n      <th>PavedDrive</th>\n      <th>WoodDeckSF</th>\n      <th>OpenPorchSF</th>\n      <th>EnclosedPorch</th>\n      <th>3SsnPorch</th>\n      <th>ScreenPorch</th>\n      <th>PoolArea</th>\n      <th>MiscVal</th>\n      <th>MoSold</th>\n      <th>YrSold</th>\n      <th>SaleType</th>\n      <th>SaleCondition</th>\n      <th>SalePrice</th>\n    </tr>\n  </thead>\n  <tbody>\n    <tr>\n      <th>0</th>\n      <td>0</td>\n      <td>1</td>\n      <td>60</td>\n      <td>RL</td>\n      <td>65.0</td>\n      <td>8450</td>\n      <td>Pave</td>\n      <td>Reg</td>\n      <td>Lvl</td>\n      <td>AllPub</td>\n      <td>Inside</td>\n      <td>Gtl</td>\n      <td>CollgCr</td>\n      <td>Norm</td>\n      <td>Norm</td>\n      <td>1Fam</td>\n      <td>2Story</td>\n      <td>7</td>\n      <td>5</td>\n      <td>5</td>\n      <td>5</td>\n      <td>Gable</td>\n      <td>CompShg</td>\n      <td>VinylSd</td>\n      <td>VinylSd</td>\n      <td>BrkFace</td>\n      <td>196.0</td>\n      <td>Gd</td>\n      <td>TA</td>\n      <td>PConc</td>\n      <td>Gd</td>\n      <td>TA</td>\n      <td>No</td>\n      <td>GLQ</td>\n      <td>706</td>\n      <td>Unf</td>\n      <td>0</td>\n      <td>150</td>\n      <td>856</td>\n      <td>GasA</td>\n      <td>Ex</td>\n      <td>Y</td>\n      <td>SBrkr</td>\n      <td>856</td>\n      <td>854</td>\n      <td>0</td>\n      <td>1710</td>\n      <td>1</td>\n      <td>0</td>\n      <td>2</td>\n      <td>1</td>\n      <td>3</td>\n      <td>1</td>\n      <td>Gd</td>\n      <td>8</td>\n      <td>Typ</td>\n      <td>0</td>\n      <td>Attchd</td>\n      <td>5.0</td>\n      <td>RFn</td>\n      <td>2</td>\n      <td>548</td>\n      <td>TA</td>\n      <td>TA</td>\n      <td>Y</td>\n      <td>0</td>\n      <td>61</td>\n      <td>0</td>\n      <td>0</td>\n      <td>0</td>\n      <td>0</td>\n      <td>0</td>\n      <td>2</td>\n      <td>2008</td>\n      <td>WD</td>\n      <td>Normal</td>\n      <td>208500</td>\n    </tr>\n    <tr>\n      <th>1</th>\n      <td>1</td>\n      <td>2</td>\n      <td>20</td>\n      <td>RL</td>\n      <td>80.0</td>\n      <td>9600</td>\n      <td>Pave</td>\n      <td>Reg</td>\n      <td>Lvl</td>\n      <td>AllPub</td>\n      <td>FR2</td>\n      <td>Gtl</td>\n      <td>rare</td>\n      <td>Feedr</td>\n      <td>Norm</td>\n      <td>1Fam</td>\n      <td>1Story</td>\n      <td>6</td>\n      <td>8</td>\n      <td>31</td>\n      <td>31</td>\n      <td>Gable</td>\n      <td>CompShg</td>\n      <td>MetalSd</td>\n      <td>MetalSd</td>\n      <td>None</td>\n      <td>0.0</td>\n      <td>TA</td>\n      <td>TA</td>\n      <td>CBlock</td>\n      <td>Gd</td>\n      <td>TA</td>\n      <td>Gd</td>\n      <td>ALQ</td>\n      <td>978</td>\n      <td>Unf</td>\n      <td>0</td>\n      <td>284</td>\n      <td>1262</td>\n      <td>GasA</td>\n      <td>Ex</td>\n      <td>Y</td>\n      <td>SBrkr</td>\n      <td>1262</td>\n      <td>0</td>\n      <td>0</td>\n      <td>1262</td>\n      <td>0</td>\n      <td>1</td>\n      <td>2</td>\n      <td>0</td>\n      <td>3</td>\n      <td>1</td>\n      <td>TA</td>\n      <td>6</td>\n      <td>Typ</td>\n      <td>1</td>\n      <td>Attchd</td>\n      <td>31.0</td>\n      <td>RFn</td>\n      <td>2</td>\n      <td>460</td>\n      <td>TA</td>\n      <td>TA</td>\n      <td>Y</td>\n      <td>298</td>\n      <td>0</td>\n      <td>0</td>\n      <td>0</td>\n      <td>0</td>\n      <td>0</td>\n      <td>0</td>\n      <td>5</td>\n      <td>2007</td>\n      <td>WD</td>\n      <td>Normal</td>\n      <td>181500</td>\n    </tr>\n    <tr>\n      <th>2</th>\n      <td>2</td>\n      <td>3</td>\n      <td>60</td>\n      <td>RL</td>\n      <td>68.0</td>\n      <td>11250</td>\n      <td>Pave</td>\n      <td>IR1</td>\n      <td>Lvl</td>\n      <td>AllPub</td>\n      <td>Inside</td>\n      <td>Gtl</td>\n      <td>CollgCr</td>\n      <td>Norm</td>\n      <td>Norm</td>\n      <td>1Fam</td>\n      <td>2Story</td>\n      <td>7</td>\n      <td>5</td>\n      <td>7</td>\n      <td>6</td>\n      <td>Gable</td>\n      <td>CompShg</td>\n      <td>VinylSd</td>\n      <td>VinylSd</td>\n      <td>BrkFace</td>\n      <td>162.0</td>\n      <td>Gd</td>\n      <td>TA</td>\n      <td>PConc</td>\n      <td>Gd</td>\n      <td>TA</td>\n      <td>Mn</td>\n      <td>GLQ</td>\n      <td>486</td>\n      <td>Unf</td>\n      <td>0</td>\n      <td>434</td>\n      <td>920</td>\n      <td>GasA</td>\n      <td>Ex</td>\n      <td>Y</td>\n      <td>SBrkr</td>\n      <td>920</td>\n      <td>866</td>\n      <td>0</td>\n      <td>1786</td>\n      <td>1</td>\n      <td>0</td>\n      <td>2</td>\n      <td>1</td>\n      <td>3</td>\n      <td>1</td>\n      <td>Gd</td>\n      <td>6</td>\n      <td>Typ</td>\n      <td>1</td>\n      <td>Attchd</td>\n      <td>7.0</td>\n      <td>RFn</td>\n      <td>2</td>\n      <td>608</td>\n      <td>TA</td>\n      <td>TA</td>\n      <td>Y</td>\n      <td>0</td>\n      <td>42</td>\n      <td>0</td>\n      <td>0</td>\n      <td>0</td>\n      <td>0</td>\n      <td>0</td>\n      <td>9</td>\n      <td>2008</td>\n      <td>WD</td>\n      <td>Normal</td>\n      <td>223500</td>\n    </tr>\n    <tr>\n      <th>3</th>\n      <td>3</td>\n      <td>4</td>\n      <td>70</td>\n      <td>RL</td>\n      <td>60.0</td>\n      <td>9550</td>\n      <td>Pave</td>\n      <td>IR1</td>\n      <td>Lvl</td>\n      <td>AllPub</td>\n      <td>Corner</td>\n      <td>Gtl</td>\n      <td>Crawfor</td>\n      <td>Norm</td>\n      <td>Norm</td>\n      <td>1Fam</td>\n      <td>2Story</td>\n      <td>7</td>\n      <td>5</td>\n      <td>91</td>\n      <td>36</td>\n      <td>Gable</td>\n      <td>CompShg</td>\n      <td>Wd Sdng</td>\n      <td>Wd Shng</td>\n      <td>None</td>\n      <td>0.0</td>\n      <td>TA</td>\n      <td>TA</td>\n      <td>BrkTil</td>\n      <td>TA</td>\n      <td>Gd</td>\n      <td>No</td>\n      <td>ALQ</td>\n      <td>216</td>\n      <td>Unf</td>\n      <td>0</td>\n      <td>540</td>\n      <td>756</td>\n      <td>GasA</td>\n      <td>Gd</td>\n      <td>Y</td>\n      <td>SBrkr</td>\n      <td>961</td>\n      <td>756</td>\n      <td>0</td>\n      <td>1717</td>\n      <td>1</td>\n      <td>0</td>\n      <td>1</td>\n      <td>0</td>\n      <td>3</td>\n      <td>1</td>\n      <td>Gd</td>\n      <td>7</td>\n      <td>Typ</td>\n      <td>1</td>\n      <td>Detchd</td>\n      <td>8.0</td>\n      <td>Unf</td>\n      <td>3</td>\n      <td>642</td>\n      <td>TA</td>\n      <td>TA</td>\n      <td>Y</td>\n      <td>0</td>\n      <td>35</td>\n      <td>272</td>\n      <td>0</td>\n      <td>0</td>\n      <td>0</td>\n      <td>0</td>\n      <td>2</td>\n      <td>2006</td>\n      <td>WD</td>\n      <td>Abnorml</td>\n      <td>140000</td>\n    </tr>\n    <tr>\n      <th>4</th>\n      <td>4</td>\n      <td>5</td>\n      <td>60</td>\n      <td>RL</td>\n      <td>84.0</td>\n      <td>14260</td>\n      <td>Pave</td>\n      <td>IR1</td>\n      <td>Lvl</td>\n      <td>AllPub</td>\n      <td>FR2</td>\n      <td>Gtl</td>\n      <td>NoRidge</td>\n      <td>Norm</td>\n      <td>Norm</td>\n      <td>1Fam</td>\n      <td>2Story</td>\n      <td>8</td>\n      <td>5</td>\n      <td>8</td>\n      <td>8</td>\n      <td>Gable</td>\n      <td>CompShg</td>\n      <td>VinylSd</td>\n      <td>VinylSd</td>\n      <td>BrkFace</td>\n      <td>350.0</td>\n      <td>Gd</td>\n      <td>TA</td>\n      <td>PConc</td>\n      <td>Gd</td>\n      <td>TA</td>\n      <td>Av</td>\n      <td>GLQ</td>\n      <td>655</td>\n      <td>Unf</td>\n      <td>0</td>\n      <td>490</td>\n      <td>1145</td>\n      <td>GasA</td>\n      <td>Ex</td>\n      <td>Y</td>\n      <td>SBrkr</td>\n      <td>1145</td>\n      <td>1053</td>\n      <td>0</td>\n      <td>2198</td>\n      <td>1</td>\n      <td>0</td>\n      <td>2</td>\n      <td>1</td>\n      <td>4</td>\n      <td>1</td>\n      <td>Gd</td>\n      <td>9</td>\n      <td>Typ</td>\n      <td>1</td>\n      <td>Attchd</td>\n      <td>8.0</td>\n      <td>RFn</td>\n      <td>3</td>\n      <td>836</td>\n      <td>TA</td>\n      <td>TA</td>\n      <td>Y</td>\n      <td>192</td>\n      <td>84</td>\n      <td>0</td>\n      <td>0</td>\n      <td>0</td>\n      <td>0</td>\n      <td>0</td>\n      <td>12</td>\n      <td>2008</td>\n      <td>WD</td>\n      <td>Normal</td>\n      <td>250000</td>\n    </tr>\n  </tbody>\n</table>\n</div>"
     },
     "metadata": {},
     "execution_count": 16
    }
   ],
   "source": [
    "train.head()"
   ]
  },
  {
   "source": [
    "### Feature Encoding"
   ],
   "cell_type": "markdown",
   "metadata": {}
  },
  {
   "cell_type": "code",
   "execution_count": 17,
   "metadata": {},
   "outputs": [],
   "source": [
    "encoder = OneHotEncoder()"
   ]
  },
  {
   "cell_type": "code",
   "execution_count": 18,
   "metadata": {},
   "outputs": [
    {
     "output_type": "execute_result",
     "data": {
      "text/plain": [
       "OneHotEncoder()"
      ]
     },
     "metadata": {},
     "execution_count": 18
    }
   ],
   "source": [
    "encoder.fit(train[categorical_features])"
   ]
  },
  {
   "cell_type": "code",
   "execution_count": 19,
   "metadata": {},
   "outputs": [
    {
     "output_type": "execute_result",
     "data": {
      "text/plain": [
       "0       5\n",
       "1       6\n",
       "2       5\n",
       "3       6\n",
       "4       8\n",
       "       ..\n",
       "1454    4\n",
       "1455    4\n",
       "1456    5\n",
       "1457    5\n",
       "1458    7\n",
       "Name: OverallQual, Length: 1459, dtype: int64"
      ]
     },
     "metadata": {},
     "execution_count": 19
    }
   ],
   "source": [
    "test[test.columns[17]]"
   ]
  },
  {
   "cell_type": "code",
   "execution_count": 20,
   "metadata": {},
   "outputs": [
    {
     "output_type": "execute_result",
     "data": {
      "text/plain": [
       "1Story    745\n",
       "2Story    427\n",
       "1.5Fin    160\n",
       "SLvl       63\n",
       "SFoyer     46\n",
       "rare       18\n",
       "Name: HouseStyle, dtype: int64"
      ]
     },
     "metadata": {},
     "execution_count": 20
    }
   ],
   "source": [
    "test['HouseStyle'].value_counts()"
   ]
  },
  {
   "cell_type": "code",
   "execution_count": 21,
   "metadata": {},
   "outputs": [
    {
     "output_type": "execute_result",
     "data": {
      "text/plain": [
       "array(['x0_FV', 'x0_RH', 'x0_RL', 'x0_RM', 'x0_rare', 'x1_Pave',\n",
       "       'x1_rare', 'x2_IR1', 'x2_IR2', 'x2_Reg', 'x2_rare', 'x3_AllPub',\n",
       "       'x3_rare', 'x4_Corner', 'x4_CulDSac', 'x4_FR2', 'x4_Inside',\n",
       "       'x4_rare', 'x5_Blmngtn', 'x5_BrDale', 'x5_BrkSide', 'x5_ClearCr',\n",
       "       'x5_CollgCr', 'x5_Crawfor', 'x5_Edwards', 'x5_Gilbert',\n",
       "       'x5_IDOTRR', 'x5_MeadowV', 'x5_Mitchel', 'x5_NAmes', 'x5_NWAmes',\n",
       "       'x5_NoRidge', 'x5_NridgHt', 'x5_OldTown', 'x5_SWISU', 'x5_Sawyer',\n",
       "       'x5_SawyerW', 'x5_Somerst', 'x5_StoneBr', 'x5_Timber', 'x5_rare',\n",
       "       'x6_Gable', 'x6_Hip', 'x6_rare', 'x7_CompShg', 'x7_rare',\n",
       "       'x8_AsbShng', 'x8_BrkFace', 'x8_CemntBd', 'x8_HdBoard',\n",
       "       'x8_MetalSd', 'x8_Plywood', 'x8_Stucco', 'x8_VinylSd',\n",
       "       'x8_Wd Sdng', 'x8_WdShing', 'x8_rare', 'x9_AsbShng', 'x9_BrkFace',\n",
       "       'x9_CmentBd', 'x9_HdBoard', 'x9_MetalSd', 'x9_Plywood',\n",
       "       'x9_Stucco', 'x9_VinylSd', 'x9_Wd Sdng', 'x9_Wd Shng', 'x9_rare',\n",
       "       'x10_BrkCmn', 'x10_BrkFace', 'x10_None', 'x10_Stone', 'x10_rare',\n",
       "       'x11_BrkTil', 'x11_CBlock', 'x11_PConc', 'x11_Slab', 'x11_rare',\n",
       "       'x12_GasA', 'x12_GasW', 'x12_rare', 'x13_N', 'x13_Y', 'x14_FuseA',\n",
       "       'x14_FuseF', 'x14_SBrkr', 'x14_rare', 'x15_Attchd', 'x15_Basment',\n",
       "       'x15_BuiltIn', 'x15_Detchd', 'x15_No', 'x15_rare', 'x16_COD',\n",
       "       'x16_New', 'x16_WD', 'x16_rare', 'x17_Abnorml', 'x17_Family',\n",
       "       'x17_Normal', 'x17_Partial', 'x17_rare', 'x18_Bnk', 'x18_HLS',\n",
       "       'x18_Low', 'x18_Lvl', 'x19_Gtl', 'x19_Mod', 'x19_rare',\n",
       "       'x20_Artery', 'x20_Feedr', 'x20_Norm', 'x20_PosN', 'x20_RRAn',\n",
       "       'x20_rare', 'x21_Norm', 'x21_rare', 'x22_1Fam', 'x22_2fmCon',\n",
       "       'x22_Duplex', 'x22_Twnhs', 'x22_TwnhsE', 'x23_1.5Fin',\n",
       "       'x23_1Story', 'x23_2Story', 'x23_SFoyer', 'x23_SLvl', 'x23_rare',\n",
       "       'x24_0', 'x24_3', 'x24_4', 'x24_5', 'x24_6', 'x24_7', 'x24_8',\n",
       "       'x24_9', 'x24_10', 'x25_0', 'x25_3', 'x25_4', 'x25_5', 'x25_6',\n",
       "       'x25_7', 'x25_8', 'x25_9', 'x26_Ex', 'x26_Gd', 'x26_TA',\n",
       "       'x26_rare', 'x27_Fa', 'x27_Gd', 'x27_TA', 'x27_rare', 'x28_Ex',\n",
       "       'x28_Fa', 'x28_Gd', 'x28_No', 'x28_TA', 'x29_Fa', 'x29_Gd',\n",
       "       'x29_No', 'x29_TA', 'x29_rare', 'x30_Av', 'x30_Gd', 'x30_Mn',\n",
       "       'x30_No', 'x31_ALQ', 'x31_BLQ', 'x31_GLQ', 'x31_LwQ', 'x31_No',\n",
       "       'x31_Rec', 'x31_Unf', 'x32_Ex', 'x32_Fa', 'x32_Gd', 'x32_TA',\n",
       "       'x32_rare', 'x33_Fin', 'x33_No', 'x33_RFn', 'x33_Unf', 'x34_Fa',\n",
       "       'x34_No', 'x34_TA', 'x34_rare', 'x35_Fa', 'x35_No', 'x35_TA',\n",
       "       'x35_rare', 'x36_ALQ', 'x36_BLQ', 'x36_LwQ', 'x36_No', 'x36_Rec',\n",
       "       'x36_Unf', 'x36_rare', 'x37_Ex', 'x37_Fa', 'x37_Gd', 'x37_TA',\n",
       "       'x38_N', 'x38_P', 'x38_Y'], dtype=object)"
      ]
     },
     "metadata": {},
     "execution_count": 21
    }
   ],
   "source": [
    "encoder.get_feature_names()"
   ]
  },
  {
   "cell_type": "code",
   "execution_count": 22,
   "metadata": {},
   "outputs": [],
   "source": [
    "cat_train = encoder.transform(train[categorical_features]).toarray()\n",
    "cat_test = encoder.transform(test[categorical_features]).toarray()"
   ]
  },
  {
   "cell_type": "code",
   "execution_count": 23,
   "metadata": {},
   "outputs": [],
   "source": [
    "cat_train = pd.DataFrame(cat_train, columns = encoder.get_feature_names())\n",
    "cat_test = pd.DataFrame(cat_test, columns = encoder.get_feature_names())"
   ]
  },
  {
   "cell_type": "code",
   "execution_count": 24,
   "metadata": {},
   "outputs": [
    {
     "output_type": "execute_result",
     "data": {
      "text/plain": [
       "   x0_FV  x0_RH  x0_RL  x0_RM  x0_rare  x1_Pave  x1_rare  x2_IR1  x2_IR2  \\\n",
       "0    0.0    0.0    1.0    0.0      0.0      1.0      0.0     0.0     0.0   \n",
       "1    0.0    0.0    1.0    0.0      0.0      1.0      0.0     0.0     0.0   \n",
       "2    0.0    0.0    1.0    0.0      0.0      1.0      0.0     1.0     0.0   \n",
       "3    0.0    0.0    1.0    0.0      0.0      1.0      0.0     1.0     0.0   \n",
       "4    0.0    0.0    1.0    0.0      0.0      1.0      0.0     1.0     0.0   \n",
       "\n",
       "   x2_Reg  x2_rare  x3_AllPub  x3_rare  x4_Corner  x4_CulDSac  x4_FR2  \\\n",
       "0     1.0      0.0        1.0      0.0        0.0         0.0     0.0   \n",
       "1     1.0      0.0        1.0      0.0        0.0         0.0     1.0   \n",
       "2     0.0      0.0        1.0      0.0        0.0         0.0     0.0   \n",
       "3     0.0      0.0        1.0      0.0        1.0         0.0     0.0   \n",
       "4     0.0      0.0        1.0      0.0        0.0         0.0     1.0   \n",
       "\n",
       "   x4_Inside  x4_rare  x5_Blmngtn  x5_BrDale  x5_BrkSide  x5_ClearCr  \\\n",
       "0        1.0      0.0         0.0        0.0         0.0         0.0   \n",
       "1        0.0      0.0         0.0        0.0         0.0         0.0   \n",
       "2        1.0      0.0         0.0        0.0         0.0         0.0   \n",
       "3        0.0      0.0         0.0        0.0         0.0         0.0   \n",
       "4        0.0      0.0         0.0        0.0         0.0         0.0   \n",
       "\n",
       "   x5_CollgCr  x5_Crawfor  x5_Edwards  x5_Gilbert  x5_IDOTRR  x5_MeadowV  \\\n",
       "0         1.0         0.0         0.0         0.0        0.0         0.0   \n",
       "1         0.0         0.0         0.0         0.0        0.0         0.0   \n",
       "2         1.0         0.0         0.0         0.0        0.0         0.0   \n",
       "3         0.0         1.0         0.0         0.0        0.0         0.0   \n",
       "4         0.0         0.0         0.0         0.0        0.0         0.0   \n",
       "\n",
       "   x5_Mitchel  x5_NAmes  x5_NWAmes  x5_NoRidge  x5_NridgHt  x5_OldTown  \\\n",
       "0         0.0       0.0        0.0         0.0         0.0         0.0   \n",
       "1         0.0       0.0        0.0         0.0         0.0         0.0   \n",
       "2         0.0       0.0        0.0         0.0         0.0         0.0   \n",
       "3         0.0       0.0        0.0         0.0         0.0         0.0   \n",
       "4         0.0       0.0        0.0         1.0         0.0         0.0   \n",
       "\n",
       "   x5_SWISU  x5_Sawyer  x5_SawyerW  x5_Somerst  x5_StoneBr  x5_Timber  \\\n",
       "0       0.0        0.0         0.0         0.0         0.0        0.0   \n",
       "1       0.0        0.0         0.0         0.0         0.0        0.0   \n",
       "2       0.0        0.0         0.0         0.0         0.0        0.0   \n",
       "3       0.0        0.0         0.0         0.0         0.0        0.0   \n",
       "4       0.0        0.0         0.0         0.0         0.0        0.0   \n",
       "\n",
       "   x5_rare  x6_Gable  x6_Hip  x6_rare  x7_CompShg  x7_rare  x8_AsbShng  \\\n",
       "0      0.0       1.0     0.0      0.0         1.0      0.0         0.0   \n",
       "1      1.0       1.0     0.0      0.0         1.0      0.0         0.0   \n",
       "2      0.0       1.0     0.0      0.0         1.0      0.0         0.0   \n",
       "3      0.0       1.0     0.0      0.0         1.0      0.0         0.0   \n",
       "4      0.0       1.0     0.0      0.0         1.0      0.0         0.0   \n",
       "\n",
       "   x8_BrkFace  x8_CemntBd  x8_HdBoard  x8_MetalSd  x8_Plywood  x8_Stucco  \\\n",
       "0         0.0         0.0         0.0         0.0         0.0        0.0   \n",
       "1         0.0         0.0         0.0         1.0         0.0        0.0   \n",
       "2         0.0         0.0         0.0         0.0         0.0        0.0   \n",
       "3         0.0         0.0         0.0         0.0         0.0        0.0   \n",
       "4         0.0         0.0         0.0         0.0         0.0        0.0   \n",
       "\n",
       "   x8_VinylSd  x8_Wd Sdng  x8_WdShing  x8_rare  x9_AsbShng  x9_BrkFace  \\\n",
       "0         1.0         0.0         0.0      0.0         0.0         0.0   \n",
       "1         0.0         0.0         0.0      0.0         0.0         0.0   \n",
       "2         1.0         0.0         0.0      0.0         0.0         0.0   \n",
       "3         0.0         1.0         0.0      0.0         0.0         0.0   \n",
       "4         1.0         0.0         0.0      0.0         0.0         0.0   \n",
       "\n",
       "   x9_CmentBd  x9_HdBoard  x9_MetalSd  x9_Plywood  x9_Stucco  x9_VinylSd  \\\n",
       "0         0.0         0.0         0.0         0.0        0.0         1.0   \n",
       "1         0.0         0.0         1.0         0.0        0.0         0.0   \n",
       "2         0.0         0.0         0.0         0.0        0.0         1.0   \n",
       "3         0.0         0.0         0.0         0.0        0.0         0.0   \n",
       "4         0.0         0.0         0.0         0.0        0.0         1.0   \n",
       "\n",
       "   x9_Wd Sdng  x9_Wd Shng  x9_rare  x10_BrkCmn  x10_BrkFace  x10_None  \\\n",
       "0         0.0         0.0      0.0         0.0          1.0       0.0   \n",
       "1         0.0         0.0      0.0         0.0          0.0       1.0   \n",
       "2         0.0         0.0      0.0         0.0          1.0       0.0   \n",
       "3         0.0         1.0      0.0         0.0          0.0       1.0   \n",
       "4         0.0         0.0      0.0         0.0          1.0       0.0   \n",
       "\n",
       "   x10_Stone  x10_rare  x11_BrkTil  x11_CBlock  x11_PConc  x11_Slab  x11_rare  \\\n",
       "0        0.0       0.0         0.0         0.0        1.0       0.0       0.0   \n",
       "1        0.0       0.0         0.0         1.0        0.0       0.0       0.0   \n",
       "2        0.0       0.0         0.0         0.0        1.0       0.0       0.0   \n",
       "3        0.0       0.0         1.0         0.0        0.0       0.0       0.0   \n",
       "4        0.0       0.0         0.0         0.0        1.0       0.0       0.0   \n",
       "\n",
       "   x12_GasA  x12_GasW  x12_rare  x13_N  x13_Y  x14_FuseA  x14_FuseF  \\\n",
       "0       1.0       0.0       0.0    0.0    1.0        0.0        0.0   \n",
       "1       1.0       0.0       0.0    0.0    1.0        0.0        0.0   \n",
       "2       1.0       0.0       0.0    0.0    1.0        0.0        0.0   \n",
       "3       1.0       0.0       0.0    0.0    1.0        0.0        0.0   \n",
       "4       1.0       0.0       0.0    0.0    1.0        0.0        0.0   \n",
       "\n",
       "   x14_SBrkr  x14_rare  x15_Attchd  x15_Basment  x15_BuiltIn  x15_Detchd  \\\n",
       "0        1.0       0.0         1.0          0.0          0.0         0.0   \n",
       "1        1.0       0.0         1.0          0.0          0.0         0.0   \n",
       "2        1.0       0.0         1.0          0.0          0.0         0.0   \n",
       "3        1.0       0.0         0.0          0.0          0.0         1.0   \n",
       "4        1.0       0.0         1.0          0.0          0.0         0.0   \n",
       "\n",
       "   x15_No  x15_rare  x16_COD  x16_New  x16_WD  x16_rare  x17_Abnorml  \\\n",
       "0     0.0       0.0      0.0      0.0     1.0       0.0          0.0   \n",
       "1     0.0       0.0      0.0      0.0     1.0       0.0          0.0   \n",
       "2     0.0       0.0      0.0      0.0     1.0       0.0          0.0   \n",
       "3     0.0       0.0      0.0      0.0     1.0       0.0          1.0   \n",
       "4     0.0       0.0      0.0      0.0     1.0       0.0          0.0   \n",
       "\n",
       "   x17_Family  x17_Normal  x17_Partial  x17_rare  x18_Bnk  x18_HLS  x18_Low  \\\n",
       "0         0.0         1.0          0.0       0.0      0.0      0.0      0.0   \n",
       "1         0.0         1.0          0.0       0.0      0.0      0.0      0.0   \n",
       "2         0.0         1.0          0.0       0.0      0.0      0.0      0.0   \n",
       "3         0.0         0.0          0.0       0.0      0.0      0.0      0.0   \n",
       "4         0.0         1.0          0.0       0.0      0.0      0.0      0.0   \n",
       "\n",
       "   x18_Lvl  x19_Gtl  x19_Mod  x19_rare  x20_Artery  x20_Feedr  x20_Norm  \\\n",
       "0      1.0      1.0      0.0       0.0         0.0        0.0       1.0   \n",
       "1      1.0      1.0      0.0       0.0         0.0        1.0       0.0   \n",
       "2      1.0      1.0      0.0       0.0         0.0        0.0       1.0   \n",
       "3      1.0      1.0      0.0       0.0         0.0        0.0       1.0   \n",
       "4      1.0      1.0      0.0       0.0         0.0        0.0       1.0   \n",
       "\n",
       "   x20_PosN  x20_RRAn  x20_rare  x21_Norm  x21_rare  x22_1Fam  x22_2fmCon  \\\n",
       "0       0.0       0.0       0.0       1.0       0.0       1.0         0.0   \n",
       "1       0.0       0.0       0.0       1.0       0.0       1.0         0.0   \n",
       "2       0.0       0.0       0.0       1.0       0.0       1.0         0.0   \n",
       "3       0.0       0.0       0.0       1.0       0.0       1.0         0.0   \n",
       "4       0.0       0.0       0.0       1.0       0.0       1.0         0.0   \n",
       "\n",
       "   x22_Duplex  x22_Twnhs  x22_TwnhsE  x23_1.5Fin  x23_1Story  x23_2Story  \\\n",
       "0         0.0        0.0         0.0         0.0         0.0         1.0   \n",
       "1         0.0        0.0         0.0         0.0         1.0         0.0   \n",
       "2         0.0        0.0         0.0         0.0         0.0         1.0   \n",
       "3         0.0        0.0         0.0         0.0         0.0         1.0   \n",
       "4         0.0        0.0         0.0         0.0         0.0         1.0   \n",
       "\n",
       "   x23_SFoyer  x23_SLvl  x23_rare  x24_0  x24_3  x24_4  x24_5  x24_6  x24_7  \\\n",
       "0         0.0       0.0       0.0    0.0    0.0    0.0    0.0    0.0    1.0   \n",
       "1         0.0       0.0       0.0    0.0    0.0    0.0    0.0    1.0    0.0   \n",
       "2         0.0       0.0       0.0    0.0    0.0    0.0    0.0    0.0    1.0   \n",
       "3         0.0       0.0       0.0    0.0    0.0    0.0    0.0    0.0    1.0   \n",
       "4         0.0       0.0       0.0    0.0    0.0    0.0    0.0    0.0    0.0   \n",
       "\n",
       "   x24_8  x24_9  x24_10  x25_0  x25_3  x25_4  x25_5  x25_6  x25_7  x25_8  \\\n",
       "0    0.0    0.0     0.0    0.0    0.0    0.0    1.0    0.0    0.0    0.0   \n",
       "1    0.0    0.0     0.0    0.0    0.0    0.0    0.0    0.0    0.0    1.0   \n",
       "2    0.0    0.0     0.0    0.0    0.0    0.0    1.0    0.0    0.0    0.0   \n",
       "3    0.0    0.0     0.0    0.0    0.0    0.0    1.0    0.0    0.0    0.0   \n",
       "4    1.0    0.0     0.0    0.0    0.0    0.0    1.0    0.0    0.0    0.0   \n",
       "\n",
       "   x25_9  x26_Ex  x26_Gd  x26_TA  x26_rare  x27_Fa  x27_Gd  x27_TA  x27_rare  \\\n",
       "0    0.0     0.0     1.0     0.0       0.0     0.0     0.0     1.0       0.0   \n",
       "1    0.0     0.0     0.0     1.0       0.0     0.0     0.0     1.0       0.0   \n",
       "2    0.0     0.0     1.0     0.0       0.0     0.0     0.0     1.0       0.0   \n",
       "3    0.0     0.0     0.0     1.0       0.0     0.0     0.0     1.0       0.0   \n",
       "4    0.0     0.0     1.0     0.0       0.0     0.0     0.0     1.0       0.0   \n",
       "\n",
       "   x28_Ex  x28_Fa  x28_Gd  x28_No  x28_TA  x29_Fa  x29_Gd  x29_No  x29_TA  \\\n",
       "0     0.0     0.0     1.0     0.0     0.0     0.0     0.0     0.0     1.0   \n",
       "1     0.0     0.0     1.0     0.0     0.0     0.0     0.0     0.0     1.0   \n",
       "2     0.0     0.0     1.0     0.0     0.0     0.0     0.0     0.0     1.0   \n",
       "3     0.0     0.0     0.0     0.0     1.0     0.0     1.0     0.0     0.0   \n",
       "4     0.0     0.0     1.0     0.0     0.0     0.0     0.0     0.0     1.0   \n",
       "\n",
       "   x29_rare  x30_Av  x30_Gd  x30_Mn  x30_No  x31_ALQ  x31_BLQ  x31_GLQ  \\\n",
       "0       0.0     0.0     0.0     0.0     1.0      0.0      0.0      1.0   \n",
       "1       0.0     0.0     1.0     0.0     0.0      1.0      0.0      0.0   \n",
       "2       0.0     0.0     0.0     1.0     0.0      0.0      0.0      1.0   \n",
       "3       0.0     0.0     0.0     0.0     1.0      1.0      0.0      0.0   \n",
       "4       0.0     1.0     0.0     0.0     0.0      0.0      0.0      1.0   \n",
       "\n",
       "   x31_LwQ  x31_No  x31_Rec  x31_Unf  x32_Ex  x32_Fa  x32_Gd  x32_TA  \\\n",
       "0      0.0     0.0      0.0      0.0     1.0     0.0     0.0     0.0   \n",
       "1      0.0     0.0      0.0      0.0     1.0     0.0     0.0     0.0   \n",
       "2      0.0     0.0      0.0      0.0     1.0     0.0     0.0     0.0   \n",
       "3      0.0     0.0      0.0      0.0     0.0     0.0     1.0     0.0   \n",
       "4      0.0     0.0      0.0      0.0     1.0     0.0     0.0     0.0   \n",
       "\n",
       "   x32_rare  x33_Fin  x33_No  x33_RFn  x33_Unf  x34_Fa  x34_No  x34_TA  \\\n",
       "0       0.0      0.0     0.0      1.0      0.0     0.0     0.0     1.0   \n",
       "1       0.0      0.0     0.0      1.0      0.0     0.0     0.0     1.0   \n",
       "2       0.0      0.0     0.0      1.0      0.0     0.0     0.0     1.0   \n",
       "3       0.0      0.0     0.0      0.0      1.0     0.0     0.0     1.0   \n",
       "4       0.0      0.0     0.0      1.0      0.0     0.0     0.0     1.0   \n",
       "\n",
       "   x34_rare  x35_Fa  x35_No  x35_TA  x35_rare  x36_ALQ  x36_BLQ  x36_LwQ  \\\n",
       "0       0.0     0.0     0.0     1.0       0.0      0.0      0.0      0.0   \n",
       "1       0.0     0.0     0.0     1.0       0.0      0.0      0.0      0.0   \n",
       "2       0.0     0.0     0.0     1.0       0.0      0.0      0.0      0.0   \n",
       "3       0.0     0.0     0.0     1.0       0.0      0.0      0.0      0.0   \n",
       "4       0.0     0.0     0.0     1.0       0.0      0.0      0.0      0.0   \n",
       "\n",
       "   x36_No  x36_Rec  x36_Unf  x36_rare  x37_Ex  x37_Fa  x37_Gd  x37_TA  x38_N  \\\n",
       "0     0.0      0.0      1.0       0.0     0.0     0.0     1.0     0.0    0.0   \n",
       "1     0.0      0.0      1.0       0.0     0.0     0.0     0.0     1.0    0.0   \n",
       "2     0.0      0.0      1.0       0.0     0.0     0.0     1.0     0.0    0.0   \n",
       "3     0.0      0.0      1.0       0.0     0.0     0.0     1.0     0.0    0.0   \n",
       "4     0.0      0.0      1.0       0.0     0.0     0.0     1.0     0.0    0.0   \n",
       "\n",
       "   x38_P  x38_Y  \n",
       "0    0.0    1.0  \n",
       "1    0.0    1.0  \n",
       "2    0.0    1.0  \n",
       "3    0.0    1.0  \n",
       "4    0.0    1.0  "
      ],
      "text/html": "<div>\n<style scoped>\n    .dataframe tbody tr th:only-of-type {\n        vertical-align: middle;\n    }\n\n    .dataframe tbody tr th {\n        vertical-align: top;\n    }\n\n    .dataframe thead th {\n        text-align: right;\n    }\n</style>\n<table border=\"1\" class=\"dataframe\">\n  <thead>\n    <tr style=\"text-align: right;\">\n      <th></th>\n      <th>x0_FV</th>\n      <th>x0_RH</th>\n      <th>x0_RL</th>\n      <th>x0_RM</th>\n      <th>x0_rare</th>\n      <th>x1_Pave</th>\n      <th>x1_rare</th>\n      <th>x2_IR1</th>\n      <th>x2_IR2</th>\n      <th>x2_Reg</th>\n      <th>x2_rare</th>\n      <th>x3_AllPub</th>\n      <th>x3_rare</th>\n      <th>x4_Corner</th>\n      <th>x4_CulDSac</th>\n      <th>x4_FR2</th>\n      <th>x4_Inside</th>\n      <th>x4_rare</th>\n      <th>x5_Blmngtn</th>\n      <th>x5_BrDale</th>\n      <th>x5_BrkSide</th>\n      <th>x5_ClearCr</th>\n      <th>x5_CollgCr</th>\n      <th>x5_Crawfor</th>\n      <th>x5_Edwards</th>\n      <th>x5_Gilbert</th>\n      <th>x5_IDOTRR</th>\n      <th>x5_MeadowV</th>\n      <th>x5_Mitchel</th>\n      <th>x5_NAmes</th>\n      <th>x5_NWAmes</th>\n      <th>x5_NoRidge</th>\n      <th>x5_NridgHt</th>\n      <th>x5_OldTown</th>\n      <th>x5_SWISU</th>\n      <th>x5_Sawyer</th>\n      <th>x5_SawyerW</th>\n      <th>x5_Somerst</th>\n      <th>x5_StoneBr</th>\n      <th>x5_Timber</th>\n      <th>x5_rare</th>\n      <th>x6_Gable</th>\n      <th>x6_Hip</th>\n      <th>x6_rare</th>\n      <th>x7_CompShg</th>\n      <th>x7_rare</th>\n      <th>x8_AsbShng</th>\n      <th>x8_BrkFace</th>\n      <th>x8_CemntBd</th>\n      <th>x8_HdBoard</th>\n      <th>x8_MetalSd</th>\n      <th>x8_Plywood</th>\n      <th>x8_Stucco</th>\n      <th>x8_VinylSd</th>\n      <th>x8_Wd Sdng</th>\n      <th>x8_WdShing</th>\n      <th>x8_rare</th>\n      <th>x9_AsbShng</th>\n      <th>x9_BrkFace</th>\n      <th>x9_CmentBd</th>\n      <th>x9_HdBoard</th>\n      <th>x9_MetalSd</th>\n      <th>x9_Plywood</th>\n      <th>x9_Stucco</th>\n      <th>x9_VinylSd</th>\n      <th>x9_Wd Sdng</th>\n      <th>x9_Wd Shng</th>\n      <th>x9_rare</th>\n      <th>x10_BrkCmn</th>\n      <th>x10_BrkFace</th>\n      <th>x10_None</th>\n      <th>x10_Stone</th>\n      <th>x10_rare</th>\n      <th>x11_BrkTil</th>\n      <th>x11_CBlock</th>\n      <th>x11_PConc</th>\n      <th>x11_Slab</th>\n      <th>x11_rare</th>\n      <th>x12_GasA</th>\n      <th>x12_GasW</th>\n      <th>x12_rare</th>\n      <th>x13_N</th>\n      <th>x13_Y</th>\n      <th>x14_FuseA</th>\n      <th>x14_FuseF</th>\n      <th>x14_SBrkr</th>\n      <th>x14_rare</th>\n      <th>x15_Attchd</th>\n      <th>x15_Basment</th>\n      <th>x15_BuiltIn</th>\n      <th>x15_Detchd</th>\n      <th>x15_No</th>\n      <th>x15_rare</th>\n      <th>x16_COD</th>\n      <th>x16_New</th>\n      <th>x16_WD</th>\n      <th>x16_rare</th>\n      <th>x17_Abnorml</th>\n      <th>x17_Family</th>\n      <th>x17_Normal</th>\n      <th>x17_Partial</th>\n      <th>x17_rare</th>\n      <th>x18_Bnk</th>\n      <th>x18_HLS</th>\n      <th>x18_Low</th>\n      <th>x18_Lvl</th>\n      <th>x19_Gtl</th>\n      <th>x19_Mod</th>\n      <th>x19_rare</th>\n      <th>x20_Artery</th>\n      <th>x20_Feedr</th>\n      <th>x20_Norm</th>\n      <th>x20_PosN</th>\n      <th>x20_RRAn</th>\n      <th>x20_rare</th>\n      <th>x21_Norm</th>\n      <th>x21_rare</th>\n      <th>x22_1Fam</th>\n      <th>x22_2fmCon</th>\n      <th>x22_Duplex</th>\n      <th>x22_Twnhs</th>\n      <th>x22_TwnhsE</th>\n      <th>x23_1.5Fin</th>\n      <th>x23_1Story</th>\n      <th>x23_2Story</th>\n      <th>x23_SFoyer</th>\n      <th>x23_SLvl</th>\n      <th>x23_rare</th>\n      <th>x24_0</th>\n      <th>x24_3</th>\n      <th>x24_4</th>\n      <th>x24_5</th>\n      <th>x24_6</th>\n      <th>x24_7</th>\n      <th>x24_8</th>\n      <th>x24_9</th>\n      <th>x24_10</th>\n      <th>x25_0</th>\n      <th>x25_3</th>\n      <th>x25_4</th>\n      <th>x25_5</th>\n      <th>x25_6</th>\n      <th>x25_7</th>\n      <th>x25_8</th>\n      <th>x25_9</th>\n      <th>x26_Ex</th>\n      <th>x26_Gd</th>\n      <th>x26_TA</th>\n      <th>x26_rare</th>\n      <th>x27_Fa</th>\n      <th>x27_Gd</th>\n      <th>x27_TA</th>\n      <th>x27_rare</th>\n      <th>x28_Ex</th>\n      <th>x28_Fa</th>\n      <th>x28_Gd</th>\n      <th>x28_No</th>\n      <th>x28_TA</th>\n      <th>x29_Fa</th>\n      <th>x29_Gd</th>\n      <th>x29_No</th>\n      <th>x29_TA</th>\n      <th>x29_rare</th>\n      <th>x30_Av</th>\n      <th>x30_Gd</th>\n      <th>x30_Mn</th>\n      <th>x30_No</th>\n      <th>x31_ALQ</th>\n      <th>x31_BLQ</th>\n      <th>x31_GLQ</th>\n      <th>x31_LwQ</th>\n      <th>x31_No</th>\n      <th>x31_Rec</th>\n      <th>x31_Unf</th>\n      <th>x32_Ex</th>\n      <th>x32_Fa</th>\n      <th>x32_Gd</th>\n      <th>x32_TA</th>\n      <th>x32_rare</th>\n      <th>x33_Fin</th>\n      <th>x33_No</th>\n      <th>x33_RFn</th>\n      <th>x33_Unf</th>\n      <th>x34_Fa</th>\n      <th>x34_No</th>\n      <th>x34_TA</th>\n      <th>x34_rare</th>\n      <th>x35_Fa</th>\n      <th>x35_No</th>\n      <th>x35_TA</th>\n      <th>x35_rare</th>\n      <th>x36_ALQ</th>\n      <th>x36_BLQ</th>\n      <th>x36_LwQ</th>\n      <th>x36_No</th>\n      <th>x36_Rec</th>\n      <th>x36_Unf</th>\n      <th>x36_rare</th>\n      <th>x37_Ex</th>\n      <th>x37_Fa</th>\n      <th>x37_Gd</th>\n      <th>x37_TA</th>\n      <th>x38_N</th>\n      <th>x38_P</th>\n      <th>x38_Y</th>\n    </tr>\n  </thead>\n  <tbody>\n    <tr>\n      <th>0</th>\n      <td>0.0</td>\n      <td>0.0</td>\n      <td>1.0</td>\n      <td>0.0</td>\n      <td>0.0</td>\n      <td>1.0</td>\n      <td>0.0</td>\n      <td>0.0</td>\n      <td>0.0</td>\n      <td>1.0</td>\n      <td>0.0</td>\n      <td>1.0</td>\n      <td>0.0</td>\n      <td>0.0</td>\n      <td>0.0</td>\n      <td>0.0</td>\n      <td>1.0</td>\n      <td>0.0</td>\n      <td>0.0</td>\n      <td>0.0</td>\n      <td>0.0</td>\n      <td>0.0</td>\n      <td>1.0</td>\n      <td>0.0</td>\n      <td>0.0</td>\n      <td>0.0</td>\n      <td>0.0</td>\n      <td>0.0</td>\n      <td>0.0</td>\n      <td>0.0</td>\n      <td>0.0</td>\n      <td>0.0</td>\n      <td>0.0</td>\n      <td>0.0</td>\n      <td>0.0</td>\n      <td>0.0</td>\n      <td>0.0</td>\n      <td>0.0</td>\n      <td>0.0</td>\n      <td>0.0</td>\n      <td>0.0</td>\n      <td>1.0</td>\n      <td>0.0</td>\n      <td>0.0</td>\n      <td>1.0</td>\n      <td>0.0</td>\n      <td>0.0</td>\n      <td>0.0</td>\n      <td>0.0</td>\n      <td>0.0</td>\n      <td>0.0</td>\n      <td>0.0</td>\n      <td>0.0</td>\n      <td>1.0</td>\n      <td>0.0</td>\n      <td>0.0</td>\n      <td>0.0</td>\n      <td>0.0</td>\n      <td>0.0</td>\n      <td>0.0</td>\n      <td>0.0</td>\n      <td>0.0</td>\n      <td>0.0</td>\n      <td>0.0</td>\n      <td>1.0</td>\n      <td>0.0</td>\n      <td>0.0</td>\n      <td>0.0</td>\n      <td>0.0</td>\n      <td>1.0</td>\n      <td>0.0</td>\n      <td>0.0</td>\n      <td>0.0</td>\n      <td>0.0</td>\n      <td>0.0</td>\n      <td>1.0</td>\n      <td>0.0</td>\n      <td>0.0</td>\n      <td>1.0</td>\n      <td>0.0</td>\n      <td>0.0</td>\n      <td>0.0</td>\n      <td>1.0</td>\n      <td>0.0</td>\n      <td>0.0</td>\n      <td>1.0</td>\n      <td>0.0</td>\n      <td>1.0</td>\n      <td>0.0</td>\n      <td>0.0</td>\n      <td>0.0</td>\n      <td>0.0</td>\n      <td>0.0</td>\n      <td>0.0</td>\n      <td>0.0</td>\n      <td>1.0</td>\n      <td>0.0</td>\n      <td>0.0</td>\n      <td>0.0</td>\n      <td>1.0</td>\n      <td>0.0</td>\n      <td>0.0</td>\n      <td>0.0</td>\n      <td>0.0</td>\n      <td>0.0</td>\n      <td>1.0</td>\n      <td>1.0</td>\n      <td>0.0</td>\n      <td>0.0</td>\n      <td>0.0</td>\n      <td>0.0</td>\n      <td>1.0</td>\n      <td>0.0</td>\n      <td>0.0</td>\n      <td>0.0</td>\n      <td>1.0</td>\n      <td>0.0</td>\n      <td>1.0</td>\n      <td>0.0</td>\n      <td>0.0</td>\n      <td>0.0</td>\n      <td>0.0</td>\n      <td>0.0</td>\n      <td>0.0</td>\n      <td>1.0</td>\n      <td>0.0</td>\n      <td>0.0</td>\n      <td>0.0</td>\n      <td>0.0</td>\n      <td>0.0</td>\n      <td>0.0</td>\n      <td>0.0</td>\n      <td>0.0</td>\n      <td>1.0</td>\n      <td>0.0</td>\n      <td>0.0</td>\n      <td>0.0</td>\n      <td>0.0</td>\n      <td>0.0</td>\n      <td>0.0</td>\n      <td>1.0</td>\n      <td>0.0</td>\n      <td>0.0</td>\n      <td>0.0</td>\n      <td>0.0</td>\n      <td>0.0</td>\n      <td>1.0</td>\n      <td>0.0</td>\n      <td>0.0</td>\n      <td>0.0</td>\n      <td>0.0</td>\n      <td>1.0</td>\n      <td>0.0</td>\n      <td>0.0</td>\n      <td>0.0</td>\n      <td>1.0</td>\n      <td>0.0</td>\n      <td>0.0</td>\n      <td>0.0</td>\n      <td>0.0</td>\n      <td>0.0</td>\n      <td>1.0</td>\n      <td>0.0</td>\n      <td>0.0</td>\n      <td>0.0</td>\n      <td>0.0</td>\n      <td>1.0</td>\n      <td>0.0</td>\n      <td>0.0</td>\n      <td>1.0</td>\n      <td>0.0</td>\n      <td>0.0</td>\n      <td>0.0</td>\n      <td>0.0</td>\n      <td>1.0</td>\n      <td>0.0</td>\n      <td>0.0</td>\n      <td>0.0</td>\n      <td>0.0</td>\n      <td>0.0</td>\n      <td>0.0</td>\n      <td>1.0</td>\n      <td>0.0</td>\n      <td>0.0</td>\n      <td>0.0</td>\n      <td>1.0</td>\n      <td>0.0</td>\n      <td>0.0</td>\n      <td>0.0</td>\n      <td>1.0</td>\n      <td>0.0</td>\n      <td>0.0</td>\n      <td>0.0</td>\n      <td>0.0</td>\n      <td>0.0</td>\n      <td>0.0</td>\n      <td>1.0</td>\n      <td>0.0</td>\n      <td>0.0</td>\n      <td>0.0</td>\n      <td>1.0</td>\n      <td>0.0</td>\n      <td>0.0</td>\n      <td>0.0</td>\n      <td>1.0</td>\n    </tr>\n    <tr>\n      <th>1</th>\n      <td>0.0</td>\n      <td>0.0</td>\n      <td>1.0</td>\n      <td>0.0</td>\n      <td>0.0</td>\n      <td>1.0</td>\n      <td>0.0</td>\n      <td>0.0</td>\n      <td>0.0</td>\n      <td>1.0</td>\n      <td>0.0</td>\n      <td>1.0</td>\n      <td>0.0</td>\n      <td>0.0</td>\n      <td>0.0</td>\n      <td>1.0</td>\n      <td>0.0</td>\n      <td>0.0</td>\n      <td>0.0</td>\n      <td>0.0</td>\n      <td>0.0</td>\n      <td>0.0</td>\n      <td>0.0</td>\n      <td>0.0</td>\n      <td>0.0</td>\n      <td>0.0</td>\n      <td>0.0</td>\n      <td>0.0</td>\n      <td>0.0</td>\n      <td>0.0</td>\n      <td>0.0</td>\n      <td>0.0</td>\n      <td>0.0</td>\n      <td>0.0</td>\n      <td>0.0</td>\n      <td>0.0</td>\n      <td>0.0</td>\n      <td>0.0</td>\n      <td>0.0</td>\n      <td>0.0</td>\n      <td>1.0</td>\n      <td>1.0</td>\n      <td>0.0</td>\n      <td>0.0</td>\n      <td>1.0</td>\n      <td>0.0</td>\n      <td>0.0</td>\n      <td>0.0</td>\n      <td>0.0</td>\n      <td>0.0</td>\n      <td>1.0</td>\n      <td>0.0</td>\n      <td>0.0</td>\n      <td>0.0</td>\n      <td>0.0</td>\n      <td>0.0</td>\n      <td>0.0</td>\n      <td>0.0</td>\n      <td>0.0</td>\n      <td>0.0</td>\n      <td>0.0</td>\n      <td>1.0</td>\n      <td>0.0</td>\n      <td>0.0</td>\n      <td>0.0</td>\n      <td>0.0</td>\n      <td>0.0</td>\n      <td>0.0</td>\n      <td>0.0</td>\n      <td>0.0</td>\n      <td>1.0</td>\n      <td>0.0</td>\n      <td>0.0</td>\n      <td>0.0</td>\n      <td>1.0</td>\n      <td>0.0</td>\n      <td>0.0</td>\n      <td>0.0</td>\n      <td>1.0</td>\n      <td>0.0</td>\n      <td>0.0</td>\n      <td>0.0</td>\n      <td>1.0</td>\n      <td>0.0</td>\n      <td>0.0</td>\n      <td>1.0</td>\n      <td>0.0</td>\n      <td>1.0</td>\n      <td>0.0</td>\n      <td>0.0</td>\n      <td>0.0</td>\n      <td>0.0</td>\n      <td>0.0</td>\n      <td>0.0</td>\n      <td>0.0</td>\n      <td>1.0</td>\n      <td>0.0</td>\n      <td>0.0</td>\n      <td>0.0</td>\n      <td>1.0</td>\n      <td>0.0</td>\n      <td>0.0</td>\n      <td>0.0</td>\n      <td>0.0</td>\n      <td>0.0</td>\n      <td>1.0</td>\n      <td>1.0</td>\n      <td>0.0</td>\n      <td>0.0</td>\n      <td>0.0</td>\n      <td>1.0</td>\n      <td>0.0</td>\n      <td>0.0</td>\n      <td>0.0</td>\n      <td>0.0</td>\n      <td>1.0</td>\n      <td>0.0</td>\n      <td>1.0</td>\n      <td>0.0</td>\n      <td>0.0</td>\n      <td>0.0</td>\n      <td>0.0</td>\n      <td>0.0</td>\n      <td>1.0</td>\n      <td>0.0</td>\n      <td>0.0</td>\n      <td>0.0</td>\n      <td>0.0</td>\n      <td>0.0</td>\n      <td>0.0</td>\n      <td>0.0</td>\n      <td>0.0</td>\n      <td>1.0</td>\n      <td>0.0</td>\n      <td>0.0</td>\n      <td>0.0</td>\n      <td>0.0</td>\n      <td>0.0</td>\n      <td>0.0</td>\n      <td>0.0</td>\n      <td>0.0</td>\n      <td>0.0</td>\n      <td>0.0</td>\n      <td>1.0</td>\n      <td>0.0</td>\n      <td>0.0</td>\n      <td>0.0</td>\n      <td>1.0</td>\n      <td>0.0</td>\n      <td>0.0</td>\n      <td>0.0</td>\n      <td>1.0</td>\n      <td>0.0</td>\n      <td>0.0</td>\n      <td>0.0</td>\n      <td>1.0</td>\n      <td>0.0</td>\n      <td>0.0</td>\n      <td>0.0</td>\n      <td>0.0</td>\n      <td>0.0</td>\n      <td>1.0</td>\n      <td>0.0</td>\n      <td>0.0</td>\n      <td>1.0</td>\n      <td>0.0</td>\n      <td>0.0</td>\n      <td>1.0</td>\n      <td>0.0</td>\n      <td>0.0</td>\n      <td>0.0</td>\n      <td>0.0</td>\n      <td>0.0</td>\n      <td>0.0</td>\n      <td>1.0</td>\n      <td>0.0</td>\n      <td>0.0</td>\n      <td>0.0</td>\n      <td>0.0</td>\n      <td>0.0</td>\n      <td>0.0</td>\n      <td>1.0</td>\n      <td>0.0</td>\n      <td>0.0</td>\n      <td>0.0</td>\n      <td>1.0</td>\n      <td>0.0</td>\n      <td>0.0</td>\n      <td>0.0</td>\n      <td>1.0</td>\n      <td>0.0</td>\n      <td>0.0</td>\n      <td>0.0</td>\n      <td>0.0</td>\n      <td>0.0</td>\n      <td>0.0</td>\n      <td>1.0</td>\n      <td>0.0</td>\n      <td>0.0</td>\n      <td>0.0</td>\n      <td>0.0</td>\n      <td>1.0</td>\n      <td>0.0</td>\n      <td>0.0</td>\n      <td>1.0</td>\n    </tr>\n    <tr>\n      <th>2</th>\n      <td>0.0</td>\n      <td>0.0</td>\n      <td>1.0</td>\n      <td>0.0</td>\n      <td>0.0</td>\n      <td>1.0</td>\n      <td>0.0</td>\n      <td>1.0</td>\n      <td>0.0</td>\n      <td>0.0</td>\n      <td>0.0</td>\n      <td>1.0</td>\n      <td>0.0</td>\n      <td>0.0</td>\n      <td>0.0</td>\n      <td>0.0</td>\n      <td>1.0</td>\n      <td>0.0</td>\n      <td>0.0</td>\n      <td>0.0</td>\n      <td>0.0</td>\n      <td>0.0</td>\n      <td>1.0</td>\n      <td>0.0</td>\n      <td>0.0</td>\n      <td>0.0</td>\n      <td>0.0</td>\n      <td>0.0</td>\n      <td>0.0</td>\n      <td>0.0</td>\n      <td>0.0</td>\n      <td>0.0</td>\n      <td>0.0</td>\n      <td>0.0</td>\n      <td>0.0</td>\n      <td>0.0</td>\n      <td>0.0</td>\n      <td>0.0</td>\n      <td>0.0</td>\n      <td>0.0</td>\n      <td>0.0</td>\n      <td>1.0</td>\n      <td>0.0</td>\n      <td>0.0</td>\n      <td>1.0</td>\n      <td>0.0</td>\n      <td>0.0</td>\n      <td>0.0</td>\n      <td>0.0</td>\n      <td>0.0</td>\n      <td>0.0</td>\n      <td>0.0</td>\n      <td>0.0</td>\n      <td>1.0</td>\n      <td>0.0</td>\n      <td>0.0</td>\n      <td>0.0</td>\n      <td>0.0</td>\n      <td>0.0</td>\n      <td>0.0</td>\n      <td>0.0</td>\n      <td>0.0</td>\n      <td>0.0</td>\n      <td>0.0</td>\n      <td>1.0</td>\n      <td>0.0</td>\n      <td>0.0</td>\n      <td>0.0</td>\n      <td>0.0</td>\n      <td>1.0</td>\n      <td>0.0</td>\n      <td>0.0</td>\n      <td>0.0</td>\n      <td>0.0</td>\n      <td>0.0</td>\n      <td>1.0</td>\n      <td>0.0</td>\n      <td>0.0</td>\n      <td>1.0</td>\n      <td>0.0</td>\n      <td>0.0</td>\n      <td>0.0</td>\n      <td>1.0</td>\n      <td>0.0</td>\n      <td>0.0</td>\n      <td>1.0</td>\n      <td>0.0</td>\n      <td>1.0</td>\n      <td>0.0</td>\n      <td>0.0</td>\n      <td>0.0</td>\n      <td>0.0</td>\n      <td>0.0</td>\n      <td>0.0</td>\n      <td>0.0</td>\n      <td>1.0</td>\n      <td>0.0</td>\n      <td>0.0</td>\n      <td>0.0</td>\n      <td>1.0</td>\n      <td>0.0</td>\n      <td>0.0</td>\n      <td>0.0</td>\n      <td>0.0</td>\n      <td>0.0</td>\n      <td>1.0</td>\n      <td>1.0</td>\n      <td>0.0</td>\n      <td>0.0</td>\n      <td>0.0</td>\n      <td>0.0</td>\n      <td>1.0</td>\n      <td>0.0</td>\n      <td>0.0</td>\n      <td>0.0</td>\n      <td>1.0</td>\n      <td>0.0</td>\n      <td>1.0</td>\n      <td>0.0</td>\n      <td>0.0</td>\n      <td>0.0</td>\n      <td>0.0</td>\n      <td>0.0</td>\n      <td>0.0</td>\n      <td>1.0</td>\n      <td>0.0</td>\n      <td>0.0</td>\n      <td>0.0</td>\n      <td>0.0</td>\n      <td>0.0</td>\n      <td>0.0</td>\n      <td>0.0</td>\n      <td>0.0</td>\n      <td>1.0</td>\n      <td>0.0</td>\n      <td>0.0</td>\n      <td>0.0</td>\n      <td>0.0</td>\n      <td>0.0</td>\n      <td>0.0</td>\n      <td>1.0</td>\n      <td>0.0</td>\n      <td>0.0</td>\n      <td>0.0</td>\n      <td>0.0</td>\n      <td>0.0</td>\n      <td>1.0</td>\n      <td>0.0</td>\n      <td>0.0</td>\n      <td>0.0</td>\n      <td>0.0</td>\n      <td>1.0</td>\n      <td>0.0</td>\n      <td>0.0</td>\n      <td>0.0</td>\n      <td>1.0</td>\n      <td>0.0</td>\n      <td>0.0</td>\n      <td>0.0</td>\n      <td>0.0</td>\n      <td>0.0</td>\n      <td>1.0</td>\n      <td>0.0</td>\n      <td>0.0</td>\n      <td>0.0</td>\n      <td>1.0</td>\n      <td>0.0</td>\n      <td>0.0</td>\n      <td>0.0</td>\n      <td>1.0</td>\n      <td>0.0</td>\n      <td>0.0</td>\n      <td>0.0</td>\n      <td>0.0</td>\n      <td>1.0</td>\n      <td>0.0</td>\n      <td>0.0</td>\n      <td>0.0</td>\n      <td>0.0</td>\n      <td>0.0</td>\n      <td>0.0</td>\n      <td>1.0</td>\n      <td>0.0</td>\n      <td>0.0</td>\n      <td>0.0</td>\n      <td>1.0</td>\n      <td>0.0</td>\n      <td>0.0</td>\n      <td>0.0</td>\n      <td>1.0</td>\n      <td>0.0</td>\n      <td>0.0</td>\n      <td>0.0</td>\n      <td>0.0</td>\n      <td>0.0</td>\n      <td>0.0</td>\n      <td>1.0</td>\n      <td>0.0</td>\n      <td>0.0</td>\n      <td>0.0</td>\n      <td>1.0</td>\n      <td>0.0</td>\n      <td>0.0</td>\n      <td>0.0</td>\n      <td>1.0</td>\n    </tr>\n    <tr>\n      <th>3</th>\n      <td>0.0</td>\n      <td>0.0</td>\n      <td>1.0</td>\n      <td>0.0</td>\n      <td>0.0</td>\n      <td>1.0</td>\n      <td>0.0</td>\n      <td>1.0</td>\n      <td>0.0</td>\n      <td>0.0</td>\n      <td>0.0</td>\n      <td>1.0</td>\n      <td>0.0</td>\n      <td>1.0</td>\n      <td>0.0</td>\n      <td>0.0</td>\n      <td>0.0</td>\n      <td>0.0</td>\n      <td>0.0</td>\n      <td>0.0</td>\n      <td>0.0</td>\n      <td>0.0</td>\n      <td>0.0</td>\n      <td>1.0</td>\n      <td>0.0</td>\n      <td>0.0</td>\n      <td>0.0</td>\n      <td>0.0</td>\n      <td>0.0</td>\n      <td>0.0</td>\n      <td>0.0</td>\n      <td>0.0</td>\n      <td>0.0</td>\n      <td>0.0</td>\n      <td>0.0</td>\n      <td>0.0</td>\n      <td>0.0</td>\n      <td>0.0</td>\n      <td>0.0</td>\n      <td>0.0</td>\n      <td>0.0</td>\n      <td>1.0</td>\n      <td>0.0</td>\n      <td>0.0</td>\n      <td>1.0</td>\n      <td>0.0</td>\n      <td>0.0</td>\n      <td>0.0</td>\n      <td>0.0</td>\n      <td>0.0</td>\n      <td>0.0</td>\n      <td>0.0</td>\n      <td>0.0</td>\n      <td>0.0</td>\n      <td>1.0</td>\n      <td>0.0</td>\n      <td>0.0</td>\n      <td>0.0</td>\n      <td>0.0</td>\n      <td>0.0</td>\n      <td>0.0</td>\n      <td>0.0</td>\n      <td>0.0</td>\n      <td>0.0</td>\n      <td>0.0</td>\n      <td>0.0</td>\n      <td>1.0</td>\n      <td>0.0</td>\n      <td>0.0</td>\n      <td>0.0</td>\n      <td>1.0</td>\n      <td>0.0</td>\n      <td>0.0</td>\n      <td>1.0</td>\n      <td>0.0</td>\n      <td>0.0</td>\n      <td>0.0</td>\n      <td>0.0</td>\n      <td>1.0</td>\n      <td>0.0</td>\n      <td>0.0</td>\n      <td>0.0</td>\n      <td>1.0</td>\n      <td>0.0</td>\n      <td>0.0</td>\n      <td>1.0</td>\n      <td>0.0</td>\n      <td>0.0</td>\n      <td>0.0</td>\n      <td>0.0</td>\n      <td>1.0</td>\n      <td>0.0</td>\n      <td>0.0</td>\n      <td>0.0</td>\n      <td>0.0</td>\n      <td>1.0</td>\n      <td>0.0</td>\n      <td>1.0</td>\n      <td>0.0</td>\n      <td>0.0</td>\n      <td>0.0</td>\n      <td>0.0</td>\n      <td>0.0</td>\n      <td>0.0</td>\n      <td>0.0</td>\n      <td>1.0</td>\n      <td>1.0</td>\n      <td>0.0</td>\n      <td>0.0</td>\n      <td>0.0</td>\n      <td>0.0</td>\n      <td>1.0</td>\n      <td>0.0</td>\n      <td>0.0</td>\n      <td>0.0</td>\n      <td>1.0</td>\n      <td>0.0</td>\n      <td>1.0</td>\n      <td>0.0</td>\n      <td>0.0</td>\n      <td>0.0</td>\n      <td>0.0</td>\n      <td>0.0</td>\n      <td>0.0</td>\n      <td>1.0</td>\n      <td>0.0</td>\n      <td>0.0</td>\n      <td>0.0</td>\n      <td>0.0</td>\n      <td>0.0</td>\n      <td>0.0</td>\n      <td>0.0</td>\n      <td>0.0</td>\n      <td>1.0</td>\n      <td>0.0</td>\n      <td>0.0</td>\n      <td>0.0</td>\n      <td>0.0</td>\n      <td>0.0</td>\n      <td>0.0</td>\n      <td>1.0</td>\n      <td>0.0</td>\n      <td>0.0</td>\n      <td>0.0</td>\n      <td>0.0</td>\n      <td>0.0</td>\n      <td>0.0</td>\n      <td>1.0</td>\n      <td>0.0</td>\n      <td>0.0</td>\n      <td>0.0</td>\n      <td>1.0</td>\n      <td>0.0</td>\n      <td>0.0</td>\n      <td>0.0</td>\n      <td>0.0</td>\n      <td>0.0</td>\n      <td>1.0</td>\n      <td>0.0</td>\n      <td>1.0</td>\n      <td>0.0</td>\n      <td>0.0</td>\n      <td>0.0</td>\n      <td>0.0</td>\n      <td>0.0</td>\n      <td>0.0</td>\n      <td>1.0</td>\n      <td>1.0</td>\n      <td>0.0</td>\n      <td>0.0</td>\n      <td>0.0</td>\n      <td>0.0</td>\n      <td>0.0</td>\n      <td>0.0</td>\n      <td>0.0</td>\n      <td>0.0</td>\n      <td>1.0</td>\n      <td>0.0</td>\n      <td>0.0</td>\n      <td>0.0</td>\n      <td>0.0</td>\n      <td>0.0</td>\n      <td>1.0</td>\n      <td>0.0</td>\n      <td>0.0</td>\n      <td>1.0</td>\n      <td>0.0</td>\n      <td>0.0</td>\n      <td>0.0</td>\n      <td>1.0</td>\n      <td>0.0</td>\n      <td>0.0</td>\n      <td>0.0</td>\n      <td>0.0</td>\n      <td>0.0</td>\n      <td>0.0</td>\n      <td>1.0</td>\n      <td>0.0</td>\n      <td>0.0</td>\n      <td>0.0</td>\n      <td>1.0</td>\n      <td>0.0</td>\n      <td>0.0</td>\n      <td>0.0</td>\n      <td>1.0</td>\n    </tr>\n    <tr>\n      <th>4</th>\n      <td>0.0</td>\n      <td>0.0</td>\n      <td>1.0</td>\n      <td>0.0</td>\n      <td>0.0</td>\n      <td>1.0</td>\n      <td>0.0</td>\n      <td>1.0</td>\n      <td>0.0</td>\n      <td>0.0</td>\n      <td>0.0</td>\n      <td>1.0</td>\n      <td>0.0</td>\n      <td>0.0</td>\n      <td>0.0</td>\n      <td>1.0</td>\n      <td>0.0</td>\n      <td>0.0</td>\n      <td>0.0</td>\n      <td>0.0</td>\n      <td>0.0</td>\n      <td>0.0</td>\n      <td>0.0</td>\n      <td>0.0</td>\n      <td>0.0</td>\n      <td>0.0</td>\n      <td>0.0</td>\n      <td>0.0</td>\n      <td>0.0</td>\n      <td>0.0</td>\n      <td>0.0</td>\n      <td>1.0</td>\n      <td>0.0</td>\n      <td>0.0</td>\n      <td>0.0</td>\n      <td>0.0</td>\n      <td>0.0</td>\n      <td>0.0</td>\n      <td>0.0</td>\n      <td>0.0</td>\n      <td>0.0</td>\n      <td>1.0</td>\n      <td>0.0</td>\n      <td>0.0</td>\n      <td>1.0</td>\n      <td>0.0</td>\n      <td>0.0</td>\n      <td>0.0</td>\n      <td>0.0</td>\n      <td>0.0</td>\n      <td>0.0</td>\n      <td>0.0</td>\n      <td>0.0</td>\n      <td>1.0</td>\n      <td>0.0</td>\n      <td>0.0</td>\n      <td>0.0</td>\n      <td>0.0</td>\n      <td>0.0</td>\n      <td>0.0</td>\n      <td>0.0</td>\n      <td>0.0</td>\n      <td>0.0</td>\n      <td>0.0</td>\n      <td>1.0</td>\n      <td>0.0</td>\n      <td>0.0</td>\n      <td>0.0</td>\n      <td>0.0</td>\n      <td>1.0</td>\n      <td>0.0</td>\n      <td>0.0</td>\n      <td>0.0</td>\n      <td>0.0</td>\n      <td>0.0</td>\n      <td>1.0</td>\n      <td>0.0</td>\n      <td>0.0</td>\n      <td>1.0</td>\n      <td>0.0</td>\n      <td>0.0</td>\n      <td>0.0</td>\n      <td>1.0</td>\n      <td>0.0</td>\n      <td>0.0</td>\n      <td>1.0</td>\n      <td>0.0</td>\n      <td>1.0</td>\n      <td>0.0</td>\n      <td>0.0</td>\n      <td>0.0</td>\n      <td>0.0</td>\n      <td>0.0</td>\n      <td>0.0</td>\n      <td>0.0</td>\n      <td>1.0</td>\n      <td>0.0</td>\n      <td>0.0</td>\n      <td>0.0</td>\n      <td>1.0</td>\n      <td>0.0</td>\n      <td>0.0</td>\n      <td>0.0</td>\n      <td>0.0</td>\n      <td>0.0</td>\n      <td>1.0</td>\n      <td>1.0</td>\n      <td>0.0</td>\n      <td>0.0</td>\n      <td>0.0</td>\n      <td>0.0</td>\n      <td>1.0</td>\n      <td>0.0</td>\n      <td>0.0</td>\n      <td>0.0</td>\n      <td>1.0</td>\n      <td>0.0</td>\n      <td>1.0</td>\n      <td>0.0</td>\n      <td>0.0</td>\n      <td>0.0</td>\n      <td>0.0</td>\n      <td>0.0</td>\n      <td>0.0</td>\n      <td>1.0</td>\n      <td>0.0</td>\n      <td>0.0</td>\n      <td>0.0</td>\n      <td>0.0</td>\n      <td>0.0</td>\n      <td>0.0</td>\n      <td>0.0</td>\n      <td>0.0</td>\n      <td>0.0</td>\n      <td>1.0</td>\n      <td>0.0</td>\n      <td>0.0</td>\n      <td>0.0</td>\n      <td>0.0</td>\n      <td>0.0</td>\n      <td>1.0</td>\n      <td>0.0</td>\n      <td>0.0</td>\n      <td>0.0</td>\n      <td>0.0</td>\n      <td>0.0</td>\n      <td>1.0</td>\n      <td>0.0</td>\n      <td>0.0</td>\n      <td>0.0</td>\n      <td>0.0</td>\n      <td>1.0</td>\n      <td>0.0</td>\n      <td>0.0</td>\n      <td>0.0</td>\n      <td>1.0</td>\n      <td>0.0</td>\n      <td>0.0</td>\n      <td>0.0</td>\n      <td>0.0</td>\n      <td>0.0</td>\n      <td>1.0</td>\n      <td>0.0</td>\n      <td>1.0</td>\n      <td>0.0</td>\n      <td>0.0</td>\n      <td>0.0</td>\n      <td>0.0</td>\n      <td>0.0</td>\n      <td>1.0</td>\n      <td>0.0</td>\n      <td>0.0</td>\n      <td>0.0</td>\n      <td>0.0</td>\n      <td>1.0</td>\n      <td>0.0</td>\n      <td>0.0</td>\n      <td>0.0</td>\n      <td>0.0</td>\n      <td>0.0</td>\n      <td>0.0</td>\n      <td>1.0</td>\n      <td>0.0</td>\n      <td>0.0</td>\n      <td>0.0</td>\n      <td>1.0</td>\n      <td>0.0</td>\n      <td>0.0</td>\n      <td>0.0</td>\n      <td>1.0</td>\n      <td>0.0</td>\n      <td>0.0</td>\n      <td>0.0</td>\n      <td>0.0</td>\n      <td>0.0</td>\n      <td>0.0</td>\n      <td>1.0</td>\n      <td>0.0</td>\n      <td>0.0</td>\n      <td>0.0</td>\n      <td>1.0</td>\n      <td>0.0</td>\n      <td>0.0</td>\n      <td>0.0</td>\n      <td>1.0</td>\n    </tr>\n  </tbody>\n</table>\n</div>"
     },
     "metadata": {},
     "execution_count": 24
    }
   ],
   "source": [
    "cat_train.head()"
   ]
  },
  {
   "source": [
    "### 4.3.3 Numerical Features"
   ],
   "cell_type": "markdown",
   "metadata": {}
  },
  {
   "cell_type": "code",
   "execution_count": 25,
   "metadata": {},
   "outputs": [],
   "source": [
    "numerical = [ 'MasVnrArea' , '1stFlrSF' , '2ndFlrSF' , 'LowQualFinSF' , 'GrLivArea' , 'FullBath' , 'HalfBath' , 'BedroomAbvGr' , 'KitchenAbvGr' , 'Fireplaces' , 'GarageYrBlt' , 'GarageArea' ,'GarageCars' , 'WoodDeckSF' , 'OpenPorchSF' , 'EnclosedPorch' , '3SsnPorch' , 'ScreenPorch' , 'PoolArea' , 'MoSold' , 'YrSold','LotFrontage', 'LotArea', 'BsmtFinSF1','BsmtFinSF2','BsmtUnfSF', 'BsmtFullBath','TotalBsmtSF','BsmtHalfBath','TotRmsAbvGrd']"
   ]
  },
  {
   "source": [
    "### Feature Scaling"
   ],
   "cell_type": "markdown",
   "metadata": {}
  },
  {
   "cell_type": "code",
   "execution_count": 26,
   "metadata": {},
   "outputs": [],
   "source": [
    "scaler = MinMaxScaler()"
   ]
  },
  {
   "cell_type": "code",
   "execution_count": 27,
   "metadata": {},
   "outputs": [
    {
     "output_type": "execute_result",
     "data": {
      "text/plain": [
       "MinMaxScaler()"
      ]
     },
     "metadata": {},
     "execution_count": 27
    }
   ],
   "source": [
    "scaler.fit(train[numerical])"
   ]
  },
  {
   "cell_type": "code",
   "execution_count": 28,
   "metadata": {},
   "outputs": [],
   "source": [
    "num_train = scaler.transform(train[numerical])\n",
    "num_test = scaler.transform(test[numerical])"
   ]
  },
  {
   "cell_type": "code",
   "execution_count": 29,
   "metadata": {},
   "outputs": [],
   "source": [
    "num_train = pd.DataFrame(num_train, columns = numerical)\n",
    "num_test = pd.DataFrame(num_test, columns = numerical)"
   ]
  },
  {
   "cell_type": "code",
   "execution_count": 30,
   "metadata": {},
   "outputs": [
    {
     "output_type": "execute_result",
     "data": {
      "text/plain": [
       "    MasVnrArea  1stFlrSF  2ndFlrSF  LowQualFinSF  GrLivArea  FullBath  \\\n",
       "0     0.122500  0.119780  0.413559           0.0   0.259231  0.666667   \n",
       "1     0.000000  0.212942  0.000000           0.0   0.174830  0.666667   \n",
       "2     0.101250  0.134465  0.419370           0.0   0.273549  0.666667   \n",
       "3     0.000000  0.143873  0.366102           0.0   0.260550  0.333333   \n",
       "4     0.218750  0.186095  0.509927           0.0   0.351168  0.666667   \n",
       "5     0.000000  0.106012  0.274092           0.0   0.193670  0.333333   \n",
       "6     0.116250  0.312070  0.000000           0.0   0.256217  0.666667   \n",
       "7     0.150000  0.177375  0.476029           0.0   0.330821  0.666667   \n",
       "8     0.000000  0.157871  0.364165           0.0   0.271289  0.666667   \n",
       "9     0.000000  0.170491  0.000000           0.0   0.139977  0.333333   \n",
       "10    0.000000  0.162001  0.000000           0.0   0.133007  0.333333   \n",
       "11    0.178750  0.194585  0.553027           0.0   0.374906  1.000000   \n",
       "12    0.000000  0.132630  0.000000           0.0   0.108892  0.333333   \n",
       "13    0.191250  0.266177  0.000000           0.0   0.218538  0.666667   \n",
       "14    0.132500  0.210877  0.000000           0.0   0.173135  0.333333   \n",
       "15    0.000000  0.119321  0.000000           0.0   0.097965  0.333333   \n",
       "16    0.112500  0.153740  0.000000           0.0   0.126225  0.333333   \n",
       "17    0.000000  0.220743  0.000000           0.0   0.181236  0.666667   \n",
       "18    0.000000  0.178981  0.000000           0.0   0.146948  0.333333   \n",
       "19    0.000000  0.230610  0.000000           0.0   0.189337  0.333333   \n",
       "20    0.237500  0.189078  0.589831           0.0   0.384702  1.000000   \n",
       "21    0.000000  0.177604  0.000000           0.0   0.145818  0.333333   \n",
       "22    0.175625  0.335246  0.000000           0.0   0.275245  0.666667   \n",
       "23    0.000000  0.166590  0.000000           0.0   0.136775  0.333333   \n",
       "24    0.000000  0.166590  0.000000           0.0   0.136775  0.333333   \n",
       "\n",
       "    HalfBath  BedroomAbvGr  KitchenAbvGr  Fireplaces  GarageYrBlt  GarageArea  \\\n",
       "0        0.5         0.375      0.333333    0.000000     0.002488    0.386460   \n",
       "1        0.0         0.375      0.333333    0.333333     0.015423    0.324401   \n",
       "2        0.5         0.375      0.333333    0.333333     0.003483    0.428773   \n",
       "3        0.0         0.375      0.333333    0.333333     0.003980    0.452750   \n",
       "4        0.5         0.500      0.333333    0.333333     0.003980    0.589563   \n",
       "5        0.5         0.125      0.333333    0.000000     0.007960    0.338505   \n",
       "6        0.0         0.375      0.333333    0.333333     0.001493    0.448519   \n",
       "7        0.5         0.375      0.333333    0.666667     0.017910    0.341326   \n",
       "8        0.0         0.250      0.666667    0.666667     0.038308    0.330042   \n",
       "9        0.0         0.250      0.666667    0.666667     0.034328    0.144570   \n",
       "10       0.0         0.375      0.333333    0.000000     0.021393    0.270804   \n",
       "11       0.0         0.500      0.333333    0.666667     0.000498    0.519041   \n",
       "12       0.0         0.250      0.333333    0.000000     0.022886    0.248237   \n",
       "13       0.0         0.375      0.333333    0.333333     0.000498    0.592384   \n",
       "14       0.5         0.250      0.333333    0.333333     0.023881    0.248237   \n",
       "15       0.0         0.250      0.333333    0.000000     0.007960    0.406206   \n",
       "16       0.0         0.250      0.333333    0.333333     0.019900    0.338505   \n",
       "17       0.0         0.250      0.666667    0.000000     0.019403    0.363893   \n",
       "18       0.5         0.375      0.333333    0.000000     0.001990    0.406206   \n",
       "19       0.0         0.375      0.333333    0.000000     0.025373    0.207334   \n",
       "20       0.5         0.500      0.333333    0.333333     0.000498    0.601551   \n",
       "21       0.0         0.375      0.333333    0.333333     0.038308    0.197461   \n",
       "22       0.0         0.375      0.333333    0.333333     0.002985    0.376587   \n",
       "23       0.0         0.375      0.333333    0.333333     0.015423    0.403385   \n",
       "24       0.0         0.375      0.333333    0.333333     0.020896    0.190409   \n",
       "\n",
       "    GarageCars  WoodDeckSF  OpenPorchSF  EnclosedPorch  3SsnPorch  \\\n",
       "0         0.50    0.000000     0.111517       0.000000   0.000000   \n",
       "1         0.50    0.347725     0.000000       0.000000   0.000000   \n",
       "2         0.50    0.000000     0.076782       0.000000   0.000000   \n",
       "3         0.75    0.000000     0.063985       0.492754   0.000000   \n",
       "4         0.75    0.224037     0.153565       0.000000   0.000000   \n",
       "5         0.50    0.046674     0.054845       0.000000   0.629921   \n",
       "6         0.50    0.297550     0.104205       0.000000   0.000000   \n",
       "7         0.50    0.274212     0.372943       0.413043   0.000000   \n",
       "8         0.50    0.105018     0.000000       0.371377   0.000000   \n",
       "9         0.25    0.000000     0.007313       0.000000   0.000000   \n",
       "10        0.25    0.000000     0.000000       0.000000   0.000000   \n",
       "11        0.75    0.171529     0.038391       0.000000   0.000000   \n",
       "12        0.25    0.163361     0.000000       0.000000   0.000000   \n",
       "13        0.75    0.186698     0.060329       0.000000   0.000000   \n",
       "14        0.25    0.000000     0.389397       0.318841   0.000000   \n",
       "15        0.50    0.056009     0.204753       0.000000   0.000000   \n",
       "16        0.50    0.000000     0.000000       0.000000   0.000000   \n",
       "17        0.50    0.000000     0.000000       0.000000   0.000000   \n",
       "18        0.50    0.000000     0.186472       0.000000   0.000000   \n",
       "19        0.25    0.000000     0.000000       0.000000   0.000000   \n",
       "20        0.75    0.280047     0.281536       0.000000   0.000000   \n",
       "21        0.25    0.000000     0.000000       0.371377   0.000000   \n",
       "22        0.50    0.199533     0.290676       0.000000   0.000000   \n",
       "23        0.50    0.116686     0.201097       0.000000   0.000000   \n",
       "24        0.25    0.473746     0.164534       0.000000   0.000000   \n",
       "\n",
       "    ScreenPorch  PoolArea    MoSold  YrSold  LotFrontage   LotArea  \\\n",
       "0      0.000000       0.0  0.090909    0.50     0.207668  0.033420   \n",
       "1      0.000000       0.0  0.363636    0.25     0.255591  0.038795   \n",
       "2      0.000000       0.0  0.727273    0.50     0.217252  0.046507   \n",
       "3      0.000000       0.0  0.090909    0.00     0.191693  0.038561   \n",
       "4      0.000000       0.0  1.000000    0.50     0.268371  0.060576   \n",
       "5      0.000000       0.0  0.818182    0.75     0.271565  0.059899   \n",
       "6      0.000000       0.0  0.636364    0.25     0.239617  0.041057   \n",
       "7      0.000000       0.0  0.909091    0.75     0.000000  0.042450   \n",
       "8      0.000000       0.0  0.272727    0.50     0.162939  0.022529   \n",
       "9      0.000000       0.0  0.000000    0.50     0.159744  0.028605   \n",
       "10     0.000000       0.0  0.090909    0.50     0.223642  0.046274   \n",
       "11     0.000000       0.0  0.545455    0.00     0.271565  0.049658   \n",
       "12     0.366667       0.0  0.727273    0.50     0.000000  0.054537   \n",
       "13     0.000000       0.0  0.636364    0.25     0.290735  0.043712   \n",
       "14     0.000000       0.0  0.363636    0.50     0.000000  0.044965   \n",
       "15     0.000000       0.0  0.545455    0.25     0.162939  0.022529   \n",
       "16     0.000000       0.0  0.181818    1.00     0.000000  0.046465   \n",
       "17     0.000000       0.0  0.818182    0.00     0.230032  0.044362   \n",
       "18     0.000000       0.0  0.454545    0.50     0.210863  0.057935   \n",
       "19     0.000000       0.0  0.363636    0.75     0.223642  0.029260   \n",
       "20     0.000000       0.0  0.909091    0.00     0.322684  0.060366   \n",
       "21     0.000000       0.0  0.454545    0.25     0.182109  0.028741   \n",
       "22     0.000000       0.0  0.727273    0.50     0.239617  0.039459   \n",
       "23     0.000000       0.0  0.454545    0.25     0.140575  0.013667   \n",
       "24     0.000000       0.0  0.363636    1.00     0.000000  0.032466   \n",
       "\n",
       "    BsmtFinSF1  BsmtFinSF2  BsmtUnfSF  BsmtFullBath  TotalBsmtSF  \\\n",
       "0     0.125089    0.000000   0.064212      0.333333     0.140098   \n",
       "1     0.173281    0.000000   0.121575      0.000000     0.206547   \n",
       "2     0.086109    0.000000   0.185788      0.333333     0.150573   \n",
       "3     0.038271    0.000000   0.231164      0.333333     0.123732   \n",
       "4     0.116052    0.000000   0.209760      0.333333     0.187398   \n",
       "5     0.129695    0.000000   0.027397      0.333333     0.130278   \n",
       "6     0.242558    0.000000   0.135702      0.333333     0.275941   \n",
       "7     0.152197    0.021710   0.092466      0.333333     0.181178   \n",
       "8     0.000000    0.000000   0.407534      0.000000     0.155810   \n",
       "9     0.150780    0.000000   0.059932      0.333333     0.162193   \n",
       "10    0.160524    0.000000   0.057363      0.333333     0.170213   \n",
       "11    0.176825    0.000000   0.075771      0.333333     0.192308   \n",
       "12    0.130581    0.000000   0.074914      0.333333     0.149264   \n",
       "13    0.000000    0.000000   0.639555      0.000000     0.244517   \n",
       "14    0.129872    0.000000   0.222603      0.333333     0.205074   \n",
       "15    0.000000    0.000000   0.356164      0.000000     0.136170   \n",
       "16    0.102410    0.000000   0.182363      0.333333     0.164321   \n",
       "17    0.000000    0.000000   0.000000      0.000000     0.000000   \n",
       "18    0.114458    0.000000   0.200342      0.333333     0.182324   \n",
       "19    0.089298    0.000000   0.224743      0.000000     0.168412   \n",
       "20    0.000000    0.000000   0.495719      0.000000     0.189525   \n",
       "21    0.000000    0.000000   0.272688      0.000000     0.104255   \n",
       "22    0.000000    0.000000   0.760702      0.000000     0.290835   \n",
       "23    0.148831    0.000000   0.085616      0.333333     0.170213   \n",
       "24    0.033310    0.453189   0.087329      0.333333     0.173486   \n",
       "\n",
       "    BsmtHalfBath  TotRmsAbvGrd  \n",
       "0            0.0      0.500000  \n",
       "1            0.5      0.333333  \n",
       "2            0.0      0.333333  \n",
       "3            0.0      0.416667  \n",
       "4            0.0      0.583333  \n",
       "5            0.0      0.250000  \n",
       "6            0.0      0.416667  \n",
       "7            0.0      0.416667  \n",
       "8            0.0      0.500000  \n",
       "9            0.0      0.250000  \n",
       "10           0.0      0.250000  \n",
       "11           0.0      0.750000  \n",
       "12           0.0      0.166667  \n",
       "13           0.0      0.416667  \n",
       "14           0.0      0.250000  \n",
       "15           0.0      0.250000  \n",
       "16           0.0      0.250000  \n",
       "17           0.0      0.333333  \n",
       "18           0.0      0.333333  \n",
       "19           0.0      0.333333  \n",
       "20           0.0      0.583333  \n",
       "21           0.0      0.333333  \n",
       "22           0.0      0.416667  \n",
       "23           0.0      0.333333  \n",
       "24           0.0      0.333333  "
      ],
      "text/html": "<div>\n<style scoped>\n    .dataframe tbody tr th:only-of-type {\n        vertical-align: middle;\n    }\n\n    .dataframe tbody tr th {\n        vertical-align: top;\n    }\n\n    .dataframe thead th {\n        text-align: right;\n    }\n</style>\n<table border=\"1\" class=\"dataframe\">\n  <thead>\n    <tr style=\"text-align: right;\">\n      <th></th>\n      <th>MasVnrArea</th>\n      <th>1stFlrSF</th>\n      <th>2ndFlrSF</th>\n      <th>LowQualFinSF</th>\n      <th>GrLivArea</th>\n      <th>FullBath</th>\n      <th>HalfBath</th>\n      <th>BedroomAbvGr</th>\n      <th>KitchenAbvGr</th>\n      <th>Fireplaces</th>\n      <th>GarageYrBlt</th>\n      <th>GarageArea</th>\n      <th>GarageCars</th>\n      <th>WoodDeckSF</th>\n      <th>OpenPorchSF</th>\n      <th>EnclosedPorch</th>\n      <th>3SsnPorch</th>\n      <th>ScreenPorch</th>\n      <th>PoolArea</th>\n      <th>MoSold</th>\n      <th>YrSold</th>\n      <th>LotFrontage</th>\n      <th>LotArea</th>\n      <th>BsmtFinSF1</th>\n      <th>BsmtFinSF2</th>\n      <th>BsmtUnfSF</th>\n      <th>BsmtFullBath</th>\n      <th>TotalBsmtSF</th>\n      <th>BsmtHalfBath</th>\n      <th>TotRmsAbvGrd</th>\n    </tr>\n  </thead>\n  <tbody>\n    <tr>\n      <th>0</th>\n      <td>0.122500</td>\n      <td>0.119780</td>\n      <td>0.413559</td>\n      <td>0.0</td>\n      <td>0.259231</td>\n      <td>0.666667</td>\n      <td>0.5</td>\n      <td>0.375</td>\n      <td>0.333333</td>\n      <td>0.000000</td>\n      <td>0.002488</td>\n      <td>0.386460</td>\n      <td>0.50</td>\n      <td>0.000000</td>\n      <td>0.111517</td>\n      <td>0.000000</td>\n      <td>0.000000</td>\n      <td>0.000000</td>\n      <td>0.0</td>\n      <td>0.090909</td>\n      <td>0.50</td>\n      <td>0.207668</td>\n      <td>0.033420</td>\n      <td>0.125089</td>\n      <td>0.000000</td>\n      <td>0.064212</td>\n      <td>0.333333</td>\n      <td>0.140098</td>\n      <td>0.0</td>\n      <td>0.500000</td>\n    </tr>\n    <tr>\n      <th>1</th>\n      <td>0.000000</td>\n      <td>0.212942</td>\n      <td>0.000000</td>\n      <td>0.0</td>\n      <td>0.174830</td>\n      <td>0.666667</td>\n      <td>0.0</td>\n      <td>0.375</td>\n      <td>0.333333</td>\n      <td>0.333333</td>\n      <td>0.015423</td>\n      <td>0.324401</td>\n      <td>0.50</td>\n      <td>0.347725</td>\n      <td>0.000000</td>\n      <td>0.000000</td>\n      <td>0.000000</td>\n      <td>0.000000</td>\n      <td>0.0</td>\n      <td>0.363636</td>\n      <td>0.25</td>\n      <td>0.255591</td>\n      <td>0.038795</td>\n      <td>0.173281</td>\n      <td>0.000000</td>\n      <td>0.121575</td>\n      <td>0.000000</td>\n      <td>0.206547</td>\n      <td>0.5</td>\n      <td>0.333333</td>\n    </tr>\n    <tr>\n      <th>2</th>\n      <td>0.101250</td>\n      <td>0.134465</td>\n      <td>0.419370</td>\n      <td>0.0</td>\n      <td>0.273549</td>\n      <td>0.666667</td>\n      <td>0.5</td>\n      <td>0.375</td>\n      <td>0.333333</td>\n      <td>0.333333</td>\n      <td>0.003483</td>\n      <td>0.428773</td>\n      <td>0.50</td>\n      <td>0.000000</td>\n      <td>0.076782</td>\n      <td>0.000000</td>\n      <td>0.000000</td>\n      <td>0.000000</td>\n      <td>0.0</td>\n      <td>0.727273</td>\n      <td>0.50</td>\n      <td>0.217252</td>\n      <td>0.046507</td>\n      <td>0.086109</td>\n      <td>0.000000</td>\n      <td>0.185788</td>\n      <td>0.333333</td>\n      <td>0.150573</td>\n      <td>0.0</td>\n      <td>0.333333</td>\n    </tr>\n    <tr>\n      <th>3</th>\n      <td>0.000000</td>\n      <td>0.143873</td>\n      <td>0.366102</td>\n      <td>0.0</td>\n      <td>0.260550</td>\n      <td>0.333333</td>\n      <td>0.0</td>\n      <td>0.375</td>\n      <td>0.333333</td>\n      <td>0.333333</td>\n      <td>0.003980</td>\n      <td>0.452750</td>\n      <td>0.75</td>\n      <td>0.000000</td>\n      <td>0.063985</td>\n      <td>0.492754</td>\n      <td>0.000000</td>\n      <td>0.000000</td>\n      <td>0.0</td>\n      <td>0.090909</td>\n      <td>0.00</td>\n      <td>0.191693</td>\n      <td>0.038561</td>\n      <td>0.038271</td>\n      <td>0.000000</td>\n      <td>0.231164</td>\n      <td>0.333333</td>\n      <td>0.123732</td>\n      <td>0.0</td>\n      <td>0.416667</td>\n    </tr>\n    <tr>\n      <th>4</th>\n      <td>0.218750</td>\n      <td>0.186095</td>\n      <td>0.509927</td>\n      <td>0.0</td>\n      <td>0.351168</td>\n      <td>0.666667</td>\n      <td>0.5</td>\n      <td>0.500</td>\n      <td>0.333333</td>\n      <td>0.333333</td>\n      <td>0.003980</td>\n      <td>0.589563</td>\n      <td>0.75</td>\n      <td>0.224037</td>\n      <td>0.153565</td>\n      <td>0.000000</td>\n      <td>0.000000</td>\n      <td>0.000000</td>\n      <td>0.0</td>\n      <td>1.000000</td>\n      <td>0.50</td>\n      <td>0.268371</td>\n      <td>0.060576</td>\n      <td>0.116052</td>\n      <td>0.000000</td>\n      <td>0.209760</td>\n      <td>0.333333</td>\n      <td>0.187398</td>\n      <td>0.0</td>\n      <td>0.583333</td>\n    </tr>\n    <tr>\n      <th>5</th>\n      <td>0.000000</td>\n      <td>0.106012</td>\n      <td>0.274092</td>\n      <td>0.0</td>\n      <td>0.193670</td>\n      <td>0.333333</td>\n      <td>0.5</td>\n      <td>0.125</td>\n      <td>0.333333</td>\n      <td>0.000000</td>\n      <td>0.007960</td>\n      <td>0.338505</td>\n      <td>0.50</td>\n      <td>0.046674</td>\n      <td>0.054845</td>\n      <td>0.000000</td>\n      <td>0.629921</td>\n      <td>0.000000</td>\n      <td>0.0</td>\n      <td>0.818182</td>\n      <td>0.75</td>\n      <td>0.271565</td>\n      <td>0.059899</td>\n      <td>0.129695</td>\n      <td>0.000000</td>\n      <td>0.027397</td>\n      <td>0.333333</td>\n      <td>0.130278</td>\n      <td>0.0</td>\n      <td>0.250000</td>\n    </tr>\n    <tr>\n      <th>6</th>\n      <td>0.116250</td>\n      <td>0.312070</td>\n      <td>0.000000</td>\n      <td>0.0</td>\n      <td>0.256217</td>\n      <td>0.666667</td>\n      <td>0.0</td>\n      <td>0.375</td>\n      <td>0.333333</td>\n      <td>0.333333</td>\n      <td>0.001493</td>\n      <td>0.448519</td>\n      <td>0.50</td>\n      <td>0.297550</td>\n      <td>0.104205</td>\n      <td>0.000000</td>\n      <td>0.000000</td>\n      <td>0.000000</td>\n      <td>0.0</td>\n      <td>0.636364</td>\n      <td>0.25</td>\n      <td>0.239617</td>\n      <td>0.041057</td>\n      <td>0.242558</td>\n      <td>0.000000</td>\n      <td>0.135702</td>\n      <td>0.333333</td>\n      <td>0.275941</td>\n      <td>0.0</td>\n      <td>0.416667</td>\n    </tr>\n    <tr>\n      <th>7</th>\n      <td>0.150000</td>\n      <td>0.177375</td>\n      <td>0.476029</td>\n      <td>0.0</td>\n      <td>0.330821</td>\n      <td>0.666667</td>\n      <td>0.5</td>\n      <td>0.375</td>\n      <td>0.333333</td>\n      <td>0.666667</td>\n      <td>0.017910</td>\n      <td>0.341326</td>\n      <td>0.50</td>\n      <td>0.274212</td>\n      <td>0.372943</td>\n      <td>0.413043</td>\n      <td>0.000000</td>\n      <td>0.000000</td>\n      <td>0.0</td>\n      <td>0.909091</td>\n      <td>0.75</td>\n      <td>0.000000</td>\n      <td>0.042450</td>\n      <td>0.152197</td>\n      <td>0.021710</td>\n      <td>0.092466</td>\n      <td>0.333333</td>\n      <td>0.181178</td>\n      <td>0.0</td>\n      <td>0.416667</td>\n    </tr>\n    <tr>\n      <th>8</th>\n      <td>0.000000</td>\n      <td>0.157871</td>\n      <td>0.364165</td>\n      <td>0.0</td>\n      <td>0.271289</td>\n      <td>0.666667</td>\n      <td>0.0</td>\n      <td>0.250</td>\n      <td>0.666667</td>\n      <td>0.666667</td>\n      <td>0.038308</td>\n      <td>0.330042</td>\n      <td>0.50</td>\n      <td>0.105018</td>\n      <td>0.000000</td>\n      <td>0.371377</td>\n      <td>0.000000</td>\n      <td>0.000000</td>\n      <td>0.0</td>\n      <td>0.272727</td>\n      <td>0.50</td>\n      <td>0.162939</td>\n      <td>0.022529</td>\n      <td>0.000000</td>\n      <td>0.000000</td>\n      <td>0.407534</td>\n      <td>0.000000</td>\n      <td>0.155810</td>\n      <td>0.0</td>\n      <td>0.500000</td>\n    </tr>\n    <tr>\n      <th>9</th>\n      <td>0.000000</td>\n      <td>0.170491</td>\n      <td>0.000000</td>\n      <td>0.0</td>\n      <td>0.139977</td>\n      <td>0.333333</td>\n      <td>0.0</td>\n      <td>0.250</td>\n      <td>0.666667</td>\n      <td>0.666667</td>\n      <td>0.034328</td>\n      <td>0.144570</td>\n      <td>0.25</td>\n      <td>0.000000</td>\n      <td>0.007313</td>\n      <td>0.000000</td>\n      <td>0.000000</td>\n      <td>0.000000</td>\n      <td>0.0</td>\n      <td>0.000000</td>\n      <td>0.50</td>\n      <td>0.159744</td>\n      <td>0.028605</td>\n      <td>0.150780</td>\n      <td>0.000000</td>\n      <td>0.059932</td>\n      <td>0.333333</td>\n      <td>0.162193</td>\n      <td>0.0</td>\n      <td>0.250000</td>\n    </tr>\n    <tr>\n      <th>10</th>\n      <td>0.000000</td>\n      <td>0.162001</td>\n      <td>0.000000</td>\n      <td>0.0</td>\n      <td>0.133007</td>\n      <td>0.333333</td>\n      <td>0.0</td>\n      <td>0.375</td>\n      <td>0.333333</td>\n      <td>0.000000</td>\n      <td>0.021393</td>\n      <td>0.270804</td>\n      <td>0.25</td>\n      <td>0.000000</td>\n      <td>0.000000</td>\n      <td>0.000000</td>\n      <td>0.000000</td>\n      <td>0.000000</td>\n      <td>0.0</td>\n      <td>0.090909</td>\n      <td>0.50</td>\n      <td>0.223642</td>\n      <td>0.046274</td>\n      <td>0.160524</td>\n      <td>0.000000</td>\n      <td>0.057363</td>\n      <td>0.333333</td>\n      <td>0.170213</td>\n      <td>0.0</td>\n      <td>0.250000</td>\n    </tr>\n    <tr>\n      <th>11</th>\n      <td>0.178750</td>\n      <td>0.194585</td>\n      <td>0.553027</td>\n      <td>0.0</td>\n      <td>0.374906</td>\n      <td>1.000000</td>\n      <td>0.0</td>\n      <td>0.500</td>\n      <td>0.333333</td>\n      <td>0.666667</td>\n      <td>0.000498</td>\n      <td>0.519041</td>\n      <td>0.75</td>\n      <td>0.171529</td>\n      <td>0.038391</td>\n      <td>0.000000</td>\n      <td>0.000000</td>\n      <td>0.000000</td>\n      <td>0.0</td>\n      <td>0.545455</td>\n      <td>0.00</td>\n      <td>0.271565</td>\n      <td>0.049658</td>\n      <td>0.176825</td>\n      <td>0.000000</td>\n      <td>0.075771</td>\n      <td>0.333333</td>\n      <td>0.192308</td>\n      <td>0.0</td>\n      <td>0.750000</td>\n    </tr>\n    <tr>\n      <th>12</th>\n      <td>0.000000</td>\n      <td>0.132630</td>\n      <td>0.000000</td>\n      <td>0.0</td>\n      <td>0.108892</td>\n      <td>0.333333</td>\n      <td>0.0</td>\n      <td>0.250</td>\n      <td>0.333333</td>\n      <td>0.000000</td>\n      <td>0.022886</td>\n      <td>0.248237</td>\n      <td>0.25</td>\n      <td>0.163361</td>\n      <td>0.000000</td>\n      <td>0.000000</td>\n      <td>0.000000</td>\n      <td>0.366667</td>\n      <td>0.0</td>\n      <td>0.727273</td>\n      <td>0.50</td>\n      <td>0.000000</td>\n      <td>0.054537</td>\n      <td>0.130581</td>\n      <td>0.000000</td>\n      <td>0.074914</td>\n      <td>0.333333</td>\n      <td>0.149264</td>\n      <td>0.0</td>\n      <td>0.166667</td>\n    </tr>\n    <tr>\n      <th>13</th>\n      <td>0.191250</td>\n      <td>0.266177</td>\n      <td>0.000000</td>\n      <td>0.0</td>\n      <td>0.218538</td>\n      <td>0.666667</td>\n      <td>0.0</td>\n      <td>0.375</td>\n      <td>0.333333</td>\n      <td>0.333333</td>\n      <td>0.000498</td>\n      <td>0.592384</td>\n      <td>0.75</td>\n      <td>0.186698</td>\n      <td>0.060329</td>\n      <td>0.000000</td>\n      <td>0.000000</td>\n      <td>0.000000</td>\n      <td>0.0</td>\n      <td>0.636364</td>\n      <td>0.25</td>\n      <td>0.290735</td>\n      <td>0.043712</td>\n      <td>0.000000</td>\n      <td>0.000000</td>\n      <td>0.639555</td>\n      <td>0.000000</td>\n      <td>0.244517</td>\n      <td>0.0</td>\n      <td>0.416667</td>\n    </tr>\n    <tr>\n      <th>14</th>\n      <td>0.132500</td>\n      <td>0.210877</td>\n      <td>0.000000</td>\n      <td>0.0</td>\n      <td>0.173135</td>\n      <td>0.333333</td>\n      <td>0.5</td>\n      <td>0.250</td>\n      <td>0.333333</td>\n      <td>0.333333</td>\n      <td>0.023881</td>\n      <td>0.248237</td>\n      <td>0.25</td>\n      <td>0.000000</td>\n      <td>0.389397</td>\n      <td>0.318841</td>\n      <td>0.000000</td>\n      <td>0.000000</td>\n      <td>0.0</td>\n      <td>0.363636</td>\n      <td>0.50</td>\n      <td>0.000000</td>\n      <td>0.044965</td>\n      <td>0.129872</td>\n      <td>0.000000</td>\n      <td>0.222603</td>\n      <td>0.333333</td>\n      <td>0.205074</td>\n      <td>0.0</td>\n      <td>0.250000</td>\n    </tr>\n    <tr>\n      <th>15</th>\n      <td>0.000000</td>\n      <td>0.119321</td>\n      <td>0.000000</td>\n      <td>0.0</td>\n      <td>0.097965</td>\n      <td>0.333333</td>\n      <td>0.0</td>\n      <td>0.250</td>\n      <td>0.333333</td>\n      <td>0.000000</td>\n      <td>0.007960</td>\n      <td>0.406206</td>\n      <td>0.50</td>\n      <td>0.056009</td>\n      <td>0.204753</td>\n      <td>0.000000</td>\n      <td>0.000000</td>\n      <td>0.000000</td>\n      <td>0.0</td>\n      <td>0.545455</td>\n      <td>0.25</td>\n      <td>0.162939</td>\n      <td>0.022529</td>\n      <td>0.000000</td>\n      <td>0.000000</td>\n      <td>0.356164</td>\n      <td>0.000000</td>\n      <td>0.136170</td>\n      <td>0.0</td>\n      <td>0.250000</td>\n    </tr>\n    <tr>\n      <th>16</th>\n      <td>0.112500</td>\n      <td>0.153740</td>\n      <td>0.000000</td>\n      <td>0.0</td>\n      <td>0.126225</td>\n      <td>0.333333</td>\n      <td>0.0</td>\n      <td>0.250</td>\n      <td>0.333333</td>\n      <td>0.333333</td>\n      <td>0.019900</td>\n      <td>0.338505</td>\n      <td>0.50</td>\n      <td>0.000000</td>\n      <td>0.000000</td>\n      <td>0.000000</td>\n      <td>0.000000</td>\n      <td>0.000000</td>\n      <td>0.0</td>\n      <td>0.181818</td>\n      <td>1.00</td>\n      <td>0.000000</td>\n      <td>0.046465</td>\n      <td>0.102410</td>\n      <td>0.000000</td>\n      <td>0.182363</td>\n      <td>0.333333</td>\n      <td>0.164321</td>\n      <td>0.0</td>\n      <td>0.250000</td>\n    </tr>\n    <tr>\n      <th>17</th>\n      <td>0.000000</td>\n      <td>0.220743</td>\n      <td>0.000000</td>\n      <td>0.0</td>\n      <td>0.181236</td>\n      <td>0.666667</td>\n      <td>0.0</td>\n      <td>0.250</td>\n      <td>0.666667</td>\n      <td>0.000000</td>\n      <td>0.019403</td>\n      <td>0.363893</td>\n      <td>0.50</td>\n      <td>0.000000</td>\n      <td>0.000000</td>\n      <td>0.000000</td>\n      <td>0.000000</td>\n      <td>0.000000</td>\n      <td>0.0</td>\n      <td>0.818182</td>\n      <td>0.00</td>\n      <td>0.230032</td>\n      <td>0.044362</td>\n      <td>0.000000</td>\n      <td>0.000000</td>\n      <td>0.000000</td>\n      <td>0.000000</td>\n      <td>0.000000</td>\n      <td>0.0</td>\n      <td>0.333333</td>\n    </tr>\n    <tr>\n      <th>18</th>\n      <td>0.000000</td>\n      <td>0.178981</td>\n      <td>0.000000</td>\n      <td>0.0</td>\n      <td>0.146948</td>\n      <td>0.333333</td>\n      <td>0.5</td>\n      <td>0.375</td>\n      <td>0.333333</td>\n      <td>0.000000</td>\n      <td>0.001990</td>\n      <td>0.406206</td>\n      <td>0.50</td>\n      <td>0.000000</td>\n      <td>0.186472</td>\n      <td>0.000000</td>\n      <td>0.000000</td>\n      <td>0.000000</td>\n      <td>0.0</td>\n      <td>0.454545</td>\n      <td>0.50</td>\n      <td>0.210863</td>\n      <td>0.057935</td>\n      <td>0.114458</td>\n      <td>0.000000</td>\n      <td>0.200342</td>\n      <td>0.333333</td>\n      <td>0.182324</td>\n      <td>0.0</td>\n      <td>0.333333</td>\n    </tr>\n    <tr>\n      <th>19</th>\n      <td>0.000000</td>\n      <td>0.230610</td>\n      <td>0.000000</td>\n      <td>0.0</td>\n      <td>0.189337</td>\n      <td>0.333333</td>\n      <td>0.0</td>\n      <td>0.375</td>\n      <td>0.333333</td>\n      <td>0.000000</td>\n      <td>0.025373</td>\n      <td>0.207334</td>\n      <td>0.25</td>\n      <td>0.000000</td>\n      <td>0.000000</td>\n      <td>0.000000</td>\n      <td>0.000000</td>\n      <td>0.000000</td>\n      <td>0.0</td>\n      <td>0.363636</td>\n      <td>0.75</td>\n      <td>0.223642</td>\n      <td>0.029260</td>\n      <td>0.089298</td>\n      <td>0.000000</td>\n      <td>0.224743</td>\n      <td>0.000000</td>\n      <td>0.168412</td>\n      <td>0.0</td>\n      <td>0.333333</td>\n    </tr>\n    <tr>\n      <th>20</th>\n      <td>0.237500</td>\n      <td>0.189078</td>\n      <td>0.589831</td>\n      <td>0.0</td>\n      <td>0.384702</td>\n      <td>1.000000</td>\n      <td>0.5</td>\n      <td>0.500</td>\n      <td>0.333333</td>\n      <td>0.333333</td>\n      <td>0.000498</td>\n      <td>0.601551</td>\n      <td>0.75</td>\n      <td>0.280047</td>\n      <td>0.281536</td>\n      <td>0.000000</td>\n      <td>0.000000</td>\n      <td>0.000000</td>\n      <td>0.0</td>\n      <td>0.909091</td>\n      <td>0.00</td>\n      <td>0.322684</td>\n      <td>0.060366</td>\n      <td>0.000000</td>\n      <td>0.000000</td>\n      <td>0.495719</td>\n      <td>0.000000</td>\n      <td>0.189525</td>\n      <td>0.0</td>\n      <td>0.583333</td>\n    </tr>\n    <tr>\n      <th>21</th>\n      <td>0.000000</td>\n      <td>0.177604</td>\n      <td>0.000000</td>\n      <td>0.0</td>\n      <td>0.145818</td>\n      <td>0.333333</td>\n      <td>0.0</td>\n      <td>0.375</td>\n      <td>0.333333</td>\n      <td>0.333333</td>\n      <td>0.038308</td>\n      <td>0.197461</td>\n      <td>0.25</td>\n      <td>0.000000</td>\n      <td>0.000000</td>\n      <td>0.371377</td>\n      <td>0.000000</td>\n      <td>0.000000</td>\n      <td>0.0</td>\n      <td>0.454545</td>\n      <td>0.25</td>\n      <td>0.182109</td>\n      <td>0.028741</td>\n      <td>0.000000</td>\n      <td>0.000000</td>\n      <td>0.272688</td>\n      <td>0.000000</td>\n      <td>0.104255</td>\n      <td>0.0</td>\n      <td>0.333333</td>\n    </tr>\n    <tr>\n      <th>22</th>\n      <td>0.175625</td>\n      <td>0.335246</td>\n      <td>0.000000</td>\n      <td>0.0</td>\n      <td>0.275245</td>\n      <td>0.666667</td>\n      <td>0.0</td>\n      <td>0.375</td>\n      <td>0.333333</td>\n      <td>0.333333</td>\n      <td>0.002985</td>\n      <td>0.376587</td>\n      <td>0.50</td>\n      <td>0.199533</td>\n      <td>0.290676</td>\n      <td>0.000000</td>\n      <td>0.000000</td>\n      <td>0.000000</td>\n      <td>0.0</td>\n      <td>0.727273</td>\n      <td>0.50</td>\n      <td>0.239617</td>\n      <td>0.039459</td>\n      <td>0.000000</td>\n      <td>0.000000</td>\n      <td>0.760702</td>\n      <td>0.000000</td>\n      <td>0.290835</td>\n      <td>0.0</td>\n      <td>0.416667</td>\n    </tr>\n    <tr>\n      <th>23</th>\n      <td>0.000000</td>\n      <td>0.166590</td>\n      <td>0.000000</td>\n      <td>0.0</td>\n      <td>0.136775</td>\n      <td>0.333333</td>\n      <td>0.0</td>\n      <td>0.375</td>\n      <td>0.333333</td>\n      <td>0.333333</td>\n      <td>0.015423</td>\n      <td>0.403385</td>\n      <td>0.50</td>\n      <td>0.116686</td>\n      <td>0.201097</td>\n      <td>0.000000</td>\n      <td>0.000000</td>\n      <td>0.000000</td>\n      <td>0.0</td>\n      <td>0.454545</td>\n      <td>0.25</td>\n      <td>0.140575</td>\n      <td>0.013667</td>\n      <td>0.148831</td>\n      <td>0.000000</td>\n      <td>0.085616</td>\n      <td>0.333333</td>\n      <td>0.170213</td>\n      <td>0.0</td>\n      <td>0.333333</td>\n    </tr>\n    <tr>\n      <th>24</th>\n      <td>0.000000</td>\n      <td>0.166590</td>\n      <td>0.000000</td>\n      <td>0.0</td>\n      <td>0.136775</td>\n      <td>0.333333</td>\n      <td>0.0</td>\n      <td>0.375</td>\n      <td>0.333333</td>\n      <td>0.333333</td>\n      <td>0.020896</td>\n      <td>0.190409</td>\n      <td>0.25</td>\n      <td>0.473746</td>\n      <td>0.164534</td>\n      <td>0.000000</td>\n      <td>0.000000</td>\n      <td>0.000000</td>\n      <td>0.0</td>\n      <td>0.363636</td>\n      <td>1.00</td>\n      <td>0.000000</td>\n      <td>0.032466</td>\n      <td>0.033310</td>\n      <td>0.453189</td>\n      <td>0.087329</td>\n      <td>0.333333</td>\n      <td>0.173486</td>\n      <td>0.0</td>\n      <td>0.333333</td>\n    </tr>\n  </tbody>\n</table>\n</div>"
     },
     "metadata": {},
     "execution_count": 30
    }
   ],
   "source": [
    "num_train.head(25)"
   ]
  },
  {
   "source": [
    "### Feature Normization"
   ],
   "cell_type": "markdown",
   "metadata": {}
  },
  {
   "cell_type": "code",
   "execution_count": 31,
   "metadata": {},
   "outputs": [],
   "source": [
    "num_features=['LotFrontage', 'LotArea', '1stFlrSF', 'GrLivArea']"
   ]
  },
  {
   "cell_type": "code",
   "execution_count": 32,
   "metadata": {},
   "outputs": [],
   "source": [
    "for feature in num_features:\n",
    "    num_train[feature] = train[feature].apply(lambda x: np.log(x) if x != 0 else x)\n",
    "    num_test[feature] = test[feature].apply(lambda x: np.log(x) if x != 0 else x)\n",
    "    # num_train[feature] = np.log(train[feature])\n",
    "    # num_test[feature] = np.log(test[feature])"
   ]
  },
  {
   "cell_type": "code",
   "execution_count": 33,
   "metadata": {},
   "outputs": [],
   "source": [
    "xtrain = pd.concat([cat_train, num_train, train['SalePrice']], axis=1)\n",
    "xtest = pd.concat([cat_test, num_test], axis=1)"
   ]
  },
  {
   "cell_type": "code",
   "execution_count": 34,
   "metadata": {},
   "outputs": [],
   "source": [
    "xtrain.to_csv('xtrain.csv')\n",
    "xtest.to_csv('xtest.csv')"
   ]
  }
 ]
}